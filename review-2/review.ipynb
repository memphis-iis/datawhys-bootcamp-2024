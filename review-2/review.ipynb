{
 "cells": [
  {
   "attachments": {},
   "cell_type": "markdown",
   "id": "584e29a1",
   "metadata": {},
   "source": [
    "# Bootcamp Review\n",
    "\n"
   ]
  },
  {
   "attachments": {},
   "cell_type": "markdown",
   "id": "138cb149",
   "metadata": {},
   "source": [
    "## Introduction to Jupyterlab"
   ]
  },
  {
   "attachments": {},
   "cell_type": "markdown",
   "id": "d25d9ddb",
   "metadata": {},
   "source": [
    "### Q1. From the image below, describe which button we should click to upload a file."
   ]
  },
  {
   "attachments": {},
   "cell_type": "markdown",
   "id": "a9a475c6",
   "metadata": {},
   "source": [
    "<img src=\"images/upload.png\" alt=\"alt text\" width=\"300\"/>"
   ]
  },
  {
   "attachments": {},
   "cell_type": "markdown",
   "id": "a7bdecba",
   "metadata": {},
   "source": [
    "#!response"
   ]
  },
  {
   "attachments": {},
   "cell_type": "markdown",
   "id": "4e6777ce",
   "metadata": {},
   "source": [
    "### Q2. What action do we take to go to the \"home/newdata/\" folder if we are currently in the \"home/newdata/testing/\" folder?"
   ]
  },
  {
   "attachments": {},
   "cell_type": "markdown",
   "id": "42ac4ac6",
   "metadata": {},
   "source": [
    "#!response"
   ]
  },
  {
   "attachments": {},
   "cell_type": "markdown",
   "id": "d25d9ddb",
   "metadata": {},
   "source": [
    "### Q3. From the image below, describe which button we should click to open the File Browser."
   ]
  },
  {
   "attachments": {},
   "cell_type": "markdown",
   "id": "f3326a92",
   "metadata": {},
   "source": [
    "<img src=\"images/fileexplorer.png\" alt=\"alt text\" width=\"300\"/>"
   ]
  },
  {
   "attachments": {},
   "cell_type": "markdown",
   "id": "cf5b37ff",
   "metadata": {},
   "source": [
    "#!response"
   ]
  },
  {
   "attachments": {},
   "cell_type": "markdown",
   "id": "717c3de8",
   "metadata": {},
   "source": [
    "### Q4. Which file format is commonly used for Jupyter notebooks?\n",
    "\n",
    "- .csv\n",
    "- .ipynb\n",
    "- .txt\n",
    "- .py"
   ]
  },
  {
   "attachments": {},
   "cell_type": "markdown",
   "id": "42ac4ac6",
   "metadata": {},
   "source": [
    "#!response"
   ]
  },
  {
   "attachments": {},
   "cell_type": "markdown",
   "id": "d25d9ddb",
   "metadata": {},
   "source": [
    "### Q5. From the image below, describe which button we should click to open the Launcher."
   ]
  },
  {
   "attachments": {},
   "cell_type": "markdown",
   "id": "be3799a6",
   "metadata": {},
   "source": [
    "<img src=\"images/upload.png\" alt=\"alt text\" width=\"300\"/>"
   ]
  },
  {
   "attachments": {},
   "cell_type": "markdown",
   "id": "42ac4ac6",
   "metadata": {},
   "source": [
    "#!response"
   ]
  },
  {
   "attachments": {},
   "cell_type": "markdown",
   "id": "3a16602a",
   "metadata": {},
   "source": [
    "## Introduction to Jupyter Notebooks"
   ]
  },
  {
   "attachments": {},
   "cell_type": "markdown",
   "id": "d25d9ddb",
   "metadata": {},
   "source": [
    "### Q6. Jupyter notebooks are made up of _______ which can contain markdown or Python code."
   ]
  },
  {
   "attachments": {},
   "cell_type": "markdown",
   "id": "42ac4ac6",
   "metadata": {},
   "source": [
    "#!response"
   ]
  },
  {
   "attachments": {},
   "cell_type": "markdown",
   "id": "46848e9b",
   "metadata": {},
   "source": [
    "<img src=\"images/notebook_bar.png\" alt=\"alt text\" width=\"400\"/>"
   ]
  },
  {
   "attachments": {},
   "cell_type": "markdown",
   "id": "d25d9ddb",
   "metadata": {},
   "source": [
    "### Q7. From the image above, describe which button we should click to run the code."
   ]
  },
  {
   "attachments": {},
   "cell_type": "markdown",
   "id": "42ac4ac6",
   "metadata": {},
   "source": [
    "#!response"
   ]
  },
  {
   "attachments": {},
   "cell_type": "markdown",
   "id": "44999b37",
   "metadata": {},
   "source": [
    "### Q8. What is the purpose of *variables* in Blockly?\n",
    "- To store and manipulate data\n",
    "- To change the appearance of blocks\n",
    "- To control program execution speed"
   ]
  },
  {
   "attachments": {},
   "cell_type": "markdown",
   "id": "eba74a09",
   "metadata": {},
   "source": [
    "#!response"
   ]
  },
  {
   "attachments": {},
   "cell_type": "markdown",
   "id": "3a16602a",
   "metadata": {},
   "source": [
    "## Reading CSV data"
   ]
  },
  {
   "attachments": {},
   "cell_type": "markdown",
   "id": "d25d9ddb",
   "metadata": {},
   "source": [
    "### Q9. Which of the following blocks is used to import the <code>pandas</code> library?"
   ]
  },
  {
   "attachments": {},
   "cell_type": "markdown",
   "id": "ed7d3c44",
   "metadata": {},
   "source": [
    "\n",
    "- `from .. import ..`\n",
    "- `with .. do .. using ..`\n",
    "- `import .. as ..`\n",
    "- `from .. get ..`\n"
   ]
  },
  {
   "attachments": {},
   "cell_type": "markdown",
   "id": "815df5d5",
   "metadata": {},
   "source": [
    "#!response"
   ]
  },
  {
   "attachments": {},
   "cell_type": "markdown",
   "id": "d3639b09",
   "metadata": {},
   "source": [
    "### Q10. Which of the following statements is true about CSV files?\n",
    "- CSV files contain data separated by tabs.\n",
    "- CSV files are a type of database format.\n",
    "- CSV files contain data separated by semicolons.\n",
    "- CSV files are plain text files with data separated by commas."
   ]
  },
  {
   "attachments": {},
   "cell_type": "markdown",
   "id": "c4552b6d",
   "metadata": {},
   "source": [
    "#!respones"
   ]
  },
  {
   "attachments": {},
   "cell_type": "markdown",
   "id": "4b2dd2b1",
   "metadata": {},
   "source": [
    "### Q11. After the reading in the dataset with <code>pandas</code> and storing it in a variable, what is the next thing we usually do?"
   ]
  },
  {
   "attachments": {},
   "cell_type": "markdown",
   "id": "815df5d5",
   "metadata": {},
   "source": [
    "#!response"
   ]
  },
  {
   "attachments": {},
   "cell_type": "markdown",
   "id": "4b2dd2b1",
   "metadata": {},
   "source": [
    "### Q12. What is the purpose of using dataframes?"
   ]
  },
  {
   "attachments": {},
   "cell_type": "markdown",
   "id": "815df5d5",
   "metadata": {},
   "source": [
    "#!response"
   ]
  },
  {
   "attachments": {},
   "cell_type": "markdown",
   "id": "4b2dd2b1",
   "metadata": {},
   "source": [
    "### Q13. What block do we use to view the contents of a dataframe?"
   ]
  },
  {
   "attachments": {},
   "cell_type": "markdown",
   "id": "815df5d5",
   "metadata": {},
   "source": [
    "#!response"
   ]
  },
  {
   "attachments": {},
   "cell_type": "markdown",
   "id": "a151c197",
   "metadata": {},
   "source": [
    "### Q14. Which method in Pandas can be used to check the basic statistics of a DataFrame after reading a CSV file?\n",
    "\n",
    "- info()\n",
    "- describe()\n",
    "- head()\n",
    "- shape()"
   ]
  },
  {
   "attachments": {},
   "cell_type": "markdown",
   "id": "e569407a",
   "metadata": {},
   "source": [
    "#!response"
   ]
  },
  {
   "attachments": {},
   "cell_type": "markdown",
   "id": "991536a0",
   "metadata": {},
   "source": [
    "<img src=\"images/datatype.png\" alt=\"alt text\" width=\"400\"/>"
   ]
  },
  {
   "attachments": {},
   "cell_type": "markdown",
   "id": "8a57f310",
   "metadata": {},
   "source": [
    "### Q15. In the picture above, what is the datatype of the column smoker, size and tip ?"
   ]
  },
  {
   "attachments": {},
   "cell_type": "markdown",
   "id": "58b0cbee",
   "metadata": {},
   "source": [
    "#!response"
   ]
  },
  {
   "attachments": {},
   "cell_type": "markdown",
   "id": "4b2dd2b1",
   "metadata": {},
   "source": [
    "### Q16. Which of the following blocks should we use to get the column names of a dataframe?"
   ]
  },
  {
   "attachments": {},
   "cell_type": "markdown",
   "id": "ed67bdc4",
   "metadata": {},
   "source": [
    "- `with dataframe do .. using ..`\n",
    "- `dataframe [ .. ]`\n",
    "- `from dataframe get ..`\n",
    "- `set dataframe to`"
   ]
  },
  {
   "attachments": {},
   "cell_type": "markdown",
   "id": "815df5d5",
   "metadata": {},
   "source": [
    "#!response"
   ]
  },
  {
   "attachments": {},
   "cell_type": "markdown",
   "id": "a1492b07",
   "metadata": {},
   "source": [
    "### Q17. Which of the following completed blocks will give us the number of rows and columns in a dataset?\n"
   ]
  },
  {
   "attachments": {},
   "cell_type": "markdown",
   "id": "82b74f34",
   "metadata": {},
   "source": [
    "- `from df get size`\n",
    "- `from df get shape`\n",
    "- `from df get len`\n",
    "- `from df get dimension`"
   ]
  },
  {
   "attachments": {},
   "cell_type": "markdown",
   "id": "815df5d5",
   "metadata": {},
   "source": [
    "#!response"
   ]
  },
  {
   "attachments": {},
   "cell_type": "markdown",
   "id": "a1492b07",
   "metadata": {},
   "source": [
    "### Q18. Suppose we have a dataframe variable <code>df</code> with the columns <code>length</code>, <code>width</code>, and <code>diameter</code>. Which of the following completed blocks will give us a subset of the dataframe with only the <code>diameter</code> column? (There may be multiple correct answers.)\n"
   ]
  },
  {
   "attachments": {},
   "cell_type": "markdown",
   "id": "82b74f34",
   "metadata": {},
   "source": [
    "- `df [ .. ]` &nbsp;<-&nbsp; `\" diameter \"`\n",
    "- `set df to` &nbsp;:&nbsp; `\" diameter \"`\n",
    "- `\" diameter \"`\n",
    "- `from df get diameter`"
   ]
  },
  {
   "attachments": {},
   "cell_type": "markdown",
   "id": "815df5d5",
   "metadata": {},
   "source": [
    "#!response"
   ]
  },
  {
   "attachments": {},
   "cell_type": "markdown",
   "id": "ee3e7570",
   "metadata": {},
   "source": [
    "## Plotting"
   ]
  },
  {
   "attachments": {},
   "cell_type": "markdown",
   "id": "a1492b07",
   "metadata": {},
   "source": [
    "### Q19. Which of the following is the name of the library we use for plotting?\n"
   ]
  },
  {
   "attachments": {},
   "cell_type": "markdown",
   "id": "82b74f34",
   "metadata": {},
   "source": [
    "- pandas\n",
    "- px\n",
    "- plotly\n",
    "- plotly.express"
   ]
  },
  {
   "attachments": {},
   "cell_type": "markdown",
   "id": "815df5d5",
   "metadata": {},
   "source": [
    "#!response"
   ]
  },
  {
   "attachments": {},
   "cell_type": "markdown",
   "id": "434c3ec0",
   "metadata": {},
   "source": [
    "### Q20. When plotting a function, what does the x-coordinate represent?\n",
    "\n",
    "- The dependent variable\n",
    "- The independent variable\n",
    "- The slope of the function\n",
    "- The intercept of the function"
   ]
  },
  {
   "attachments": {},
   "cell_type": "markdown",
   "id": "63a76bd3",
   "metadata": {},
   "source": [
    "#!response"
   ]
  },
  {
   "attachments": {},
   "cell_type": "markdown",
   "id": "10b6a29a",
   "metadata": {},
   "source": [
    "### Q21. Plotly Express is a library used for:\n",
    "- Analyzing data\n",
    "- Creating visualizations\n",
    "- Machine learning algorithms\n",
    "- Web development"
   ]
  },
  {
   "attachments": {},
   "cell_type": "markdown",
   "id": "adb910d7",
   "metadata": {},
   "source": [
    "#!response"
   ]
  },
  {
   "attachments": {},
   "cell_type": "markdown",
   "id": "e9b6dc22",
   "metadata": {},
   "source": [
    "### Q22. Which of the following types of plots can be created using Plotly Express?\n",
    "- Scatter plots\n",
    "- Bar charts\n",
    "- Line plots\n",
    "- All of the above"
   ]
  },
  {
   "attachments": {},
   "cell_type": "markdown",
   "id": "1677c3eb",
   "metadata": {},
   "source": [
    "#!response\n"
   ]
  },
  {
   "attachments": {},
   "cell_type": "markdown",
   "id": "a1492b07",
   "metadata": {},
   "source": [
    "### Q23. Which of the following kinds of charts do we most often use for showing change in value over time?\n"
   ]
  },
  {
   "attachments": {},
   "cell_type": "markdown",
   "id": "82b74f34",
   "metadata": {},
   "source": [
    "- bar chart\n",
    "- scatter plot\n",
    "- line graph\n",
    "- box plot"
   ]
  },
  {
   "attachments": {},
   "cell_type": "markdown",
   "id": "815df5d5",
   "metadata": {},
   "source": [
    "#!response"
   ]
  },
  {
   "attachments": {},
   "cell_type": "markdown",
   "id": "44d36346",
   "metadata": {},
   "source": [
    "### Q24. In a box plot, what does the box represent?\n",
    "\n",
    "- The median of the data\n",
    "- The range of the data\n",
    "- The inter-quartile range of the data\n",
    "- The mean of the data"
   ]
  },
  {
   "attachments": {},
   "cell_type": "markdown",
   "id": "6dff4795",
   "metadata": {},
   "source": [
    "#!response"
   ]
  },
  {
   "attachments": {},
   "cell_type": "markdown",
   "id": "42dbd8bc",
   "metadata": {},
   "source": [
    "### Q.25 What type of graph is used to show the distribution of a continuous variable?\n",
    "\n",
    "- Box plot\n",
    "- Line graph\n",
    "- Bar graph\n",
    "- Histogram"
   ]
  },
  {
   "attachments": {},
   "cell_type": "markdown",
   "id": "5e1a760b",
   "metadata": {},
   "source": [
    "<img src=\"images/scatter.png\" alt=\"alt text\" width=\"400\"/>"
   ]
  },
  {
   "attachments": {},
   "cell_type": "markdown",
   "id": "a1492b07",
   "metadata": {},
   "source": [
    "### Q26. Which of the following kinds of charts is the one shown above?\n"
   ]
  },
  {
   "attachments": {},
   "cell_type": "markdown",
   "id": "82b74f34",
   "metadata": {},
   "source": [
    "- bar chart\n",
    "- scatter plot\n",
    "- line graph\n",
    "- box plot"
   ]
  },
  {
   "attachments": {},
   "cell_type": "markdown",
   "id": "815df5d5",
   "metadata": {},
   "source": [
    "#!response"
   ]
  },
  {
   "attachments": {},
   "cell_type": "markdown",
   "id": "a1cbb50c",
   "metadata": {},
   "source": [
    "### Q.27 Which type of graph is best suited for comparing the proportions of different categories?\n",
    "\n",
    "- Scatter plot\n",
    "- Pie chart\n",
    "- Line graph\n",
    "- Histogram\n",
    "\n"
   ]
  },
  {
   "attachments": {},
   "cell_type": "markdown",
   "id": "7953d94e",
   "metadata": {},
   "source": [
    "#!response"
   ]
  },
  {
   "attachments": {},
   "cell_type": "markdown",
   "id": "4b2dd2b1",
   "metadata": {},
   "source": [
    "### Q28. Which of the following blocks should we use to generate any of the charts?"
   ]
  },
  {
   "attachments": {},
   "cell_type": "markdown",
   "id": "ed67bdc4",
   "metadata": {},
   "source": [
    "- `df [ .. ]`\n",
    "- `from px get ..`\n",
    "- `with px do .. using ..`\n",
    "- `import .. as px`"
   ]
  },
  {
   "attachments": {},
   "cell_type": "markdown",
   "id": "815df5d5",
   "metadata": {},
   "source": [
    "#!response"
   ]
  },
  {
   "attachments": {},
   "cell_type": "markdown",
   "id": "4b2dd2b1",
   "metadata": {},
   "source": [
    "### Q29. In a scatter plot, the independent variable usually goes on the ____-axis and the dependent variable goes on the ____-axis?"
   ]
  },
  {
   "attachments": {},
   "cell_type": "markdown",
   "id": "815df5d5",
   "metadata": {},
   "source": [
    "#!response"
   ]
  },
  {
   "attachments": {},
   "cell_type": "markdown",
   "id": "a1492b07",
   "metadata": {},
   "source": [
    "### Q30. Which of the following kinds of charts do we sometimes display with horizontal orientation? (There may be more than one answer.)"
   ]
  },
  {
   "attachments": {},
   "cell_type": "markdown",
   "id": "82b74f34",
   "metadata": {},
   "source": [
    "- bar chart\n",
    "- scatter plot\n",
    "- line graph\n",
    "- box plot"
   ]
  },
  {
   "attachments": {},
   "cell_type": "markdown",
   "id": "815df5d5",
   "metadata": {},
   "source": [
    "#!response"
   ]
  },
  {
   "attachments": {},
   "cell_type": "markdown",
   "id": "a1492b07",
   "metadata": {},
   "source": [
    "### Q31. Describe how we use the chart options to change the orientation of a chart."
   ]
  },
  {
   "attachments": {},
   "cell_type": "markdown",
   "id": "815df5d5",
   "metadata": {},
   "source": [
    "#!response"
   ]
  },
  {
   "attachments": {},
   "cell_type": "markdown",
   "id": "ee3e7570",
   "metadata": {},
   "source": [
    "## Filtering"
   ]
  },
  {
   "attachments": {},
   "cell_type": "markdown",
   "id": "a1492b07",
   "metadata": {},
   "source": [
    "### Q32. What is the main purpose of filtering a dataset?\n"
   ]
  },
  {
   "attachments": {},
   "cell_type": "markdown",
   "id": "815df5d5",
   "metadata": {},
   "source": [
    "#!response"
   ]
  },
  {
   "attachments": {},
   "cell_type": "markdown",
   "id": "afb69218",
   "metadata": {
    "editable": false
   },
   "source": [
    "| GRE         | GPA         | Gender |\n",
    "| ----------- | ----------- | ------ |\n",
    "| 316         |  3.4        |    M   |\n",
    "| 308         |  3.1        |    M   |\n",
    "| 327         |  3.7        |    F   |\n",
    "| 310         |  3.33       |    F   |\n",
    "| 305         |  3.45       |    M   |\n",
    "| 322         |  3.18       |    F   |\n",
    "| 316         |  3.25       |    M   |\n",
    "| 300         |  3.4        |    F   |\n",
    "| 310         |  3.6        |    F   |\n"
   ]
  },
  {
   "attachments": {},
   "cell_type": "markdown",
   "id": "3d6586b1",
   "metadata": {},
   "source": [
    "### Q33. For the above dataset, which of the following might we do to calculate and compare the students' average GPA for each gender group?"
   ]
  },
  {
   "attachments": {},
   "cell_type": "markdown",
   "id": "19dd6a10",
   "metadata": {},
   "source": [
    "- We divide the student data by columns and compare their results.\n",
    "- We filter the student data by GPA only and get the mean to compare results.\n",
    "- We filter the data by Gender and calculate each gender group average GPA to compare their results.\n",
    "- We combine the GRE and GPA of the gender groups and compare their results."
   ]
  },
  {
   "attachments": {},
   "cell_type": "markdown",
   "id": "815df5d5",
   "metadata": {},
   "source": [
    "#!response"
   ]
  },
  {
   "attachments": {},
   "cell_type": "markdown",
   "id": "3d6586b1",
   "metadata": {},
   "source": [
    "### Q34. Look at the following Python code. What does it do? Explain your answer."
   ]
  },
  {
   "attachments": {},
   "cell_type": "markdown",
   "id": "e92cb982",
   "metadata": {},
   "source": [
    "```python\n",
    "\n",
    "gender_data = student_data[(student_data['gender'] == 'male')]\n",
    "\n",
    "```"
   ]
  },
  {
   "attachments": {},
   "cell_type": "markdown",
   "id": "815df5d5",
   "metadata": {},
   "source": [
    "#!response"
   ]
  },
  {
   "attachments": {},
   "cell_type": "markdown",
   "id": "a3c09da8",
   "metadata": {},
   "source": [
    "### Q35. Which pandas method is used to filter rows based on null or missing values in a DataFrame?\n",
    "\n",
    "- isnan()\n",
    "- isna()\n",
    "- null()\n",
    "- missing()"
   ]
  },
  {
   "attachments": {},
   "cell_type": "markdown",
   "id": "98c1d79f",
   "metadata": {},
   "source": [
    "#!response"
   ]
  },
  {
   "attachments": {},
   "cell_type": "markdown",
   "id": "ee3e7570",
   "metadata": {},
   "source": [
    "## Descriptive Stats"
   ]
  },
  {
   "attachments": {},
   "cell_type": "markdown",
   "id": "a1492b07",
   "metadata": {},
   "source": [
    "### Q36. Which of the following functions could we use to get the average value of a column? (There may be more than one answer.)"
   ]
  },
  {
   "attachments": {},
   "cell_type": "markdown",
   "id": "82b74f34",
   "metadata": {},
   "source": [
    "- median\n",
    "- mean\n",
    "- describe\n",
    "- mode"
   ]
  },
  {
   "attachments": {},
   "cell_type": "markdown",
   "id": "815df5d5",
   "metadata": {},
   "source": [
    "#!response"
   ]
  },
  {
   "attachments": {},
   "cell_type": "markdown",
   "id": "a1492b07",
   "metadata": {},
   "source": [
    "### Q37. Which of the following functions could we use to get the most popular value in a column? (There may be more than one answer.)"
   ]
  },
  {
   "attachments": {},
   "cell_type": "markdown",
   "id": "82b74f34",
   "metadata": {},
   "source": [
    "- median\n",
    "- mean\n",
    "- describe\n",
    "- mode"
   ]
  },
  {
   "attachments": {},
   "cell_type": "markdown",
   "id": "815df5d5",
   "metadata": {},
   "source": [
    "#!response"
   ]
  },
  {
   "attachments": {},
   "cell_type": "markdown",
   "id": "a1492b07",
   "metadata": {},
   "source": [
    "### Q38. Which of the following functions could we use to get the value of a column that would appear in the middle when the column's values are sorted? (There may be more than one answer.)"
   ]
  },
  {
   "attachments": {},
   "cell_type": "markdown",
   "id": "82b74f34",
   "metadata": {},
   "source": [
    "- median\n",
    "- mean\n",
    "- describe\n",
    "- mode"
   ]
  },
  {
   "attachments": {},
   "cell_type": "markdown",
   "id": "815df5d5",
   "metadata": {},
   "source": [
    "#!response"
   ]
  },
  {
   "attachments": {},
   "cell_type": "markdown",
   "id": "193155bf",
   "metadata": {},
   "source": [
    "### Q39. Which measure of dispersion describes the spread of values around the mean?\n",
    "\n",
    "- Variance\n",
    "- Standard deviation\n",
    "- Skewness"
   ]
  },
  {
   "attachments": {},
   "cell_type": "markdown",
   "id": "a6877111",
   "metadata": {},
   "source": [
    "#!response"
   ]
  },
  {
   "attachments": {},
   "cell_type": "markdown",
   "id": "a1492b07",
   "metadata": {},
   "source": [
    "### Q40. Which of the following functions could we use to get the interquartile range of a column? (There may be more than one answer.)"
   ]
  },
  {
   "attachments": {},
   "cell_type": "markdown",
   "id": "82b74f34",
   "metadata": {},
   "source": [
    "- median\n",
    "- mean\n",
    "- describe\n",
    "- mode"
   ]
  },
  {
   "attachments": {},
   "cell_type": "markdown",
   "id": "dc5e7041",
   "metadata": {},
   "source": [
    "#!response"
   ]
  },
  {
   "attachments": {},
   "cell_type": "markdown",
   "id": "e3fab4b1",
   "metadata": {},
   "source": [
    "### Q41. Which measure of dispersion is calculated by subtracting the smallest value from the largest value in a dataset?\n",
    "\n",
    "- Variance\n",
    "- Standard deviation\n",
    "- Skewness\n",
    "- Range"
   ]
  },
  {
   "attachments": {},
   "cell_type": "markdown",
   "id": "815df5d5",
   "metadata": {},
   "source": [
    "#!response"
   ]
  },
  {
   "attachments": {},
   "cell_type": "markdown",
   "id": "aeacb774",
   "metadata": {},
   "source": [
    "### Q42. Which measure of central tendency is less affected by extreme values in a dataset?\n",
    "\n",
    "- Mean\n",
    "- Median\n",
    "- Mode\n",
    "- Range"
   ]
  },
  {
   "attachments": {},
   "cell_type": "markdown",
   "id": "5b681758",
   "metadata": {},
   "source": [
    "#!response"
   ]
  },
  {
   "attachments": {},
   "cell_type": "markdown",
   "id": "d25d9ddb",
   "metadata": {},
   "source": [
    "### Q43. Which of the following blocks is to run the <code>mean</code>, <code>median</code>, <code>mode</code>, or <code>describe</code> functions on a dataframe?"
   ]
  },
  {
   "attachments": {},
   "cell_type": "markdown",
   "id": "ed7d3c44",
   "metadata": {},
   "source": [
    "\n",
    "- `from .. import ..`\n",
    "- `with .. do .. using ..`\n",
    "- `import .. as ..`\n",
    "- `from .. get ..`\n"
   ]
  },
  {
   "attachments": {},
   "cell_type": "markdown",
   "id": "815df5d5",
   "metadata": {},
   "source": [
    "#!response"
   ]
  },
  {
   "attachments": {},
   "cell_type": "markdown",
   "id": "a1492b07",
   "metadata": {},
   "source": [
    "### Q44. Which of the following types of charts could we use to look at the interquartile range of a column?"
   ]
  },
  {
   "attachments": {},
   "cell_type": "markdown",
   "id": "82b74f34",
   "metadata": {},
   "source": [
    "- bar chart\n",
    "- scatter plot\n",
    "- line chart\n",
    "- box plot"
   ]
  },
  {
   "attachments": {},
   "cell_type": "markdown",
   "id": "815df5d5",
   "metadata": {},
   "source": [
    "#!response"
   ]
  },
  {
   "attachments": {},
   "cell_type": "markdown",
   "id": "fecffea1",
   "metadata": {},
   "source": [
    "<img src=\"images/box.png\" alt=\"alt text\" width=\"400\"/>"
   ]
  },
  {
   "attachments": {},
   "cell_type": "markdown",
   "id": "a1492b07",
   "metadata": {},
   "source": [
    "### Q45. Using the above chart, what are the approximate median values for each species of iris? (To the nearest half number is fine.)"
   ]
  },
  {
   "attachments": {},
   "cell_type": "markdown",
   "id": "815df5d5",
   "metadata": {},
   "source": [
    "#!response"
   ]
  },
  {
   "attachments": {},
   "cell_type": "markdown",
   "id": "d4d4a2e9",
   "metadata": {},
   "source": [
    "<img src=\"images/box.png\" alt=\"alt text\" width=\"400\"/>"
   ]
  },
  {
   "attachments": {},
   "cell_type": "markdown",
   "id": "348719d1",
   "metadata": {},
   "source": [
    "### Q46. In the chart above which species has the highest variation in the sepal length(cm)? "
   ]
  },
  {
   "attachments": {},
   "cell_type": "markdown",
   "id": "60f8e5f7",
   "metadata": {},
   "source": [
    "#!response"
   ]
  }
 ],
 "metadata": {
  "kernelspec": {
   "display_name": "xpython",
   "language": "python",
   "name": "xpython"
  },
  "language_info": {
   "file_extension": ".py",
   "mimetype": "text/x-python",
   "name": "python",
   "version": "3.7.6"
  }
 },
 "nbformat": 4,
 "nbformat_minor": 5
}
