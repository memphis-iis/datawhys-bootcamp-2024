{
 "cells": [
  {
   "cell_type": "markdown",
   "id": "9a6a0531",
   "metadata": {},
   "source": [
    "# Descriptive Statistics Activity 2"
   ]
  },
  {
   "cell_type": "markdown",
   "id": "a6052d8f",
   "metadata": {},
   "source": [
    "Dataset: Data containing informations on car's name, origin, model, model year, cylinders etc.\n",
    "\n",
    "Columns:\n",
    "- mpg,\n",
    "- cylinders,\n",
    "- displacement,\n",
    "- horsepower,\n",
    "- weight,\n",
    "- acceleration,\n",
    "- model_year,\n",
    "- origin,\n",
    "- name"
   ]
  },
  {
   "cell_type": "markdown",
   "id": "adb4ada4",
   "metadata": {},
   "source": [
    "## Import libraries\n",
    "\n",
    "We can calculate measures of central tendency and spread using `pandas dataframes`.\n",
    "\n",
    "First thing you need to do is import `pandas` below."
   ]
  },
  {
   "cell_type": "markdown",
   "id": "7dab37f9",
   "metadata": {},
   "source": [
    "### Step 1. &nbsp;&nbsp;&nbsp; Read CSV Data into Pandas Dataframe"
   ]
  },
  {
   "cell_type": "markdown",
   "id": "fd00f537",
   "metadata": {},
   "source": [
    "#!blhint\n",
    "\n",
    "- Create variable &nbsp;`pd`\n",
    "- `import pandas as pd`"
   ]
  },
  {
   "cell_type": "markdown",
   "id": "8c9db017",
   "metadata": {},
   "source": [
    "<br><details><summary>Blockly Hints</summary><ul><li>Blocks<ul><li><code>import .. as ..</code><ul><li>The <code>import .. as ..</code> block is found under IMPORT.</li> <li>A variable must have been created before it will appear in the dropdown.</li></ul></li></ul></li></ul></details>"
   ]
  },
  {
   "cell_type": "code",
   "execution_count": 1,
   "id": "a3c1d24f",
   "metadata": {},
   "outputs": [],
   "source": [
    "#!response\n",
    "\n",
    "import pandas as pd\n",
    "\n",
    "#<xml xmlns=\"https://developers.google.com/blockly/xml\"><variables><variable id=\"zq]t,,UR`GWj6?Hub9%a\">pd</variable></variables><block type=\"importAs_Python\" id=\"o[3wY[w:R*b$p^Ow/ZZw\" x=\"125\" y=\"352\"><field name=\"libraryName\">pandas</field><field name=\"libraryAlias\" id=\"zq]t,,UR`GWj6?Hub9%a\">pd</field></block></xml>"
   ]
  },
  {
   "cell_type": "markdown",
   "id": "74a87755",
   "metadata": {},
   "source": [
    "#### Substep. &nbsp;&nbsp; Read CSV data and Save in Variable\n",
    "\n",
    "We're going to work with data on cars. \n",
    "\n",
    "Load the CSV file `\"datasets/mpg-na-hidden.csv\"` into a dataframe and display it."
   ]
  },
  {
   "cell_type": "markdown",
   "id": "1f19fb27",
   "metadata": {},
   "source": [
    "#!blhint\n",
    "\n",
    "- Create variable &nbsp;`df`\n",
    "- `set df to` &nbsp;:&nbsp; `with pd do read_csv using` &nbsp;<-&nbsp; `\"datasets/mpg-na-hidden.csv\"`"
   ]
  },
  {
   "cell_type": "markdown",
   "id": "98464719",
   "metadata": {},
   "source": [
    "<details>\n",
    "  <summary>Blockly Hints</summary>\n",
    "  <ol>\n",
    "    <li>Variable <code>dataframe</code> must be created under VARIABLES before it can be used</li>\n",
    "    <li><code>set .. to</code> block found under VARIABLES</li>\n",
    "    <li><code>with .. do .. using</code> block found under VARIABLES</li>\n",
    "    <li>If <code>do</code> dropdown in <code>with .. do .. using</code> block will not populate, try \"Run All Above Selected Cell\" from the \"Run\" menu in top-left.</li>\n",
    "    <li>You need a <code>\"..\"</code> block found under TEXT to fill in the <code>using</code> part of the <code>with .. do .. using</code> block</li>\n",
    "    <li>If <code>with .. do .. using</code> block does not want to snap together nicely with the <code>set .. to</code> block, try dragging the <code>set .. to</code> block instead.</li>\n",
    "      <li>From <code>VARIABLES</code>, get the <code>dataframe</code> block</li>\n",
    "  </ol>\n",
    "</details>"
   ]
  },
  {
   "cell_type": "code",
   "execution_count": 2,
   "id": "aeb2d76f",
   "metadata": {},
   "outputs": [],
   "source": [
    "#!response\n",
    "\n",
    "dataframe = pd.read_csv('datasets/mpg-na-hidden.csv')\n",
    "\n",
    "#<xml xmlns=\"https://developers.google.com/blockly/xml\"><variables><variable id=\"[V~uW+0L/4GW;45ulv+l\">dataframe</variable><variable id=\"zq]t,,UR`GWj6?Hub9%a\">pd</variable></variables><block type=\"variables_set\" id=\"i*U..F)p9r]#n*e(./*x\" x=\"0\" y=\"0\"><field name=\"VAR\" id=\"[V~uW+0L/4GW;45ulv+l\">dataframe</field><value name=\"VALUE\"><block type=\"varDoMethod_Python\" id=\":~$/ssC/m-m@jj8K*O4W\"><mutation items=\"1\"></mutation><field name=\"VAR\" id=\"zq]t,,UR`GWj6?Hub9%a\">pd</field><field name=\"MEMBER\">read_csv</field><data>pd:read_csv</data></block></value></block><block type=\"variables_set\" id=\"Etf1jV+uJzk;:yf^gZ*9\" x=\"19\" y=\"228\"><field name=\"VAR\" id=\"[V~uW+0L/4GW;45ulv+l\">dataframe</field><value name=\"VALUE\"><block type=\"varDoMethod_Python\" id=\"CAA$~5kuG7#(|]inmMix\"><mutation items=\"1\"></mutation><field name=\"VAR\" id=\"zq]t,,UR`GWj6?Hub9%a\">pd</field><field name=\"MEMBER\">read_csv</field><data>pd:read_csv</data><value name=\"ADD0\"><block type=\"text\" id=\"@h?tZq_F}qks@eCoZDz7\"><field name=\"TEXT\">datasets/mpg-na-hidden.csv</field></block></value></block></value></block></xml>"
   ]
  },
  {
   "cell_type": "code",
   "execution_count": 3,
   "id": "c30d9644-810b-4f64-9d9d-4466bc3d81c3",
   "metadata": {},
   "outputs": [
    {
     "data": {
      "text/html": [
       "<div>\n",
       "<style scoped>\n",
       "    .dataframe tbody tr th:only-of-type {\n",
       "        vertical-align: middle;\n",
       "    }\n",
       "\n",
       "    .dataframe tbody tr th {\n",
       "        vertical-align: top;\n",
       "    }\n",
       "\n",
       "    .dataframe thead th {\n",
       "        text-align: right;\n",
       "    }\n",
       "</style>\n",
       "<table border=\"1\" class=\"dataframe\">\n",
       "  <thead>\n",
       "    <tr style=\"text-align: right;\">\n",
       "      <th></th>\n",
       "      <th>mpg</th>\n",
       "      <th>cylinders</th>\n",
       "      <th>displacement</th>\n",
       "      <th>horsepower</th>\n",
       "      <th>weight</th>\n",
       "      <th>acceleration</th>\n",
       "      <th>model_year</th>\n",
       "      <th>origin</th>\n",
       "      <th>name</th>\n",
       "    </tr>\n",
       "  </thead>\n",
       "  <tbody>\n",
       "    <tr>\n",
       "      <th>0</th>\n",
       "      <td>18.0</td>\n",
       "      <td>8</td>\n",
       "      <td>307.0</td>\n",
       "      <td>130</td>\n",
       "      <td>3504</td>\n",
       "      <td>12.0</td>\n",
       "      <td>70</td>\n",
       "      <td>1</td>\n",
       "      <td>chevrolet chevelle malibu</td>\n",
       "    </tr>\n",
       "    <tr>\n",
       "      <th>1</th>\n",
       "      <td>15.0</td>\n",
       "      <td>8</td>\n",
       "      <td>350.0</td>\n",
       "      <td>165</td>\n",
       "      <td>3693</td>\n",
       "      <td>11.5</td>\n",
       "      <td>70</td>\n",
       "      <td>1</td>\n",
       "      <td>buick skylark 320</td>\n",
       "    </tr>\n",
       "    <tr>\n",
       "      <th>2</th>\n",
       "      <td>18.0</td>\n",
       "      <td>8</td>\n",
       "      <td>318.0</td>\n",
       "      <td>150</td>\n",
       "      <td>3436</td>\n",
       "      <td>11.0</td>\n",
       "      <td>70</td>\n",
       "      <td>1</td>\n",
       "      <td>plymouth satellite</td>\n",
       "    </tr>\n",
       "    <tr>\n",
       "      <th>3</th>\n",
       "      <td>16.0</td>\n",
       "      <td>8</td>\n",
       "      <td>304.0</td>\n",
       "      <td>150</td>\n",
       "      <td>3433</td>\n",
       "      <td>12.0</td>\n",
       "      <td>70</td>\n",
       "      <td>1</td>\n",
       "      <td>amc rebel sst</td>\n",
       "    </tr>\n",
       "    <tr>\n",
       "      <th>4</th>\n",
       "      <td>17.0</td>\n",
       "      <td>8</td>\n",
       "      <td>302.0</td>\n",
       "      <td>140</td>\n",
       "      <td>3449</td>\n",
       "      <td>10.5</td>\n",
       "      <td>70</td>\n",
       "      <td>1</td>\n",
       "      <td>ford torino</td>\n",
       "    </tr>\n",
       "    <tr>\n",
       "      <th>...</th>\n",
       "      <td>...</td>\n",
       "      <td>...</td>\n",
       "      <td>...</td>\n",
       "      <td>...</td>\n",
       "      <td>...</td>\n",
       "      <td>...</td>\n",
       "      <td>...</td>\n",
       "      <td>...</td>\n",
       "      <td>...</td>\n",
       "    </tr>\n",
       "    <tr>\n",
       "      <th>393</th>\n",
       "      <td>27.0</td>\n",
       "      <td>4</td>\n",
       "      <td>140.0</td>\n",
       "      <td>86</td>\n",
       "      <td>2790</td>\n",
       "      <td>15.6</td>\n",
       "      <td>82</td>\n",
       "      <td>1</td>\n",
       "      <td>ford mustang gl</td>\n",
       "    </tr>\n",
       "    <tr>\n",
       "      <th>394</th>\n",
       "      <td>44.0</td>\n",
       "      <td>4</td>\n",
       "      <td>97.0</td>\n",
       "      <td>52</td>\n",
       "      <td>2130</td>\n",
       "      <td>24.6</td>\n",
       "      <td>82</td>\n",
       "      <td>2</td>\n",
       "      <td>vw pickup</td>\n",
       "    </tr>\n",
       "    <tr>\n",
       "      <th>395</th>\n",
       "      <td>32.0</td>\n",
       "      <td>4</td>\n",
       "      <td>135.0</td>\n",
       "      <td>84</td>\n",
       "      <td>2295</td>\n",
       "      <td>11.6</td>\n",
       "      <td>82</td>\n",
       "      <td>1</td>\n",
       "      <td>dodge rampage</td>\n",
       "    </tr>\n",
       "    <tr>\n",
       "      <th>396</th>\n",
       "      <td>28.0</td>\n",
       "      <td>4</td>\n",
       "      <td>120.0</td>\n",
       "      <td>79</td>\n",
       "      <td>2625</td>\n",
       "      <td>18.6</td>\n",
       "      <td>82</td>\n",
       "      <td>1</td>\n",
       "      <td>ford ranger</td>\n",
       "    </tr>\n",
       "    <tr>\n",
       "      <th>397</th>\n",
       "      <td>31.0</td>\n",
       "      <td>4</td>\n",
       "      <td>119.0</td>\n",
       "      <td>82</td>\n",
       "      <td>2720</td>\n",
       "      <td>19.4</td>\n",
       "      <td>82</td>\n",
       "      <td>1</td>\n",
       "      <td>chevy s-10</td>\n",
       "    </tr>\n",
       "  </tbody>\n",
       "</table>\n",
       "<p>398 rows × 9 columns</p>\n",
       "</div>"
      ],
      "text/plain": [
       "      mpg  cylinders  displacement  horsepower  weight  acceleration  \\\n",
       "0    18.0          8         307.0         130    3504          12.0   \n",
       "1    15.0          8         350.0         165    3693          11.5   \n",
       "2    18.0          8         318.0         150    3436          11.0   \n",
       "3    16.0          8         304.0         150    3433          12.0   \n",
       "4    17.0          8         302.0         140    3449          10.5   \n",
       "..    ...        ...           ...         ...     ...           ...   \n",
       "393  27.0          4         140.0          86    2790          15.6   \n",
       "394  44.0          4          97.0          52    2130          24.6   \n",
       "395  32.0          4         135.0          84    2295          11.6   \n",
       "396  28.0          4         120.0          79    2625          18.6   \n",
       "397  31.0          4         119.0          82    2720          19.4   \n",
       "\n",
       "     model_year  origin                       name  \n",
       "0            70       1  chevrolet chevelle malibu  \n",
       "1            70       1          buick skylark 320  \n",
       "2            70       1         plymouth satellite  \n",
       "3            70       1              amc rebel sst  \n",
       "4            70       1                ford torino  \n",
       "..          ...     ...                        ...  \n",
       "393          82       1            ford mustang gl  \n",
       "394          82       2                  vw pickup  \n",
       "395          82       1              dodge rampage  \n",
       "396          82       1                ford ranger  \n",
       "397          82       1                 chevy s-10  \n",
       "\n",
       "[398 rows x 9 columns]"
      ]
     },
     "execution_count": 3,
     "metadata": {},
     "output_type": "execute_result"
    }
   ],
   "source": [
    "dataframe\n",
    "\n",
    "#<xml xmlns=\"https://developers.google.com/blockly/xml\"><variables><variable id=\"[V~uW+0L/4GW;45ulv+l\">dataframe</variable></variables><block type=\"variables_get\" id=\"10id|j5+R!4Pu9~lPyG`\" x=\"8\" y=\"346\"><field name=\"VAR\" id=\"[V~uW+0L/4GW;45ulv+l\">dataframe</field></block></xml>"
   ]
  },
  {
   "cell_type": "markdown",
   "id": "bdbc9f86",
   "metadata": {},
   "source": [
    "## Car mean/median/mode\n",
    "\n",
    "In the next three cells, use the dataframe to calculate the mean, median, and mode values for the `mpg`, `cylinders`, `weight` and `acceleration` columns."
   ]
  },
  {
   "cell_type": "markdown",
   "id": "0acff50d",
   "metadata": {},
   "source": [
    "#### Substep. Compute the mean  \n"
   ]
  },
  {
   "cell_type": "markdown",
   "id": "ba1f3ed2",
   "metadata": {},
   "source": [
    "Blockly Hints:\n",
    "- create variable `mean_comp`\n",
    "- `Set mean_comp to` : `dataframe[ .. ]` <- `create list with`:\n",
    "    - \"mpg\"\n",
    "    - \"cylinders\"\n",
    "    - \"weight\"\n",
    "    - \"acceleration\"\n"
   ]
  },
  {
   "cell_type": "code",
   "execution_count": 4,
   "id": "788e8de1",
   "metadata": {},
   "outputs": [],
   "source": [
    "#!response\n",
    "\n",
    "mean_comp = dataframe[['mpg', 'cylinders', 'weight', 'acceleration']]\n",
    "\n",
    "#<xml xmlns=\"https://developers.google.com/blockly/xml\"><variables><variable id=\"5E_4,/m14pLKhp]%)#3Z\">mean_comp</variable><variable id=\"[V~uW+0L/4GW;45ulv+l\">dataframe</variable></variables><block type=\"variables_set\" id=\")7k9kW$|Z?7p/,{3kY+n\" x=\"16\" y=\"124\"><field name=\"VAR\" id=\"5E_4,/m14pLKhp]%)#3Z\">mean_comp</field><value name=\"VALUE\"><block type=\"indexer_Python\" id=\"#)z2t%`3%`!UoW=w)do=\"><field name=\"VAR\" id=\"[V~uW+0L/4GW;45ulv+l\">dataframe</field><value name=\"INDEX\"><block type=\"lists_create_with\" id=\"M!HfZy3eg=Hk#j#R1gHp\"><mutation items=\"4\"></mutation><value name=\"ADD0\"><block type=\"text\" id=\"?vl9y/44e;a(.I-{?^a_\"><field name=\"TEXT\">mpg</field></block></value><value name=\"ADD1\"><block type=\"text\" id=\"-V17]]i;RX9d~8f~tX8I\"><field name=\"TEXT\">cylinders</field></block></value><value name=\"ADD2\"><block type=\"text\" id=\"w*={?^gK8+4HA$!TYvTA\"><field name=\"TEXT\">weight</field></block></value><value name=\"ADD3\"><block type=\"text\" id=\"P~Dd-.!4{rAL!wu2Y}go\"><field name=\"TEXT\">acceleration</field></block></value></block></value></block></value></block></xml>"
   ]
  },
  {
   "cell_type": "markdown",
   "id": "e602b070-fc02-47f5-9d9f-4c4f373b3a2e",
   "metadata": {},
   "source": [
    "Blockly Hints:\n",
    "- `with mean_comp do mode using`"
   ]
  },
  {
   "cell_type": "code",
   "execution_count": 5,
   "id": "bc509ae9-b2ec-4210-bf29-5ca130483d5b",
   "metadata": {},
   "outputs": [
    {
     "data": {
      "text/plain": [
       "mpg               23.514573\n",
       "cylinders          5.454774\n",
       "weight          2970.424623\n",
       "acceleration      15.568090\n",
       "dtype: float64"
      ]
     },
     "execution_count": 5,
     "metadata": {},
     "output_type": "execute_result"
    }
   ],
   "source": [
    "#!response\n",
    "\n",
    "mean_comp.mean()\n",
    "\n",
    "#<xml xmlns=\"https://developers.google.com/blockly/xml\"><variables><variable id=\"5E_4,/m14pLKhp]%)#3Z\">mean_comp</variable></variables><block type=\"varDoMethod_Python\" id=\"cldP}*$k{b1MeN[Km%}K\" x=\"-402\" y=\"-286\"><mutation items=\"1\"></mutation><field name=\"VAR\" id=\"5E_4,/m14pLKhp]%)#3Z\">mean_comp</field><field name=\"MEMBER\">mean</field><data>mean_comp:mean</data></block></xml>"
   ]
  },
  {
   "cell_type": "markdown",
   "id": "d83445fc",
   "metadata": {},
   "source": [
    "### QUESTIONS:\n",
    "\n",
    "### We have 9 observations of GRE scores.  314, 312, 300, 304, 323, 308, 316, 320, 298. What is the mean GRE score ?"
   ]
  },
  {
   "cell_type": "markdown",
   "id": "a14eb0e3",
   "metadata": {},
   "source": [
    "#!response\n",
    "\n",
    "Ans:"
   ]
  },
  {
   "cell_type": "markdown",
   "id": "27fd79ee",
   "metadata": {},
   "source": [
    "### In what scenario, the mean and mode of a variable will be same? Think deeply and give your answer. "
   ]
  },
  {
   "cell_type": "markdown",
   "id": "b14c1a5d",
   "metadata": {},
   "source": [
    "#!response\n",
    "\n",
    "\n",
    "Ans: "
   ]
  },
  {
   "cell_type": "markdown",
   "id": "106f2c3e",
   "metadata": {},
   "source": [
    "#### Substep. Compute the median  \n",
    "\n",
    "Using the same approach, compute the median. \n"
   ]
  },
  {
   "cell_type": "markdown",
   "id": "bc457ab4",
   "metadata": {},
   "source": [
    "Blockly Hints:\n",
    "- create variable `median_comp`\n",
    "- `Set median_comp to` : `dataframe[ .. ]` <- `create list with`:\n",
    "    - \"mpg\"\n",
    "    - \"cylinders\"\n",
    "    - \"weight\"\n",
    "    - \"acceleration\"\n"
   ]
  },
  {
   "cell_type": "code",
   "execution_count": 6,
   "id": "0ce2465a-6d2a-439b-9ca0-937327c9b633",
   "metadata": {},
   "outputs": [],
   "source": [
    "#!response\n",
    "\n",
    "median_comp = dataframe[['mpg', 'cylinders', 'weight', 'acceleration']]\n",
    "\n",
    "#<xml xmlns=\"https://developers.google.com/blockly/xml\"><variables><variable id=\"p6RH-}?7)Y}V0wEwp5uK\">median_comp</variable><variable id=\"[V~uW+0L/4GW;45ulv+l\">dataframe</variable></variables><block type=\"variables_set\" id=\"ylD)7lx|j`}lKJ-T)n5U\" x=\"-210\" y=\"-216\"><field name=\"VAR\" id=\"p6RH-}?7)Y}V0wEwp5uK\">median_comp</field><value name=\"VALUE\"><block type=\"indexer_Python\" id=\",xWp/CzM79Px#O5%6J+z\"><field name=\"VAR\" id=\"[V~uW+0L/4GW;45ulv+l\">dataframe</field><value name=\"INDEX\"><block type=\"lists_create_with\" id=\"(OGvK0vP8[~0rPugVb#:\"><mutation items=\"4\"></mutation><value name=\"ADD0\"><block type=\"text\" id=\"dGq#ZsyrADc=U#UY4uX$\"><field name=\"TEXT\">mpg</field></block></value><value name=\"ADD1\"><block type=\"text\" id=\"l`DV322Z.tK8L5}^/_]]\"><field name=\"TEXT\">cylinders</field></block></value><value name=\"ADD2\"><block type=\"text\" id=\"vZBBE9b##0Gb4)y2?ER7\"><field name=\"TEXT\">weight</field></block></value><value name=\"ADD3\"><block type=\"text\" id=\"*_cPhLZ,,K8XMOt4jZf3\"><field name=\"TEXT\">acceleration</field></block></value></block></value></block></value></block></xml>"
   ]
  },
  {
   "cell_type": "markdown",
   "id": "ca5b3a29-257f-4f5e-8599-71156b627da0",
   "metadata": {},
   "source": [
    "Blockly Hints:\n",
    "\n",
    "- `with median_comp do mode using`"
   ]
  },
  {
   "cell_type": "code",
   "execution_count": 7,
   "id": "f0526472-8000-4e59-8564-56f4efae56ad",
   "metadata": {},
   "outputs": [
    {
     "data": {
      "text/plain": [
       "mpg               23.0\n",
       "cylinders          4.0\n",
       "weight          2803.5\n",
       "acceleration      15.5\n",
       "dtype: float64"
      ]
     },
     "execution_count": 7,
     "metadata": {},
     "output_type": "execute_result"
    }
   ],
   "source": [
    "#!response\n",
    "\n",
    "median_comp.median()\n",
    "\n",
    "#<xml xmlns=\"https://developers.google.com/blockly/xml\"><variables><variable id=\"p6RH-}?7)Y}V0wEwp5uK\">median_comp</variable></variables><block type=\"varDoMethod_Python\" id=\"]I:]}wMu=(Gnu*RD$$~9\" x=\"-124\" y=\"-258\"><mutation items=\"1\"></mutation><field name=\"VAR\" id=\"p6RH-}?7)Y}V0wEwp5uK\">median_comp</field><field name=\"MEMBER\">median</field><data>median_comp:median</data></block></xml>"
   ]
  },
  {
   "cell_type": "markdown",
   "id": "01bc4e32",
   "metadata": {},
   "source": [
    "### QUESTIONS:\n",
    "\n",
    "### What does the median value of cylinder means according to you? Explain briefly."
   ]
  },
  {
   "cell_type": "markdown",
   "id": "26ed6304",
   "metadata": {},
   "source": [
    "#!response\n",
    "\n",
    "Ans:"
   ]
  },
  {
   "cell_type": "markdown",
   "id": "c56a3dba",
   "metadata": {},
   "source": [
    "### For a variable, what percentile value does its the median value refers to?"
   ]
  },
  {
   "cell_type": "markdown",
   "id": "f63113a9",
   "metadata": {},
   "source": [
    "#!response\n",
    "\n",
    "Ans: "
   ]
  },
  {
   "cell_type": "markdown",
   "id": "5e4f10ce",
   "metadata": {},
   "source": [
    "#### Substep. Compute the mode  \n",
    "\n",
    "Using the same approach, compute the mode. "
   ]
  },
  {
   "cell_type": "markdown",
   "id": "43bcce30",
   "metadata": {},
   "source": [
    "Blockly Hints:\n",
    "- create variable `mode_comp`\n",
    "- `Set mode_comp to` : `dataframe[ .. ]` <- `create list with`:\n",
    "    - \"mpg\"\n",
    "    - \"cylinders\"\n",
    "    - \"weight\"\n",
    "    - \"acceleration\"\n"
   ]
  },
  {
   "cell_type": "code",
   "execution_count": 9,
   "id": "4da91092-c286-4a3b-bbf8-c3c688903b5c",
   "metadata": {},
   "outputs": [],
   "source": [
    "#!response\n",
    "\n",
    "mode_comp = dataframe[['mpg', 'cylinders', 'weight', 'acceleration']]\n",
    "\n",
    "#<xml xmlns=\"https://developers.google.com/blockly/xml\"><variables><variable id=\"gOTFB1xZFtK`ZIe+EV`i\">mode_comp</variable><variable id=\"[V~uW+0L/4GW;45ulv+l\">dataframe</variable></variables><block type=\"variables_set\" id=\"{1~gPZ^Roe]/4]O~aWvf\" x=\"-188\" y=\"-347\"><field name=\"VAR\" id=\"gOTFB1xZFtK`ZIe+EV`i\">mode_comp</field><value name=\"VALUE\"><block type=\"indexer_Python\" id=\"c5@KJJWG9X6eU!KZstgk\"><field name=\"VAR\" id=\"[V~uW+0L/4GW;45ulv+l\">dataframe</field><value name=\"INDEX\"><block type=\"lists_create_with\" id=\"?1c+#Ehh#Xlc-LIQ?FFu\"><mutation items=\"4\"></mutation><value name=\"ADD0\"><block type=\"text\" id=\"-lcp]t{)cMtkvki@f?iB\"><field name=\"TEXT\">mpg</field></block></value><value name=\"ADD1\"><block type=\"text\" id=\"E.hY[l)LCnfhrp1+J[Qc\"><field name=\"TEXT\">cylinders</field></block></value><value name=\"ADD2\"><block type=\"text\" id=\"^rk3dOI1LIkm?f+`$Q2-\"><field name=\"TEXT\">weight</field></block></value><value name=\"ADD3\"><block type=\"text\" id=\"E*cPX8.M]EPM^%%H7B9p\"><field name=\"TEXT\">acceleration</field></block></value></block></value></block></value></block></xml>"
   ]
  },
  {
   "cell_type": "markdown",
   "id": "d56084df-f3bb-41f2-987f-cd7274a32319",
   "metadata": {},
   "source": [
    "Blockly Hints:\n",
    "- `with mode_comp do mode using`"
   ]
  },
  {
   "cell_type": "code",
   "execution_count": 11,
   "id": "d98adfea-5bb8-4ca9-afe2-8a7e75648035",
   "metadata": {},
   "outputs": [
    {
     "data": {
      "text/html": [
       "<div>\n",
       "<style scoped>\n",
       "    .dataframe tbody tr th:only-of-type {\n",
       "        vertical-align: middle;\n",
       "    }\n",
       "\n",
       "    .dataframe tbody tr th {\n",
       "        vertical-align: top;\n",
       "    }\n",
       "\n",
       "    .dataframe thead th {\n",
       "        text-align: right;\n",
       "    }\n",
       "</style>\n",
       "<table border=\"1\" class=\"dataframe\">\n",
       "  <thead>\n",
       "    <tr style=\"text-align: right;\">\n",
       "      <th></th>\n",
       "      <th>mpg</th>\n",
       "      <th>cylinders</th>\n",
       "      <th>weight</th>\n",
       "      <th>acceleration</th>\n",
       "    </tr>\n",
       "  </thead>\n",
       "  <tbody>\n",
       "    <tr>\n",
       "      <th>0</th>\n",
       "      <td>13.0</td>\n",
       "      <td>4.0</td>\n",
       "      <td>1985</td>\n",
       "      <td>14.5</td>\n",
       "    </tr>\n",
       "    <tr>\n",
       "      <th>1</th>\n",
       "      <td>NaN</td>\n",
       "      <td>NaN</td>\n",
       "      <td>2130</td>\n",
       "      <td>NaN</td>\n",
       "    </tr>\n",
       "  </tbody>\n",
       "</table>\n",
       "</div>"
      ],
      "text/plain": [
       "    mpg  cylinders  weight  acceleration\n",
       "0  13.0        4.0    1985          14.5\n",
       "1   NaN        NaN    2130           NaN"
      ]
     },
     "execution_count": 11,
     "metadata": {},
     "output_type": "execute_result"
    }
   ],
   "source": [
    "#!response\n",
    "\n",
    "mode_comp.mode()\n",
    "\n",
    "#<xml xmlns=\"https://developers.google.com/blockly/xml\"><variables><variable id=\"gOTFB1xZFtK`ZIe+EV`i\">mode_comp</variable></variables><block type=\"varDoMethod_Python\" id=\"]I:]}wMu=(Gnu*RD$$~9\" x=\"-175\" y=\"-287\"><mutation items=\"1\"></mutation><field name=\"VAR\" id=\"gOTFB1xZFtK`ZIe+EV`i\">mode_comp</field><field name=\"MEMBER\">mode</field><data>mode_comp:mode</data></block></xml>"
   ]
  },
  {
   "cell_type": "markdown",
   "id": "e9cecb98",
   "metadata": {},
   "source": [
    "### QUESTIONS:\n",
    "\n",
    "### Suppose we have a variable 'Age'. It has 50 values. We find its  mode value is 26. What does that mean? Briefly Explain."
   ]
  },
  {
   "cell_type": "markdown",
   "id": "e8569e16",
   "metadata": {},
   "source": [
    "#!response\n",
    "\n",
    "\n",
    "Ans:"
   ]
  },
  {
   "cell_type": "markdown",
   "id": "06196282",
   "metadata": {},
   "source": [
    "### What is the significance of the two rows `0` and `1` in the mode table?  \n",
    "\n",
    "Write your answer in the cell below."
   ]
  },
  {
   "cell_type": "markdown",
   "id": "558bfbdd",
   "metadata": {},
   "source": [
    "#!response\n",
    "\n",
    "*Everything is numeric (actually ordinal), so it is the only variable Python will calculate mean and median for. \n",
    "It actually is incorrect to calculate mean because it is ordinal, but Python isn't smart enough to know that because we didn't tell it our data was ordinal. \n",
    "This is a good example of being careful with computers - they will do exactly what we tell them to do even if it is incorrect. \n",
    "It is up to us to make sure we understand the reasoning behind what we are doing so we can recognize when the computer gives us garbage answers.*"
   ]
  },
  {
   "cell_type": "code",
   "execution_count": null,
   "id": "b2d73e4a",
   "metadata": {},
   "outputs": [],
   "source": []
  }
 ],
 "metadata": {
  "kernelspec": {
   "display_name": "Python 3 (ipykernel)",
   "language": "python",
   "name": "python3"
  },
  "language_info": {
   "codemirror_mode": {
    "name": "ipython",
    "version": 3
   },
   "file_extension": ".py",
   "mimetype": "text/x-python",
   "name": "python",
   "nbconvert_exporter": "python",
   "pygments_lexer": "ipython3",
   "version": "3.10.10"
  },
  "vscode": {
   "interpreter": {
    "hash": "be14b4e913c6f2457a185c22af60a9db8729a2914b48dcc2c5e42fe4e4a2ce08"
   }
  }
 },
 "nbformat": 4,
 "nbformat_minor": 5
}
