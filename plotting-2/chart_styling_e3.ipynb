{
 "cells": [
  {
   "attachments": {},
   "cell_type": "markdown",
   "metadata": {},
   "source": [
    "# Plotting 2: Chart Styling with Plotly (Exercise 3)"
   ]
  },
  {
   "attachments": {},
   "cell_type": "markdown",
   "metadata": {},
   "source": [
    "## Question. &nbsp;&nbsp; How does height change with respect to age for different genders?"
   ]
  },
  {
   "attachments": {},
   "cell_type": "markdown",
   "metadata": {},
   "source": [
    "Dataset: Demographic data from Kalahari !Kung San people collected by Nancy Howell in Botswana between August 1967 and May 1969.\n",
    "\n",
    "Columns:\n",
    "- Height (cm)\n",
    "- Age (years)\n",
    "- Gender (male, female)"
   ]
  },
  {
   "attachments": {},
   "cell_type": "markdown",
   "metadata": {},
   "source": [
    "## Pre-programming Discussion"
   ]
  },
  {
   "attachments": {},
   "cell_type": "markdown",
   "metadata": {},
   "source": [
    "#!action\n",
    "\n",
    "Q1. Which columns from the dataset will be used in the plot?"
   ]
  },
  {
   "attachments": {},
   "cell_type": "markdown",
   "metadata": {},
   "source": [
    "#!response\n",
    "\n",
    "Height, Age, Gender. \n",
    "\n",
    "The column names are very similar to the terms in the question."
   ]
  },
  {
   "attachments": {},
   "cell_type": "markdown",
   "metadata": {},
   "source": [
    "#!action\n",
    "\n",
    "Q2. Which column will go on the x-axis?"
   ]
  },
  {
   "attachments": {},
   "cell_type": "markdown",
   "metadata": {},
   "source": [
    "#!response\n",
    "\n",
    "Age. \n",
    "\n",
    "y changes as a function of x. Wording of question implies volume changes as a function of height. Therefore, Volume is y and Height is x."
   ]
  },
  {
   "attachments": {},
   "cell_type": "markdown",
   "metadata": {},
   "source": [
    "#!action\n",
    "\n",
    "Q3. Which column will go on the y-axis?"
   ]
  },
  {
   "attachments": {},
   "cell_type": "markdown",
   "metadata": {},
   "source": [
    "#!response\n",
    "\n",
    "Height. \n",
    "\n",
    "See previous question explanation."
   ]
  },
  {
   "attachments": {},
   "cell_type": "markdown",
   "metadata": {},
   "source": [
    "#!action\n",
    "\n",
    "Q4. Which column will be used for coloring the points?"
   ]
  },
  {
   "attachments": {},
   "cell_type": "markdown",
   "metadata": {},
   "source": [
    "#!response\n",
    "\n",
    "Gender. \n",
    "\n",
    "See previous question explanation."
   ]
  },
  {
   "attachments": {},
   "cell_type": "markdown",
   "metadata": {},
   "source": [
    "## Programming Activity: Creating a Scatterplot of Sepal Length vs Sepal Width with Styling Options"
   ]
  },
  {
   "attachments": {},
   "cell_type": "markdown",
   "metadata": {},
   "source": [
    "### Step 1. &nbsp;&nbsp;&nbsp; Read CSV Data into Pandas Dataframe"
   ]
  },
  {
   "attachments": {},
   "cell_type": "markdown",
   "metadata": {},
   "source": [
    "#### Substep. &nbsp;&nbsp; Import Pandas Library (if Needed)"
   ]
  },
  {
   "attachments": {},
   "cell_type": "markdown",
   "metadata": {},
   "source": [
    "#!blhint\n",
    "\n",
    "- Create variable &nbsp;`pd`\n",
    "- `import pandas as pd`"
   ]
  },
  {
   "attachments": {},
   "cell_type": "markdown",
   "metadata": {},
   "source": [
    "<details><summary>Blockly Hints</summary><ul><li>Blocks<ul><li><code>import .. as ..</code><ul><li>The <code>import .. as ..</code> block is found under IMPORT.</li> <li>A variable must have been created before it will appear in the dropdown.</li></ul></li></ul></li></ul></details>"
   ]
  },
  {
   "cell_type": "code",
   "execution_count": 1,
   "metadata": {},
   "outputs": [],
   "source": [
    "#!response\n",
    "\n",
    "import pandas as pd"
   ]
  },
  {
   "attachments": {},
   "cell_type": "markdown",
   "metadata": {},
   "source": [
    "#### Substep. &nbsp;&nbsp; Read CSV data and Save in Variable"
   ]
  },
  {
   "attachments": {},
   "cell_type": "markdown",
   "metadata": {},
   "source": [
    "#!blhint\n",
    "\n",
    "- Create variable &nbsp;`df`\n",
    "- `set df to` &nbsp;:&nbsp; `with pd do read_csv using` &nbsp;:&nbsp; `\" datasets/age_height.csv \"`"
   ]
  },
  {
   "attachments": {},
   "cell_type": "markdown",
   "metadata": {},
   "source": [
    "<details><summary>Blockly Hints</summary><ul><li>Notation<ul><li><code>A</code> &nbsp;:&nbsp; <code>B</code>&nbsp; means snap blocks A and B together.</li></ul></li><li>Blocks<ul><li><code>set .. to</code><ul><li>The <code>set .. to</code> block is found under VARIABLES.</li> <li>A variable must have been created before it will appear in the dropdown.</li></ul></li><li><code>with .. do .. using ..</code><ul><li>The <code>with .. do .. using ..</code> block is found under VARIABLES.</li> <li>If <code>do</code> dropdown says \"!Not populated until you execute code\", click anywhere in the notebook tab, then click try \"Run All Above Selected Cell\" from the \"Run\" menu.</li> <li>If <code>with .. do .. using ..</code> block does not want to snap together nicely with the <code>set .. to</code> block, try dragging the <code>set .. to</code> block instead.</li> <li>You can use the <code>+ -</code> controls on the block to change the number of notches. Unless specifically instructed, the block should not have any empty notches when you click Blocks to Code. </li></ul></li><li><code>\" .. \"</code><ul><li>The <code>\" .. \"</code> block is found under TEXT.</li></ul></li></ul></li></ul></details>"
   ]
  },
  {
   "cell_type": "code",
   "execution_count": 2,
   "metadata": {},
   "outputs": [],
   "source": [
    "#!response\n",
    "\n",
    "df = pd.read_csv('datasets/age_height.csv')"
   ]
  },
  {
   "attachments": {},
   "cell_type": "markdown",
   "metadata": {},
   "source": [
    "#### Substep. &nbsp;&nbsp; Display Dataframe Contents"
   ]
  },
  {
   "attachments": {},
   "cell_type": "markdown",
   "metadata": {},
   "source": [
    "#!blhint\n",
    "\n",
    "- variable &nbsp;`df`"
   ]
  },
  {
   "attachments": {},
   "cell_type": "markdown",
   "metadata": {},
   "source": [
    "<details><summary>Blockly Hints</summary><ul><li>Blocks<ul><li>variable<ul><li>After it is created, each variable has its own block at the end of the VARIABLES menu.</li></ul></li></ul></li></ul></details>"
   ]
  },
  {
   "cell_type": "code",
   "execution_count": 3,
   "metadata": {},
   "outputs": [
    {
     "data": {
      "text/html": [
       "<div>\n",
       "<style scoped>\n",
       "    .dataframe tbody tr th:only-of-type {\n",
       "        vertical-align: middle;\n",
       "    }\n",
       "\n",
       "    .dataframe tbody tr th {\n",
       "        vertical-align: top;\n",
       "    }\n",
       "\n",
       "    .dataframe thead th {\n",
       "        text-align: right;\n",
       "    }\n",
       "</style>\n",
       "<table border=\"1\" class=\"dataframe\">\n",
       "  <thead>\n",
       "    <tr style=\"text-align: right;\">\n",
       "      <th></th>\n",
       "      <th>Height</th>\n",
       "      <th>Age</th>\n",
       "      <th>Gender</th>\n",
       "    </tr>\n",
       "  </thead>\n",
       "  <tbody>\n",
       "    <tr>\n",
       "      <th>0</th>\n",
       "      <td>151.765</td>\n",
       "      <td>63.0</td>\n",
       "      <td>male</td>\n",
       "    </tr>\n",
       "    <tr>\n",
       "      <th>1</th>\n",
       "      <td>139.700</td>\n",
       "      <td>63.0</td>\n",
       "      <td>female</td>\n",
       "    </tr>\n",
       "    <tr>\n",
       "      <th>2</th>\n",
       "      <td>136.525</td>\n",
       "      <td>65.0</td>\n",
       "      <td>female</td>\n",
       "    </tr>\n",
       "    <tr>\n",
       "      <th>3</th>\n",
       "      <td>156.845</td>\n",
       "      <td>41.0</td>\n",
       "      <td>male</td>\n",
       "    </tr>\n",
       "    <tr>\n",
       "      <th>4</th>\n",
       "      <td>145.415</td>\n",
       "      <td>51.0</td>\n",
       "      <td>female</td>\n",
       "    </tr>\n",
       "    <tr>\n",
       "      <th>...</th>\n",
       "      <td>...</td>\n",
       "      <td>...</td>\n",
       "      <td>...</td>\n",
       "    </tr>\n",
       "    <tr>\n",
       "      <th>539</th>\n",
       "      <td>145.415</td>\n",
       "      <td>17.0</td>\n",
       "      <td>male</td>\n",
       "    </tr>\n",
       "    <tr>\n",
       "      <th>540</th>\n",
       "      <td>162.560</td>\n",
       "      <td>31.0</td>\n",
       "      <td>male</td>\n",
       "    </tr>\n",
       "    <tr>\n",
       "      <th>541</th>\n",
       "      <td>156.210</td>\n",
       "      <td>21.0</td>\n",
       "      <td>female</td>\n",
       "    </tr>\n",
       "    <tr>\n",
       "      <th>542</th>\n",
       "      <td>71.120</td>\n",
       "      <td>0.0</td>\n",
       "      <td>male</td>\n",
       "    </tr>\n",
       "    <tr>\n",
       "      <th>543</th>\n",
       "      <td>158.750</td>\n",
       "      <td>68.0</td>\n",
       "      <td>male</td>\n",
       "    </tr>\n",
       "  </tbody>\n",
       "</table>\n",
       "<p>544 rows × 3 columns</p>\n",
       "</div>"
      ],
      "text/plain": [
       "      Height   Age  Gender\n",
       "0    151.765  63.0    male\n",
       "1    139.700  63.0  female\n",
       "2    136.525  65.0  female\n",
       "3    156.845  41.0    male\n",
       "4    145.415  51.0  female\n",
       "..       ...   ...     ...\n",
       "539  145.415  17.0    male\n",
       "540  162.560  31.0    male\n",
       "541  156.210  21.0  female\n",
       "542   71.120   0.0    male\n",
       "543  158.750  68.0    male\n",
       "\n",
       "[544 rows x 3 columns]"
      ]
     },
     "execution_count": 3,
     "metadata": {},
     "output_type": "execute_result"
    }
   ],
   "source": [
    "#!response\n",
    "\n",
    "df"
   ]
  },
  {
   "attachments": {},
   "cell_type": "markdown",
   "metadata": {},
   "source": [
    "### Step 2. &nbsp;&nbsp;&nbsp; Generate Plotly Scatterplot"
   ]
  },
  {
   "attachments": {},
   "cell_type": "markdown",
   "metadata": {},
   "source": [
    "#### Substep. &nbsp;&nbsp; Import Plotly Express Library\n"
   ]
  },
  {
   "attachments": {},
   "cell_type": "markdown",
   "metadata": {},
   "source": [
    "#!blhint\n",
    "\n",
    "- Create variable &nbsp;`px`\n",
    "- `import plotly.express as px`"
   ]
  },
  {
   "attachments": {},
   "cell_type": "markdown",
   "metadata": {},
   "source": [
    "<details><summary>Blockly Hints</summary><ul><li>Blocks<ul><li><code>import .. as ..</code><ul><li>The <code>import .. as ..</code> block is found under IMPORT.</li> <li>A variable must have been created before it will appear in the dropdown.</li></ul></li></ul></li></ul></details>"
   ]
  },
  {
   "cell_type": "code",
   "execution_count": 4,
   "metadata": {},
   "outputs": [],
   "source": [
    "#!response\n",
    "\n",
    "import plotly.express as px"
   ]
  },
  {
   "attachments": {},
   "cell_type": "markdown",
   "metadata": {},
   "source": [
    "#### Substep. &nbsp;&nbsp; Set Columns as x and y\n"
   ]
  },
  {
   "attachments": {},
   "cell_type": "markdown",
   "metadata": {},
   "source": [
    "#!blhint\n",
    "\n",
    "- Create variable &nbsp;`x`\n",
    "- `set x to` &nbsp;:&nbsp; `\" Age \"`\n",
    "- Create variable &nbsp;`y`\n",
    "- `set y to` &nbsp;:&nbsp; `\" Height \"`"
   ]
  },
  {
   "attachments": {},
   "cell_type": "markdown",
   "metadata": {},
   "source": [
    "<details><summary>Blockly Hints</summary><ul><li>Notation<ul><li><code>A</code> &nbsp;:&nbsp; <code>B</code>&nbsp; means snap blocks A and B together.</li></ul></li><li>Blocks<ul><li><code>set .. to</code><ul><li>The <code>set .. to</code> block is found under VARIABLES.</li> <li>A variable must have been created before it will appear in the dropdown.</li></ul></li><li><code>\" .. \"</code><ul><li>The <code>\" .. \"</code> block is found under TEXT.</li></ul></li></ul></li></ul></details>"
   ]
  },
  {
   "cell_type": "code",
   "execution_count": 5,
   "metadata": {},
   "outputs": [],
   "source": [
    "#!response\n",
    "\n",
    "x = 'Age'\n",
    "y = 'Height'"
   ]
  },
  {
   "attachments": {},
   "cell_type": "markdown",
   "metadata": {},
   "source": [
    "#### Substep. &nbsp;&nbsp; Set Additional Plot Options"
   ]
  },
  {
   "attachments": {},
   "cell_type": "markdown",
   "metadata": {},
   "source": [
    "#!action\n",
    "\n",
    "Set column to determine color of each point."
   ]
  },
  {
   "attachments": {},
   "cell_type": "markdown",
   "metadata": {},
   "source": [
    "#!blhint\n",
    "\n",
    "- Create variable &nbsp;`color`\n",
    "- `set color to` &nbsp;:&nbsp; `\" Gender \"`"
   ]
  },
  {
   "attachments": {},
   "cell_type": "markdown",
   "metadata": {},
   "source": [
    "<details><summary>Blockly Hints</summary><ul><li>Notation<ul><li><code>A</code> &nbsp;:&nbsp; <code>B</code>&nbsp; means snap blocks A and B together.</li></ul></li><li>Blocks<ul><li><code>set .. to</code><ul><li>The <code>set .. to</code> block is found under VARIABLES.</li> <li>A variable must have been created before it will appear in the dropdown.</li></ul></li><li><code>\" .. \"</code><ul><li>The <code>\" .. \"</code> block is found under TEXT.</li></ul></li></ul></li></ul></details>"
   ]
  },
  {
   "cell_type": "code",
   "execution_count": 6,
   "metadata": {},
   "outputs": [],
   "source": [
    "#!response\n",
    "\n",
    "color = 'Gender'"
   ]
  },
  {
   "attachments": {},
   "cell_type": "markdown",
   "metadata": {},
   "source": [
    "#!action\n",
    "\n",
    "Change the \"Height\" label to be \"Height (cm)\" (without quotes)."
   ]
  },
  {
   "attachments": {},
   "cell_type": "markdown",
   "metadata": {},
   "source": [
    "#!blhint\n",
    "\n",
    "- Create variable &nbsp;`labels`\n",
    "- `set labels to` &nbsp;:&nbsp; `dict ..` &nbsp;<-\n",
    "  - `create list with` &nbsp;:\n",
    "      - `( .. , .. )` &nbsp;<-\n",
    "        - `\" Height \"`\n",
    "        - `\" Height (cm) \"`"
   ]
  },
  {
   "attachments": {},
   "cell_type": "markdown",
   "metadata": {},
   "source": [
    "<details><summary>Blockly Hints</summary><ul><li>Notation<ul><li><code>A</code> &nbsp;:&nbsp; <code>B</code>&nbsp; means snap blocks A and B together.</li><li><code>A</code> &nbsp;&lt;-&nbsp; <code>B</code>&nbsp; means insert block B into the hole in block A.</li></ul></li><li>Blocks<ul><li><code>set .. to</code><ul><li>The <code>set .. to</code> block is found under VARIABLES.</li> <li>A variable must have been created before it will appear in the dropdown.</li></ul></li><li><code>dict ..</code><ul><li>The <code>dict ..</code> block is found under LISTS.</li></ul></li><li><code>create list with</code><ul><li>The <code>create list with</code> block is found under LISTS.</li> <li>You can use the <code>+ -</code> controls on the block to change the number of notches. Unless specifically instructed, the block should not have any empty notches when you click Blocks to Code. </li></ul></li><li><code>( .. , .. )</code><ul><li>The <code>( .. , .. )</code> block is found under LISTS.</li></ul></li><li><code>\" .. \"</code><ul><li>The <code>\" .. \"</code> block is found under TEXT.</li></ul></li></ul></li></ul></details>"
   ]
  },
  {
   "cell_type": "code",
   "execution_count": 7,
   "metadata": {},
   "outputs": [],
   "source": [
    "#!response\n",
    "\n",
    "labels = {\n",
    "  \"Height\": \"Height (cm)\"\n",
    "}"
   ]
  },
  {
   "attachments": {},
   "cell_type": "markdown",
   "metadata": {},
   "source": [
    "#!action\n",
    "\n",
    "Set the title of the plot to \"Height vs Age for Different Genders\" (without quotes)."
   ]
  },
  {
   "attachments": {},
   "cell_type": "markdown",
   "metadata": {},
   "source": [
    "#!blhint\n",
    "\n",
    "- Create variable &nbsp;`title`\n",
    "- `set title to` &nbsp;:&nbsp; `\" Height vs Age for Different Genders \"`"
   ]
  },
  {
   "attachments": {},
   "cell_type": "markdown",
   "metadata": {},
   "source": [
    "<details><summary>Blockly Hints</summary><ul><li>Notation<ul><li><code>A</code> &nbsp;:&nbsp; <code>B</code>&nbsp; means snap blocks A and B together.</li></ul></li><li>Blocks<ul><li><code>set .. to</code><ul><li>The <code>set .. to</code> block is found under VARIABLES.</li> <li>A variable must have been created before it will appear in the dropdown.</li></ul></li><li><code>\" .. \"</code><ul><li>The <code>\" .. \"</code> block is found under TEXT.</li></ul></li></ul></li></ul></details>"
   ]
  },
  {
   "cell_type": "code",
   "execution_count": 8,
   "metadata": {},
   "outputs": [],
   "source": [
    "#!response\n",
    "\n",
    "title = 'Height vs Age for Different Genders'"
   ]
  },
  {
   "attachments": {},
   "cell_type": "markdown",
   "metadata": {},
   "source": [
    "#### Substep. &nbsp;&nbsp; Generate Scatterplot"
   ]
  },
  {
   "attachments": {},
   "cell_type": "markdown",
   "metadata": {},
   "source": [
    "#!blhint\n",
    "\n",
    "- Grab a freestyle block, type &nbsp;`x=x`\n",
    "- Grab a freestyle block, type &nbsp;`y=y`\n",
    "- Grab a freestyle block, type &nbsp;`color=color`\n",
    "- Grab a freestyle block, type &nbsp;`labels=labels`\n",
    "- Grab a freestyle block, type &nbsp;`title=title`\n",
    "- `with px do scatter using` &nbsp;:\n",
    "    - variable &nbsp;`df`\n",
    "    - `x=x`\n",
    "    - `y=y`\n",
    "    - `color=color`\n",
    "    - `labels=labels`\n",
    "    - `title=title`"
   ]
  },
  {
   "attachments": {},
   "cell_type": "markdown",
   "metadata": {},
   "source": [
    "<details><summary>Blockly Hints</summary><ul><li>Notation<ul><li><code>A</code> &nbsp;:&nbsp; <code>B</code>&nbsp; means snap blocks A and B together.</li></ul></li><li>Blocks<ul><li>freestyle<ul><li>Unless specifically instructed, use the first block from the FREESTYLE menu.</li></ul></li><li><code>with .. do .. using ..</code><ul><li>The <code>with .. do .. using ..</code> block is found under VARIABLES.</li> <li>If <code>do</code> dropdown says \"!Not populated until you execute code\", click anywhere in the notebook tab, then click try \"Run All Above Selected Cell\" from the \"Run\" menu.</li> <li>If <code>with .. do .. using ..</code> block does not want to snap together nicely with the <code>set .. to</code> block, try dragging the <code>set .. to</code> block instead.</li> <li>You can use the <code>+ -</code> controls on the block to change the number of notches. Unless specifically instructed, the block should not have any empty notches when you click Blocks to Code. </li></ul></li><li>variable<ul><li>After it is created, each variable has its own block at the end of the VARIABLES menu.</li></ul></li></ul></li></ul></details>"
   ]
  },
  {
   "cell_type": "code",
   "execution_count": 9,
   "metadata": {},
   "outputs": [
    {
     "data": {
      "application/vnd.plotly.v1+json": {
       "config": {
        "plotlyServerURL": "https://plot.ly"
       },
       "data": [
        {
         "hovertemplate": "Gender=male<br>Age=%{x}<br>Height (cm)=%{y}<extra></extra>",
         "legendgroup": "male",
         "marker": {
          "color": "#636efa",
          "symbol": "circle"
         },
         "mode": "markers",
         "name": "male",
         "orientation": "v",
         "showlegend": true,
         "type": "scatter",
         "x": [
          63,
          41,
          35,
          27,
          54,
          66,
          36,
          44,
          12,
          39,
          13,
          56,
          17,
          11,
          29,
          30,
          24,
          30,
          24,
          52,
          8,
          55,
          20,
          18,
          13,
          42,
          50,
          31,
          79.3,
          35,
          13,
          38,
          30,
          0.599999999999909,
          51,
          29,
          38,
          6,
          45,
          45,
          31,
          23,
          41,
          5,
          12,
          44,
          38,
          43,
          11,
          6,
          35,
          9,
          7.59999999999991,
          58,
          51,
          29,
          41,
          81.75,
          1,
          5,
          29,
          42,
          6,
          22,
          43,
          43,
          15,
          33,
          62,
          17,
          5,
          33,
          7,
          42,
          25,
          29,
          26,
          45,
          26,
          57,
          50,
          32,
          38.7,
          63,
          22,
          41,
          19,
          9,
          7,
          41,
          44,
          7,
          4,
          4,
          55,
          59,
          35,
          62,
          19,
          42,
          6,
          41,
          5,
          9,
          82,
          28,
          50,
          8,
          31,
          30,
          72,
          44,
          62,
          11,
          31,
          57,
          32,
          77,
          17,
          67,
          37,
          35,
          41,
          46,
          15,
          28,
          54,
          68,
          19,
          41,
          75.9000000000001,
          49,
          26,
          88,
          33,
          16,
          74,
          50,
          41,
          8.90000000000009,
          38,
          57,
          24,
          16,
          71,
          33,
          3,
          1,
          3,
          2,
          1,
          83.4000000000001,
          12,
          63,
          49,
          35,
          5,
          24,
          41,
          32,
          43,
          1,
          15,
          1,
          1,
          1,
          3,
          3,
          28,
          38,
          12,
          1,
          48,
          45,
          3,
          41,
          8,
          3,
          12,
          7,
          21,
          15,
          1,
          1,
          31,
          16,
          21,
          13,
          0,
          39,
          44,
          36,
          58,
          11,
          26,
          28,
          2,
          21,
          19,
          13,
          48,
          11,
          8,
          25,
          16,
          51,
          25,
          28,
          5,
          54,
          38,
          51,
          13,
          6,
          27,
          60,
          0,
          43,
          12,
          27,
          30,
          17,
          0,
          43,
          3,
          75.5,
          38,
          26,
          2,
          43,
          10,
          3,
          23,
          49,
          6,
          21,
          24,
          20,
          20,
          34,
          11,
          65,
          15,
          43,
          3,
          5,
          8,
          44,
          15,
          41,
          53,
          7,
          1,
          17,
          31,
          0,
          68
         ],
         "xaxis": "x",
         "y": [
          151.765,
          156.845,
          163.83,
          168.91,
          165.1,
          151.13,
          163.195,
          157.48,
          121.92,
          161.29,
          129.54,
          146.4,
          137.16,
          114.3,
          147.955,
          161.925,
          160.655,
          151.765,
          162.8648,
          171.45,
          121.92,
          154.305,
          146.7,
          157.48,
          127,
          165.735,
          164.465,
          161.29,
          152.4,
          163.83,
          129.54,
          153.67,
          167.005,
          91.44,
          165.735,
          160.9598,
          161.925,
          113.665,
          159.385,
          158.115,
          156.845,
          179.07,
          170.18,
          113.03,
          133.985,
          160.02,
          167.005,
          159.385,
          111.125,
          111.76,
          162.56,
          111.76,
          86.36,
          170.18,
          159.385,
          160.655,
          169.545,
          158.75,
          74.295,
          96.52,
          161.925,
          162.56,
          100.076,
          163.195,
          161.925,
          163.195,
          141.605,
          170.815,
          157.48,
          149.225,
          113.665,
          157.48,
          115.6,
          167.005,
          160,
          159.385,
          160.655,
          160.655,
          154.94,
          160.02,
          167.005,
          159.385,
          161.925,
          159.385,
          172.72,
          166.37,
          141.605,
          127.635,
          119.38,
          156.845,
          160.655,
          114.3,
          100.965,
          91.44,
          162.56,
          158.75,
          158.115,
          148.59,
          157.48,
          157.48,
          107.95,
          168.275,
          100.965,
          113.03,
          149.225,
          154.94,
          162.56,
          123.19,
          161.0106,
          165.735,
          157.48,
          163.83,
          162.56,
          120.65,
          154.94,
          163.83,
          165.735,
          152.4,
          158.115,
          163.195,
          171.1198,
          163.83,
          161.29,
          162.56,
          145.415,
          170.815,
          159.4,
          160.02,
          162.56,
          164.465,
          160.02,
          167.005,
          151.13,
          153.035,
          152.4,
          143.51,
          155.575,
          155.575,
          168.91,
          111.76,
          160.02,
          167.64,
          160.02,
          147.32,
          164.465,
          149.225,
          85.09,
          84.455,
          92.71,
          81.915,
          80.01,
          151.765,
          140.6398,
          158.115,
          151.765,
          161.29,
          93.345,
          160.655,
          157.48,
          167.005,
          157.48,
          60.452,
          137.16,
          81.28,
          71.12,
          85.09,
          88.9,
          90.17,
          159.385,
          168.91,
          123.19,
          74.93,
          160.02,
          158.115,
          85.09,
          156.845,
          114.3,
          83.82,
          137.16,
          114.3,
          168.275,
          139.7,
          76.2,
          66.04,
          160.7,
          146.05,
          161.29,
          133.985,
          67.945,
          163.195,
          148.59,
          161.925,
          163.83,
          132.08,
          156.21,
          158.75,
          84.455,
          151.9428,
          161.29,
          127.9906,
          160.9852,
          132.08,
          117.983,
          160.02,
          154.94,
          160.9852,
          165.989,
          157.988,
          97.9932,
          160.655,
          172.9994,
          158.115,
          124.9934,
          106.045,
          165.989,
          161.925,
          62.865,
          163.83,
          147.955,
          160.02,
          154.94,
          157.48,
          60.96,
          160.655,
          92.71,
          153.67,
          139.7,
          154.94,
          83.185,
          158.115,
          123.825,
          88.9,
          160.02,
          165.1,
          111.125,
          163.83,
          161.29,
          154.9,
          161.3,
          170.18,
          123.825,
          160.655,
          126.365,
          166.37,
          89.535,
          100.965,
          121.92,
          154.94,
          132.715,
          160.655,
          156.21,
          114.935,
          76.835,
          145.415,
          162.56,
          71.12,
          158.75
         ],
         "yaxis": "y"
        },
        {
         "hovertemplate": "Gender=female<br>Age=%{x}<br>Height (cm)=%{y}<extra></extra>",
         "legendgroup": "female",
         "marker": {
          "color": "#EF553B",
          "symbol": "circle"
         },
         "mode": "markers",
         "name": "female",
         "orientation": "v",
         "showlegend": true,
         "type": "scatter",
         "x": [
          63,
          65,
          51,
          32,
          19,
          47,
          73,
          20,
          65.3,
          31,
          8,
          6.5,
          29,
          7,
          45,
          19,
          16,
          24,
          35,
          33,
          27,
          32,
          36,
          42,
          19,
          17,
          12,
          5,
          43,
          9,
          5,
          44,
          60,
          20,
          37,
          50,
          25,
          23,
          52,
          27,
          14,
          39,
          12,
          24,
          46,
          17,
          12,
          22,
          30,
          47,
          79,
          54,
          9,
          23,
          36,
          30,
          34,
          43,
          73.3,
          33,
          16,
          29,
          12,
          53,
          48,
          35,
          46,
          27,
          8,
          53,
          41,
          50,
          3,
          49,
          12,
          22,
          29,
          8,
          34,
          12,
          40,
          27,
          3,
          45,
          45,
          11,
          85.5999999999999,
          24,
          22,
          24,
          6,
          4,
          21,
          79,
          40,
          64,
          26,
          62,
          17,
          14,
          74,
          33,
          53,
          18,
          37,
          6,
          61,
          35,
          23,
          53,
          57,
          29,
          18,
          51,
          14,
          25,
          37,
          16,
          43,
          67,
          39,
          18,
          11,
          48,
          64,
          68,
          43,
          16,
          13,
          34,
          10,
          44,
          29,
          8,
          62,
          67,
          24,
          62,
          70,
          58,
          30,
          5,
          26,
          5,
          21,
          49,
          12,
          83,
          54,
          68,
          56,
          15,
          57,
          22,
          40,
          73.9000000000001,
          17,
          13,
          8,
          68,
          26,
          56,
          13,
          34,
          5,
          17,
          69,
          44,
          15,
          5,
          18,
          27,
          64.5,
          42,
          49.5,
          28,
          47,
          1,
          6,
          5,
          27,
          5,
          1,
          2,
          55,
          2,
          52,
          31,
          9,
          6,
          35,
          7,
          6,
          63,
          21,
          2,
          3,
          1,
          1,
          55,
          38,
          1,
          1,
          16,
          36,
          1,
          3,
          1,
          15,
          3,
          38,
          21,
          50,
          13,
          30,
          4,
          38,
          19,
          8,
          0,
          50,
          36,
          18,
          0,
          58,
          33,
          21.5,
          22,
          42,
          46,
          26,
          1,
          66,
          20,
          25,
          48,
          22,
          1,
          15,
          0,
          29,
          0,
          23,
          30,
          0,
          41,
          42,
          7,
          3,
          35,
          10,
          64,
          24.2,
          4,
          19,
          38,
          16,
          41,
          23,
          14,
          43,
          15,
          29,
          3,
          46,
          8,
          39,
          12,
          4,
          43,
          70,
          26,
          0,
          48,
          0,
          3,
          33,
          12,
          5,
          37.4,
          13,
          6,
          49,
          27,
          1,
          31,
          21
         ],
         "xaxis": "x",
         "y": [
          139.7,
          136.525,
          145.415,
          149.225,
          147.955,
          154.305,
          144.78,
          149.9,
          150.495,
          143.9418,
          105.41,
          86.36,
          156.21,
          109.22,
          148.59,
          147.32,
          125.73,
          146.05,
          146.05,
          152.7048,
          142.875,
          142.875,
          147.955,
          147.32,
          147.955,
          144.78,
          128.905,
          97.79,
          143.51,
          110.49,
          97.79,
          152.4,
          141.605,
          158.8,
          155.575,
          151.765,
          154.305,
          145.415,
          145.415,
          144.145,
          129.54,
          142.875,
          146.05,
          158.4198,
          149.86,
          147.955,
          137.795,
          154.94,
          147.955,
          148.59,
          136.525,
          144.78,
          118.745,
          146.05,
          147.32,
          162.56,
          152.4,
          149.86,
          142.875,
          154.94,
          148.59,
          152.4,
          124.46,
          146.05,
          151.13,
          149.86,
          153.035,
          149.225,
          116.84,
          145.415,
          151.13,
          150.495,
          91.44,
          152.4,
          129.54,
          147.32,
          145.415,
          121.92,
          154.305,
          120.65,
          142.875,
          152.4,
          96.52,
          149.86,
          149.225,
          125.095,
          140.97,
          141.605,
          150.1648,
          155.575,
          103.505,
          94.615,
          156.21,
          153.035,
          149.86,
          147.955,
          155.575,
          146.685,
          142.875,
          133.35,
          151.765,
          148.59,
          157.48,
          149.86,
          147.955,
          102.235,
          153.035,
          149.225,
          138.43,
          149.225,
          149.86,
          156.21,
          143.51,
          154.305,
          131.445,
          154.305,
          145.415,
          147.955,
          156.845,
          144.78,
          143.51,
          149.225,
          110.49,
          149.86,
          144.145,
          154.305,
          156.21,
          153.67,
          134.62,
          144.145,
          114.3,
          146.05,
          144.78,
          106.68,
          146.685,
          152.4,
          156.21,
          140.335,
          151.13,
          149.86,
          141.605,
          93.98,
          149.225,
          105.41,
          146.05,
          145.415,
          127,
          159.385,
          153.67,
          150.495,
          149.225,
          127,
          142.875,
          142.113,
          147.32,
          153.67,
          147.955,
          125.3998,
          111.125,
          139.065,
          154.94,
          147.955,
          117.983,
          144.145,
          92.71,
          147.955,
          150.495,
          154.305,
          130.6068,
          101.6,
          157.48,
          150.495,
          144.145,
          145.415,
          153.035,
          160.02,
          149.225,
          59.6138,
          111.125,
          90.805,
          153.67,
          99.695,
          62.484,
          96.52,
          150.495,
          88.265,
          149.225,
          154.94,
          123.825,
          104.14,
          148.59,
          97.155,
          91.44,
          152.4,
          152.4,
          109.22,
          89.2048,
          67.31,
          69.85,
          161.925,
          152.4,
          71.755,
          83.82,
          142.24,
          142.24,
          74.295,
          90.805,
          67.945,
          135.89,
          93.345,
          152.4,
          155.575,
          154.305,
          120.015,
          156.21,
          93.98,
          147.955,
          157.48,
          114.3,
          69.85,
          150.495,
          148.59,
          153.67,
          68.58,
          151.13,
          153.035,
          151.765,
          140.335,
          142.875,
          144.78,
          154.94,
          64.135,
          147.32,
          146.7,
          147.32,
          147.32,
          149.86,
          76.2,
          140.0048,
          66.675,
          152.4,
          62.23,
          146.05,
          151.9936,
          55.88,
          151.765,
          144.78,
          118.11,
          78.105,
          151.13,
          121.92,
          147.32,
          157.48,
          91.44,
          143.51,
          147.32,
          137.16,
          154.94,
          153.67,
          145.415,
          141.605,
          144.78,
          149.86,
          85.09,
          154.94,
          106.045,
          148.2852,
          124.46,
          101.6,
          151.765,
          148.59,
          153.67,
          53.975,
          146.685,
          56.515,
          81.5848,
          156.21,
          125.095,
          101.6,
          146.05,
          132.715,
          87.63,
          152.4,
          162.56,
          67.945,
          142.875,
          156.21
         ],
         "yaxis": "y"
        }
       ],
       "layout": {
        "legend": {
         "title": {
          "text": "Gender"
         },
         "tracegroupgap": 0
        },
        "template": {
         "data": {
          "bar": [
           {
            "error_x": {
             "color": "#2a3f5f"
            },
            "error_y": {
             "color": "#2a3f5f"
            },
            "marker": {
             "line": {
              "color": "#E5ECF6",
              "width": 0.5
             },
             "pattern": {
              "fillmode": "overlay",
              "size": 10,
              "solidity": 0.2
             }
            },
            "type": "bar"
           }
          ],
          "barpolar": [
           {
            "marker": {
             "line": {
              "color": "#E5ECF6",
              "width": 0.5
             },
             "pattern": {
              "fillmode": "overlay",
              "size": 10,
              "solidity": 0.2
             }
            },
            "type": "barpolar"
           }
          ],
          "carpet": [
           {
            "aaxis": {
             "endlinecolor": "#2a3f5f",
             "gridcolor": "white",
             "linecolor": "white",
             "minorgridcolor": "white",
             "startlinecolor": "#2a3f5f"
            },
            "baxis": {
             "endlinecolor": "#2a3f5f",
             "gridcolor": "white",
             "linecolor": "white",
             "minorgridcolor": "white",
             "startlinecolor": "#2a3f5f"
            },
            "type": "carpet"
           }
          ],
          "choropleth": [
           {
            "colorbar": {
             "outlinewidth": 0,
             "ticks": ""
            },
            "type": "choropleth"
           }
          ],
          "contour": [
           {
            "colorbar": {
             "outlinewidth": 0,
             "ticks": ""
            },
            "colorscale": [
             [
              0,
              "#0d0887"
             ],
             [
              0.1111111111111111,
              "#46039f"
             ],
             [
              0.2222222222222222,
              "#7201a8"
             ],
             [
              0.3333333333333333,
              "#9c179e"
             ],
             [
              0.4444444444444444,
              "#bd3786"
             ],
             [
              0.5555555555555556,
              "#d8576b"
             ],
             [
              0.6666666666666666,
              "#ed7953"
             ],
             [
              0.7777777777777778,
              "#fb9f3a"
             ],
             [
              0.8888888888888888,
              "#fdca26"
             ],
             [
              1,
              "#f0f921"
             ]
            ],
            "type": "contour"
           }
          ],
          "contourcarpet": [
           {
            "colorbar": {
             "outlinewidth": 0,
             "ticks": ""
            },
            "type": "contourcarpet"
           }
          ],
          "heatmap": [
           {
            "colorbar": {
             "outlinewidth": 0,
             "ticks": ""
            },
            "colorscale": [
             [
              0,
              "#0d0887"
             ],
             [
              0.1111111111111111,
              "#46039f"
             ],
             [
              0.2222222222222222,
              "#7201a8"
             ],
             [
              0.3333333333333333,
              "#9c179e"
             ],
             [
              0.4444444444444444,
              "#bd3786"
             ],
             [
              0.5555555555555556,
              "#d8576b"
             ],
             [
              0.6666666666666666,
              "#ed7953"
             ],
             [
              0.7777777777777778,
              "#fb9f3a"
             ],
             [
              0.8888888888888888,
              "#fdca26"
             ],
             [
              1,
              "#f0f921"
             ]
            ],
            "type": "heatmap"
           }
          ],
          "heatmapgl": [
           {
            "colorbar": {
             "outlinewidth": 0,
             "ticks": ""
            },
            "colorscale": [
             [
              0,
              "#0d0887"
             ],
             [
              0.1111111111111111,
              "#46039f"
             ],
             [
              0.2222222222222222,
              "#7201a8"
             ],
             [
              0.3333333333333333,
              "#9c179e"
             ],
             [
              0.4444444444444444,
              "#bd3786"
             ],
             [
              0.5555555555555556,
              "#d8576b"
             ],
             [
              0.6666666666666666,
              "#ed7953"
             ],
             [
              0.7777777777777778,
              "#fb9f3a"
             ],
             [
              0.8888888888888888,
              "#fdca26"
             ],
             [
              1,
              "#f0f921"
             ]
            ],
            "type": "heatmapgl"
           }
          ],
          "histogram": [
           {
            "marker": {
             "pattern": {
              "fillmode": "overlay",
              "size": 10,
              "solidity": 0.2
             }
            },
            "type": "histogram"
           }
          ],
          "histogram2d": [
           {
            "colorbar": {
             "outlinewidth": 0,
             "ticks": ""
            },
            "colorscale": [
             [
              0,
              "#0d0887"
             ],
             [
              0.1111111111111111,
              "#46039f"
             ],
             [
              0.2222222222222222,
              "#7201a8"
             ],
             [
              0.3333333333333333,
              "#9c179e"
             ],
             [
              0.4444444444444444,
              "#bd3786"
             ],
             [
              0.5555555555555556,
              "#d8576b"
             ],
             [
              0.6666666666666666,
              "#ed7953"
             ],
             [
              0.7777777777777778,
              "#fb9f3a"
             ],
             [
              0.8888888888888888,
              "#fdca26"
             ],
             [
              1,
              "#f0f921"
             ]
            ],
            "type": "histogram2d"
           }
          ],
          "histogram2dcontour": [
           {
            "colorbar": {
             "outlinewidth": 0,
             "ticks": ""
            },
            "colorscale": [
             [
              0,
              "#0d0887"
             ],
             [
              0.1111111111111111,
              "#46039f"
             ],
             [
              0.2222222222222222,
              "#7201a8"
             ],
             [
              0.3333333333333333,
              "#9c179e"
             ],
             [
              0.4444444444444444,
              "#bd3786"
             ],
             [
              0.5555555555555556,
              "#d8576b"
             ],
             [
              0.6666666666666666,
              "#ed7953"
             ],
             [
              0.7777777777777778,
              "#fb9f3a"
             ],
             [
              0.8888888888888888,
              "#fdca26"
             ],
             [
              1,
              "#f0f921"
             ]
            ],
            "type": "histogram2dcontour"
           }
          ],
          "mesh3d": [
           {
            "colorbar": {
             "outlinewidth": 0,
             "ticks": ""
            },
            "type": "mesh3d"
           }
          ],
          "parcoords": [
           {
            "line": {
             "colorbar": {
              "outlinewidth": 0,
              "ticks": ""
             }
            },
            "type": "parcoords"
           }
          ],
          "pie": [
           {
            "automargin": true,
            "type": "pie"
           }
          ],
          "scatter": [
           {
            "fillpattern": {
             "fillmode": "overlay",
             "size": 10,
             "solidity": 0.2
            },
            "type": "scatter"
           }
          ],
          "scatter3d": [
           {
            "line": {
             "colorbar": {
              "outlinewidth": 0,
              "ticks": ""
             }
            },
            "marker": {
             "colorbar": {
              "outlinewidth": 0,
              "ticks": ""
             }
            },
            "type": "scatter3d"
           }
          ],
          "scattercarpet": [
           {
            "marker": {
             "colorbar": {
              "outlinewidth": 0,
              "ticks": ""
             }
            },
            "type": "scattercarpet"
           }
          ],
          "scattergeo": [
           {
            "marker": {
             "colorbar": {
              "outlinewidth": 0,
              "ticks": ""
             }
            },
            "type": "scattergeo"
           }
          ],
          "scattergl": [
           {
            "marker": {
             "colorbar": {
              "outlinewidth": 0,
              "ticks": ""
             }
            },
            "type": "scattergl"
           }
          ],
          "scattermapbox": [
           {
            "marker": {
             "colorbar": {
              "outlinewidth": 0,
              "ticks": ""
             }
            },
            "type": "scattermapbox"
           }
          ],
          "scatterpolar": [
           {
            "marker": {
             "colorbar": {
              "outlinewidth": 0,
              "ticks": ""
             }
            },
            "type": "scatterpolar"
           }
          ],
          "scatterpolargl": [
           {
            "marker": {
             "colorbar": {
              "outlinewidth": 0,
              "ticks": ""
             }
            },
            "type": "scatterpolargl"
           }
          ],
          "scatterternary": [
           {
            "marker": {
             "colorbar": {
              "outlinewidth": 0,
              "ticks": ""
             }
            },
            "type": "scatterternary"
           }
          ],
          "surface": [
           {
            "colorbar": {
             "outlinewidth": 0,
             "ticks": ""
            },
            "colorscale": [
             [
              0,
              "#0d0887"
             ],
             [
              0.1111111111111111,
              "#46039f"
             ],
             [
              0.2222222222222222,
              "#7201a8"
             ],
             [
              0.3333333333333333,
              "#9c179e"
             ],
             [
              0.4444444444444444,
              "#bd3786"
             ],
             [
              0.5555555555555556,
              "#d8576b"
             ],
             [
              0.6666666666666666,
              "#ed7953"
             ],
             [
              0.7777777777777778,
              "#fb9f3a"
             ],
             [
              0.8888888888888888,
              "#fdca26"
             ],
             [
              1,
              "#f0f921"
             ]
            ],
            "type": "surface"
           }
          ],
          "table": [
           {
            "cells": {
             "fill": {
              "color": "#EBF0F8"
             },
             "line": {
              "color": "white"
             }
            },
            "header": {
             "fill": {
              "color": "#C8D4E3"
             },
             "line": {
              "color": "white"
             }
            },
            "type": "table"
           }
          ]
         },
         "layout": {
          "annotationdefaults": {
           "arrowcolor": "#2a3f5f",
           "arrowhead": 0,
           "arrowwidth": 1
          },
          "autotypenumbers": "strict",
          "coloraxis": {
           "colorbar": {
            "outlinewidth": 0,
            "ticks": ""
           }
          },
          "colorscale": {
           "diverging": [
            [
             0,
             "#8e0152"
            ],
            [
             0.1,
             "#c51b7d"
            ],
            [
             0.2,
             "#de77ae"
            ],
            [
             0.3,
             "#f1b6da"
            ],
            [
             0.4,
             "#fde0ef"
            ],
            [
             0.5,
             "#f7f7f7"
            ],
            [
             0.6,
             "#e6f5d0"
            ],
            [
             0.7,
             "#b8e186"
            ],
            [
             0.8,
             "#7fbc41"
            ],
            [
             0.9,
             "#4d9221"
            ],
            [
             1,
             "#276419"
            ]
           ],
           "sequential": [
            [
             0,
             "#0d0887"
            ],
            [
             0.1111111111111111,
             "#46039f"
            ],
            [
             0.2222222222222222,
             "#7201a8"
            ],
            [
             0.3333333333333333,
             "#9c179e"
            ],
            [
             0.4444444444444444,
             "#bd3786"
            ],
            [
             0.5555555555555556,
             "#d8576b"
            ],
            [
             0.6666666666666666,
             "#ed7953"
            ],
            [
             0.7777777777777778,
             "#fb9f3a"
            ],
            [
             0.8888888888888888,
             "#fdca26"
            ],
            [
             1,
             "#f0f921"
            ]
           ],
           "sequentialminus": [
            [
             0,
             "#0d0887"
            ],
            [
             0.1111111111111111,
             "#46039f"
            ],
            [
             0.2222222222222222,
             "#7201a8"
            ],
            [
             0.3333333333333333,
             "#9c179e"
            ],
            [
             0.4444444444444444,
             "#bd3786"
            ],
            [
             0.5555555555555556,
             "#d8576b"
            ],
            [
             0.6666666666666666,
             "#ed7953"
            ],
            [
             0.7777777777777778,
             "#fb9f3a"
            ],
            [
             0.8888888888888888,
             "#fdca26"
            ],
            [
             1,
             "#f0f921"
            ]
           ]
          },
          "colorway": [
           "#636efa",
           "#EF553B",
           "#00cc96",
           "#ab63fa",
           "#FFA15A",
           "#19d3f3",
           "#FF6692",
           "#B6E880",
           "#FF97FF",
           "#FECB52"
          ],
          "font": {
           "color": "#2a3f5f"
          },
          "geo": {
           "bgcolor": "white",
           "lakecolor": "white",
           "landcolor": "#E5ECF6",
           "showlakes": true,
           "showland": true,
           "subunitcolor": "white"
          },
          "hoverlabel": {
           "align": "left"
          },
          "hovermode": "closest",
          "mapbox": {
           "style": "light"
          },
          "paper_bgcolor": "white",
          "plot_bgcolor": "#E5ECF6",
          "polar": {
           "angularaxis": {
            "gridcolor": "white",
            "linecolor": "white",
            "ticks": ""
           },
           "bgcolor": "#E5ECF6",
           "radialaxis": {
            "gridcolor": "white",
            "linecolor": "white",
            "ticks": ""
           }
          },
          "scene": {
           "xaxis": {
            "backgroundcolor": "#E5ECF6",
            "gridcolor": "white",
            "gridwidth": 2,
            "linecolor": "white",
            "showbackground": true,
            "ticks": "",
            "zerolinecolor": "white"
           },
           "yaxis": {
            "backgroundcolor": "#E5ECF6",
            "gridcolor": "white",
            "gridwidth": 2,
            "linecolor": "white",
            "showbackground": true,
            "ticks": "",
            "zerolinecolor": "white"
           },
           "zaxis": {
            "backgroundcolor": "#E5ECF6",
            "gridcolor": "white",
            "gridwidth": 2,
            "linecolor": "white",
            "showbackground": true,
            "ticks": "",
            "zerolinecolor": "white"
           }
          },
          "shapedefaults": {
           "line": {
            "color": "#2a3f5f"
           }
          },
          "ternary": {
           "aaxis": {
            "gridcolor": "white",
            "linecolor": "white",
            "ticks": ""
           },
           "baxis": {
            "gridcolor": "white",
            "linecolor": "white",
            "ticks": ""
           },
           "bgcolor": "#E5ECF6",
           "caxis": {
            "gridcolor": "white",
            "linecolor": "white",
            "ticks": ""
           }
          },
          "title": {
           "x": 0.05
          },
          "xaxis": {
           "automargin": true,
           "gridcolor": "white",
           "linecolor": "white",
           "ticks": "",
           "title": {
            "standoff": 15
           },
           "zerolinecolor": "white",
           "zerolinewidth": 2
          },
          "yaxis": {
           "automargin": true,
           "gridcolor": "white",
           "linecolor": "white",
           "ticks": "",
           "title": {
            "standoff": 15
           },
           "zerolinecolor": "white",
           "zerolinewidth": 2
          }
         }
        },
        "title": {
         "text": "Height vs Age for Different Genders"
        },
        "xaxis": {
         "anchor": "y",
         "domain": [
          0,
          1
         ],
         "title": {
          "text": "Age"
         }
        },
        "yaxis": {
         "anchor": "x",
         "domain": [
          0,
          1
         ],
         "title": {
          "text": "Height (cm)"
         }
        }
       }
      }
     },
     "metadata": {},
     "output_type": "display_data"
    }
   ],
   "source": [
    "#!response\n",
    "\n",
    "px.scatter(df, x=x, y=y, title=title, labels=labels, color=color)"
   ]
  }
 ],
 "metadata": {
  "interpreter": {
   "hash": "be14b4e913c6f2457a185c22af60a9db8729a2914b48dcc2c5e42fe4e4a2ce08"
  },
  "kernelspec": {
   "display_name": "Python 3",
   "language": "python",
   "name": "python3"
  },
  "language_info": {
   "codemirror_mode": {
    "name": "ipython",
    "version": 3
   },
   "file_extension": ".py",
   "mimetype": "text/x-python",
   "name": "python",
   "nbconvert_exporter": "python",
   "pygments_lexer": "ipython3",
   "version": "3.9.13"
  }
 },
 "nbformat": 4,
 "nbformat_minor": 4
}
