{
 "cells": [
  {
   "cell_type": "markdown",
   "id": "a1a71239",
   "metadata": {},
   "source": [
    "# Filtering & Plotting: Modifying Data Before Creating a Chart with Plotly (Exercise 3)"
   ]
  },
  {
   "cell_type": "markdown",
   "id": "e941864e",
   "metadata": {},
   "source": [
    "## Question. &nbsp;&nbsp; What is the relationship between number won titles and win rate for American tennis players?"
   ]
  },
  {
   "cell_type": "markdown",
   "id": "66587693",
   "metadata": {},
   "source": [
    "Dataset: This data-set has information on various statistical parameters on the former world number 1s tennis players from the last 2 decades.\n",
    "\n",
    "Columns:\n",
    "- Player (represents player's name)\n",
    "- Country (represents player's country)\n",
    "- Win (represents # of won matches in player's career)\n",
    "- Losses (represents # of won matches in player's career)\n",
    "- Win_Rate (represents win rate of player's career)\n",
    "- Titles (represents # of won titles in player's career)\n",
    "- Prize_Money (represents earned prize money in player's career)"
   ]
  },
  {
   "cell_type": "markdown",
   "id": "f71edc17",
   "metadata": {},
   "source": [
    "## Pre-programming Discussion"
   ]
  },
  {
   "cell_type": "markdown",
   "id": "02b3074d",
   "metadata": {},
   "source": [
    "#!action\n",
    "\n",
    "Q1. What column should we use for filtering the data? Why?"
   ]
  },
  {
   "cell_type": "markdown",
   "id": "0a25fa78",
   "metadata": {},
   "source": [
    "#!response\n",
    "\n",
    "Country\n",
    "\n",
    "We only want to know about American players."
   ]
  },
  {
   "cell_type": "markdown",
   "id": "8f62a31a",
   "metadata": {},
   "source": [
    "#!action\n",
    "\n",
    "Q2. Which columns from the dataset will be used in the plot?"
   ]
  },
  {
   "cell_type": "markdown",
   "id": "29c946cd",
   "metadata": {},
   "source": [
    "#!response\n",
    "\n",
    "Win_Rate and Titles. \n",
    "\n",
    "The column names are similar to the terms in the question."
   ]
  },
  {
   "cell_type": "markdown",
   "id": "c0a1bf52",
   "metadata": {},
   "source": [
    "#!action\n",
    "\n",
    "Q3. Which column will go on the x-axis?"
   ]
  },
  {
   "cell_type": "markdown",
   "id": "e1719697",
   "metadata": {},
   "source": [
    "#!response\n",
    "\n",
    "Titles\n",
    "\n",
    "y changes as a function of x. Wording of question implies Win_Rate changes as a function of won Titles. Therefore, Win_Rate is y and Titles is x."
   ]
  },
  {
   "cell_type": "markdown",
   "id": "c21b3ae0",
   "metadata": {},
   "source": [
    "#!action\n",
    "\n",
    "Q4. Which column will go on the y-axis?"
   ]
  },
  {
   "cell_type": "markdown",
   "id": "9a95ee0f",
   "metadata": {},
   "source": [
    "#!response\n",
    "\n",
    "Win_Rate \n",
    "\n",
    "See previous question explanation."
   ]
  },
  {
   "cell_type": "markdown",
   "id": "1b8d4143",
   "metadata": {},
   "source": [
    "#!action\n",
    "\n",
    "Screenshot your answers."
   ]
  },
  {
   "cell_type": "markdown",
   "id": "f9681bad",
   "metadata": {},
   "source": [
    "## Programming Activity: Creating a Scatter Plot Graph of Titles vs Win Rate of American Tennis Players"
   ]
  },
  {
   "cell_type": "markdown",
   "id": "4e3aa324",
   "metadata": {},
   "source": [
    "### Step 1. &nbsp;&nbsp;&nbsp; Read CSV Data into Pandas Dataframe"
   ]
  },
  {
   "cell_type": "markdown",
   "id": "9835e393",
   "metadata": {},
   "source": [
    "#### Substep. &nbsp;&nbsp; Import Pandas Library"
   ]
  },
  {
   "cell_type": "markdown",
   "id": "1f718cf6",
   "metadata": {},
   "source": [
    "#!blhint\n",
    "\n",
    "- Create variable &nbsp;`pd`\n",
    "- `import pandas as pd`"
   ]
  },
  {
   "cell_type": "markdown",
   "id": "c4e1f471",
   "metadata": {},
   "source": [
    "<details><summary>Blockly Hints</summary><ul><li>Blocks<ul><li><code>import .. as ..</code><ul><li>The <code>import .. as ..</code> block is found under IMPORT.</li> <li>A variable must have been created before it will appear in the dropdown.</li></ul></li></ul></li></ul></details>"
   ]
  },
  {
   "cell_type": "code",
   "execution_count": 1,
   "id": "14ac002d",
   "metadata": {},
   "outputs": [],
   "source": [
    "#!response\n",
    "import pandas as pd\n",
    "\n",
    "#<xml xmlns=\"https://developers.google.com/blockly/xml\"><variables><variable id=\"3|1_VG=6^a*PSJf%[AEJ\">pd</variable></variables><block type=\"importAs_Python\" id=\"HG@Qc0KnvuKPwPn4n2O}\" x=\"16\" y=\"10\"><field name=\"libraryName\">pandas</field><field name=\"libraryAlias\" id=\"3|1_VG=6^a*PSJf%[AEJ\">pd</field></block></xml>"
   ]
  },
  {
   "cell_type": "markdown",
   "id": "7961d9cd",
   "metadata": {},
   "source": [
    "#### Substep. &nbsp;&nbsp; Read CSV data and Save in Variable"
   ]
  },
  {
   "cell_type": "markdown",
   "id": "888ef8f5",
   "metadata": {},
   "source": [
    "#!blhint\n",
    "\n",
    "- Create variable &nbsp;`df`\n",
    "- `set df to` &nbsp;:&nbsp; `with pd do read_csv using` &nbsp;:&nbsp; `\" datasets/Tennis.csv \"`"
   ]
  },
  {
   "cell_type": "markdown",
   "id": "4d067c7e",
   "metadata": {},
   "source": [
    "<details><summary>Blockly Hints</summary><ul><li>Notation<ul><li><code>A</code> &nbsp;:&nbsp; <code>B</code>&nbsp; means snap blocks A and B together.</li></ul></li><li>Blocks<ul><li><code>set .. to</code><ul><li>The <code>set .. to</code> block is found under VARIABLES.</li> <li>A variable must have been created before it will appear in the dropdown.</li></ul></li><li><code>with .. do .. using ..</code><ul><li>The <code>with .. do .. using ..</code> block is found under VARIABLES.</li> <li>If <code>do</code> dropdown says \"!Not populated until you execute code\", click anywhere in the notebook tab, then click try \"Run All Above Selected Cell\" from the \"Run\" menu.</li> <li>If <code>with .. do .. using ..</code> block does not want to snap together nicely with the <code>set .. to</code> block, try dragging the <code>set .. to</code> block instead.</li> <li>You can use the <code>+ -</code> controls on the block to change the number of notches. Unless specifically instructed, the block should not have any empty notches when you click Blocks to Code. </li></ul></li><li><code>\" .. \"</code><ul><li>The <code>\" .. \"</code> block is found under TEXT.</li></ul></li></ul></li></ul></details>"
   ]
  },
  {
   "cell_type": "code",
   "execution_count": 2,
   "id": "4815c771",
   "metadata": {},
   "outputs": [],
   "source": [
    "#!response\n",
    "df = pd.read_csv('datasets/Tennis.csv')\n",
    "\n",
    "#<xml xmlns=\"https://developers.google.com/blockly/xml\"><variables><variable id=\"RVIV6};,0{p761]Hxk*Z\">df</variable><variable id=\"3|1_VG=6^a*PSJf%[AEJ\">pd</variable></variables><block type=\"variables_set\" id=\".{)PKwPoBWM+Yj6%*j_k\" x=\"43\" y=\"245\"><field name=\"VAR\" id=\"RVIV6};,0{p761]Hxk*Z\">df</field><value name=\"VALUE\"><block type=\"varDoMethod_Python\" id=\"wFQ,$4$P}vKNrb1-J:u]\"><field name=\"VAR\" id=\"3|1_VG=6^a*PSJf%[AEJ\">pd</field><field name=\"MEMBER\">read_csv</field><data>pd:read_csv</data><value name=\"INPUT\"><block type=\"text\" id=\"7,]nX=K9Cowrj`4cigPO\"><field name=\"TEXT\">datasets/Tennis.csv</field></block></value></block></value></block></xml>"
   ]
  },
  {
   "cell_type": "markdown",
   "id": "fc6256b4",
   "metadata": {},
   "source": [
    "#### Substep. &nbsp;&nbsp; Display Dataframe Contents"
   ]
  },
  {
   "cell_type": "markdown",
   "id": "4b9d6c08",
   "metadata": {},
   "source": [
    "#!blhint\n",
    "\n",
    "- variable &nbsp;`df`"
   ]
  },
  {
   "cell_type": "markdown",
   "id": "c14027c8",
   "metadata": {},
   "source": [
    "<details><summary>Blockly Hints</summary><ul><li>Blocks<ul><li>variable<ul><li>After it is created, each variable has its own block at the end of the VARIABLES menu.</li></ul></li></ul></li></ul></details>"
   ]
  },
  {
   "cell_type": "code",
   "execution_count": 3,
   "id": "2cffff0e",
   "metadata": {},
   "outputs": [
    {
     "data": {
      "text/html": [
       "<div>\n",
       "<style scoped>\n",
       "    .dataframe tbody tr th:only-of-type {\n",
       "        vertical-align: middle;\n",
       "    }\n",
       "\n",
       "    .dataframe tbody tr th {\n",
       "        vertical-align: top;\n",
       "    }\n",
       "\n",
       "    .dataframe thead th {\n",
       "        text-align: right;\n",
       "    }\n",
       "</style>\n",
       "<table border=\"1\" class=\"dataframe\">\n",
       "  <thead>\n",
       "    <tr style=\"text-align: right;\">\n",
       "      <th></th>\n",
       "      <th>Player</th>\n",
       "      <th>Country</th>\n",
       "      <th>Wins</th>\n",
       "      <th>Losses</th>\n",
       "      <th>Win_Rate</th>\n",
       "      <th>Titles</th>\n",
       "      <th>Prize_Money</th>\n",
       "    </tr>\n",
       "  </thead>\n",
       "  <tbody>\n",
       "    <tr>\n",
       "      <th>0</th>\n",
       "      <td>Roger Federer</td>\n",
       "      <td>Switzerland</td>\n",
       "      <td>1222</td>\n",
       "      <td>265</td>\n",
       "      <td>82.2</td>\n",
       "      <td>102</td>\n",
       "      <td>126266005</td>\n",
       "    </tr>\n",
       "    <tr>\n",
       "      <th>1</th>\n",
       "      <td>Pete Sampras</td>\n",
       "      <td>USA</td>\n",
       "      <td>762</td>\n",
       "      <td>222</td>\n",
       "      <td>77.4</td>\n",
       "      <td>64</td>\n",
       "      <td>43280489</td>\n",
       "    </tr>\n",
       "    <tr>\n",
       "      <th>2</th>\n",
       "      <td>Ivan Lendl</td>\n",
       "      <td>USA</td>\n",
       "      <td>1068</td>\n",
       "      <td>242</td>\n",
       "      <td>81.5</td>\n",
       "      <td>94</td>\n",
       "      <td>21262417</td>\n",
       "    </tr>\n",
       "    <tr>\n",
       "      <th>3</th>\n",
       "      <td>Jimmy Connors</td>\n",
       "      <td>USA</td>\n",
       "      <td>1274</td>\n",
       "      <td>282</td>\n",
       "      <td>81.9</td>\n",
       "      <td>109</td>\n",
       "      <td>8641040</td>\n",
       "    </tr>\n",
       "    <tr>\n",
       "      <th>4</th>\n",
       "      <td>Novak Djokovic</td>\n",
       "      <td>Serbia</td>\n",
       "      <td>871</td>\n",
       "      <td>182</td>\n",
       "      <td>82.7</td>\n",
       "      <td>75</td>\n",
       "      <td>134684000</td>\n",
       "    </tr>\n",
       "    <tr>\n",
       "      <th>5</th>\n",
       "      <td>Rafael Nadal</td>\n",
       "      <td>Spain</td>\n",
       "      <td>960</td>\n",
       "      <td>196</td>\n",
       "      <td>83.0</td>\n",
       "      <td>83</td>\n",
       "      <td>111328858</td>\n",
       "    </tr>\n",
       "    <tr>\n",
       "      <th>6</th>\n",
       "      <td>John McEnroe</td>\n",
       "      <td>USA</td>\n",
       "      <td>881</td>\n",
       "      <td>198</td>\n",
       "      <td>81.6</td>\n",
       "      <td>77</td>\n",
       "      <td>12552132</td>\n",
       "    </tr>\n",
       "    <tr>\n",
       "      <th>7</th>\n",
       "      <td>Bjorn Borg</td>\n",
       "      <td>Sweden</td>\n",
       "      <td>644</td>\n",
       "      <td>135</td>\n",
       "      <td>82.7</td>\n",
       "      <td>64</td>\n",
       "      <td>3655751</td>\n",
       "    </tr>\n",
       "    <tr>\n",
       "      <th>8</th>\n",
       "      <td>Andre Agassi</td>\n",
       "      <td>USA</td>\n",
       "      <td>870</td>\n",
       "      <td>274</td>\n",
       "      <td>76.0</td>\n",
       "      <td>60</td>\n",
       "      <td>31152975</td>\n",
       "    </tr>\n",
       "    <tr>\n",
       "      <th>9</th>\n",
       "      <td>Lleyton Hewitt</td>\n",
       "      <td>Australia</td>\n",
       "      <td>616</td>\n",
       "      <td>262</td>\n",
       "      <td>70.2</td>\n",
       "      <td>30</td>\n",
       "      <td>20879934</td>\n",
       "    </tr>\n",
       "    <tr>\n",
       "      <th>10</th>\n",
       "      <td>Stefan Edberg</td>\n",
       "      <td>Sweden</td>\n",
       "      <td>801</td>\n",
       "      <td>270</td>\n",
       "      <td>74.8</td>\n",
       "      <td>41</td>\n",
       "      <td>20630941</td>\n",
       "    </tr>\n",
       "    <tr>\n",
       "      <th>11</th>\n",
       "      <td>Jim Courier</td>\n",
       "      <td>USA</td>\n",
       "      <td>506</td>\n",
       "      <td>237</td>\n",
       "      <td>68.1</td>\n",
       "      <td>23</td>\n",
       "      <td>14034132</td>\n",
       "    </tr>\n",
       "    <tr>\n",
       "      <th>12</th>\n",
       "      <td>Gustavo Kuerten</td>\n",
       "      <td>Brazil</td>\n",
       "      <td>358</td>\n",
       "      <td>195</td>\n",
       "      <td>64.7</td>\n",
       "      <td>20</td>\n",
       "      <td>14807000</td>\n",
       "    </tr>\n",
       "    <tr>\n",
       "      <th>13</th>\n",
       "      <td>Andy Murray</td>\n",
       "      <td>UK</td>\n",
       "      <td>663</td>\n",
       "      <td>191</td>\n",
       "      <td>77.6</td>\n",
       "      <td>45</td>\n",
       "      <td>61217017</td>\n",
       "    </tr>\n",
       "    <tr>\n",
       "      <th>14</th>\n",
       "      <td>Ilie Nastase</td>\n",
       "      <td>Romania</td>\n",
       "      <td>858</td>\n",
       "      <td>320</td>\n",
       "      <td>72.8</td>\n",
       "      <td>59</td>\n",
       "      <td>2076761</td>\n",
       "    </tr>\n",
       "    <tr>\n",
       "      <th>15</th>\n",
       "      <td>Mats Wilander</td>\n",
       "      <td>Sweden</td>\n",
       "      <td>571</td>\n",
       "      <td>222</td>\n",
       "      <td>72.0</td>\n",
       "      <td>33</td>\n",
       "      <td>7956101</td>\n",
       "    </tr>\n",
       "    <tr>\n",
       "      <th>16</th>\n",
       "      <td>Andy Roddick</td>\n",
       "      <td>USA</td>\n",
       "      <td>612</td>\n",
       "      <td>213</td>\n",
       "      <td>74.2</td>\n",
       "      <td>32</td>\n",
       "      <td>20640030</td>\n",
       "    </tr>\n",
       "    <tr>\n",
       "      <th>17</th>\n",
       "      <td>Boris Becker</td>\n",
       "      <td>Germany</td>\n",
       "      <td>713</td>\n",
       "      <td>214</td>\n",
       "      <td>76.9</td>\n",
       "      <td>49</td>\n",
       "      <td>25080956</td>\n",
       "    </tr>\n",
       "    <tr>\n",
       "      <th>18</th>\n",
       "      <td>Marat Safin</td>\n",
       "      <td>Russia</td>\n",
       "      <td>422</td>\n",
       "      <td>267</td>\n",
       "      <td>61.2</td>\n",
       "      <td>15</td>\n",
       "      <td>14373291</td>\n",
       "    </tr>\n",
       "    <tr>\n",
       "      <th>19</th>\n",
       "      <td>Juan Carlos Ferrero</td>\n",
       "      <td>Spain</td>\n",
       "      <td>479</td>\n",
       "      <td>262</td>\n",
       "      <td>64.6</td>\n",
       "      <td>16</td>\n",
       "      <td>13998165</td>\n",
       "    </tr>\n",
       "    <tr>\n",
       "      <th>20</th>\n",
       "      <td>John Newcombe</td>\n",
       "      <td>Australia</td>\n",
       "      <td>552</td>\n",
       "      <td>198</td>\n",
       "      <td>73.6</td>\n",
       "      <td>35</td>\n",
       "      <td>1062408</td>\n",
       "    </tr>\n",
       "    <tr>\n",
       "      <th>21</th>\n",
       "      <td>Yevgeny Kafelnikov</td>\n",
       "      <td>Russia</td>\n",
       "      <td>609</td>\n",
       "      <td>306</td>\n",
       "      <td>66.6</td>\n",
       "      <td>26</td>\n",
       "      <td>23883797</td>\n",
       "    </tr>\n",
       "    <tr>\n",
       "      <th>22</th>\n",
       "      <td>Thomas Muster</td>\n",
       "      <td>Austria</td>\n",
       "      <td>625</td>\n",
       "      <td>273</td>\n",
       "      <td>69.6</td>\n",
       "      <td>44</td>\n",
       "      <td>12266977</td>\n",
       "    </tr>\n",
       "    <tr>\n",
       "      <th>23</th>\n",
       "      <td>Marcelo Rios</td>\n",
       "      <td>Chile</td>\n",
       "      <td>391</td>\n",
       "      <td>192</td>\n",
       "      <td>67.1</td>\n",
       "      <td>18</td>\n",
       "      <td>9713771</td>\n",
       "    </tr>\n",
       "    <tr>\n",
       "      <th>24</th>\n",
       "      <td>Carlos Moya</td>\n",
       "      <td>Spain</td>\n",
       "      <td>575</td>\n",
       "      <td>319</td>\n",
       "      <td>64.3</td>\n",
       "      <td>20</td>\n",
       "      <td>13443970</td>\n",
       "    </tr>\n",
       "    <tr>\n",
       "      <th>25</th>\n",
       "      <td>Patrick Rafter</td>\n",
       "      <td>Australia</td>\n",
       "      <td>358</td>\n",
       "      <td>191</td>\n",
       "      <td>65.2</td>\n",
       "      <td>11</td>\n",
       "      <td>11133128</td>\n",
       "    </tr>\n",
       "  </tbody>\n",
       "</table>\n",
       "</div>"
      ],
      "text/plain": [
       "                 Player      Country  Wins  Losses  Win_Rate  Titles  \\\n",
       "0         Roger Federer  Switzerland  1222     265      82.2     102   \n",
       "1          Pete Sampras          USA   762     222      77.4      64   \n",
       "2            Ivan Lendl          USA  1068     242      81.5      94   \n",
       "3         Jimmy Connors          USA  1274     282      81.9     109   \n",
       "4        Novak Djokovic       Serbia   871     182      82.7      75   \n",
       "5          Rafael Nadal        Spain   960     196      83.0      83   \n",
       "6          John McEnroe          USA   881     198      81.6      77   \n",
       "7            Bjorn Borg       Sweden   644     135      82.7      64   \n",
       "8          Andre Agassi          USA   870     274      76.0      60   \n",
       "9        Lleyton Hewitt    Australia   616     262      70.2      30   \n",
       "10        Stefan Edberg       Sweden   801     270      74.8      41   \n",
       "11          Jim Courier          USA   506     237      68.1      23   \n",
       "12      Gustavo Kuerten       Brazil   358     195      64.7      20   \n",
       "13          Andy Murray           UK   663     191      77.6      45   \n",
       "14         Ilie Nastase      Romania   858     320      72.8      59   \n",
       "15        Mats Wilander       Sweden   571     222      72.0      33   \n",
       "16         Andy Roddick          USA   612     213      74.2      32   \n",
       "17         Boris Becker      Germany   713     214      76.9      49   \n",
       "18          Marat Safin       Russia   422     267      61.2      15   \n",
       "19  Juan Carlos Ferrero        Spain   479     262      64.6      16   \n",
       "20        John Newcombe    Australia   552     198      73.6      35   \n",
       "21   Yevgeny Kafelnikov       Russia   609     306      66.6      26   \n",
       "22        Thomas Muster      Austria   625     273      69.6      44   \n",
       "23         Marcelo Rios        Chile   391     192      67.1      18   \n",
       "24          Carlos Moya        Spain   575     319      64.3      20   \n",
       "25       Patrick Rafter    Australia   358     191      65.2      11   \n",
       "\n",
       "    Prize_Money  \n",
       "0     126266005  \n",
       "1      43280489  \n",
       "2      21262417  \n",
       "3       8641040  \n",
       "4     134684000  \n",
       "5     111328858  \n",
       "6      12552132  \n",
       "7       3655751  \n",
       "8      31152975  \n",
       "9      20879934  \n",
       "10     20630941  \n",
       "11     14034132  \n",
       "12     14807000  \n",
       "13     61217017  \n",
       "14      2076761  \n",
       "15      7956101  \n",
       "16     20640030  \n",
       "17     25080956  \n",
       "18     14373291  \n",
       "19     13998165  \n",
       "20      1062408  \n",
       "21     23883797  \n",
       "22     12266977  \n",
       "23      9713771  \n",
       "24     13443970  \n",
       "25     11133128  "
      ]
     },
     "execution_count": 3,
     "metadata": {},
     "output_type": "execute_result"
    }
   ],
   "source": [
    "#!response\n",
    "df\n",
    "\n",
    "#<xml xmlns=\"https://developers.google.com/blockly/xml\"><variables><variable id=\"RVIV6};,0{p761]Hxk*Z\">df</variable></variables><block type=\"variables_get\" id=\";$!0oKA{,8M:rRzbx6%Q\" x=\"8\" y=\"272\"><field name=\"VAR\" id=\"RVIV6};,0{p761]Hxk*Z\">df</field></block></xml>"
   ]
  },
  {
   "cell_type": "markdown",
   "id": "021db161",
   "metadata": {},
   "source": [
    "### Step 2. &nbsp;&nbsp;&nbsp; Data Modification"
   ]
  },
  {
   "cell_type": "markdown",
   "id": "19f13600",
   "metadata": {},
   "source": [
    "#### Substep. &nbsp;&nbsp; Filter Data"
   ]
  },
  {
   "cell_type": "markdown",
   "id": "0a243aae",
   "metadata": {},
   "source": [
    "#!blhint\n",
    "\n",
    "- `set df to` &nbsp;:&nbsp; `df [ .. ]` &nbsp;<-&nbsp; ` .. = .. ` &nbsp;<-\n",
    "  - `from df get Country`\n",
    "  - `\" USA \"`"
   ]
  },
  {
   "cell_type": "markdown",
   "id": "0498c342",
   "metadata": {},
   "source": [
    "<details><summary>Blockly Hints</summary><ul><li>Notation<ul><li><code>A</code> &nbsp;:&nbsp; <code>B</code>&nbsp; means snap blocks A and B together.</li><li><code>A</code> &nbsp;&lt;-&nbsp; <code>B</code>&nbsp; means insert block B into the hole in block A.</li></ul></li><li>Blocks<ul><li><code>set .. to</code><ul><li>The <code>set .. to</code> block is found under VARIABLES.</li> <li>A variable must have been created before it will appear in the dropdown.</li></ul></li><li><code>\\{dictVariable\\} [ .. ]</code><ul><li>The <code>\\{dictVariable\\} [ .. ]</code> block is found under LISTS.</li></ul></li><li><code> .. = .. </code><ul><li>The <code> .. = .. </code> block is found under LOGIC.</li> <li>Use the dropdown to get other comparison operators.</li></ul></li><li><code>from .. get ..</code><ul><li>The <code>from .. get ..</code> block is found under VARIABLES.</li></ul></li><li><code>\" .. \"</code><ul><li>The <code>\" .. \"</code> block is found under TEXT.</li></ul></li></ul></li></ul></details>"
   ]
  },
  {
   "cell_type": "code",
   "execution_count": 4,
   "id": "c497df01",
   "metadata": {},
   "outputs": [],
   "source": [
    "#!response\n",
    "df = df[(df.Country == 'USA')]\n",
    "\n",
    "#<xml xmlns=\"https://developers.google.com/blockly/xml\"><variables><variable id=\"RVIV6};,0{p761]Hxk*Z\">df</variable></variables><block type=\"variables_set\" id=\"LoP|#aOn]!^c`~CD}ZnQ\" x=\"33\" y=\"172\"><field name=\"VAR\" id=\"RVIV6};,0{p761]Hxk*Z\">df</field><value name=\"VALUE\"><block type=\"indexer_Python\" id=\"c=maxm.ju@%B[H)INXE5\"><field name=\"VAR\" id=\"RVIV6};,0{p761]Hxk*Z\">df</field><value name=\"INDEX\"><block type=\"logic_compare\" id=\"=$x(zv.U9JGkuo#44,6#\"><field name=\"OP\">EQ</field><value name=\"A\"><block type=\"varGetProperty_Python\" id=\"sB0Mv+CKuQgVYy?st}J2\"><field name=\"VAR\" id=\"RVIV6};,0{p761]Hxk*Z\">df</field><field name=\"MEMBER\">Country</field><data>df:Country</data></block></value><value name=\"B\"><block type=\"text\" id=\"W|t+_T/Im90x[]$9TdP}\"><field name=\"TEXT\">USA</field></block></value></block></value></block></value></block></xml>"
   ]
  },
  {
   "cell_type": "markdown",
   "id": "3f01d1ea",
   "metadata": {},
   "source": [
    "#### Substep. &nbsp;&nbsp; Display Dataframe Contents"
   ]
  },
  {
   "cell_type": "markdown",
   "id": "420fdd74",
   "metadata": {},
   "source": [
    "#!blhint\n",
    "\n",
    "- variable &nbsp;`df`"
   ]
  },
  {
   "cell_type": "markdown",
   "id": "3c985f19",
   "metadata": {},
   "source": [
    "<details><summary>Blockly Hints</summary><ul><li>Blocks<ul><li>variable<ul><li>After it is created, each variable has its own block at the end of the VARIABLES menu.</li></ul></li></ul></li></ul></details>"
   ]
  },
  {
   "cell_type": "code",
   "execution_count": 5,
   "id": "29e298d6",
   "metadata": {},
   "outputs": [
    {
     "data": {
      "text/html": [
       "<div>\n",
       "<style scoped>\n",
       "    .dataframe tbody tr th:only-of-type {\n",
       "        vertical-align: middle;\n",
       "    }\n",
       "\n",
       "    .dataframe tbody tr th {\n",
       "        vertical-align: top;\n",
       "    }\n",
       "\n",
       "    .dataframe thead th {\n",
       "        text-align: right;\n",
       "    }\n",
       "</style>\n",
       "<table border=\"1\" class=\"dataframe\">\n",
       "  <thead>\n",
       "    <tr style=\"text-align: right;\">\n",
       "      <th></th>\n",
       "      <th>Player</th>\n",
       "      <th>Country</th>\n",
       "      <th>Wins</th>\n",
       "      <th>Losses</th>\n",
       "      <th>Win_Rate</th>\n",
       "      <th>Titles</th>\n",
       "      <th>Prize_Money</th>\n",
       "    </tr>\n",
       "  </thead>\n",
       "  <tbody>\n",
       "    <tr>\n",
       "      <th>1</th>\n",
       "      <td>Pete Sampras</td>\n",
       "      <td>USA</td>\n",
       "      <td>762</td>\n",
       "      <td>222</td>\n",
       "      <td>77.4</td>\n",
       "      <td>64</td>\n",
       "      <td>43280489</td>\n",
       "    </tr>\n",
       "    <tr>\n",
       "      <th>2</th>\n",
       "      <td>Ivan Lendl</td>\n",
       "      <td>USA</td>\n",
       "      <td>1068</td>\n",
       "      <td>242</td>\n",
       "      <td>81.5</td>\n",
       "      <td>94</td>\n",
       "      <td>21262417</td>\n",
       "    </tr>\n",
       "    <tr>\n",
       "      <th>3</th>\n",
       "      <td>Jimmy Connors</td>\n",
       "      <td>USA</td>\n",
       "      <td>1274</td>\n",
       "      <td>282</td>\n",
       "      <td>81.9</td>\n",
       "      <td>109</td>\n",
       "      <td>8641040</td>\n",
       "    </tr>\n",
       "    <tr>\n",
       "      <th>6</th>\n",
       "      <td>John McEnroe</td>\n",
       "      <td>USA</td>\n",
       "      <td>881</td>\n",
       "      <td>198</td>\n",
       "      <td>81.6</td>\n",
       "      <td>77</td>\n",
       "      <td>12552132</td>\n",
       "    </tr>\n",
       "    <tr>\n",
       "      <th>8</th>\n",
       "      <td>Andre Agassi</td>\n",
       "      <td>USA</td>\n",
       "      <td>870</td>\n",
       "      <td>274</td>\n",
       "      <td>76.0</td>\n",
       "      <td>60</td>\n",
       "      <td>31152975</td>\n",
       "    </tr>\n",
       "    <tr>\n",
       "      <th>11</th>\n",
       "      <td>Jim Courier</td>\n",
       "      <td>USA</td>\n",
       "      <td>506</td>\n",
       "      <td>237</td>\n",
       "      <td>68.1</td>\n",
       "      <td>23</td>\n",
       "      <td>14034132</td>\n",
       "    </tr>\n",
       "    <tr>\n",
       "      <th>16</th>\n",
       "      <td>Andy Roddick</td>\n",
       "      <td>USA</td>\n",
       "      <td>612</td>\n",
       "      <td>213</td>\n",
       "      <td>74.2</td>\n",
       "      <td>32</td>\n",
       "      <td>20640030</td>\n",
       "    </tr>\n",
       "  </tbody>\n",
       "</table>\n",
       "</div>"
      ],
      "text/plain": [
       "           Player Country  Wins  Losses  Win_Rate  Titles  Prize_Money\n",
       "1    Pete Sampras     USA   762     222      77.4      64     43280489\n",
       "2      Ivan Lendl     USA  1068     242      81.5      94     21262417\n",
       "3   Jimmy Connors     USA  1274     282      81.9     109      8641040\n",
       "6    John McEnroe     USA   881     198      81.6      77     12552132\n",
       "8    Andre Agassi     USA   870     274      76.0      60     31152975\n",
       "11    Jim Courier     USA   506     237      68.1      23     14034132\n",
       "16   Andy Roddick     USA   612     213      74.2      32     20640030"
      ]
     },
     "execution_count": 5,
     "metadata": {},
     "output_type": "execute_result"
    }
   ],
   "source": [
    "#!response\n",
    "df\n",
    "\n",
    "#<xml xmlns=\"https://developers.google.com/blockly/xml\"><variables><variable id=\"RVIV6};,0{p761]Hxk*Z\">df</variable></variables><block type=\"variables_get\" id=\"@ETx]YPoRQ@]rTgs]DnQ\" x=\"26\" y=\"239\"><field name=\"VAR\" id=\"RVIV6};,0{p761]Hxk*Z\">df</field></block></xml>"
   ]
  },
  {
   "cell_type": "markdown",
   "id": "d18257aa",
   "metadata": {},
   "source": [
    "### Step 3. &nbsp;&nbsp;&nbsp; Generate Plotly Scatter Graph"
   ]
  },
  {
   "cell_type": "markdown",
   "id": "ae10824b",
   "metadata": {},
   "source": [
    "#### Substep. &nbsp;&nbsp; Import Plotly Express Library\n"
   ]
  },
  {
   "cell_type": "markdown",
   "id": "43f05f5c",
   "metadata": {},
   "source": [
    "#!blhint\n",
    "\n",
    "- Create variable &nbsp;`px`\n",
    "- `import plotly.express as px`"
   ]
  },
  {
   "cell_type": "markdown",
   "id": "71da7006",
   "metadata": {},
   "source": [
    "<details><summary>Blockly Hints</summary><ul><li>Blocks<ul><li><code>import .. as ..</code><ul><li>The <code>import .. as ..</code> block is found under IMPORT.</li> <li>A variable must have been created before it will appear in the dropdown.</li></ul></li></ul></li></ul></details>"
   ]
  },
  {
   "cell_type": "code",
   "execution_count": 6,
   "id": "8550fb88",
   "metadata": {},
   "outputs": [],
   "source": [
    "#!response\n",
    "import plotly.express as px\n",
    "\n",
    "#<xml xmlns=\"https://developers.google.com/blockly/xml\"><variables><variable id=\"k~x.[L6_#?Sh9W0z!fdX\">px</variable></variables><block type=\"importAs_Python\" id=\"q_/Ip|8%GRBU|zB9jSSl\" x=\"31\" y=\"126\"><field name=\"libraryName\">plotly.express</field><field name=\"libraryAlias\" id=\"k~x.[L6_#?Sh9W0z!fdX\">px</field></block></xml>"
   ]
  },
  {
   "cell_type": "markdown",
   "id": "265c2e04",
   "metadata": {},
   "source": [
    "#### Substep. &nbsp;&nbsp; Set Columns as x and y\n"
   ]
  },
  {
   "cell_type": "markdown",
   "id": "0f109778",
   "metadata": {},
   "source": [
    "#!blhint\n",
    "\n",
    "- Create variable &nbsp;`x`\n",
    "- `set x to` &nbsp;:&nbsp; `\" Titles \"`\n",
    "- Create variable &nbsp;`y`\n",
    "- `set y to` &nbsp;:&nbsp; `\" Win_Rate \"`"
   ]
  },
  {
   "cell_type": "markdown",
   "id": "65cf1f7f",
   "metadata": {},
   "source": [
    "<details><summary>Blockly Hints</summary><ul><li>Notation<ul><li><code>A</code> &nbsp;:&nbsp; <code>B</code>&nbsp; means snap blocks A and B together.</li></ul></li><li>Blocks<ul><li><code>set .. to</code><ul><li>The <code>set .. to</code> block is found under VARIABLES.</li> <li>A variable must have been created before it will appear in the dropdown.</li></ul></li><li><code>\" .. \"</code><ul><li>The <code>\" .. \"</code> block is found under TEXT.</li></ul></li></ul></li></ul></details>"
   ]
  },
  {
   "cell_type": "code",
   "execution_count": 7,
   "id": "b6afae41",
   "metadata": {},
   "outputs": [],
   "source": [
    "#!response\n",
    "x = 'Titles'\n",
    "y = 'Win_Rate'\n",
    "\n",
    "#<xml xmlns=\"https://developers.google.com/blockly/xml\"><variables><variable id=\"+uC_Ek(,Ch[Xfh;~,g[4\">x</variable><variable id=\"#-SQx9`JSJt6W]kxttEp\">y</variable></variables><block type=\"variables_set\" id=\"L0rXiVtcT-|r~Zo{r,b?\" x=\"29\" y=\"170\"><field name=\"VAR\" id=\"+uC_Ek(,Ch[Xfh;~,g[4\">x</field><value name=\"VALUE\"><block type=\"text\" id=\"2Ijz5-q0Il1Z8f[jkv6S\"><field name=\"TEXT\">Titles</field></block></value><next><block type=\"variables_set\" id=\"uu+vPFte`T%b$:3Ry[bw\"><field name=\"VAR\" id=\"#-SQx9`JSJt6W]kxttEp\">y</field><value name=\"VALUE\"><block type=\"text\" id=\"X{bfRPSZc_Cm[M?*KT9h\"><field name=\"TEXT\">Win_Rate</field></block></value></block></next></block></xml>"
   ]
  },
  {
   "cell_type": "markdown",
   "id": "a6f21409",
   "metadata": {},
   "source": [
    "#### Substep. &nbsp;&nbsp; Set Additional Plot Options"
   ]
  },
  {
   "cell_type": "markdown",
   "id": "9b848592",
   "metadata": {},
   "source": [
    "#!blhint\n",
    "\n",
    "- Create variable &nbsp;`color`\n",
    "- `set color to` &nbsp;:&nbsp; `\" Player \"`"
   ]
  },
  {
   "cell_type": "markdown",
   "id": "5a3b37d0",
   "metadata": {},
   "source": [
    "<details><summary>Blockly Hints</summary><ul><li>Notation<ul><li><code>A</code> &nbsp;:&nbsp; <code>B</code>&nbsp; means snap blocks A and B together.</li></ul></li><li>Blocks<ul><li><code>set .. to</code><ul><li>The <code>set .. to</code> block is found under VARIABLES.</li> <li>A variable must have been created before it will appear in the dropdown.</li></ul></li><li><code>\" .. \"</code><ul><li>The <code>\" .. \"</code> block is found under TEXT.</li></ul></li></ul></li></ul></details>"
   ]
  },
  {
   "cell_type": "code",
   "execution_count": 8,
   "id": "4e8fd251",
   "metadata": {},
   "outputs": [],
   "source": [
    "#!response\n",
    "color = 'Player'\n",
    "\n",
    "#<xml xmlns=\"https://developers.google.com/blockly/xml\"><variables><variable id=\"4x)bDLxW6|R!sv/Vd}uu\">color</variable></variables><block type=\"variables_set\" id=\"|^32=XY%:{yf4w[P[ORo\" x=\"16\" y=\"227\"><field name=\"VAR\" id=\"4x)bDLxW6|R!sv/Vd}uu\">color</field><value name=\"VALUE\"><block type=\"text\" id=\"OOW|:]c#CC-trDx16;pP\"><field name=\"TEXT\">Player</field></block></value></block></xml>"
   ]
  },
  {
   "cell_type": "markdown",
   "id": "78f6f71b",
   "metadata": {},
   "source": [
    "#!blhint\n",
    "\n",
    "- Create variable &nbsp;`title`\n",
    "- `set title to` &nbsp;:&nbsp; `\" Titles vs Win Rate of American Tennis Players \"`"
   ]
  },
  {
   "cell_type": "markdown",
   "id": "e1383dfd",
   "metadata": {},
   "source": [
    "<details><summary>Blockly Hints</summary><ul><li>Notation<ul><li><code>A</code> &nbsp;:&nbsp; <code>B</code>&nbsp; means snap blocks A and B together.</li></ul></li><li>Blocks<ul><li><code>set .. to</code><ul><li>The <code>set .. to</code> block is found under VARIABLES.</li> <li>A variable must have been created before it will appear in the dropdown.</li></ul></li><li><code>\" .. \"</code><ul><li>The <code>\" .. \"</code> block is found under TEXT.</li></ul></li></ul></li></ul></details>"
   ]
  },
  {
   "cell_type": "code",
   "execution_count": 9,
   "id": "d6da3f45",
   "metadata": {},
   "outputs": [],
   "source": [
    "#!response\n",
    "title = 'Titles vs Win Rate of American Tennis Players'\n",
    "\n",
    "#<xml xmlns=\"https://developers.google.com/blockly/xml\"><variables><variable id=\"Ns+To#5[#(:(tTNh[|[h\">title</variable></variables><block type=\"variables_set\" id=\"O(a5Lgg`XX=uKxv+bI4A\" x=\"21\" y=\"185\"><field name=\"VAR\" id=\"Ns+To#5[#(:(tTNh[|[h\">title</field><value name=\"VALUE\"><block type=\"text\" id=\"LnoifPEc,9uDap0_X-i,\"><field name=\"TEXT\">Titles vs Win Rate of American Tennis Players</field></block></value></block></xml>"
   ]
  },
  {
   "cell_type": "markdown",
   "id": "0ee95418",
   "metadata": {},
   "source": [
    "#### Substep. &nbsp;&nbsp; Generate Scatter Graph"
   ]
  },
  {
   "cell_type": "markdown",
   "id": "7cae6a7d",
   "metadata": {},
   "source": [
    "#!blhint\n",
    "\n",
    "- Grab a freestyle block, type &nbsp;`x=x`\n",
    "- Grab a freestyle block, type &nbsp;`y=y`\n",
    "- Grab a freestyle block, type &nbsp;`color=color`\n",
    "- Grab a freestyle block, type &nbsp;`title=title`\n",
    "- `with px do scatter using` &nbsp;:\n",
    "    - variable &nbsp;`df`\n",
    "    - `x=x`\n",
    "    - `y=y`\n",
    "    - `color=color`\n",
    "    - `title=title`"
   ]
  },
  {
   "cell_type": "markdown",
   "id": "51fab5fd",
   "metadata": {},
   "source": [
    "<details><summary>Blockly Hints</summary><ul><li>Notation<ul><li><code>A</code> &nbsp;:&nbsp; <code>B</code>&nbsp; means snap blocks A and B together.</li></ul></li><li>Blocks<ul><li>freestyle<ul><li>Unless specifically instructed, use the first block from the FREESTYLE menu.</li></ul></li><li><code>with .. do .. using ..</code><ul><li>The <code>with .. do .. using ..</code> block is found under VARIABLES.</li> <li>If <code>do</code> dropdown says \"!Not populated until you execute code\", click anywhere in the notebook tab, then click try \"Run All Above Selected Cell\" from the \"Run\" menu.</li> <li>If <code>with .. do .. using ..</code> block does not want to snap together nicely with the <code>set .. to</code> block, try dragging the <code>set .. to</code> block instead.</li> <li>You can use the <code>+ -</code> controls on the block to change the number of notches. Unless specifically instructed, the block should not have any empty notches when you click Blocks to Code. </li></ul></li><li>variable<ul><li>After it is created, each variable has its own block at the end of the VARIABLES menu.</li></ul></li></ul></li></ul></details>"
   ]
  },
  {
   "cell_type": "code",
   "execution_count": 10,
   "id": "9647cb0a",
   "metadata": {},
   "outputs": [
    {
     "data": {
      "application/vnd.plotly.v1+json": {
       "config": {
        "plotlyServerURL": "https://plot.ly"
       },
       "data": [
        {
         "hovertemplate": "Player=Pete Sampras<br>Titles=%{x}<br>Win_Rate=%{y}<extra></extra>",
         "legendgroup": "Pete Sampras",
         "marker": {
          "color": "#636efa",
          "symbol": "circle"
         },
         "mode": "markers",
         "name": "Pete Sampras",
         "orientation": "v",
         "showlegend": true,
         "type": "scatter",
         "x": [
          64
         ],
         "xaxis": "x",
         "y": [
          77.4
         ],
         "yaxis": "y"
        },
        {
         "hovertemplate": "Player=Ivan Lendl<br>Titles=%{x}<br>Win_Rate=%{y}<extra></extra>",
         "legendgroup": "Ivan Lendl",
         "marker": {
          "color": "#EF553B",
          "symbol": "circle"
         },
         "mode": "markers",
         "name": "Ivan Lendl",
         "orientation": "v",
         "showlegend": true,
         "type": "scatter",
         "x": [
          94
         ],
         "xaxis": "x",
         "y": [
          81.5
         ],
         "yaxis": "y"
        },
        {
         "hovertemplate": "Player=Jimmy Connors<br>Titles=%{x}<br>Win_Rate=%{y}<extra></extra>",
         "legendgroup": "Jimmy Connors",
         "marker": {
          "color": "#00cc96",
          "symbol": "circle"
         },
         "mode": "markers",
         "name": "Jimmy Connors",
         "orientation": "v",
         "showlegend": true,
         "type": "scatter",
         "x": [
          109
         ],
         "xaxis": "x",
         "y": [
          81.9
         ],
         "yaxis": "y"
        },
        {
         "hovertemplate": "Player=John McEnroe<br>Titles=%{x}<br>Win_Rate=%{y}<extra></extra>",
         "legendgroup": "John McEnroe",
         "marker": {
          "color": "#ab63fa",
          "symbol": "circle"
         },
         "mode": "markers",
         "name": "John McEnroe",
         "orientation": "v",
         "showlegend": true,
         "type": "scatter",
         "x": [
          77
         ],
         "xaxis": "x",
         "y": [
          81.6
         ],
         "yaxis": "y"
        },
        {
         "hovertemplate": "Player=Andre Agassi<br>Titles=%{x}<br>Win_Rate=%{y}<extra></extra>",
         "legendgroup": "Andre Agassi",
         "marker": {
          "color": "#FFA15A",
          "symbol": "circle"
         },
         "mode": "markers",
         "name": "Andre Agassi",
         "orientation": "v",
         "showlegend": true,
         "type": "scatter",
         "x": [
          60
         ],
         "xaxis": "x",
         "y": [
          76
         ],
         "yaxis": "y"
        },
        {
         "hovertemplate": "Player=Jim Courier<br>Titles=%{x}<br>Win_Rate=%{y}<extra></extra>",
         "legendgroup": "Jim Courier",
         "marker": {
          "color": "#19d3f3",
          "symbol": "circle"
         },
         "mode": "markers",
         "name": "Jim Courier",
         "orientation": "v",
         "showlegend": true,
         "type": "scatter",
         "x": [
          23
         ],
         "xaxis": "x",
         "y": [
          68.1
         ],
         "yaxis": "y"
        },
        {
         "hovertemplate": "Player=Andy Roddick<br>Titles=%{x}<br>Win_Rate=%{y}<extra></extra>",
         "legendgroup": "Andy Roddick",
         "marker": {
          "color": "#FF6692",
          "symbol": "circle"
         },
         "mode": "markers",
         "name": "Andy Roddick",
         "orientation": "v",
         "showlegend": true,
         "type": "scatter",
         "x": [
          32
         ],
         "xaxis": "x",
         "y": [
          74.2
         ],
         "yaxis": "y"
        }
       ],
       "layout": {
        "legend": {
         "title": {
          "text": "Player"
         },
         "tracegroupgap": 0
        },
        "template": {
         "data": {
          "bar": [
           {
            "error_x": {
             "color": "#2a3f5f"
            },
            "error_y": {
             "color": "#2a3f5f"
            },
            "marker": {
             "line": {
              "color": "#E5ECF6",
              "width": 0.5
             },
             "pattern": {
              "fillmode": "overlay",
              "size": 10,
              "solidity": 0.2
             }
            },
            "type": "bar"
           }
          ],
          "barpolar": [
           {
            "marker": {
             "line": {
              "color": "#E5ECF6",
              "width": 0.5
             },
             "pattern": {
              "fillmode": "overlay",
              "size": 10,
              "solidity": 0.2
             }
            },
            "type": "barpolar"
           }
          ],
          "carpet": [
           {
            "aaxis": {
             "endlinecolor": "#2a3f5f",
             "gridcolor": "white",
             "linecolor": "white",
             "minorgridcolor": "white",
             "startlinecolor": "#2a3f5f"
            },
            "baxis": {
             "endlinecolor": "#2a3f5f",
             "gridcolor": "white",
             "linecolor": "white",
             "minorgridcolor": "white",
             "startlinecolor": "#2a3f5f"
            },
            "type": "carpet"
           }
          ],
          "choropleth": [
           {
            "colorbar": {
             "outlinewidth": 0,
             "ticks": ""
            },
            "type": "choropleth"
           }
          ],
          "contour": [
           {
            "colorbar": {
             "outlinewidth": 0,
             "ticks": ""
            },
            "colorscale": [
             [
              0,
              "#0d0887"
             ],
             [
              0.1111111111111111,
              "#46039f"
             ],
             [
              0.2222222222222222,
              "#7201a8"
             ],
             [
              0.3333333333333333,
              "#9c179e"
             ],
             [
              0.4444444444444444,
              "#bd3786"
             ],
             [
              0.5555555555555556,
              "#d8576b"
             ],
             [
              0.6666666666666666,
              "#ed7953"
             ],
             [
              0.7777777777777778,
              "#fb9f3a"
             ],
             [
              0.8888888888888888,
              "#fdca26"
             ],
             [
              1,
              "#f0f921"
             ]
            ],
            "type": "contour"
           }
          ],
          "contourcarpet": [
           {
            "colorbar": {
             "outlinewidth": 0,
             "ticks": ""
            },
            "type": "contourcarpet"
           }
          ],
          "heatmap": [
           {
            "colorbar": {
             "outlinewidth": 0,
             "ticks": ""
            },
            "colorscale": [
             [
              0,
              "#0d0887"
             ],
             [
              0.1111111111111111,
              "#46039f"
             ],
             [
              0.2222222222222222,
              "#7201a8"
             ],
             [
              0.3333333333333333,
              "#9c179e"
             ],
             [
              0.4444444444444444,
              "#bd3786"
             ],
             [
              0.5555555555555556,
              "#d8576b"
             ],
             [
              0.6666666666666666,
              "#ed7953"
             ],
             [
              0.7777777777777778,
              "#fb9f3a"
             ],
             [
              0.8888888888888888,
              "#fdca26"
             ],
             [
              1,
              "#f0f921"
             ]
            ],
            "type": "heatmap"
           }
          ],
          "heatmapgl": [
           {
            "colorbar": {
             "outlinewidth": 0,
             "ticks": ""
            },
            "colorscale": [
             [
              0,
              "#0d0887"
             ],
             [
              0.1111111111111111,
              "#46039f"
             ],
             [
              0.2222222222222222,
              "#7201a8"
             ],
             [
              0.3333333333333333,
              "#9c179e"
             ],
             [
              0.4444444444444444,
              "#bd3786"
             ],
             [
              0.5555555555555556,
              "#d8576b"
             ],
             [
              0.6666666666666666,
              "#ed7953"
             ],
             [
              0.7777777777777778,
              "#fb9f3a"
             ],
             [
              0.8888888888888888,
              "#fdca26"
             ],
             [
              1,
              "#f0f921"
             ]
            ],
            "type": "heatmapgl"
           }
          ],
          "histogram": [
           {
            "marker": {
             "pattern": {
              "fillmode": "overlay",
              "size": 10,
              "solidity": 0.2
             }
            },
            "type": "histogram"
           }
          ],
          "histogram2d": [
           {
            "colorbar": {
             "outlinewidth": 0,
             "ticks": ""
            },
            "colorscale": [
             [
              0,
              "#0d0887"
             ],
             [
              0.1111111111111111,
              "#46039f"
             ],
             [
              0.2222222222222222,
              "#7201a8"
             ],
             [
              0.3333333333333333,
              "#9c179e"
             ],
             [
              0.4444444444444444,
              "#bd3786"
             ],
             [
              0.5555555555555556,
              "#d8576b"
             ],
             [
              0.6666666666666666,
              "#ed7953"
             ],
             [
              0.7777777777777778,
              "#fb9f3a"
             ],
             [
              0.8888888888888888,
              "#fdca26"
             ],
             [
              1,
              "#f0f921"
             ]
            ],
            "type": "histogram2d"
           }
          ],
          "histogram2dcontour": [
           {
            "colorbar": {
             "outlinewidth": 0,
             "ticks": ""
            },
            "colorscale": [
             [
              0,
              "#0d0887"
             ],
             [
              0.1111111111111111,
              "#46039f"
             ],
             [
              0.2222222222222222,
              "#7201a8"
             ],
             [
              0.3333333333333333,
              "#9c179e"
             ],
             [
              0.4444444444444444,
              "#bd3786"
             ],
             [
              0.5555555555555556,
              "#d8576b"
             ],
             [
              0.6666666666666666,
              "#ed7953"
             ],
             [
              0.7777777777777778,
              "#fb9f3a"
             ],
             [
              0.8888888888888888,
              "#fdca26"
             ],
             [
              1,
              "#f0f921"
             ]
            ],
            "type": "histogram2dcontour"
           }
          ],
          "mesh3d": [
           {
            "colorbar": {
             "outlinewidth": 0,
             "ticks": ""
            },
            "type": "mesh3d"
           }
          ],
          "parcoords": [
           {
            "line": {
             "colorbar": {
              "outlinewidth": 0,
              "ticks": ""
             }
            },
            "type": "parcoords"
           }
          ],
          "pie": [
           {
            "automargin": true,
            "type": "pie"
           }
          ],
          "scatter": [
           {
            "fillpattern": {
             "fillmode": "overlay",
             "size": 10,
             "solidity": 0.2
            },
            "type": "scatter"
           }
          ],
          "scatter3d": [
           {
            "line": {
             "colorbar": {
              "outlinewidth": 0,
              "ticks": ""
             }
            },
            "marker": {
             "colorbar": {
              "outlinewidth": 0,
              "ticks": ""
             }
            },
            "type": "scatter3d"
           }
          ],
          "scattercarpet": [
           {
            "marker": {
             "colorbar": {
              "outlinewidth": 0,
              "ticks": ""
             }
            },
            "type": "scattercarpet"
           }
          ],
          "scattergeo": [
           {
            "marker": {
             "colorbar": {
              "outlinewidth": 0,
              "ticks": ""
             }
            },
            "type": "scattergeo"
           }
          ],
          "scattergl": [
           {
            "marker": {
             "colorbar": {
              "outlinewidth": 0,
              "ticks": ""
             }
            },
            "type": "scattergl"
           }
          ],
          "scattermapbox": [
           {
            "marker": {
             "colorbar": {
              "outlinewidth": 0,
              "ticks": ""
             }
            },
            "type": "scattermapbox"
           }
          ],
          "scatterpolar": [
           {
            "marker": {
             "colorbar": {
              "outlinewidth": 0,
              "ticks": ""
             }
            },
            "type": "scatterpolar"
           }
          ],
          "scatterpolargl": [
           {
            "marker": {
             "colorbar": {
              "outlinewidth": 0,
              "ticks": ""
             }
            },
            "type": "scatterpolargl"
           }
          ],
          "scatterternary": [
           {
            "marker": {
             "colorbar": {
              "outlinewidth": 0,
              "ticks": ""
             }
            },
            "type": "scatterternary"
           }
          ],
          "surface": [
           {
            "colorbar": {
             "outlinewidth": 0,
             "ticks": ""
            },
            "colorscale": [
             [
              0,
              "#0d0887"
             ],
             [
              0.1111111111111111,
              "#46039f"
             ],
             [
              0.2222222222222222,
              "#7201a8"
             ],
             [
              0.3333333333333333,
              "#9c179e"
             ],
             [
              0.4444444444444444,
              "#bd3786"
             ],
             [
              0.5555555555555556,
              "#d8576b"
             ],
             [
              0.6666666666666666,
              "#ed7953"
             ],
             [
              0.7777777777777778,
              "#fb9f3a"
             ],
             [
              0.8888888888888888,
              "#fdca26"
             ],
             [
              1,
              "#f0f921"
             ]
            ],
            "type": "surface"
           }
          ],
          "table": [
           {
            "cells": {
             "fill": {
              "color": "#EBF0F8"
             },
             "line": {
              "color": "white"
             }
            },
            "header": {
             "fill": {
              "color": "#C8D4E3"
             },
             "line": {
              "color": "white"
             }
            },
            "type": "table"
           }
          ]
         },
         "layout": {
          "annotationdefaults": {
           "arrowcolor": "#2a3f5f",
           "arrowhead": 0,
           "arrowwidth": 1
          },
          "autotypenumbers": "strict",
          "coloraxis": {
           "colorbar": {
            "outlinewidth": 0,
            "ticks": ""
           }
          },
          "colorscale": {
           "diverging": [
            [
             0,
             "#8e0152"
            ],
            [
             0.1,
             "#c51b7d"
            ],
            [
             0.2,
             "#de77ae"
            ],
            [
             0.3,
             "#f1b6da"
            ],
            [
             0.4,
             "#fde0ef"
            ],
            [
             0.5,
             "#f7f7f7"
            ],
            [
             0.6,
             "#e6f5d0"
            ],
            [
             0.7,
             "#b8e186"
            ],
            [
             0.8,
             "#7fbc41"
            ],
            [
             0.9,
             "#4d9221"
            ],
            [
             1,
             "#276419"
            ]
           ],
           "sequential": [
            [
             0,
             "#0d0887"
            ],
            [
             0.1111111111111111,
             "#46039f"
            ],
            [
             0.2222222222222222,
             "#7201a8"
            ],
            [
             0.3333333333333333,
             "#9c179e"
            ],
            [
             0.4444444444444444,
             "#bd3786"
            ],
            [
             0.5555555555555556,
             "#d8576b"
            ],
            [
             0.6666666666666666,
             "#ed7953"
            ],
            [
             0.7777777777777778,
             "#fb9f3a"
            ],
            [
             0.8888888888888888,
             "#fdca26"
            ],
            [
             1,
             "#f0f921"
            ]
           ],
           "sequentialminus": [
            [
             0,
             "#0d0887"
            ],
            [
             0.1111111111111111,
             "#46039f"
            ],
            [
             0.2222222222222222,
             "#7201a8"
            ],
            [
             0.3333333333333333,
             "#9c179e"
            ],
            [
             0.4444444444444444,
             "#bd3786"
            ],
            [
             0.5555555555555556,
             "#d8576b"
            ],
            [
             0.6666666666666666,
             "#ed7953"
            ],
            [
             0.7777777777777778,
             "#fb9f3a"
            ],
            [
             0.8888888888888888,
             "#fdca26"
            ],
            [
             1,
             "#f0f921"
            ]
           ]
          },
          "colorway": [
           "#636efa",
           "#EF553B",
           "#00cc96",
           "#ab63fa",
           "#FFA15A",
           "#19d3f3",
           "#FF6692",
           "#B6E880",
           "#FF97FF",
           "#FECB52"
          ],
          "font": {
           "color": "#2a3f5f"
          },
          "geo": {
           "bgcolor": "white",
           "lakecolor": "white",
           "landcolor": "#E5ECF6",
           "showlakes": true,
           "showland": true,
           "subunitcolor": "white"
          },
          "hoverlabel": {
           "align": "left"
          },
          "hovermode": "closest",
          "mapbox": {
           "style": "light"
          },
          "paper_bgcolor": "white",
          "plot_bgcolor": "#E5ECF6",
          "polar": {
           "angularaxis": {
            "gridcolor": "white",
            "linecolor": "white",
            "ticks": ""
           },
           "bgcolor": "#E5ECF6",
           "radialaxis": {
            "gridcolor": "white",
            "linecolor": "white",
            "ticks": ""
           }
          },
          "scene": {
           "xaxis": {
            "backgroundcolor": "#E5ECF6",
            "gridcolor": "white",
            "gridwidth": 2,
            "linecolor": "white",
            "showbackground": true,
            "ticks": "",
            "zerolinecolor": "white"
           },
           "yaxis": {
            "backgroundcolor": "#E5ECF6",
            "gridcolor": "white",
            "gridwidth": 2,
            "linecolor": "white",
            "showbackground": true,
            "ticks": "",
            "zerolinecolor": "white"
           },
           "zaxis": {
            "backgroundcolor": "#E5ECF6",
            "gridcolor": "white",
            "gridwidth": 2,
            "linecolor": "white",
            "showbackground": true,
            "ticks": "",
            "zerolinecolor": "white"
           }
          },
          "shapedefaults": {
           "line": {
            "color": "#2a3f5f"
           }
          },
          "ternary": {
           "aaxis": {
            "gridcolor": "white",
            "linecolor": "white",
            "ticks": ""
           },
           "baxis": {
            "gridcolor": "white",
            "linecolor": "white",
            "ticks": ""
           },
           "bgcolor": "#E5ECF6",
           "caxis": {
            "gridcolor": "white",
            "linecolor": "white",
            "ticks": ""
           }
          },
          "title": {
           "x": 0.05
          },
          "xaxis": {
           "automargin": true,
           "gridcolor": "white",
           "linecolor": "white",
           "ticks": "",
           "title": {
            "standoff": 15
           },
           "zerolinecolor": "white",
           "zerolinewidth": 2
          },
          "yaxis": {
           "automargin": true,
           "gridcolor": "white",
           "linecolor": "white",
           "ticks": "",
           "title": {
            "standoff": 15
           },
           "zerolinecolor": "white",
           "zerolinewidth": 2
          }
         }
        },
        "title": {
         "text": "Titles vs Win Rate of American Tennis Players"
        },
        "xaxis": {
         "anchor": "y",
         "domain": [
          0,
          1
         ],
         "title": {
          "text": "Titles"
         }
        },
        "yaxis": {
         "anchor": "x",
         "domain": [
          0,
          1
         ],
         "title": {
          "text": "Win_Rate"
         }
        }
       }
      }
     },
     "metadata": {},
     "output_type": "display_data"
    }
   ],
   "source": [
    "#!response\n",
    "px.scatter(df, x=x, y=y, color=color, title=title)\n",
    "\n",
    "#<xml xmlns=\"https://developers.google.com/blockly/xml\"><variables><variable id=\"k~x.[L6_#?Sh9W0z!fdX\">px</variable><variable id=\"RVIV6};,0{p761]Hxk*Z\">df</variable></variables><block type=\"varDoMethod_Python\" id=\"sKc!zD^_=81/5|ulu`S;\" x=\"-44\" y=\"184\"><field name=\"VAR\" id=\"k~x.[L6_#?Sh9W0z!fdX\">px</field><field name=\"MEMBER\">scatter</field><data>px:scatter</data><value name=\"INPUT\"><block type=\"lists_create_with\" id=\"hbq8etOkWSPlZeQXbZ%~\"><mutation items=\"5\"></mutation><value name=\"ADD0\"><block type=\"variables_get\" id=\",b%S@Lasm#v+G(*;?ph:\"><field name=\"VAR\" id=\"RVIV6};,0{p761]Hxk*Z\">df</field></block></value><value name=\"ADD1\"><block type=\"dummyOutputCodeBlock_Python\" id=\"rc]=?|Jx`7bT!x,{p$Wm\"><field name=\"CODE\">x=x</field></block></value><value name=\"ADD2\"><block type=\"dummyOutputCodeBlock_Python\" id=\"}.3LG6NTw$.-)FOgZ))*\"><field name=\"CODE\">y=y</field></block></value><value name=\"ADD3\"><block type=\"dummyOutputCodeBlock_Python\" id=\"qwyl#:)5ERx2syDH@lz}\"><field name=\"CODE\">color=color</field></block></value><value name=\"ADD4\"><block type=\"dummyOutputCodeBlock_Python\" id=\"*W*zR,diP!gyAG3r@FPJ\"><field name=\"CODE\">title=title</field></block></value></block></value></block></xml>"
   ]
  },
  {
   "cell_type": "markdown",
   "id": "f6b5cc96",
   "metadata": {},
   "source": [
    "#!action\n",
    "\n",
    "Screenshot the chart."
   ]
  }
 ],
 "metadata": {
  "kernelspec": {
   "display_name": "base",
   "language": "python",
   "name": "python3"
  },
  "language_info": {
   "codemirror_mode": {
    "name": "ipython",
    "version": 3
   },
   "file_extension": ".py",
   "mimetype": "text/x-python",
   "name": "python",
   "nbconvert_exporter": "python",
   "pygments_lexer": "ipython3",
   "version": "3.9.13"
  }
 },
 "nbformat": 4,
 "nbformat_minor": 5
}
