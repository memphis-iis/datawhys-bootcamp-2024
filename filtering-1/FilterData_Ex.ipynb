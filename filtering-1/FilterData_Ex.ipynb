{
 "cells": [
  {
   "cell_type": "markdown",
   "id": "0b68254e",
   "metadata": {},
   "source": [
    "# Question: Given a dataset about cars, find the cars of some specific features.\n",
    "\n",
    "Suppose we have this dataset, named `mpg.csv`, where we have information about cars. First, we load the dataset into a dataframe and see its contents."
   ]
  },
  {
   "cell_type": "markdown",
   "id": "829a5741",
   "metadata": {},
   "source": [
    "## Step 1: Read CSV Data into Pandas Dataframe"
   ]
  },
  {
   "cell_type": "markdown",
   "id": "6c9b6465",
   "metadata": {},
   "source": [
    "#### Substep. &nbsp;&nbsp; Import Pandas Library"
   ]
  },
  {
   "cell_type": "markdown",
   "id": "24f0a80b",
   "metadata": {},
   "source": [
    "#!blhint\n",
    "\n",
    "- Create variable &nbsp;`pd`\n",
    "- `import pandas as pd`"
   ]
  },
  {
   "cell_type": "markdown",
   "id": "6850f69c",
   "metadata": {},
   "source": [
    "Here's how:\n",
    "\n",
    "1. From IMPORT, grab `import .. as ..`\n",
    "2. Replace text `some library` with `pandas`\n",
    "3. From VARIABLES, click `Create Variable...`, enter `pd`, click OK\n",
    "4. Select `pd` from `variable name` dropdown in `import .. as ..`\n",
    "5. Click Blocks to Code and run cell"
   ]
  },
  {
   "cell_type": "markdown",
   "id": "f250fc0f",
   "metadata": {},
   "source": [
    "<br>\n",
    "<details>\n",
    "    <summary>Blockly Hints (Click to expand)</summary>\n",
    "    <ul>\n",
    "        <li>Blocks\n",
    "            <ul>\n",
    "                <li><code>import .. as ..</code>\n",
    "                    <ul>\n",
    "                        <li>The <code>import .. as ..</code> block is found under IMPORT.</li> \n",
    "                        <li>A variable must have been created before it will appear in the dropdown.</li>\n",
    "                    </ul>\n",
    "                </li>\n",
    "            </ul>\n",
    "        </li>\n",
    "    </ul>\n",
    "</details>"
   ]
  },
  {
   "cell_type": "code",
   "execution_count": 12,
   "id": "303703de",
   "metadata": {},
   "outputs": [],
   "source": [
    "import pandas as pd\n",
    "\n"
   ]
  },
  {
   "cell_type": "markdown",
   "id": "f8b14a9f",
   "metadata": {},
   "source": [
    "#### Substep. &nbsp;&nbsp; Read CSV data and Save in Variable"
   ]
  },
  {
   "cell_type": "markdown",
   "id": "9c9c3700",
   "metadata": {},
   "source": [
    "#!blhint\n",
    "\n",
    "- Create variable &nbsp;`car_data`\n",
    "- `set car_data to` &nbsp;:&nbsp; `with pd do read_csv using` &nbsp;<-&nbsp; `\" datasets/mpg.csv \"`"
   ]
  },
  {
   "cell_type": "markdown",
   "id": "beff03cd",
   "metadata": {},
   "source": [
    "Here's how:\n",
    "\n",
    "1. From VARIABLES, grab `with .. do .. using ..`\n",
    "2. Make sure `pd` is selected in dropdown after with\n",
    "3. Select `read_csv` from dropdown after do\n",
    "4. From TEXT, grab `\" .. \"`\n",
    "5. Type `datasets/mpg.csv` into `\" .. \"`\n",
    "6. Drag the `\" .. \"` into the space after using in `with .. do .. using ..`\n",
    "7. From VARIABLES, click `Create Variable...`, enter `car_data`, click OK\n",
    "8. From VARIABLES, grab `set .. to`\n",
    "9. Change dropdown after set to `car_data`\n",
    "10. Connect `set .. to` and `with .. do .. using ..`\n",
    "11. Click Blocks to Code and run cell"
   ]
  },
  {
   "cell_type": "markdown",
   "id": "47b11c2f",
   "metadata": {},
   "source": [
    "<br><details><summary>Blockly Hints (Click triangle to expand)</summary><ul><li>Notation<ul><li><code>A</code> &nbsp;:&nbsp; <code>B</code>&nbsp; means snap blocks A and B together.</li><li><code>A</code> &nbsp;&lt;-&nbsp; <code>B</code>&nbsp; means insert block B into the hole in block A.</li></ul></li><li>Blocks<ul><li><code>set .. to</code><ul><li>The <code>set .. to</code> block is found under VARIABLES.</li> <li>A variable must have been created before it will appear in the dropdown.</li></ul></li><li><code>with .. do .. using ..</code><ul><li>The <code>with .. do .. using ..</code> block is found under VARIABLES.</li> <li>If <code>do</code> dropdown says \"!Not populated until you execute code\", click anywhere in the notebook tab, then click try \"Run All Above Selected Cell\" from the \"Run\" menu.</li> <li>If <code>with .. do .. using ..</code> block does not want to snap together nicely with the <code>set .. to</code> block, try dragging the <code>set .. to</code> block instead.</li></ul></li><li><code>\" .. \"</code><ul><li>The <code>\" .. \"</code> block is found under TEXT.</li></ul></li></ul></li></ul></details>"
   ]
  },
  {
   "cell_type": "code",
   "execution_count": 13,
   "id": "279582df",
   "metadata": {},
   "outputs": [],
   "source": [
    "car_data = pd.read_csv('datasets/mpg.csv')\n",
    "\n"
   ]
  },
  {
   "cell_type": "markdown",
   "id": "4b5027fa",
   "metadata": {},
   "source": [
    "#### Substep. &nbsp;&nbsp; Display Dataframe Contents"
   ]
  },
  {
   "cell_type": "markdown",
   "id": "ba8c739f",
   "metadata": {},
   "source": [
    "#!blhint\n",
    "\n",
    "- variable &nbsp;`car_data`"
   ]
  },
  {
   "cell_type": "markdown",
   "id": "e3d9b200",
   "metadata": {},
   "source": [
    "Here's how:\n",
    "\n",
    "1. From VARIABLES, grab `car_data`\n",
    "2. Click Blocks to Code and run cell"
   ]
  },
  {
   "cell_type": "markdown",
   "id": "84e5a48b",
   "metadata": {},
   "source": [
    "<br>\n",
    "<details>\n",
    "    <summary>Blockly Hints (Click on triangle to expand)</summary>\n",
    "    <ul>\n",
    "        <li>Blocks\n",
    "            <ul>\n",
    "                <li>variable\n",
    "                    <ul>\n",
    "                        <li>After it is created, each variable has its own block at the end of the VARIABLES menu.</li>\n",
    "                    </ul>\n",
    "                </li>\n",
    "            </ul>\n",
    "        </li>\n",
    "    </ul>\n",
    "</details>\n"
   ]
  },
  {
   "cell_type": "code",
   "execution_count": 14,
   "id": "f4710288",
   "metadata": {},
   "outputs": [
    {
     "data": {
      "text/html": [
       "<div>\n",
       "<style scoped>\n",
       "    .dataframe tbody tr th:only-of-type {\n",
       "        vertical-align: middle;\n",
       "    }\n",
       "\n",
       "    .dataframe tbody tr th {\n",
       "        vertical-align: top;\n",
       "    }\n",
       "\n",
       "    .dataframe thead th {\n",
       "        text-align: right;\n",
       "    }\n",
       "</style>\n",
       "<table border=\"1\" class=\"dataframe\">\n",
       "  <thead>\n",
       "    <tr style=\"text-align: right;\">\n",
       "      <th></th>\n",
       "      <th>mpg</th>\n",
       "      <th>cylinders</th>\n",
       "      <th>displacement</th>\n",
       "      <th>horsepower</th>\n",
       "      <th>weight</th>\n",
       "      <th>acceleration</th>\n",
       "      <th>model_year</th>\n",
       "      <th>origin</th>\n",
       "      <th>name</th>\n",
       "    </tr>\n",
       "  </thead>\n",
       "  <tbody>\n",
       "    <tr>\n",
       "      <th>0</th>\n",
       "      <td>18.0</td>\n",
       "      <td>8</td>\n",
       "      <td>307.0</td>\n",
       "      <td>130.0</td>\n",
       "      <td>3504</td>\n",
       "      <td>12.0</td>\n",
       "      <td>70</td>\n",
       "      <td>1</td>\n",
       "      <td>chevrolet chevelle malibu</td>\n",
       "    </tr>\n",
       "    <tr>\n",
       "      <th>1</th>\n",
       "      <td>15.0</td>\n",
       "      <td>8</td>\n",
       "      <td>350.0</td>\n",
       "      <td>165.0</td>\n",
       "      <td>3693</td>\n",
       "      <td>11.5</td>\n",
       "      <td>70</td>\n",
       "      <td>1</td>\n",
       "      <td>buick skylark 320</td>\n",
       "    </tr>\n",
       "    <tr>\n",
       "      <th>2</th>\n",
       "      <td>18.0</td>\n",
       "      <td>8</td>\n",
       "      <td>318.0</td>\n",
       "      <td>150.0</td>\n",
       "      <td>3436</td>\n",
       "      <td>11.0</td>\n",
       "      <td>70</td>\n",
       "      <td>1</td>\n",
       "      <td>plymouth satellite</td>\n",
       "    </tr>\n",
       "    <tr>\n",
       "      <th>3</th>\n",
       "      <td>16.0</td>\n",
       "      <td>8</td>\n",
       "      <td>304.0</td>\n",
       "      <td>150.0</td>\n",
       "      <td>3433</td>\n",
       "      <td>12.0</td>\n",
       "      <td>70</td>\n",
       "      <td>1</td>\n",
       "      <td>amc rebel sst</td>\n",
       "    </tr>\n",
       "    <tr>\n",
       "      <th>4</th>\n",
       "      <td>17.0</td>\n",
       "      <td>8</td>\n",
       "      <td>302.0</td>\n",
       "      <td>140.0</td>\n",
       "      <td>3449</td>\n",
       "      <td>10.5</td>\n",
       "      <td>70</td>\n",
       "      <td>1</td>\n",
       "      <td>ford torino</td>\n",
       "    </tr>\n",
       "    <tr>\n",
       "      <th>...</th>\n",
       "      <td>...</td>\n",
       "      <td>...</td>\n",
       "      <td>...</td>\n",
       "      <td>...</td>\n",
       "      <td>...</td>\n",
       "      <td>...</td>\n",
       "      <td>...</td>\n",
       "      <td>...</td>\n",
       "      <td>...</td>\n",
       "    </tr>\n",
       "    <tr>\n",
       "      <th>393</th>\n",
       "      <td>27.0</td>\n",
       "      <td>4</td>\n",
       "      <td>140.0</td>\n",
       "      <td>86.0</td>\n",
       "      <td>2790</td>\n",
       "      <td>15.6</td>\n",
       "      <td>82</td>\n",
       "      <td>1</td>\n",
       "      <td>ford mustang gl</td>\n",
       "    </tr>\n",
       "    <tr>\n",
       "      <th>394</th>\n",
       "      <td>44.0</td>\n",
       "      <td>4</td>\n",
       "      <td>97.0</td>\n",
       "      <td>52.0</td>\n",
       "      <td>2130</td>\n",
       "      <td>24.6</td>\n",
       "      <td>82</td>\n",
       "      <td>2</td>\n",
       "      <td>vw pickup</td>\n",
       "    </tr>\n",
       "    <tr>\n",
       "      <th>395</th>\n",
       "      <td>32.0</td>\n",
       "      <td>4</td>\n",
       "      <td>135.0</td>\n",
       "      <td>84.0</td>\n",
       "      <td>2295</td>\n",
       "      <td>11.6</td>\n",
       "      <td>82</td>\n",
       "      <td>1</td>\n",
       "      <td>dodge rampage</td>\n",
       "    </tr>\n",
       "    <tr>\n",
       "      <th>396</th>\n",
       "      <td>28.0</td>\n",
       "      <td>4</td>\n",
       "      <td>120.0</td>\n",
       "      <td>79.0</td>\n",
       "      <td>2625</td>\n",
       "      <td>18.6</td>\n",
       "      <td>82</td>\n",
       "      <td>1</td>\n",
       "      <td>ford ranger</td>\n",
       "    </tr>\n",
       "    <tr>\n",
       "      <th>397</th>\n",
       "      <td>31.0</td>\n",
       "      <td>4</td>\n",
       "      <td>119.0</td>\n",
       "      <td>82.0</td>\n",
       "      <td>2720</td>\n",
       "      <td>19.4</td>\n",
       "      <td>82</td>\n",
       "      <td>1</td>\n",
       "      <td>chevy s-10</td>\n",
       "    </tr>\n",
       "  </tbody>\n",
       "</table>\n",
       "<p>398 rows × 9 columns</p>\n",
       "</div>"
      ],
      "text/plain": [
       "      mpg  cylinders  displacement  horsepower  weight  acceleration  \\\n",
       "0    18.0          8         307.0       130.0    3504          12.0   \n",
       "1    15.0          8         350.0       165.0    3693          11.5   \n",
       "2    18.0          8         318.0       150.0    3436          11.0   \n",
       "3    16.0          8         304.0       150.0    3433          12.0   \n",
       "4    17.0          8         302.0       140.0    3449          10.5   \n",
       "..    ...        ...           ...         ...     ...           ...   \n",
       "393  27.0          4         140.0        86.0    2790          15.6   \n",
       "394  44.0          4          97.0        52.0    2130          24.6   \n",
       "395  32.0          4         135.0        84.0    2295          11.6   \n",
       "396  28.0          4         120.0        79.0    2625          18.6   \n",
       "397  31.0          4         119.0        82.0    2720          19.4   \n",
       "\n",
       "     model_year  origin                       name  \n",
       "0            70       1  chevrolet chevelle malibu  \n",
       "1            70       1          buick skylark 320  \n",
       "2            70       1         plymouth satellite  \n",
       "3            70       1              amc rebel sst  \n",
       "4            70       1                ford torino  \n",
       "..          ...     ...                        ...  \n",
       "393          82       1            ford mustang gl  \n",
       "394          82       2                  vw pickup  \n",
       "395          82       1              dodge rampage  \n",
       "396          82       1                ford ranger  \n",
       "397          82       1                 chevy s-10  \n",
       "\n",
       "[398 rows x 9 columns]"
      ]
     },
     "execution_count": 14,
     "metadata": {},
     "output_type": "execute_result"
    }
   ],
   "source": [
    "car_data\n",
    "\n"
   ]
  },
  {
   "cell_type": "markdown",
   "id": "1b37f777",
   "metadata": {},
   "source": [
    "## Step 2: Find cars with specific features\n"
   ]
  },
  {
   "cell_type": "markdown",
   "id": "4b6bc3d5",
   "metadata": {},
   "source": [
    "#### Look at the features in the dataset"
   ]
  },
  {
   "cell_type": "markdown",
   "id": "508f8c36",
   "metadata": {},
   "source": [
    "#!blhint\n",
    "\n",
    "- variable &nbsp;`from car_data get columns`"
   ]
  },
  {
   "cell_type": "markdown",
   "id": "20ad207a",
   "metadata": {},
   "source": [
    "Here's how:\n",
    "\n",
    "1. From VARIABLES, grab `from .. get .. `\n",
    "2. Make sure `car_edata` is selected in dropdown after `from`\n",
    "3. Select `columns` from dropdown after `get`\n",
    "4. Click on \"Blocks to Code\" at the bottom of the blockly palette.\n",
    "5. Run the python code cell."
   ]
  },
  {
   "cell_type": "markdown",
   "id": "aec0f80f",
   "metadata": {},
   "source": [
    "<details>\n",
    "<summary> Blockly Instructions(click triangle to expand) </summary>\n",
    "<br>\n",
    "                       \n",
    "- `from.. get..` block can be found in VARIABLES menu of Blockly palette.\n",
    "- A variable must have been created before it will appear in the dropdown.\n",
    "- If dropdown says \"!Not populated until you execute code\", click anywhere in the notebook tab, then click try \"Run All Above Selected Cell\" from the \"Run\" menu.\n",
    "\n",
    "</details>"
   ]
  },
  {
   "cell_type": "code",
   "execution_count": 15,
   "id": "98ee43d1",
   "metadata": {},
   "outputs": [
    {
     "data": {
      "text/plain": [
       "Index(['mpg', 'cylinders', 'displacement', 'horsepower', 'weight',\n",
       "       'acceleration', 'model_year', 'origin', 'name'],\n",
       "      dtype='object')"
      ]
     },
     "execution_count": 15,
     "metadata": {},
     "output_type": "execute_result"
    }
   ],
   "source": [
    "car_data.columns\n",
    "\n"
   ]
  },
  {
   "cell_type": "markdown",
   "id": "5a61f866",
   "metadata": {},
   "source": [
    "#### Filter the required features from the dataset\n",
    "After looking at the car_data and the features of car_data, let's suppose as a customer, we want to buy the cars which :\n",
    "- have only 4 cylinders\n",
    "- name is \"toyota corolla\"\n",
    "- model_year is after 1980"
   ]
  },
  {
   "cell_type": "markdown",
   "id": "26d6150d",
   "metadata": {},
   "source": [
    "There is lots of information shown about the car (mpg, cylinders, etc). But, we are interested in only a few of the variables here. We only want information about name, cylinders and model_year of the cars. So, we filter only those required information next."
   ]
  },
  {
   "cell_type": "markdown",
   "id": "764e21c6",
   "metadata": {},
   "source": [
    "#!blhint\n",
    "\n",
    "`Set car_data to` : `car_data [ .. ]` &nbsp;<-&nbsp; `create list with` &nbsp;:\n",
    "  - `\"cylinders\"`\n",
    "  - `\"name\"`\n",
    "  - `\"model_year\"`"
   ]
  },
  {
   "cell_type": "markdown",
   "id": "78f36db5",
   "metadata": {},
   "source": [
    "Here's how:\n",
    "\n",
    "1. From `LISTS` block , click on `{dictVariable} [ ]` block. Put `car_data` in place of {dictVariable}. \n",
    "2. From `LISTS`, click on `create list with` block. It has 3 coonection point.\n",
    "3. Take 4 `\" \"` block from `TEXT` block. write `cylinders, name, model_year` in the text blocks. Drag them inside `create list with` block.\n",
    "4. Drag the `create list with` block inside `car_data`\n",
    "5. Click on `Set {dictVariable} to` block and change it to `set car_data to` and connect to the `car_data` block.\n",
    "6. From `VARIABLES` block, click the `car_data` block.     \n",
    "7. Click on \"Blocks to Code\" at the bottom of the blockly palette.\n",
    "8. Run the python code cell."
   ]
  },
  {
   "cell_type": "markdown",
   "id": "c73b9a7b",
   "metadata": {},
   "source": [
    "<details><summary>Blockly Hints (Click the triangle to expand)</summary><ul><li>Notation<ul><li><code>A</code> &nbsp;:&nbsp; <code>B</code>&nbsp; means snap blocks A and B together.</li><li><code>A</code> &nbsp;&lt;-&nbsp; <code>B</code>&nbsp; means insert block B into the hole in block A.</li></ul></li><li>Blocks<ul><li><code>\\{dictVariable\\} [ .. ]</code><ul><li>The <code>\\{dictVariable\\} [ .. ]</code> block is found under LISTS.</li></ul></li><li><code>create list with</code><ul><li>The <code>create list with</code> block is found under LISTS.</li> <li>You can use the <code>+ -</code> controls on the block to change the number of notches. Unless specifically instructed, the block should not have any empty notches when you click Blocks to Code. </li></ul></li><li><code>\" .. \"</code><ul><li>The <code>\" .. \"</code> block is found under TEXT.</li></ul></li></ul></li></ul></details>"
   ]
  },
  {
   "cell_type": "code",
   "execution_count": 16,
   "id": "3a6bfebf",
   "metadata": {},
   "outputs": [
    {
     "data": {
      "text/html": [
       "<div>\n",
       "<style scoped>\n",
       "    .dataframe tbody tr th:only-of-type {\n",
       "        vertical-align: middle;\n",
       "    }\n",
       "\n",
       "    .dataframe tbody tr th {\n",
       "        vertical-align: top;\n",
       "    }\n",
       "\n",
       "    .dataframe thead th {\n",
       "        text-align: right;\n",
       "    }\n",
       "</style>\n",
       "<table border=\"1\" class=\"dataframe\">\n",
       "  <thead>\n",
       "    <tr style=\"text-align: right;\">\n",
       "      <th></th>\n",
       "      <th>cylinders</th>\n",
       "      <th>name</th>\n",
       "      <th>model_year</th>\n",
       "    </tr>\n",
       "  </thead>\n",
       "  <tbody>\n",
       "    <tr>\n",
       "      <th>0</th>\n",
       "      <td>8</td>\n",
       "      <td>chevrolet chevelle malibu</td>\n",
       "      <td>70</td>\n",
       "    </tr>\n",
       "    <tr>\n",
       "      <th>1</th>\n",
       "      <td>8</td>\n",
       "      <td>buick skylark 320</td>\n",
       "      <td>70</td>\n",
       "    </tr>\n",
       "    <tr>\n",
       "      <th>2</th>\n",
       "      <td>8</td>\n",
       "      <td>plymouth satellite</td>\n",
       "      <td>70</td>\n",
       "    </tr>\n",
       "    <tr>\n",
       "      <th>3</th>\n",
       "      <td>8</td>\n",
       "      <td>amc rebel sst</td>\n",
       "      <td>70</td>\n",
       "    </tr>\n",
       "    <tr>\n",
       "      <th>4</th>\n",
       "      <td>8</td>\n",
       "      <td>ford torino</td>\n",
       "      <td>70</td>\n",
       "    </tr>\n",
       "    <tr>\n",
       "      <th>...</th>\n",
       "      <td>...</td>\n",
       "      <td>...</td>\n",
       "      <td>...</td>\n",
       "    </tr>\n",
       "    <tr>\n",
       "      <th>393</th>\n",
       "      <td>4</td>\n",
       "      <td>ford mustang gl</td>\n",
       "      <td>82</td>\n",
       "    </tr>\n",
       "    <tr>\n",
       "      <th>394</th>\n",
       "      <td>4</td>\n",
       "      <td>vw pickup</td>\n",
       "      <td>82</td>\n",
       "    </tr>\n",
       "    <tr>\n",
       "      <th>395</th>\n",
       "      <td>4</td>\n",
       "      <td>dodge rampage</td>\n",
       "      <td>82</td>\n",
       "    </tr>\n",
       "    <tr>\n",
       "      <th>396</th>\n",
       "      <td>4</td>\n",
       "      <td>ford ranger</td>\n",
       "      <td>82</td>\n",
       "    </tr>\n",
       "    <tr>\n",
       "      <th>397</th>\n",
       "      <td>4</td>\n",
       "      <td>chevy s-10</td>\n",
       "      <td>82</td>\n",
       "    </tr>\n",
       "  </tbody>\n",
       "</table>\n",
       "<p>398 rows × 3 columns</p>\n",
       "</div>"
      ],
      "text/plain": [
       "     cylinders                       name  model_year\n",
       "0            8  chevrolet chevelle malibu          70\n",
       "1            8          buick skylark 320          70\n",
       "2            8         plymouth satellite          70\n",
       "3            8              amc rebel sst          70\n",
       "4            8                ford torino          70\n",
       "..         ...                        ...         ...\n",
       "393          4            ford mustang gl          82\n",
       "394          4                  vw pickup          82\n",
       "395          4              dodge rampage          82\n",
       "396          4                ford ranger          82\n",
       "397          4                 chevy s-10          82\n",
       "\n",
       "[398 rows x 3 columns]"
      ]
     },
     "execution_count": 16,
     "metadata": {},
     "output_type": "execute_result"
    }
   ],
   "source": [
    "car_data = car_data[['cylinders', 'name', 'model_year']]\n",
    "\n",
    "car_data\n",
    "\n"
   ]
  },
  {
   "cell_type": "markdown",
   "id": "3841629c",
   "metadata": {},
   "source": [
    "#### Filter cars with 4 cylinders\n",
    "\n",
    "We filter our car data by only keeping the cars having 4 cylinders and store them in a new variable."
   ]
  },
  {
   "cell_type": "markdown",
   "id": "4fe40126",
   "metadata": {},
   "source": [
    "#!blhint\n",
    "- create variable `cylinder4`\n",
    "- `Set cylinder4 to` &nbsp;:&nbsp; `car_data [ .. ]` &nbsp;<-&nbsp; ` .. = .. ` &nbsp;<-\n",
    "  - `from car_data get cylinders`\n",
    "  - `4`\n",
    "- Will look like - `Set cylinder4 to car_data [ from car_data get cylinders = 4]`"
   ]
  },
  {
   "cell_type": "markdown",
   "id": "a28e12fe",
   "metadata": {},
   "source": [
    "Here's how:\n",
    "\n",
    "1. From `LISTS`, click on `{dictVariable}[..]`. place `car_data` inplace of `dictvariable`.\n",
    "2. From `LOGIC` block, grab `.. = ..` block and put it within `[..]` part of the `car_data[..]` block. Together the block will look like `car_data[.. = ..]`.\n",
    "3. From `VARIABLES` click on `from .. get ..` block.Then select `car_data` from the dropdown located after `from` and select `cylinders` from the dropdown located after `get`. The block will look like `from car_data get cylinders`.\n",
    "5. Grab the `from car_data get cylinders` block and put it on the left side of `=` which is located in the `car_data[.. = ..]` block. Together it will look like `car_data[from car_data get cylinders = ..]`\n",
    "6. From `MATH`, click on `123` block and change the `123` to `4`. It will look like `4`.\n",
    "7. Grab the `4` block and put it on the right side of `=` which is located in the `car_data[from car_data get cylinders = ..]`. Together the block will look like `car_data[from car_data get cylinders = 4]`\n",
    "7. In `VARIABLES`, click on `Create variable..` and create a variable named `cylinder4`.\n",
    "8. Again in `VARIABLES`, grab the `set cylinder4 to` and connect it at the start of `car_data[from car_data get cylinders = 4]` block. Together it will look like `set cylinder4 to car_data[from car_data get cylinders = 4]`\n",
    "9. Click on \"Blocks to Code\" at the bottom of the blockly palette.\n",
    "10. Run the code cell of the notebook"
   ]
  },
  {
   "cell_type": "markdown",
   "id": "88a3fab8",
   "metadata": {},
   "source": [
    "<br>\n",
    "<details>\n",
    "  <summary>Blockly Hints (Click on the triangle to expand)</summary>\n",
    "  <ul>\n",
    "    <li>Notation\n",
    "      <ul>\n",
    "        <li><code>A</code> &nbsp;:&nbsp; <code>B</code>&nbsp; means snap blocks A and B together.</li>\n",
    "        <li><code>A</code> &nbsp;&lt-&nbsp; <code>B</code>&nbsp; means insert block B into the hole in block A.</li>\n",
    "      </ul>\n",
    "    </li>\n",
    "    <li>Blocks\n",
    "      <ul>\n",
    "        <li><code>set .. to</code>\n",
    "          <ul>\n",
    "            <li>The <code>set .. to</code> block is found under VARIABLES.</li>\n",
    "            <li>A variable must have been created before it will appear in the dropdown.</li>\n",
    "          </ul>\n",
    "        </li>\n",
    "        <li><code>{dictVariable} [ .. ]</code>\n",
    "          <ul>\n",
    "            <li>The <code>{dictVariable} [ .. ]</code> block is found under LISTS.</li>\n",
    "          </ul>\n",
    "        </li>\n",
    "        <li><code> .. = .. </code>\n",
    "          <ul>\n",
    "            <li>The <code> .. = .. </code> block is found under LOGIC.</li>\n",
    "            <li>Use the dropdown to get other comparison operators.</li>\n",
    "          </ul>\n",
    "        </li>\n",
    "        <li><code>from .. get ..</code>\n",
    "          <ul>\n",
    "            <li>The <code>from .. get ..</code> block is found under VARIABLES.</li>\n",
    "          </ul>\n",
    "        </li>\n",
    "      </ul>\n",
    "    </li>\n",
    "  </ul>\n",
    "</details>"
   ]
  },
  {
   "cell_type": "code",
   "execution_count": 17,
   "id": "202fd387",
   "metadata": {},
   "outputs": [],
   "source": [
    "cylinder4 = car_data[(car_data.cylinders == 4)]\n",
    "\n"
   ]
  },
  {
   "cell_type": "markdown",
   "id": "92923de1",
   "metadata": {},
   "source": [
    "Now we want to display our variable in which we stored the filtered cars with 4 cylinders."
   ]
  },
  {
   "cell_type": "markdown",
   "id": "44a3abc8",
   "metadata": {},
   "source": [
    "#!blhint\n",
    "\n",
    "- variable &nbsp;`cylinder4`"
   ]
  },
  {
   "cell_type": "markdown",
   "id": "a4f44013",
   "metadata": {},
   "source": [
    "Here's how:\n",
    "\n",
    "1. From VARIABLES, grab `cylinder4`\n",
    "2. Click Blocks to Code and run cell"
   ]
  },
  {
   "cell_type": "markdown",
   "id": "3d191779",
   "metadata": {},
   "source": [
    "<br>\n",
    "<details>\n",
    "    <summary>Blockly Hints (Click on triangle to expand)</summary>\n",
    "    <ul>\n",
    "        <li>Blocks\n",
    "            <ul>\n",
    "                <li>variable\n",
    "                    <ul>\n",
    "                        <li>After it is created, each variable has its own block at the end of the VARIABLES menu.</li>\n",
    "                    </ul>\n",
    "                </li>\n",
    "            </ul>\n",
    "        </li>\n",
    "    </ul>\n",
    "</details>"
   ]
  },
  {
   "cell_type": "code",
   "execution_count": 18,
   "id": "00c45248",
   "metadata": {},
   "outputs": [
    {
     "data": {
      "text/html": [
       "<div>\n",
       "<style scoped>\n",
       "    .dataframe tbody tr th:only-of-type {\n",
       "        vertical-align: middle;\n",
       "    }\n",
       "\n",
       "    .dataframe tbody tr th {\n",
       "        vertical-align: top;\n",
       "    }\n",
       "\n",
       "    .dataframe thead th {\n",
       "        text-align: right;\n",
       "    }\n",
       "</style>\n",
       "<table border=\"1\" class=\"dataframe\">\n",
       "  <thead>\n",
       "    <tr style=\"text-align: right;\">\n",
       "      <th></th>\n",
       "      <th>cylinders</th>\n",
       "      <th>name</th>\n",
       "      <th>model_year</th>\n",
       "    </tr>\n",
       "  </thead>\n",
       "  <tbody>\n",
       "    <tr>\n",
       "      <th>14</th>\n",
       "      <td>4</td>\n",
       "      <td>toyota corona mark ii</td>\n",
       "      <td>70</td>\n",
       "    </tr>\n",
       "    <tr>\n",
       "      <th>18</th>\n",
       "      <td>4</td>\n",
       "      <td>datsun pl510</td>\n",
       "      <td>70</td>\n",
       "    </tr>\n",
       "    <tr>\n",
       "      <th>19</th>\n",
       "      <td>4</td>\n",
       "      <td>volkswagen 1131 deluxe sedan</td>\n",
       "      <td>70</td>\n",
       "    </tr>\n",
       "    <tr>\n",
       "      <th>20</th>\n",
       "      <td>4</td>\n",
       "      <td>peugeot 504</td>\n",
       "      <td>70</td>\n",
       "    </tr>\n",
       "    <tr>\n",
       "      <th>21</th>\n",
       "      <td>4</td>\n",
       "      <td>audi 100 ls</td>\n",
       "      <td>70</td>\n",
       "    </tr>\n",
       "    <tr>\n",
       "      <th>...</th>\n",
       "      <td>...</td>\n",
       "      <td>...</td>\n",
       "      <td>...</td>\n",
       "    </tr>\n",
       "    <tr>\n",
       "      <th>393</th>\n",
       "      <td>4</td>\n",
       "      <td>ford mustang gl</td>\n",
       "      <td>82</td>\n",
       "    </tr>\n",
       "    <tr>\n",
       "      <th>394</th>\n",
       "      <td>4</td>\n",
       "      <td>vw pickup</td>\n",
       "      <td>82</td>\n",
       "    </tr>\n",
       "    <tr>\n",
       "      <th>395</th>\n",
       "      <td>4</td>\n",
       "      <td>dodge rampage</td>\n",
       "      <td>82</td>\n",
       "    </tr>\n",
       "    <tr>\n",
       "      <th>396</th>\n",
       "      <td>4</td>\n",
       "      <td>ford ranger</td>\n",
       "      <td>82</td>\n",
       "    </tr>\n",
       "    <tr>\n",
       "      <th>397</th>\n",
       "      <td>4</td>\n",
       "      <td>chevy s-10</td>\n",
       "      <td>82</td>\n",
       "    </tr>\n",
       "  </tbody>\n",
       "</table>\n",
       "<p>204 rows × 3 columns</p>\n",
       "</div>"
      ],
      "text/plain": [
       "     cylinders                          name  model_year\n",
       "14           4         toyota corona mark ii          70\n",
       "18           4                  datsun pl510          70\n",
       "19           4  volkswagen 1131 deluxe sedan          70\n",
       "20           4                   peugeot 504          70\n",
       "21           4                   audi 100 ls          70\n",
       "..         ...                           ...         ...\n",
       "393          4               ford mustang gl          82\n",
       "394          4                     vw pickup          82\n",
       "395          4                 dodge rampage          82\n",
       "396          4                   ford ranger          82\n",
       "397          4                    chevy s-10          82\n",
       "\n",
       "[204 rows x 3 columns]"
      ]
     },
     "execution_count": 18,
     "metadata": {},
     "output_type": "execute_result"
    }
   ],
   "source": [
    "cylinder4\n",
    "\n"
   ]
  },
  {
   "cell_type": "markdown",
   "id": "4873a916",
   "metadata": {},
   "source": [
    "#### Among the 4 cylinder cars filter the \"toyota corolla\" cars"
   ]
  },
  {
   "cell_type": "markdown",
   "id": "6615643a",
   "metadata": {},
   "source": [
    "After getting all the 4 cylinder cars from the dataset, we are interested in buying a 'toyota corolla' car, which we are a huge fan of. So, from our 4 cylinder list, we filter out available 'toyota corolla' cars there and store them in a new variable. "
   ]
  },
  {
   "cell_type": "markdown",
   "id": "54b2f5eb",
   "metadata": {},
   "source": [
    "#!blhint\n",
    "- create variable `toyota_cars`\n",
    "- `Set toyota_cars to` &nbsp;:&nbsp; `cylinder4 [ .. ]` &nbsp;<-&nbsp; ` .. = .. ` &nbsp;<-\n",
    "  - `from cylinder4 get name`\n",
    "  - `toyota corolla`\n",
    "- Will look like - `Set toyota_cars to cylinder4 [ from cylinder4 get name = toyota corolla]`"
   ]
  },
  {
   "cell_type": "markdown",
   "id": "c40893ec",
   "metadata": {},
   "source": [
    "Here's how:\n",
    "\n",
    "1. From `LISTS`, click on `{dictvariable}[..]`. place `cylinder4` inplace of `dictvariable`.\n",
    "2. From `LOGIC` block, grab `.. = ..` block and put it within `[..]` part of the `cylinder4[..]` block. Together the block will look like `cylinder4[.. = ..]`.\n",
    "3. From `VARIABLES` click on `from .. get ..` block.Then select `cylinder4` from the dropdown located after `from` and select `name` from the dropdown located after `get`. The block will look like `from cylinder4 get name`\n",
    "5. Grab the `from cylinder4 get name` block and put it on the left side of `=` which is located in the `cylinder4[.. = ..]` block. Together it will look like `cylinder4[from cylinder4 get name = ..]`\n",
    "6. From `TEXT`, click on `\"..\"` block and write `toyota corolla`. It will look like `toyota corolla`.\n",
    "7. Grab the `toyota corolla` block and put it on the right side of `=` which is located in the `cylinder4[from cylinder4 get name = ..]`. Together the block will look like `cylinder4[from cylinder4 get name = toyota corolla]`\n",
    "7. In `VARIABLES`, click on `Create variable..` and create a variable named `toyota_cars`.\n",
    "8. Again in `VARIABLES`, grab the `set toyota_cars to` and connect it at the start of `cylinder4[from cylinder4 get cylinders = 4]` block. Together it will look like `set toyota_cars to cylinder4[from cylinder4 get name = toyota corolla]`\n",
    "9. Click on \"Blocks to Code\" at the bottom of the blockly palette.\n",
    "10. Run the code cell of the notebook"
   ]
  },
  {
   "cell_type": "markdown",
   "id": "942b47bd",
   "metadata": {},
   "source": [
    "<br>\n",
    "<details>\n",
    "  <summary>Blockly Hints (Click on the triangle to expand)</summary>\n",
    "  <ul>\n",
    "    <li>Notation\n",
    "      <ul>\n",
    "        <li><code>A</code> &nbsp;:&nbsp; <code>B</code>&nbsp; means snap blocks A and B together.</li>\n",
    "        <li><code>A</code>  &nbsp;&lt;-&nbsp;<code>B</code> &nbsp; means insert block B into the hole in block A.</li>\n",
    "      </ul>\n",
    "    </li>\n",
    "    <li>Blocks\n",
    "      <ul>\n",
    "        <li><code>set .. to</code>\n",
    "          <ul>\n",
    "            <li>The <code>set .. to</code> block is found under VARIABLES.</li>\n",
    "            <li>A variable must have been created before it will appear in the dropdown.</li>\n",
    "          </ul>\n",
    "        </li>\n",
    "        <li><code>{dictVariable} [ .. ]</code>\n",
    "          <ul>\n",
    "            <li>The <code>{dictVariable} [ .. ]</code> block is found under LISTS.</li>\n",
    "          </ul>\n",
    "        </li>\n",
    "        <li><code> .. = .. </code>\n",
    "          <ul>\n",
    "            <li>The <code> .. = .. </code> block is found under LOGIC.</li>\n",
    "            <li>Use the dropdown to get other comparison operators.</li>\n",
    "          </ul>\n",
    "        </li>\n",
    "        <li><code>from .. get ..</code>\n",
    "          <ul>\n",
    "            <li>The <code>from .. get ..</code> block is found under VARIABLES.</li>\n",
    "          </ul>\n",
    "        </li>\n",
    "      </ul>\n",
    "    </li>\n",
    "  </ul>\n",
    "</details>"
   ]
  },
  {
   "cell_type": "code",
   "execution_count": 19,
   "id": "28769cdf",
   "metadata": {},
   "outputs": [],
   "source": [
    "toyota_cars = cylinder4[(cylinder4.name == 'toyota corolla')]\n",
    "\n"
   ]
  },
  {
   "cell_type": "markdown",
   "id": "2db6590e",
   "metadata": {},
   "source": [
    "Now we want to display our variable in which we stored the filtered toyota corolla cars with 4 cylinders."
   ]
  },
  {
   "cell_type": "markdown",
   "id": "985b8a8d",
   "metadata": {},
   "source": [
    "#!blhint\n",
    "\n",
    "- variable &nbsp;`toyota_cars`"
   ]
  },
  {
   "cell_type": "markdown",
   "id": "d9283bdc",
   "metadata": {},
   "source": [
    "Here's how:\n",
    "\n",
    "1. From VARIABLES, grab `toyota_cars`\n",
    "2. Click Blocks to Code and run cell"
   ]
  },
  {
   "cell_type": "markdown",
   "id": "c2610adf",
   "metadata": {},
   "source": [
    "<br>\n",
    "<details>\n",
    "    <summary>Blockly Hints (Click on triangle to expand)</summary>\n",
    "    <ul>\n",
    "        <li>Blocks\n",
    "            <ul>\n",
    "                <li>variable\n",
    "                    <ul>\n",
    "                        <li>After it is created, each variable has its own block at the end of the VARIABLES menu.</li>\n",
    "                    </ul>\n",
    "                </li>\n",
    "            </ul>\n",
    "        </li>\n",
    "    </ul>\n",
    "</details>"
   ]
  },
  {
   "cell_type": "code",
   "execution_count": 20,
   "id": "9948b96d",
   "metadata": {},
   "outputs": [
    {
     "data": {
      "text/html": [
       "<div>\n",
       "<style scoped>\n",
       "    .dataframe tbody tr th:only-of-type {\n",
       "        vertical-align: middle;\n",
       "    }\n",
       "\n",
       "    .dataframe tbody tr th {\n",
       "        vertical-align: top;\n",
       "    }\n",
       "\n",
       "    .dataframe thead th {\n",
       "        text-align: right;\n",
       "    }\n",
       "</style>\n",
       "<table border=\"1\" class=\"dataframe\">\n",
       "  <thead>\n",
       "    <tr style=\"text-align: right;\">\n",
       "      <th></th>\n",
       "      <th>cylinders</th>\n",
       "      <th>name</th>\n",
       "      <th>model_year</th>\n",
       "    </tr>\n",
       "  </thead>\n",
       "  <tbody>\n",
       "    <tr>\n",
       "      <th>167</th>\n",
       "      <td>4</td>\n",
       "      <td>toyota corolla</td>\n",
       "      <td>75</td>\n",
       "    </tr>\n",
       "    <tr>\n",
       "      <th>205</th>\n",
       "      <td>4</td>\n",
       "      <td>toyota corolla</td>\n",
       "      <td>76</td>\n",
       "    </tr>\n",
       "    <tr>\n",
       "      <th>321</th>\n",
       "      <td>4</td>\n",
       "      <td>toyota corolla</td>\n",
       "      <td>80</td>\n",
       "    </tr>\n",
       "    <tr>\n",
       "      <th>356</th>\n",
       "      <td>4</td>\n",
       "      <td>toyota corolla</td>\n",
       "      <td>81</td>\n",
       "    </tr>\n",
       "    <tr>\n",
       "      <th>382</th>\n",
       "      <td>4</td>\n",
       "      <td>toyota corolla</td>\n",
       "      <td>82</td>\n",
       "    </tr>\n",
       "  </tbody>\n",
       "</table>\n",
       "</div>"
      ],
      "text/plain": [
       "     cylinders            name  model_year\n",
       "167          4  toyota corolla          75\n",
       "205          4  toyota corolla          76\n",
       "321          4  toyota corolla          80\n",
       "356          4  toyota corolla          81\n",
       "382          4  toyota corolla          82"
      ]
     },
     "execution_count": 20,
     "metadata": {},
     "output_type": "execute_result"
    }
   ],
   "source": [
    "toyota_cars\n",
    "\n"
   ]
  },
  {
   "cell_type": "markdown",
   "id": "c3a14622",
   "metadata": {},
   "source": [
    "#### Among the 4 cylinder \"toyota corolla\" cars filter the cars which model_year is after 1980"
   ]
  },
  {
   "cell_type": "markdown",
   "id": "be5ad1ac",
   "metadata": {},
   "source": [
    "Now, we heard that cars with models made after 1980 are the most fuel efficient cars. So, from our new filtered data , we can find only the cars having those attributes."
   ]
  },
  {
   "cell_type": "markdown",
   "id": "9044a81d",
   "metadata": {},
   "source": [
    "#!blhint\n",
    "- Create variable `filtered_cars`\n",
    "- `Set filtered_cars to` &nbsp;:&nbsp; `toyota_cars [ .. ]` &nbsp;<-&nbsp; ` .. > .. ` &nbsp;<-\n",
    "  - `from toyota_cars get model_year`\n",
    "  - `80`\n",
    "\n"
   ]
  },
  {
   "cell_type": "markdown",
   "id": "0611a0ff",
   "metadata": {},
   "source": [
    "Here's how:\n",
    "\n",
    "1. From `LISTS`, click on `{dictvariable}[..]`. place `toyota_cars` inplace of `dictvariable`.\n",
    "2. From `LOGIC` block, grab `.. = ..` block.\n",
    "and put it within `[..]` part of the `toyota_cars[..]` block. Together the block will look like `toyota_cars[.. = ..]`.\n",
    "3. From `VARIABLES` click on `from .. get ..` block.Then select `toyota_cars` from the dropdown located after `from` and select `name` from the dropdown located after `get`. The block will look like `from toyota_cars get model_year`\n",
    "5. Grab the `from toyota_cars get model_year` block and put it on the left side of `=` which is located in the `toyota_cars[.. = ..]` block. Together it will look like `toyota_cars[from toyota_cars get model_year = ..]`\n",
    "6. From `MATH`, click on `123` block and write `80`. It will look like `80`.\n",
    "7. Grab the `80` block and put it on the right side of `=` which is located in the `toyota_cars[from toyota_cars get model_year = ..]`. Together the block will look like `toyota_cars[from toyota_cars get model_year = 80]`\n",
    "7. Click on the dropdown right after `=` and change it to `>` so that the block looks like `toyota_cars[from toyota_cars get model_year > 80]`\n",
    "8. In `VARIABLES`, click on `Create variable..` and create a variable named `filtered_cars`.\n",
    "9. Again in `VARIABLES`, grab the `set filtered_cars to` and connect it at the start of `toyota_cars[from toyota_cars get model_year > 80]` block. Together it will look like `set filtered_cars to toyota_cars[from toyota_cars get model_year > 80]`\n",
    "10. Click on \"Blocks to Code\" at the bottom of the blockly palette.\n",
    "11. Run the code cell of the notebook"
   ]
  },
  {
   "cell_type": "markdown",
   "id": "eb1152cf",
   "metadata": {},
   "source": [
    "<br>\n",
    "<details>\n",
    "  <summary>Blockly Hints (Click on triangle to expand)</summary>\n",
    "  <ul>\n",
    "    <li>Notation\n",
    "      <ul>\n",
    "        <li><code>A</code> &nbsp;:&nbsp; <code>B</code>&nbsp; means snap blocks A and B together.</li>\n",
    "        <li><code>A</code>  &nbsp;&lt;-&nbsp; <code>B</code>&nbsp; means insert block B into the hole in block A.</li>\n",
    "      </ul>\n",
    "    </li>\n",
    "    <li>Blocks\n",
    "      <ul>\n",
    "        <li><code>set .. to</code>\n",
    "          <ul>\n",
    "            <li>The <code>set .. to</code> block is found under VARIABLES.</li>\n",
    "            <li>A variable must have been created before it will appear in the dropdown.</li>\n",
    "          </ul>\n",
    "        </li>\n",
    "        <li><code>{dictVariable} [ .. ]</code>\n",
    "          <ul>\n",
    "            <li>The <code>{dictVariable} [ .. ]</code> block is found under LISTS.</li>\n",
    "          </ul>\n",
    "        </li>\n",
    "        <li><code> .. = .. </code>\n",
    "          <ul>\n",
    "            <li>The <code> .. = .. </code> block is found under LOGIC.</li>\n",
    "            <li>Use the dropdown to get other comparison operators.Here you have to find the > </li>\n",
    "          </ul>\n",
    "        </li>\n",
    "        <li><code>from .. get ..</code>\n",
    "          <ul>\n",
    "            <li>The <code>from .. get ..</code> block is found under VARIABLES.</li>\n",
    "          </ul>\n",
    "        </li>\n",
    "      </ul>\n",
    "    </li>\n",
    "  </ul>\n",
    "</details>"
   ]
  },
  {
   "cell_type": "code",
   "execution_count": 21,
   "id": "357af460",
   "metadata": {},
   "outputs": [],
   "source": [
    "filtered_cars = toyota_cars[(toyota_cars.model_year > 80)]\n",
    "\n"
   ]
  },
  {
   "cell_type": "markdown",
   "id": "258b2d3e",
   "metadata": {},
   "source": [
    "Now we want to display our final filtered cars"
   ]
  },
  {
   "cell_type": "markdown",
   "id": "5636f83d",
   "metadata": {},
   "source": [
    "#!blhint\n",
    "\n",
    "- variable &nbsp;`filtered_cars`"
   ]
  },
  {
   "cell_type": "markdown",
   "id": "1c5e8f21",
   "metadata": {},
   "source": [
    "Here's how:\n",
    "\n",
    "1. From VARIABLES, grab `filtered_cars`\n",
    "2. Click Blocks to Code and run cell"
   ]
  },
  {
   "cell_type": "markdown",
   "id": "d2e26d4b",
   "metadata": {},
   "source": [
    "<br>\n",
    "<details>\n",
    "    <summary>Blockly Hints (Click on triangle to expand)</summary>\n",
    "    <ul>\n",
    "        <li>Blocks\n",
    "            <ul>\n",
    "                <li>variable\n",
    "                    <ul>\n",
    "                        <li>After it is created, each variable has its own block at the end of the VARIABLES menu.</li>\n",
    "                    </ul>\n",
    "                </li>\n",
    "            </ul>\n",
    "        </li>\n",
    "    </ul>\n",
    "</details>"
   ]
  },
  {
   "cell_type": "code",
   "execution_count": 22,
   "id": "41d7e83e",
   "metadata": {},
   "outputs": [
    {
     "data": {
      "text/html": [
       "<div>\n",
       "<style scoped>\n",
       "    .dataframe tbody tr th:only-of-type {\n",
       "        vertical-align: middle;\n",
       "    }\n",
       "\n",
       "    .dataframe tbody tr th {\n",
       "        vertical-align: top;\n",
       "    }\n",
       "\n",
       "    .dataframe thead th {\n",
       "        text-align: right;\n",
       "    }\n",
       "</style>\n",
       "<table border=\"1\" class=\"dataframe\">\n",
       "  <thead>\n",
       "    <tr style=\"text-align: right;\">\n",
       "      <th></th>\n",
       "      <th>cylinders</th>\n",
       "      <th>name</th>\n",
       "      <th>model_year</th>\n",
       "    </tr>\n",
       "  </thead>\n",
       "  <tbody>\n",
       "    <tr>\n",
       "      <th>356</th>\n",
       "      <td>4</td>\n",
       "      <td>toyota corolla</td>\n",
       "      <td>81</td>\n",
       "    </tr>\n",
       "    <tr>\n",
       "      <th>382</th>\n",
       "      <td>4</td>\n",
       "      <td>toyota corolla</td>\n",
       "      <td>82</td>\n",
       "    </tr>\n",
       "  </tbody>\n",
       "</table>\n",
       "</div>"
      ],
      "text/plain": [
       "     cylinders            name  model_year\n",
       "356          4  toyota corolla          81\n",
       "382          4  toyota corolla          82"
      ]
     },
     "execution_count": 22,
     "metadata": {},
     "output_type": "execute_result"
    }
   ],
   "source": [
    "filtered_cars\n",
    "\n"
   ]
  },
  {
   "cell_type": "markdown",
   "id": "7f22dbad",
   "metadata": {},
   "source": [
    "Finally, after filtering by our requirements to buy our preferred kind of car, we have a list of only 2 cars with the required features from an initial list of almost 400 cars. By using filtering in a big dataset, we can more easily find the data we care about."
   ]
  }
 ],
 "metadata": {
  "kernelspec": {
   "display_name": "Python 3 (ipykernel)",
   "language": "python",
   "name": "python3"
  },
  "language_info": {
   "codemirror_mode": {
    "name": "ipython",
    "version": 3
   },
   "file_extension": ".py",
   "mimetype": "text/x-python",
   "name": "python",
   "nbconvert_exporter": "python",
   "pygments_lexer": "ipython3",
   "version": "3.10.10"
  },
  "vscode": {
   "interpreter": {
    "hash": "be14b4e913c6f2457a185c22af60a9db8729a2914b48dcc2c5e42fe4e4a2ce08"
   }
  }
 },
 "nbformat": 4,
 "nbformat_minor": 5
}
