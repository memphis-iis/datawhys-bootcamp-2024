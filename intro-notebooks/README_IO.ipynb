{
 "cells": [
  {
   "cell_type": "markdown",
   "metadata": {},
   "source": [
    "# Session Agenda\n",
    "\n",
    "## Session Info\n",
    "\n",
    "See schedule for details: https://github.com/kbridson/datawhys-bootcamp-2022#tue-67-1000-1200\n",
    "\n",
    "## Schedule\n",
    "\n",
    "| Time Slot   | Activity |\n",
    "| ----------- | ----------- |\n",
    "| 10:00-10:05 | Session Introduction & Setup |\n",
    "| 10:05-10:35 | Pretest |\n",
    "| 10:35-10:50 | Demographics Survey + Break |\n",
    "| 10:50-11:20 | Present intro-notebooks slides with demos <br>Do activities from slides |\n",
    "| 11:20-11:25 | Break |\n",
    "| 11:25-12:00 | Present intro-blockly slides with demos <br>Do activities from slides |"
   ]
  }
 ],
 "metadata": {
  "interpreter": {
   "hash": "be14b4e913c6f2457a185c22af60a9db8729a2914b48dcc2c5e42fe4e4a2ce08"
  },
  "kernelspec": {
   "display_name": "Python 3.9.7 ('base')",
   "language": "python",
   "name": "python3"
  },
  "language_info": {
   "name": "python",
   "version": "3.9.7"
  },
  "orig_nbformat": 4
 },
 "nbformat": 4,
 "nbformat_minor": 2
}
