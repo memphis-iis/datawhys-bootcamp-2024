{
 "cells": [
  {
   "cell_type": "markdown",
   "id": "584e29a1",
   "metadata": {
    "deletable": false,
    "editable": false
   },
   "source": [
    "# Bootcamp Review\n",
    "\n"
   ]
  },
  {
   "cell_type": "markdown",
   "id": "138cb149",
   "metadata": {
    "deletable": false,
    "editable": false
   },
   "source": [
    "## Introduction to Jupyterlab"
   ]
  },
  {
   "cell_type": "markdown",
   "id": "d25d9ddb",
   "metadata": {
    "deletable": false,
    "editable": false
   },
   "source": [
    "### Q1. From the image below, describe which button we should click to upload a file."
   ]
  },
  {
   "cell_type": "markdown",
   "id": "a9a475c6",
   "metadata": {
    "deletable": false,
    "editable": false
   },
   "source": [
    "<img src=\"images/upload.png\" alt=\"alt text\" width=\"300\"/>"
   ]
  },
  {
   "cell_type": "markdown",
   "id": "a7bdecba",
   "metadata": {
    "datawhys": {
     "response_id": 1,
     "student_response": true
    },
    "deletable": false,
    "editable": true
   },
   "source": [
    "<div class=\"alert alert-block alert-info\">\n",
    "<!-- YOUR ANSWER BEGIN -->\n",
    "\n",
    "\n",
    "\n",
    "\n",
    "\n",
    "<!-- YOUR ANSWER END -->\n",
    "</div>"
   ]
  },
  {
   "cell_type": "markdown",
   "id": "4e6777ce",
   "metadata": {
    "deletable": false,
    "editable": false
   },
   "source": [
    "### Q2. What action do we take to go to the \"home/newdata/\" folder if we are currently in the \"home/newdata/testing/\" folder?"
   ]
  },
  {
   "cell_type": "markdown",
   "id": "42ac4ac6",
   "metadata": {
    "datawhys": {
     "response_id": 2,
     "student_response": true
    },
    "deletable": false,
    "editable": true
   },
   "source": [
    "<div class=\"alert alert-block alert-info\">\n",
    "<!-- YOUR ANSWER BEGIN -->\n",
    "\n",
    "\n",
    "\n",
    "\n",
    "\n",
    "<!-- YOUR ANSWER END -->\n",
    "</div>"
   ]
  },
  {
   "cell_type": "markdown",
   "id": "2aa498a7",
   "metadata": {
    "deletable": false,
    "editable": false
   },
   "source": [
    "### Q3. From the image below, describe which button we should click to open the File Browser."
   ]
  },
  {
   "cell_type": "markdown",
   "id": "f3326a92",
   "metadata": {
    "deletable": false,
    "editable": false
   },
   "source": [
    "<img src=\"images/fileexplorer.png\" alt=\"alt text\" width=\"300\"/>"
   ]
  },
  {
   "cell_type": "markdown",
   "id": "ced35028",
   "metadata": {
    "datawhys": {
     "response_id": 3,
     "student_response": true
    },
    "deletable": false,
    "editable": true
   },
   "source": [
    "<div class=\"alert alert-block alert-info\">\n",
    "<!-- YOUR ANSWER BEGIN -->\n",
    "\n",
    "\n",
    "\n",
    "\n",
    "\n",
    "<!-- YOUR ANSWER END -->\n",
    "</div>"
   ]
  },
  {
   "cell_type": "markdown",
   "id": "d25d9ddb",
   "metadata": {
    "deletable": false,
    "editable": false
   },
   "source": [
    "### Q4. From the image below, describe which button we should click to open the Launcher."
   ]
  },
  {
   "cell_type": "markdown",
   "id": "be3799a6",
   "metadata": {
    "deletable": false,
    "editable": false
   },
   "source": [
    "<img src=\"images/upload.png\" alt=\"alt text\" width=\"300\"/>"
   ]
  },
  {
   "cell_type": "markdown",
   "id": "42ac4ac6",
   "metadata": {
    "datawhys": {
     "response_id": 4,
     "student_response": true
    },
    "deletable": false,
    "editable": true
   },
   "source": [
    "<div class=\"alert alert-block alert-info\">\n",
    "<!-- YOUR ANSWER BEGIN -->\n",
    "\n",
    "\n",
    "\n",
    "\n",
    "\n",
    "<!-- YOUR ANSWER END -->\n",
    "</div>"
   ]
  },
  {
   "cell_type": "markdown",
   "id": "3a16602a",
   "metadata": {
    "deletable": false,
    "editable": false
   },
   "source": [
    "## Introduction to Jupyter Notebooks"
   ]
  },
  {
   "cell_type": "markdown",
   "id": "d25d9ddb",
   "metadata": {
    "deletable": false,
    "editable": false
   },
   "source": [
    "### Q5. Jupyter notebooks are made up of _______ which can contain markdown or Python code."
   ]
  },
  {
   "cell_type": "markdown",
   "id": "42ac4ac6",
   "metadata": {
    "datawhys": {
     "response_id": 5,
     "student_response": true
    },
    "deletable": false,
    "editable": true
   },
   "source": [
    "<div class=\"alert alert-block alert-info\">\n",
    "<!-- YOUR ANSWER BEGIN -->\n",
    "\n",
    "\n",
    "\n",
    "\n",
    "\n",
    "<!-- YOUR ANSWER END -->\n",
    "</div>"
   ]
  },
  {
   "cell_type": "markdown",
   "id": "46848e9b",
   "metadata": {
    "deletable": false,
    "editable": false
   },
   "source": [
    "<img src=\"images/notebook_bar.png\" alt=\"alt text\" width=\"400\"/>"
   ]
  },
  {
   "cell_type": "markdown",
   "id": "d25d9ddb",
   "metadata": {
    "deletable": false,
    "editable": false
   },
   "source": [
    "### Q6. From the image above, describe which button we should click to run the code."
   ]
  },
  {
   "cell_type": "markdown",
   "id": "42ac4ac6",
   "metadata": {
    "datawhys": {
     "response_id": 6,
     "student_response": true
    },
    "deletable": false,
    "editable": true
   },
   "source": [
    "<div class=\"alert alert-block alert-info\">\n",
    "<!-- YOUR ANSWER BEGIN -->\n",
    "\n",
    "\n",
    "\n",
    "\n",
    "\n",
    "<!-- YOUR ANSWER END -->\n",
    "</div>"
   ]
  },
  {
   "cell_type": "markdown",
   "id": "3a16602a",
   "metadata": {
    "deletable": false,
    "editable": false
   },
   "source": [
    "## Reading CSV data"
   ]
  },
  {
   "cell_type": "markdown",
   "id": "d25d9ddb",
   "metadata": {
    "deletable": false,
    "editable": false
   },
   "source": [
    "### Q7. Which of the following blocks is used to import the <code>pandas</code> library?"
   ]
  },
  {
   "cell_type": "markdown",
   "id": "ed7d3c44",
   "metadata": {
    "deletable": false,
    "editable": false
   },
   "source": [
    "\n",
    "- `from .. import ..`\n",
    "- `with .. do .. using ..`\n",
    "- `import .. as ..`\n",
    "- `from .. get ..`\n"
   ]
  },
  {
   "cell_type": "markdown",
   "id": "815df5d5",
   "metadata": {
    "datawhys": {
     "response_id": 7,
     "student_response": true
    },
    "deletable": false,
    "editable": true
   },
   "source": [
    "<div class=\"alert alert-block alert-info\">\n",
    "<!-- YOUR ANSWER BEGIN -->\n",
    "\n",
    "\n",
    "\n",
    "\n",
    "\n",
    "<!-- YOUR ANSWER END -->\n",
    "</div>"
   ]
  },
  {
   "cell_type": "markdown",
   "id": "4b2dd2b1",
   "metadata": {
    "deletable": false,
    "editable": false
   },
   "source": [
    "### Q8. After the reading in the dataset with <code>pandas</code> and storing it in a variable, what is the next thing we usually do?"
   ]
  },
  {
   "cell_type": "markdown",
   "id": "815df5d5",
   "metadata": {
    "datawhys": {
     "response_id": 8,
     "student_response": true
    },
    "deletable": false,
    "editable": true
   },
   "source": [
    "<div class=\"alert alert-block alert-info\">\n",
    "<!-- YOUR ANSWER BEGIN -->\n",
    "\n",
    "\n",
    "\n",
    "\n",
    "\n",
    "<!-- YOUR ANSWER END -->\n",
    "</div>"
   ]
  },
  {
   "cell_type": "markdown",
   "id": "4b2dd2b1",
   "metadata": {
    "deletable": false,
    "editable": false
   },
   "source": [
    "### Q9. What is the purpose of using dataframes?"
   ]
  },
  {
   "cell_type": "markdown",
   "id": "815df5d5",
   "metadata": {
    "datawhys": {
     "response_id": 9,
     "student_response": true
    },
    "deletable": false,
    "editable": true
   },
   "source": [
    "<div class=\"alert alert-block alert-info\">\n",
    "<!-- YOUR ANSWER BEGIN -->\n",
    "\n",
    "\n",
    "\n",
    "\n",
    "\n",
    "<!-- YOUR ANSWER END -->\n",
    "</div>"
   ]
  },
  {
   "cell_type": "markdown",
   "id": "4b2dd2b1",
   "metadata": {
    "deletable": false,
    "editable": false
   },
   "source": [
    "### Q10. What block do we use to view the contents of a dataframe?"
   ]
  },
  {
   "cell_type": "markdown",
   "id": "815df5d5",
   "metadata": {
    "datawhys": {
     "response_id": 10,
     "student_response": true
    },
    "deletable": false,
    "editable": true
   },
   "source": [
    "<div class=\"alert alert-block alert-info\">\n",
    "<!-- YOUR ANSWER BEGIN -->\n",
    "\n",
    "\n",
    "\n",
    "\n",
    "\n",
    "<!-- YOUR ANSWER END -->\n",
    "</div>"
   ]
  },
  {
   "cell_type": "markdown",
   "id": "4b2dd2b1",
   "metadata": {
    "deletable": false,
    "editable": false
   },
   "source": [
    "### Q11. Which of the following blocks should we use to get the column names of a dataframe?"
   ]
  },
  {
   "cell_type": "markdown",
   "id": "ed67bdc4",
   "metadata": {
    "deletable": false,
    "editable": false
   },
   "source": [
    "- `with dataframe do .. using ..`\n",
    "- `dataframe [ .. ]`\n",
    "- `from dataframe get ..`\n",
    "- `set dataframe to`"
   ]
  },
  {
   "cell_type": "markdown",
   "id": "815df5d5",
   "metadata": {
    "datawhys": {
     "response_id": 11,
     "student_response": true
    },
    "deletable": false,
    "editable": true
   },
   "source": [
    "<div class=\"alert alert-block alert-info\">\n",
    "<!-- YOUR ANSWER BEGIN -->\n",
    "\n",
    "\n",
    "\n",
    "\n",
    "\n",
    "<!-- YOUR ANSWER END -->\n",
    "</div>"
   ]
  },
  {
   "cell_type": "markdown",
   "id": "a1492b07",
   "metadata": {
    "deletable": false,
    "editable": false
   },
   "source": [
    "### Q12. Which of the following completed blocks will give us the number of rows and columns in a dataset?\n"
   ]
  },
  {
   "cell_type": "markdown",
   "id": "82b74f34",
   "metadata": {
    "deletable": false,
    "editable": false
   },
   "source": [
    "- `from df get size`\n",
    "- `from df get shape`\n",
    "- `from df get len`\n",
    "- `from df get dimension`"
   ]
  },
  {
   "cell_type": "markdown",
   "id": "815df5d5",
   "metadata": {
    "datawhys": {
     "response_id": 12,
     "student_response": true
    },
    "deletable": false,
    "editable": true
   },
   "source": [
    "<div class=\"alert alert-block alert-info\">\n",
    "<!-- YOUR ANSWER BEGIN -->\n",
    "\n",
    "\n",
    "\n",
    "\n",
    "\n",
    "<!-- YOUR ANSWER END -->\n",
    "</div>"
   ]
  },
  {
   "cell_type": "markdown",
   "id": "a1492b07",
   "metadata": {
    "deletable": false,
    "editable": false
   },
   "source": [
    "### Q13. Suppose we have a dataframe variable <code>df</code> with the columns <code>length</code>, <code>width</code>, and <code>diameter</code>. Which of the following completed blocks will give us a subset of the dataframe with only the <code>diameter</code> column? (There may be multiple correct answers.)\n"
   ]
  },
  {
   "cell_type": "markdown",
   "id": "82b74f34",
   "metadata": {
    "deletable": false,
    "editable": false
   },
   "source": [
    "- `df [ .. ]` &nbsp;<-&nbsp; `\" diameter \"`\n",
    "- `set df to` &nbsp;:&nbsp; `\" diameter \"`\n",
    "- `\" diameter \"`\n",
    "- `from df get diameter`"
   ]
  },
  {
   "cell_type": "markdown",
   "id": "815df5d5",
   "metadata": {
    "datawhys": {
     "response_id": 13,
     "student_response": true
    },
    "deletable": false,
    "editable": true
   },
   "source": [
    "<div class=\"alert alert-block alert-info\">\n",
    "<!-- YOUR ANSWER BEGIN -->\n",
    "\n",
    "\n",
    "\n",
    "\n",
    "\n",
    "<!-- YOUR ANSWER END -->\n",
    "</div>"
   ]
  },
  {
   "cell_type": "markdown",
   "id": "ee3e7570",
   "metadata": {
    "deletable": false,
    "editable": false
   },
   "source": [
    "## Plotting"
   ]
  },
  {
   "cell_type": "markdown",
   "id": "a1492b07",
   "metadata": {
    "deletable": false,
    "editable": false
   },
   "source": [
    "### Q14. Which of the following is the name of the library we use for plotting?\n"
   ]
  },
  {
   "cell_type": "markdown",
   "id": "82b74f34",
   "metadata": {
    "deletable": false,
    "editable": false
   },
   "source": [
    "- pandas\n",
    "- px\n",
    "- plotly\n",
    "- plotly.express"
   ]
  },
  {
   "cell_type": "markdown",
   "id": "815df5d5",
   "metadata": {
    "datawhys": {
     "response_id": 14,
     "student_response": true
    },
    "deletable": false,
    "editable": true
   },
   "source": [
    "<div class=\"alert alert-block alert-info\">\n",
    "<!-- YOUR ANSWER BEGIN -->\n",
    "\n",
    "\n",
    "\n",
    "\n",
    "\n",
    "<!-- YOUR ANSWER END -->\n",
    "</div>"
   ]
  },
  {
   "cell_type": "markdown",
   "id": "a1492b07",
   "metadata": {
    "deletable": false,
    "editable": false
   },
   "source": [
    "### Q15. Which of the following kinds of charts do we most often use for showing change in value over time?\n"
   ]
  },
  {
   "cell_type": "markdown",
   "id": "82b74f34",
   "metadata": {
    "deletable": false,
    "editable": false
   },
   "source": [
    "- bar chart\n",
    "- scatter plot\n",
    "- line graph\n",
    "- box plot"
   ]
  },
  {
   "cell_type": "markdown",
   "id": "815df5d5",
   "metadata": {
    "datawhys": {
     "response_id": 15,
     "student_response": true
    },
    "deletable": false,
    "editable": true
   },
   "source": [
    "<div class=\"alert alert-block alert-info\">\n",
    "<!-- YOUR ANSWER BEGIN -->\n",
    "\n",
    "\n",
    "\n",
    "\n",
    "\n",
    "<!-- YOUR ANSWER END -->\n",
    "</div>"
   ]
  },
  {
   "cell_type": "markdown",
   "id": "5e1a760b",
   "metadata": {
    "deletable": false,
    "editable": false
   },
   "source": [
    "<img src=\"images/scatter.png\" alt=\"alt text\" width=\"400\"/>"
   ]
  },
  {
   "cell_type": "markdown",
   "id": "a1492b07",
   "metadata": {
    "deletable": false,
    "editable": false
   },
   "source": [
    "### Q16. Which of the following kinds of charts is the one shown above?\n"
   ]
  },
  {
   "cell_type": "markdown",
   "id": "82b74f34",
   "metadata": {
    "deletable": false,
    "editable": false
   },
   "source": [
    "- bar chart\n",
    "- scatter plot\n",
    "- line graph\n",
    "- box plot"
   ]
  },
  {
   "cell_type": "markdown",
   "id": "815df5d5",
   "metadata": {
    "datawhys": {
     "response_id": 16,
     "student_response": true
    },
    "deletable": false,
    "editable": true
   },
   "source": [
    "<div class=\"alert alert-block alert-info\">\n",
    "<!-- YOUR ANSWER BEGIN -->\n",
    "\n",
    "\n",
    "\n",
    "\n",
    "\n",
    "<!-- YOUR ANSWER END -->\n",
    "</div>"
   ]
  },
  {
   "cell_type": "markdown",
   "id": "4b2dd2b1",
   "metadata": {
    "deletable": false,
    "editable": false
   },
   "source": [
    "### Q17. Which of the following blocks should we use to generate any of the charts?"
   ]
  },
  {
   "cell_type": "markdown",
   "id": "ed67bdc4",
   "metadata": {
    "deletable": false,
    "editable": false
   },
   "source": [
    "- `df [ .. ]`\n",
    "- `from px get ..`\n",
    "- `with px do .. using ..`\n",
    "- `import .. as px`"
   ]
  },
  {
   "cell_type": "markdown",
   "id": "815df5d5",
   "metadata": {
    "datawhys": {
     "response_id": 17,
     "student_response": true
    },
    "deletable": false,
    "editable": true
   },
   "source": [
    "<div class=\"alert alert-block alert-info\">\n",
    "<!-- YOUR ANSWER BEGIN -->\n",
    "\n",
    "\n",
    "\n",
    "\n",
    "\n",
    "<!-- YOUR ANSWER END -->\n",
    "</div>"
   ]
  },
  {
   "cell_type": "markdown",
   "id": "4b2dd2b1",
   "metadata": {
    "deletable": false,
    "editable": false
   },
   "source": [
    "### Q18. In a scatter plot, the independent variable usually goes on the ____-axis and the dependent variable goes on the ____-axis?"
   ]
  },
  {
   "cell_type": "markdown",
   "id": "815df5d5",
   "metadata": {
    "datawhys": {
     "response_id": 18,
     "student_response": true
    },
    "deletable": false,
    "editable": true
   },
   "source": [
    "<div class=\"alert alert-block alert-info\">\n",
    "<!-- YOUR ANSWER BEGIN -->\n",
    "\n",
    "\n",
    "\n",
    "\n",
    "\n",
    "<!-- YOUR ANSWER END -->\n",
    "</div>"
   ]
  },
  {
   "cell_type": "markdown",
   "id": "a1492b07",
   "metadata": {
    "deletable": false,
    "editable": false
   },
   "source": [
    "### Q19. Which of the following kinds of charts do we sometimes display with horizontal orientation? (There may be more than one answer.)"
   ]
  },
  {
   "cell_type": "markdown",
   "id": "82b74f34",
   "metadata": {
    "deletable": false,
    "editable": false
   },
   "source": [
    "- bar chart\n",
    "- scatter plot\n",
    "- line graph\n",
    "- box plot"
   ]
  },
  {
   "cell_type": "markdown",
   "id": "815df5d5",
   "metadata": {
    "datawhys": {
     "response_id": 19,
     "student_response": true
    },
    "deletable": false,
    "editable": true
   },
   "source": [
    "<div class=\"alert alert-block alert-info\">\n",
    "<!-- YOUR ANSWER BEGIN -->\n",
    "\n",
    "\n",
    "\n",
    "\n",
    "\n",
    "<!-- YOUR ANSWER END -->\n",
    "</div>"
   ]
  },
  {
   "cell_type": "markdown",
   "id": "a1492b07",
   "metadata": {
    "deletable": false,
    "editable": false
   },
   "source": [
    "### Q20. Describe how we use the chart options to change the orientation of a chart."
   ]
  },
  {
   "cell_type": "markdown",
   "id": "815df5d5",
   "metadata": {
    "datawhys": {
     "response_id": 20,
     "student_response": true
    },
    "deletable": false,
    "editable": true
   },
   "source": [
    "<div class=\"alert alert-block alert-info\">\n",
    "<!-- YOUR ANSWER BEGIN -->\n",
    "\n",
    "\n",
    "\n",
    "\n",
    "\n",
    "<!-- YOUR ANSWER END -->\n",
    "</div>"
   ]
  },
  {
   "cell_type": "markdown",
   "id": "ee3e7570",
   "metadata": {
    "deletable": false,
    "editable": false
   },
   "source": [
    "## Filtering"
   ]
  },
  {
   "cell_type": "markdown",
   "id": "a1492b07",
   "metadata": {
    "deletable": false,
    "editable": false
   },
   "source": [
    "### Q21. What is the main purpose of filtering a dataset?\n"
   ]
  },
  {
   "cell_type": "markdown",
   "id": "815df5d5",
   "metadata": {
    "datawhys": {
     "response_id": 21,
     "student_response": true
    },
    "deletable": false,
    "editable": true
   },
   "source": [
    "<div class=\"alert alert-block alert-info\">\n",
    "<!-- YOUR ANSWER BEGIN -->\n",
    "\n",
    "\n",
    "\n",
    "\n",
    "\n",
    "<!-- YOUR ANSWER END -->\n",
    "</div>"
   ]
  },
  {
   "cell_type": "markdown",
   "id": "afb69218",
   "metadata": {
    "deletable": false,
    "editable": false
   },
   "source": [
    "| GRE         | GPA         | Gender |\n",
    "| ----------- | ----------- | ------ |\n",
    "| 316         |  3.4        |    M   |\n",
    "| 308         |  3.1        |    M   |\n",
    "| 327         |  3.7        |    F   |\n",
    "| 310         |  3.33       |    F   |\n",
    "| 305         |  3.45       |    M   |\n",
    "| 322         |  3.18       |    F   |\n",
    "| 316         |  3.25       |    M   |\n",
    "| 300         |  3.4        |    F   |\n",
    "| 310         |  3.6        |    F   |\n"
   ]
  },
  {
   "cell_type": "markdown",
   "id": "3d6586b1",
   "metadata": {
    "deletable": false,
    "editable": false
   },
   "source": [
    "### Q22. For the above dataset, which of the following might we do to calculate and compare the students' average GPA for each gender group?"
   ]
  },
  {
   "cell_type": "markdown",
   "id": "19dd6a10",
   "metadata": {
    "deletable": false,
    "editable": false
   },
   "source": [
    "- We divide the student data by columns and compare their results.\n",
    "- We filter the student data by GPA only and get the mean to compare results.\n",
    "- We filter the data by Gender and calculate each gender group average GPA to compare their results.\n",
    "- We combine the GRE and GPA of the gender groups and compare their results."
   ]
  },
  {
   "cell_type": "markdown",
   "id": "815df5d5",
   "metadata": {
    "datawhys": {
     "response_id": 22,
     "student_response": true
    },
    "deletable": false,
    "editable": true
   },
   "source": [
    "<div class=\"alert alert-block alert-info\">\n",
    "<!-- YOUR ANSWER BEGIN -->\n",
    "\n",
    "\n",
    "\n",
    "\n",
    "\n",
    "<!-- YOUR ANSWER END -->\n",
    "</div>"
   ]
  },
  {
   "cell_type": "markdown",
   "id": "3d6586b1",
   "metadata": {
    "deletable": false,
    "editable": false
   },
   "source": [
    "### Q23. Look at the following Python code. What does it do? Explain your answer."
   ]
  },
  {
   "cell_type": "markdown",
   "id": "e92cb982",
   "metadata": {
    "deletable": false,
    "editable": false
   },
   "source": [
    "```python\n",
    "\n",
    "gender_data = student_data[(student_data['gender'] == 'male')]\n",
    "\n",
    "```"
   ]
  },
  {
   "cell_type": "markdown",
   "id": "815df5d5",
   "metadata": {
    "datawhys": {
     "response_id": 23,
     "student_response": true
    },
    "deletable": false,
    "editable": true
   },
   "source": [
    "<div class=\"alert alert-block alert-info\">\n",
    "<!-- YOUR ANSWER BEGIN -->\n",
    "\n",
    "\n",
    "\n",
    "\n",
    "\n",
    "<!-- YOUR ANSWER END -->\n",
    "</div>"
   ]
  },
  {
   "cell_type": "markdown",
   "id": "ee3e7570",
   "metadata": {
    "deletable": false,
    "editable": false
   },
   "source": [
    "## Descriptive Stats"
   ]
  },
  {
   "cell_type": "markdown",
   "id": "a1492b07",
   "metadata": {
    "deletable": false,
    "editable": false
   },
   "source": [
    "### Q24. Which of the following functions could we use to get the average value of a column? (There may be more than one answer.)"
   ]
  },
  {
   "cell_type": "markdown",
   "id": "82b74f34",
   "metadata": {
    "deletable": false,
    "editable": false
   },
   "source": [
    "- median\n",
    "- mean\n",
    "- describe\n",
    "- mode"
   ]
  },
  {
   "cell_type": "markdown",
   "id": "815df5d5",
   "metadata": {
    "datawhys": {
     "response_id": 24,
     "student_response": true
    },
    "deletable": false,
    "editable": true
   },
   "source": [
    "<div class=\"alert alert-block alert-info\">\n",
    "<!-- YOUR ANSWER BEGIN -->\n",
    "\n",
    "\n",
    "\n",
    "\n",
    "\n",
    "<!-- YOUR ANSWER END -->\n",
    "</div>"
   ]
  },
  {
   "cell_type": "markdown",
   "id": "a1492b07",
   "metadata": {
    "deletable": false,
    "editable": false
   },
   "source": [
    "### Q25. Which of the following functions could we use to get the most popular value in a column? (There may be more than one answer.)"
   ]
  },
  {
   "cell_type": "markdown",
   "id": "82b74f34",
   "metadata": {
    "deletable": false,
    "editable": false
   },
   "source": [
    "- median\n",
    "- mean\n",
    "- describe\n",
    "- mode"
   ]
  },
  {
   "cell_type": "markdown",
   "id": "815df5d5",
   "metadata": {
    "datawhys": {
     "response_id": 25,
     "student_response": true
    },
    "deletable": false,
    "editable": true
   },
   "source": [
    "<div class=\"alert alert-block alert-info\">\n",
    "<!-- YOUR ANSWER BEGIN -->\n",
    "\n",
    "\n",
    "\n",
    "\n",
    "\n",
    "<!-- YOUR ANSWER END -->\n",
    "</div>"
   ]
  },
  {
   "cell_type": "markdown",
   "id": "a1492b07",
   "metadata": {
    "deletable": false,
    "editable": false
   },
   "source": [
    "### Q26. Which of the following functions could we use to get the value of a column that would appear in the middle when the column's values are sorted? (There may be more than one answer.)"
   ]
  },
  {
   "cell_type": "markdown",
   "id": "82b74f34",
   "metadata": {
    "deletable": false,
    "editable": false
   },
   "source": [
    "- median\n",
    "- mean\n",
    "- describe\n",
    "- mode"
   ]
  },
  {
   "cell_type": "markdown",
   "id": "815df5d5",
   "metadata": {
    "datawhys": {
     "response_id": 26,
     "student_response": true
    },
    "deletable": false,
    "editable": true
   },
   "source": [
    "<div class=\"alert alert-block alert-info\">\n",
    "<!-- YOUR ANSWER BEGIN -->\n",
    "\n",
    "\n",
    "\n",
    "\n",
    "\n",
    "<!-- YOUR ANSWER END -->\n",
    "</div>"
   ]
  },
  {
   "cell_type": "markdown",
   "id": "a1492b07",
   "metadata": {
    "deletable": false,
    "editable": false
   },
   "source": [
    "### Q27. Which of the following functions could we use to get the interquartile range of a column? (There may be more than one answer.)"
   ]
  },
  {
   "cell_type": "markdown",
   "id": "82b74f34",
   "metadata": {
    "deletable": false,
    "editable": false
   },
   "source": [
    "- median\n",
    "- mean\n",
    "- describe\n",
    "- mode"
   ]
  },
  {
   "cell_type": "markdown",
   "id": "815df5d5",
   "metadata": {
    "datawhys": {
     "response_id": 27,
     "student_response": true
    },
    "deletable": false,
    "editable": true
   },
   "source": [
    "<div class=\"alert alert-block alert-info\">\n",
    "<!-- YOUR ANSWER BEGIN -->\n",
    "\n",
    "\n",
    "\n",
    "\n",
    "\n",
    "<!-- YOUR ANSWER END -->\n",
    "</div>"
   ]
  },
  {
   "cell_type": "markdown",
   "id": "d25d9ddb",
   "metadata": {
    "deletable": false,
    "editable": false
   },
   "source": [
    "### Q28. Which of the following blocks is to run the <code>mean</code>, <code>median</code>, <code>mode</code>, or <code>describe</code> functions on a dataframe?"
   ]
  },
  {
   "cell_type": "markdown",
   "id": "ed7d3c44",
   "metadata": {
    "deletable": false,
    "editable": false
   },
   "source": [
    "\n",
    "- `from .. import ..`\n",
    "- `with .. do .. using ..`\n",
    "- `import .. as ..`\n",
    "- `from .. get ..`\n"
   ]
  },
  {
   "cell_type": "markdown",
   "id": "815df5d5",
   "metadata": {
    "datawhys": {
     "response_id": 28,
     "student_response": true
    },
    "deletable": false,
    "editable": true
   },
   "source": [
    "<div class=\"alert alert-block alert-info\">\n",
    "<!-- YOUR ANSWER BEGIN -->\n",
    "\n",
    "\n",
    "\n",
    "\n",
    "\n",
    "<!-- YOUR ANSWER END -->\n",
    "</div>"
   ]
  },
  {
   "cell_type": "markdown",
   "id": "a1492b07",
   "metadata": {
    "deletable": false,
    "editable": false
   },
   "source": [
    "### Q29. Which of the following types of charts could we use to look at the interquartile range of a column?"
   ]
  },
  {
   "cell_type": "markdown",
   "id": "82b74f34",
   "metadata": {
    "deletable": false,
    "editable": false
   },
   "source": [
    "- bar chart\n",
    "- scatter plot\n",
    "- line chart\n",
    "- box plot"
   ]
  },
  {
   "cell_type": "markdown",
   "id": "815df5d5",
   "metadata": {
    "datawhys": {
     "response_id": 29,
     "student_response": true
    },
    "deletable": false,
    "editable": true
   },
   "source": [
    "<div class=\"alert alert-block alert-info\">\n",
    "<!-- YOUR ANSWER BEGIN -->\n",
    "\n",
    "\n",
    "\n",
    "\n",
    "\n",
    "<!-- YOUR ANSWER END -->\n",
    "</div>"
   ]
  },
  {
   "cell_type": "markdown",
   "id": "fecffea1",
   "metadata": {
    "deletable": false,
    "editable": false
   },
   "source": [
    "<img src=\"images/box.png\" alt=\"alt text\" width=\"400\"/>"
   ]
  },
  {
   "cell_type": "markdown",
   "id": "a1492b07",
   "metadata": {
    "deletable": false,
    "editable": false
   },
   "source": [
    "### Q30. Using the above chart, what are the approximate median values for each species of iris? (To the nearest half number is fine.)"
   ]
  },
  {
   "cell_type": "markdown",
   "id": "815df5d5",
   "metadata": {
    "datawhys": {
     "response_id": 30,
     "student_response": true
    },
    "deletable": false,
    "editable": true
   },
   "source": [
    "<div class=\"alert alert-block alert-info\">\n",
    "<!-- YOUR ANSWER BEGIN -->\n",
    "\n",
    "\n",
    "\n",
    "\n",
    "\n",
    "<!-- YOUR ANSWER END -->\n",
    "</div>"
   ]
  }
 ],
 "metadata": {
  "kernelspec": {
   "display_name": "xpython",
   "language": "python",
   "name": "xpython"
  },
  "language_info": {
   "file_extension": ".py",
   "mimetype": "text/x-python",
   "name": "python",
   "version": "3.7.6"
  }
 },
 "nbformat": 4,
 "nbformat_minor": 5
}
