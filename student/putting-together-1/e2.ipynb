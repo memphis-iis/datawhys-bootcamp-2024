{
 "cells": [
  {
   "cell_type": "markdown",
   "id": "843b5282",
   "metadata": {
    "deletable": false,
    "editable": false
   },
   "source": [
    "# Putting It Together : Answering Questions By Exploring and Plotting the Dataset (Exercise)"
   ]
  },
  {
   "cell_type": "markdown",
   "id": "5eab6679",
   "metadata": {
    "deletable": false,
    "editable": false
   },
   "source": [
    "Dataset: Measurements of various technical specs of cars. \n",
    "\n",
    "Columns:\n",
    "- mpg (Represents mileage per gallon)\n",
    "- cylinders (Represents number of cylinders)\n",
    "- horsepower (Represents horsepower)\n",
    "- displacement (Represents engine displacement)\n",
    "- weight (Represents weight of the car)"
   ]
  },
  {
   "cell_type": "markdown",
   "id": "8d801d9a",
   "metadata": {
    "deletable": false,
    "editable": false
   },
   "source": [
    "<div class=\"alert alert-block alert-danger\">\n",
    "Read in the dataset `datasets/modified_mpg.csv` and display its contents.",
    "\n</div>"
   ]
  },
  {
   "cell_type": "markdown",
   "id": "699ca643",
   "metadata": {
    "deletable": false,
    "editable": false
   },
   "source": [
    "- Create variable &nbsp;`pd`\n",
    "- `import pandas as pd`"
   ]
  },
  {
   "cell_type": "markdown",
   "id": "fb5da4fc",
   "metadata": {
    "deletable": false,
    "editable": false
   },
   "source": [
    "<br><details><summary>Blockly Hints</summary><ul><li>Blocks<ul><li><code>import .. as ..</code><ul><li>The <code>import .. as ..</code> block is found under IMPORT.</li> <li>A variable must have been created before it will appear in the dropdown.</li></ul></li></ul></li></ul></details>"
   ]
  },
  {
   "cell_type": "code",
   "execution_count": null,
   "id": "2d8c7155",
   "metadata": {
    "datawhys": {
     "response_id": 1,
     "student_response": true
    },
    "deletable": false,
    "editable": true
   },
   "outputs": [],
   "source": []
  },
  {
   "cell_type": "markdown",
   "id": "1d579b1c",
   "metadata": {
    "deletable": false,
    "editable": false
   },
   "source": [
    "- Create variable &nbsp;`df`\n",
    "- `set df to` &nbsp;:&nbsp; `with pd do read_csv using` &nbsp;<-&nbsp; `\" datasets/modified_mpg.csv \"`"
   ]
  },
  {
   "cell_type": "markdown",
   "id": "fc1cec3c",
   "metadata": {
    "deletable": false,
    "editable": false
   },
   "source": [
    "<br><details><summary>Blockly Hints</summary><ul><li>Notation<ul><li><code>A</code> &nbsp;:&nbsp; <code>B</code>&nbsp; means snap blocks A and B together.</li><li><code>A</code> &nbsp;&lt;-&nbsp; <code>B</code>&nbsp; means insert block B into the hole in block A.</li></ul></li><li>Blocks<ul><li><code>set .. to</code><ul><li>The <code>set .. to</code> block is found under VARIABLES.</li> <li>A variable must have been created before it will appear in the dropdown.</li></ul></li><li><code>with .. do .. using ..</code><ul><li>The <code>with .. do .. using ..</code> block is found under VARIABLES.</li> <li>If <code>do</code> dropdown says \"!Not populated until you execute code\", click anywhere in the notebook tab, then click try \"Run All Above Selected Cell\" from the \"Run\" menu.</li> <li>If <code>with .. do .. using ..</code> block does not want to snap together nicely with the <code>set .. to</code> block, try dragging the <code>set .. to</code> block instead.</li></ul></li><li><code>\" .. \"</code><ul><li>The <code>\" .. \"</code> block is found under TEXT.</li></ul></li></ul></li></ul></details>"
   ]
  },
  {
   "cell_type": "code",
   "execution_count": null,
   "id": "047e6033",
   "metadata": {
    "datawhys": {
     "response_id": 2,
     "student_response": true
    },
    "deletable": false,
    "editable": true
   },
   "outputs": [],
   "source": []
  },
  {
   "cell_type": "markdown",
   "id": "7130f5e5",
   "metadata": {
    "deletable": false,
    "editable": false
   },
   "source": [
    "- variable &nbsp;`df`"
   ]
  },
  {
   "cell_type": "markdown",
   "id": "7d30556d",
   "metadata": {
    "deletable": false,
    "editable": false
   },
   "source": [
    "<br><details><summary>Blockly Hints</summary><ul><li>Blocks<ul><li>variable<ul><li>After it is created, each variable has its own block at the end of the VARIABLES menu.</li></ul></li></ul></li></ul></details>"
   ]
  },
  {
   "cell_type": "code",
   "execution_count": null,
   "id": "a1e23540",
   "metadata": {
    "datawhys": {
     "response_id": 3,
     "student_response": true
    },
    "deletable": false,
    "editable": true
   },
   "outputs": [],
   "source": []
  },
  {
   "cell_type": "markdown",
   "id": "4123b93a",
   "metadata": {
    "deletable": false,
    "editable": false
   },
   "source": [
    "## Question 1. &nbsp;&nbsp; For each cylinder type of the cars, what is the distribution (spread) of values for `mpg`, `displacement`, `horsepower` variable?"
   ]
  },
  {
   "cell_type": "markdown",
   "id": "f65e217d",
   "metadata": {
    "deletable": false,
    "editable": false
   },
   "source": [
    "As per the question our concerned variables are  `mpg`, `cylinders`, `displacement` and `horsepower`. So we no longer need `weight`."
   ]
  },
  {
   "cell_type": "markdown",
   "id": "c737fdaa",
   "metadata": {
    "deletable": false,
    "editable": false
   },
   "source": [
    "`Set df to` : `df [ .. ]` &nbsp;<-&nbsp; `create list with` &nbsp;:\n",
    "  - `\" mpg \"`  \n",
    "  - `\" cylinders \"`\n",
    "  - `\" displacement \"`\n",
    "  - `\" horsepower \"`"
   ]
  },
  {
   "cell_type": "markdown",
   "id": "81757f3b",
   "metadata": {
    "deletable": false,
    "editable": false
   },
   "source": [
    "<details>\n",
    "    <summary>\n",
    "        Blockly Hints (Click the triangle to expand)\n",
    "    </summary>\n",
    "    <ul>\n",
    "        <li>Notation\n",
    "            <ul>\n",
    "                <li>\n",
    "                    <code>A</code> &nbsp;:&nbsp; <code>B</code>&nbsp; means snap blocks A and B together\n",
    "                </li>\n",
    "                <li>\n",
    "                    <code>A</code> &nbsp;&lt;-&nbsp; <code>B</code>&nbsp; means insert block B into the hole in block A.\n",
    "                </li>\n",
    "            </ul>\n",
    "        </li>\n",
    "        <li>Blocks\n",
    "            <ul>\n",
    "                <li>\n",
    "                    <code>{dictVariable} [ .. ]</code>\n",
    "                    <ul>\n",
    "                        <li>\n",
    "                            The <code>{dictVariable} [ .. ]</code> block is found under LISTS.\n",
    "                        </li>\n",
    "                    </ul>\n",
    "                </li>\n",
    "                <li>\n",
    "                    <code>create list with</code>\n",
    "                    <ul>\n",
    "                        <li>\n",
    "                            The <code>create list with</code> block is found under LISTS.\n",
    "                        </li> \n",
    "                        <li>You can use the <code>cogs (settings icon)</code> controls on the block to change the number of notches. Unless specifically instructed, the block should not have any empty notches when you click Blocks to Code.\n",
    "                        </li>\n",
    "                    </ul>\n",
    "                </li>\n",
    "                <li>\n",
    "                    <code>\" .. \"</code>\n",
    "                    <ul>\n",
    "                        <li>\n",
    "                            The <code>\" .. \"</code> block is found under TEXT.\n",
    "                        </li>\n",
    "                    </ul>\n",
    "                </li>\n",
    "            </ul>\n",
    "        </li>\n",
    "    </ul>\n",
    "</details>"
   ]
  },
  {
   "cell_type": "code",
   "execution_count": null,
   "id": "f5e9b1ba",
   "metadata": {
    "datawhys": {
     "response_id": 4,
     "student_response": true
    },
    "deletable": false,
    "editable": true
   },
   "outputs": [],
   "source": []
  },
  {
   "cell_type": "markdown",
   "id": "68ee9655",
   "metadata": {
    "deletable": false,
    "editable": false
   },
   "source": [
    "- variable &nbsp;`df`"
   ]
  },
  {
   "cell_type": "markdown",
   "id": "7bed4990",
   "metadata": {
    "deletable": false,
    "editable": false
   },
   "source": [
    "<br><details><summary>Blockly Hints</summary><ul><li>Blocks<ul><li>variable<ul><li>After it is created, each variable has its own block at the end of the VARIABLES menu.</li></ul></li></ul></li></ul></details>"
   ]
  },
  {
   "cell_type": "code",
   "execution_count": null,
   "id": "90fabe0b",
   "metadata": {
    "datawhys": {
     "response_id": 5,
     "student_response": true
    },
    "deletable": false,
    "editable": true
   },
   "outputs": [],
   "source": []
  },
  {
   "cell_type": "markdown",
   "id": "2c6e40a0",
   "metadata": {
    "deletable": false,
    "editable": false
   },
   "source": [
    "#### To answer question 1, we should create subsets for each cylinder numbers of the cars. In our dataset, for any car the `cylinders` count is either `4` or `6` or `8`."
   ]
  },
  {
   "cell_type": "markdown",
   "id": "cfcc2f70",
   "metadata": {
    "deletable": false,
    "editable": false
   },
   "source": [
    "- Create variable &nbsp;`cylinder_4`\n",
    "- `set cylinder_4 to` &nbsp;:&nbsp; `df [ .. ]` &nbsp;<-&nbsp; ` .. = .. ` &nbsp;<-\n",
    "  - `from df get cylinders`\n",
    "  - ` 4 `"
   ]
  },
  {
   "cell_type": "markdown",
   "id": "ec6d2ab4",
   "metadata": {
    "deletable": false,
    "editable": false
   },
   "source": [
    "<br><details><summary>Blockly Hints</summary><ul><li>Notation<ul><li><code>A</code> &nbsp;:&nbsp; <code>B</code>&nbsp; means snap blocks A and B together.</li><li><code>A</code> &nbsp;&lt;-&nbsp; <code>B</code>&nbsp; means insert block B into the hole in block A.</li></ul></li><li>Blocks<ul><li><code>set .. to</code><ul><li>The <code>set .. to</code> block is found under VARIABLES.</li> <li>A variable must have been created before it will appear in the dropdown.</li></ul></li><li><code>\\{dictVariable\\} [ .. ]</code><ul><li>The <code>\\{dictVariable\\} [ .. ]</code> block is found under LISTS.</li></ul></li><li><code> .. = .. </code><ul><li>The <code> .. = .. </code> block is found under LOGIC.</li> <li>Use the dropdown to get other comparison operators.</li></ul></li><li><code>from .. get ..</code><ul><li>The <code>from .. get ..</code> block is found under VARIABLES.</li></ul></li><li><code>123</code><ul><li>The <code>123</code> block is found under MATH.</li></ul></li></ul></li></ul></details>"
   ]
  },
  {
   "cell_type": "code",
   "execution_count": null,
   "id": "47e23391",
   "metadata": {
    "datawhys": {
     "response_id": 6,
     "student_response": true
    },
    "deletable": false,
    "editable": true
   },
   "outputs": [],
   "source": []
  },
  {
   "cell_type": "markdown",
   "id": "1eccb53d",
   "metadata": {
    "deletable": false,
    "editable": false
   },
   "source": [
    "- Create variable &nbsp;`cylinder_6`\n",
    "- `set cylinder_6 to` &nbsp;:&nbsp; `df [ .. ]` &nbsp;<-&nbsp; ` .. = .. ` &nbsp;<-\n",
    "  - `from df get cylinders`\n",
    "  - ` 6 `"
   ]
  },
  {
   "cell_type": "markdown",
   "id": "34e6c517",
   "metadata": {
    "deletable": false,
    "editable": false
   },
   "source": [
    "<br><details><summary>Blockly Hints</summary><ul><li>Notation<ul><li><code>A</code> &nbsp;:&nbsp; <code>B</code>&nbsp; means snap blocks A and B together.</li><li><code>A</code> &nbsp;&lt;-&nbsp; <code>B</code>&nbsp; means insert block B into the hole in block A.</li></ul></li><li>Blocks<ul><li><code>set .. to</code><ul><li>The <code>set .. to</code> block is found under VARIABLES.</li> <li>A variable must have been created before it will appear in the dropdown.</li></ul></li><li><code>\\{dictVariable\\} [ .. ]</code><ul><li>The <code>\\{dictVariable\\} [ .. ]</code> block is found under LISTS.</li></ul></li><li><code> .. = .. </code><ul><li>The <code> .. = .. </code> block is found under LOGIC.</li> <li>Use the dropdown to get other comparison operators.</li></ul></li><li><code>from .. get ..</code><ul><li>The <code>from .. get ..</code> block is found under VARIABLES.</li></ul></li><li><code>123</code><ul><li>The <code>123</code> block is found under MATH.</li></ul></li></ul></li></ul></details>"
   ]
  },
  {
   "cell_type": "code",
   "execution_count": null,
   "id": "7251a831",
   "metadata": {
    "datawhys": {
     "response_id": 7,
     "student_response": true
    },
    "deletable": false,
    "editable": true
   },
   "outputs": [],
   "source": []
  },
  {
   "cell_type": "markdown",
   "id": "083db840",
   "metadata": {
    "deletable": false,
    "editable": false
   },
   "source": [
    "- Create variable &nbsp;`cylinder_8`\n",
    "- `set cylinder_8 to` &nbsp;:&nbsp; `df [ .. ]` &nbsp;<-&nbsp; ` .. = .. ` &nbsp;<-\n",
    "  - `from df get cylinders`\n",
    "  - ` 8 `"
   ]
  },
  {
   "cell_type": "markdown",
   "id": "6be6111c",
   "metadata": {
    "deletable": false,
    "editable": false
   },
   "source": [
    "<br><details><summary>Blockly Hints</summary><ul><li>Notation<ul><li><code>A</code> &nbsp;:&nbsp; <code>B</code>&nbsp; means snap blocks A and B together.</li><li><code>A</code> &nbsp;&lt;-&nbsp; <code>B</code>&nbsp; means insert block B into the hole in block A.</li></ul></li><li>Blocks<ul><li><code>set .. to</code><ul><li>The <code>set .. to</code> block is found under VARIABLES.</li> <li>A variable must have been created before it will appear in the dropdown.</li></ul></li><li><code>\\{dictVariable\\} [ .. ]</code><ul><li>The <code>\\{dictVariable\\} [ .. ]</code> block is found under LISTS.</li></ul></li><li><code> .. = .. </code><ul><li>The <code> .. = .. </code> block is found under LOGIC.</li> <li>Use the dropdown to get other comparison operators.</li></ul></li><li><code>from .. get ..</code><ul><li>The <code>from .. get ..</code> block is found under VARIABLES.</li></ul></li><li><code>123</code><ul><li>The <code>123</code> block is found under MATH.</li></ul></li></ul></li></ul></details>"
   ]
  },
  {
   "cell_type": "code",
   "execution_count": null,
   "id": "f7bff8ed",
   "metadata": {
    "datawhys": {
     "response_id": 8,
     "student_response": true
    },
    "deletable": false,
    "editable": true
   },
   "outputs": [],
   "source": []
  },
  {
   "cell_type": "markdown",
   "id": "5e514cef",
   "metadata": {
    "deletable": false,
    "editable": false
   },
   "source": [
    "#### Now that we have each subset, we can start making our box plots.\n",
    "\n",
    "First, import `plotly`."
   ]
  },
  {
   "cell_type": "markdown",
   "id": "666c365d",
   "metadata": {
    "deletable": false,
    "editable": false
   },
   "source": [
    "- Create variable &nbsp;`px`\n",
    "- `import plotly.express as px`"
   ]
  },
  {
   "cell_type": "markdown",
   "id": "cf12d968",
   "metadata": {
    "deletable": false,
    "editable": false
   },
   "source": [
    "<br><details><summary>Blockly Hints</summary><ul><li>Blocks<ul><li><code>import .. as ..</code><ul><li>The <code>import .. as ..</code> block is found under IMPORT.</li> <li>A variable must have been created before it will appear in the dropdown.</li></ul></li></ul></li></ul></details>"
   ]
  },
  {
   "cell_type": "code",
   "execution_count": null,
   "id": "e8540f42",
   "metadata": {
    "datawhys": {
     "response_id": 9,
     "student_response": true
    },
    "deletable": false,
    "editable": true
   },
   "outputs": [],
   "source": []
  },
  {
   "cell_type": "markdown",
   "id": "740bc0ed",
   "metadata": {
    "deletable": false,
    "editable": false
   },
   "source": [
    "\n",
    "Then, create a variable for the y-axis columns and set it to the list of columns `mpg`,`displacement`, `horsepower`."
   ]
  },
  {
   "cell_type": "markdown",
   "id": "44de198d",
   "metadata": {
    "deletable": false,
    "editable": false
   },
   "source": [
    "- Create variable &nbsp;`y`\n",
    "- `set y to` &nbsp;:&nbsp; `create list with` &nbsp;<-\n",
    "  - `\" mpg \"`\n",
    "  - `\" displacement \"`\n",
    "  - `\" horsepower \"`"
   ]
  },
  {
   "cell_type": "markdown",
   "id": "17eef7e8",
   "metadata": {
    "deletable": false,
    "editable": false
   },
   "source": [
    "<br><details><summary>Blockly Hints</summary><ul><li>Notation<ul><li><code>A</code> &nbsp;:&nbsp; <code>B</code>&nbsp; means snap blocks A and B together.</li><li><code>A</code> &nbsp;&lt;-&nbsp; <code>B</code>&nbsp; means insert block B into the hole in block A.</li></ul></li><li>Blocks<ul><li><code>set .. to</code><ul><li>The <code>set .. to</code> block is found under VARIABLES.</li> <li>A variable must have been created before it will appear in the dropdown.</li></ul></li><li><code>create list with</code><ul><li>The <code>create list with</code> block is found under LISTS.</li> <li>You can use the <code>cogs (settings icon)</code> controls on the block to change the number of notches. Unless specifically instructed, the block should not have any empty notches when you click Blocks to Code. </li></ul></li><li><code>\" .. \"</code><ul><li>The <code>\" .. \"</code> block is found under TEXT.</li></ul></li></ul></li></ul></details>"
   ]
  },
  {
   "cell_type": "code",
   "execution_count": null,
   "id": "2efb3bfc",
   "metadata": {
    "datawhys": {
     "response_id": 10,
     "student_response": true
    },
    "deletable": false,
    "editable": true
   },
   "outputs": [],
   "source": []
  },
  {
   "cell_type": "markdown",
   "id": "b1831744",
   "metadata": {
    "deletable": false,
    "editable": false
   },
   "source": [
    "Now, generate a box plot for the `cylinder_4` cars and set `y=y`. We do not need to set an x value for the plot."
   ]
  },
  {
   "cell_type": "markdown",
   "id": "84da3404",
   "metadata": {
    "deletable": false,
    "editable": false
   },
   "source": [
    "- Grab a freestyle block, type &nbsp;`y=y`\n",
    "- `with px do box using` &nbsp;<-&nbsp;\n",
    "  - &nbsp;`cylinder_4`\n",
    "  - `y=y`"
   ]
  },
  {
   "cell_type": "markdown",
   "id": "e9633178",
   "metadata": {
    "deletable": false,
    "editable": false
   },
   "source": [
    "<br>\n",
    "<details>\n",
    "    <summary>Blockly Hints</summary>\n",
    "    <ul>\n",
    "        <li>Notation\n",
    "            <ul>\n",
    "                <li><code>A</code> &nbsp;:&nbsp; <code>B</code>&nbsp; means snap blocks A and B together.</li>\n",
    "                <li><code>A</code> &nbsp;&lt;-&nbsp; <code>B</code>&nbsp; means insert block B into the hole in block A.</li>\n",
    "            </ul>\n",
    "        </li>\n",
    "        <li>Blocks\n",
    "            <ul>\n",
    "                <li>freestyle\n",
    "                    <ul>\n",
    "                        <li>Unless specifically instructed, use the first block from the FREESTYLE menu.</li>\n",
    "                    </ul>\n",
    "                </li>\n",
    "                <li><code>with .. do .. using ..</code>\n",
    "                    <ul>\n",
    "                        <li>The <code>with .. do .. using ..</code> block is found under VARIABLES.</li>\n",
    "                        <li>You can use the <code>+ -</code> controls on the block to change the number of notches. Unless specifically instructed, the block should not have any empty notches when you click Blocks to Code. </li>\n",
    "                        <li>If <code>do</code> dropdown says \"!Not populated until you execute code\", click anywhere in the notebook tab, then click try \"Run All Above Selected Cell\" from the \"Run\" menu.</li> \n",
    "                        <li>If <code>with .. do .. using ..</code> block does not want to snap together nicely with the <code>set .. to</code> block, try dragging the <code>set .. to</code> block instead.</li>\n",
    "                    </ul>\n",
    "                </li>\n",
    "                </ul>\n",
    "                </li>\n",
    "                <li>variable<ul>\n",
    "                    <li>After it is created, each variable has its own block at the end of the VARIABLES menu.</li>\n",
    "                </ul>\n",
    "                </li>\n",
    "            </ul>\n",
    "        </li>\n",
    "    </ul>\n",
    "</details>"
   ]
  },
  {
   "cell_type": "code",
   "execution_count": null,
   "id": "6d153417",
   "metadata": {
    "datawhys": {
     "response_id": 11,
     "student_response": true
    },
    "deletable": false,
    "editable": true
   },
   "outputs": [],
   "source": []
  },
  {
   "cell_type": "markdown",
   "id": "7236e718",
   "metadata": {
    "deletable": false,
    "editable": false
   },
   "source": [
    "Look at the chart we just made. It could use a bit of formatting. Let's add formatting and generate a nicer chart.\n",
    "\n",
    "- Set title to include the cylinders information. \n",
    "- Set the x-axis label to `\" Car Specs \"`. \n",
    "- Set the y-axis label to `\" Value \"`. \n"
   ]
  },
  {
   "cell_type": "markdown",
   "id": "9985a0f4",
   "metadata": {
    "deletable": false,
    "editable": false
   },
   "source": [
    "- Create variable &nbsp;`title`\n",
    "- `set title to` &nbsp;:&nbsp; `\" Specs of 4 Cylinder Cars \"`"
   ]
  },
  {
   "cell_type": "markdown",
   "id": "342a2c45",
   "metadata": {
    "deletable": false,
    "editable": false
   },
   "source": [
    "<br><details><summary>Blockly Hints</summary><ul><li>Notation<ul><li><code>A</code> &nbsp;:&nbsp; <code>B</code>&nbsp; means snap blocks A and B together.</li></ul></li><li>Blocks<ul><li><code>set .. to</code><ul><li>The <code>set .. to</code> block is found under VARIABLES.</li> <li>A variable must have been created before it will appear in the dropdown.</li></ul></li><li><code>\" .. \"</code><ul><li>The <code>\" .. \"</code> block is found under TEXT.</li></ul></li></ul></li></ul></details>"
   ]
  },
  {
   "cell_type": "code",
   "execution_count": null,
   "id": "0d95f860",
   "metadata": {
    "datawhys": {
     "response_id": 12,
     "student_response": true
    },
    "deletable": false,
    "editable": true
   },
   "outputs": [],
   "source": []
  },
  {
   "cell_type": "markdown",
   "id": "06e6a471",
   "metadata": {
    "deletable": false,
    "editable": false
   },
   "source": [
    "- Create variable &nbsp;`labels`\n",
    "- `set labels to` &nbsp;:&nbsp; `dict` &nbsp;<-&nbsp; `create list with` &nbsp;:\n",
    "  - `create list with` &nbsp;:\n",
    "    - `( .. , .. )` &nbsp;<-\n",
    "      - `\" variable \"`\n",
    "      - `\" Car Specs \"`\n",
    "    - `( .. , .. )` &nbsp;<-\n",
    "      - `\" value \"`\n",
    "      - `\" Value \"`"
   ]
  },
  {
   "cell_type": "markdown",
   "id": "c23d9241",
   "metadata": {
    "deletable": false,
    "editable": false
   },
   "source": [
    "<br><details><summary>Blockly Hints</summary><ul><li>Notation<ul><li><code>A</code> &nbsp;:&nbsp; <code>B</code>&nbsp; means snap blocks A and B together.</li><li><code>A</code> &nbsp;&lt;-&nbsp; <code>B</code>&nbsp; means insert block B into the hole in block A.</li></ul></li><li>Blocks<ul><li><code>set .. to</code><ul><li>The <code>set .. to</code> block is found under VARIABLES.</li> <li>A variable must have been created before it will appear in the dropdown.</li></ul></li><li><code>dict ..</code><ul><li>The <code>dict ..</code> block is found under LISTS.</li></ul></li><li><code>create list with</code><ul><li>The <code>create list with</code> block is found under LISTS.</li> <li>You can use the <code>cogs (settings icon)</code> controls on the block to change the number of notches. Unless specifically instructed, the block should not have any empty notches when you click Blocks to Code. </li></ul></li><li><code>( .. , .. )</code><ul><li>The <code>( .. , .. )</code> block is found under LISTS.</li></ul></li><li><code>\" .. \"</code><ul><li>The <code>\" .. \"</code> block is found under TEXT.</li></ul></li><li>variable<ul><li>After it is created, each variable has its own block at the end of the VARIABLES menu.</li></ul></li></ul></li></ul></details>"
   ]
  },
  {
   "cell_type": "code",
   "execution_count": null,
   "id": "ac3df097",
   "metadata": {
    "datawhys": {
     "response_id": 13,
     "student_response": true
    },
    "deletable": false,
    "editable": true
   },
   "outputs": [],
   "source": []
  },
  {
   "cell_type": "markdown",
   "id": "f3173159",
   "metadata": {
    "deletable": false,
    "editable": false
   },
   "source": [
    "\n",
    "Generate the chart for `cylinder_4` cars again with the added formatting."
   ]
  },
  {
   "cell_type": "markdown",
   "id": "a66a8172",
   "metadata": {
    "deletable": false,
    "editable": false
   },
   "source": [
    "- Grab a freestyle block, type &nbsp;`y=y`\n",
    "- Grab a freestyle block, type &nbsp;`labels=labels`\n",
    "- Grab a freestyle block, type &nbsp;`title=title`\n",
    "- `with px do box using` &nbsp;<-&nbsp;\n",
    "    - variable `cylinder_4`\n",
    "    - `y=y`\n",
    "    - `title=title`\n",
    "    - `labels=labels`"
   ]
  },
  {
   "cell_type": "markdown",
   "id": "e388d424",
   "metadata": {
    "deletable": false,
    "editable": false
   },
   "source": [
    "<br>\n",
    "<details>\n",
    "    <summary>Blockly Hints</summary>\n",
    "    <ul>\n",
    "        <li>Notation\n",
    "            <ul>\n",
    "                <li><code>A</code> &nbsp;:&nbsp; <code>B</code>&nbsp; means snap blocks A and B together.</li>\n",
    "                <li><code>A</code> &nbsp;&lt;-&nbsp; <code>B</code>&nbsp; means insert block B into the hole in block A.</li>\n",
    "            </ul>\n",
    "        </li>\n",
    "        <li>Blocks\n",
    "            <ul>\n",
    "                <li>freestyle\n",
    "                    <ul>\n",
    "                        <li>Unless specifically instructed, use the first block from the FREESTYLE menu.</li>\n",
    "                    </ul>\n",
    "                </li>\n",
    "                <li><code>with .. do .. using ..</code>\n",
    "                    <ul>\n",
    "                        <li>The <code>with .. do .. using ..</code> block is found under VARIABLES.</li>\n",
    "                        <li>You can use the <code>+ -</code> controls on the block to change the number of notches. Unless specifically instructed, the block should not have any empty notches when you click Blocks to Code. </li>\n",
    "                        <li>If <code>do</code> dropdown says \"!Not populated until you execute code\", click anywhere in the notebook tab, then click try \"Run All Above Selected Cell\" from the \"Run\" menu.</li> \n",
    "                        <li>If <code>with .. do .. using ..</code> block does not want to snap together nicely with the <code>set .. to</code> block, try dragging the <code>set .. to</code> block instead.</li>\n",
    "                    </ul>\n",
    "                </li>\n",
    "                </ul>\n",
    "                </li>\n",
    "                <li>variable<ul>\n",
    "                    <li>After it is created, each variable has its own block at the end of the VARIABLES menu.</li>\n",
    "                </ul>\n",
    "                </li>\n",
    "            </ul>\n",
    "        </li>\n",
    "    </ul>\n",
    "</details>"
   ]
  },
  {
   "cell_type": "code",
   "execution_count": null,
   "id": "1c0045d4",
   "metadata": {
    "datawhys": {
     "response_id": 14,
     "student_response": true
    },
    "deletable": false,
    "editable": true
   },
   "outputs": [],
   "source": []
  },
  {
   "cell_type": "markdown",
   "id": "841e5b3b",
   "metadata": {
    "deletable": false,
    "editable": false
   },
   "source": [
    "Similarly, generate the charts for the `cylinder_6` and `cylinder_8` cars as well. \n",
    "\n",
    "Make sure to change the title and variable name for each one. The labels should stay the same."
   ]
  },
  {
   "cell_type": "markdown",
   "id": "f3a265b0",
   "metadata": {
    "deletable": false,
    "editable": false
   },
   "source": [
    "- `set title to` &nbsp;:&nbsp; `\" Specs of 6 Cylinder Cars \"`"
   ]
  },
  {
   "cell_type": "markdown",
   "id": "0cbe50ee",
   "metadata": {
    "deletable": false,
    "editable": false
   },
   "source": [
    "<br><details><summary>Blockly Hints</summary><ul><li>Notation<ul><li><code>A</code> &nbsp;:&nbsp; <code>B</code>&nbsp; means snap blocks A and B together.</li></ul></li><li>Blocks<ul><li><code>set .. to</code><ul><li>The <code>set .. to</code> block is found under VARIABLES.</li> <li>A variable must have been created before it will appear in the dropdown.</li></ul></li><li><code>\" .. \"</code><ul><li>The <code>\" .. \"</code> block is found under TEXT.</li></ul></li></ul></li></ul></details>"
   ]
  },
  {
   "cell_type": "code",
   "execution_count": null,
   "id": "22018827",
   "metadata": {
    "datawhys": {
     "response_id": 15,
     "student_response": true
    },
    "deletable": false,
    "editable": true
   },
   "outputs": [],
   "source": []
  },
  {
   "cell_type": "markdown",
   "id": "6ff5de30",
   "metadata": {
    "deletable": false,
    "editable": false
   },
   "source": [
    "\n",
    "Generate the chart for `cylinder_6` cars."
   ]
  },
  {
   "cell_type": "markdown",
   "id": "9c5dff62",
   "metadata": {
    "deletable": false,
    "editable": false
   },
   "source": [
    "- Grab a freestyle block, type &nbsp;`y=y`\n",
    "- Grab a freestyle block, type &nbsp;`labels=labels`\n",
    "- Grab a freestyle block, type &nbsp;`title=title`\n",
    "- `with px do box using` &nbsp;<-&nbsp;\n",
    "    - variable `cylinder_6`\n",
    "    - `y=y`\n",
    "    - `title=title`\n",
    "    - `labels=labels`"
   ]
  },
  {
   "cell_type": "markdown",
   "id": "bee94fe9",
   "metadata": {
    "deletable": false,
    "editable": false
   },
   "source": [
    "<br>\n",
    "<details>\n",
    "    <summary>Blockly Hints</summary>\n",
    "    <ul>\n",
    "        <li>Notation\n",
    "            <ul>\n",
    "                <li><code>A</code> &nbsp;:&nbsp; <code>B</code>&nbsp; means snap blocks A and B together.</li>\n",
    "                <li><code>A</code> &nbsp;&lt;-&nbsp; <code>B</code>&nbsp; means insert block B into the hole in block A.</li>\n",
    "            </ul>\n",
    "        </li>\n",
    "        <li>Blocks\n",
    "            <ul>\n",
    "                <li>freestyle\n",
    "                    <ul>\n",
    "                        <li>Unless specifically instructed, use the first block from the FREESTYLE menu.</li>\n",
    "                    </ul>\n",
    "                </li>\n",
    "                <li><code>with .. do .. using ..</code>\n",
    "                    <ul>\n",
    "                        <li>The <code>with .. do .. using ..</code> block is found under VARIABLES.</li>\n",
    "                        <li>You can use the <code>+ -</code> controls on the block to change the number of notches. Unless specifically instructed, the block should not have any empty notches when you click Blocks to Code. </li>\n",
    "                        <li>If <code>do</code> dropdown says \"!Not populated until you execute code\", click anywhere in the notebook tab, then click try \"Run All Above Selected Cell\" from the \"Run\" menu.</li> \n",
    "                        <li>If <code>with .. do .. using ..</code> block does not want to snap together nicely with the <code>set .. to</code> block, try dragging the <code>set .. to</code> block instead.</li>\n",
    "                    </ul>\n",
    "                </li>\n",
    "                </ul>\n",
    "                </li>\n",
    "                <li>variable<ul>\n",
    "                    <li>After it is created, each variable has its own block at the end of the VARIABLES menu.</li>\n",
    "                </ul>\n",
    "                </li>\n",
    "            </ul>\n",
    "        </li>\n",
    "    </ul>\n",
    "</details>"
   ]
  },
  {
   "cell_type": "code",
   "execution_count": null,
   "id": "40b8b80f",
   "metadata": {
    "datawhys": {
     "response_id": 16,
     "student_response": true
    },
    "deletable": false,
    "editable": true
   },
   "outputs": [],
   "source": []
  },
  {
   "cell_type": "markdown",
   "id": "5b8c478d",
   "metadata": {
    "deletable": false,
    "editable": false
   },
   "source": [
    "- `set title to` &nbsp;:&nbsp; `\" Specs of 8 Cylinder Cars \"`"
   ]
  },
  {
   "cell_type": "markdown",
   "id": "1c24d021",
   "metadata": {
    "deletable": false,
    "editable": false
   },
   "source": [
    "<br><details><summary>Blockly Hints</summary><ul><li>Notation<ul><li><code>A</code> &nbsp;:&nbsp; <code>B</code>&nbsp; means snap blocks A and B together.</li></ul></li><li>Blocks<ul><li><code>set .. to</code><ul><li>The <code>set .. to</code> block is found under VARIABLES.</li> <li>A variable must have been created before it will appear in the dropdown.</li></ul></li><li><code>\" .. \"</code><ul><li>The <code>\" .. \"</code> block is found under TEXT.</li></ul></li></ul></li></ul></details>"
   ]
  },
  {
   "cell_type": "code",
   "execution_count": null,
   "id": "fa7300f6",
   "metadata": {
    "datawhys": {
     "response_id": 17,
     "student_response": true
    },
    "deletable": false,
    "editable": true
   },
   "outputs": [],
   "source": []
  },
  {
   "cell_type": "markdown",
   "id": "2d6d494e",
   "metadata": {
    "deletable": false,
    "editable": false
   },
   "source": [
    "\n",
    "Generate the chart for `cylinder_8` cars."
   ]
  },
  {
   "cell_type": "markdown",
   "id": "a9072ff5",
   "metadata": {
    "deletable": false,
    "editable": false
   },
   "source": [
    "- Grab a freestyle block, type &nbsp;`y=y`\n",
    "- Grab a freestyle block, type &nbsp;`labels=labels`\n",
    "- Grab a freestyle block, type &nbsp;`title=title`\n",
    "- `with px do box using` &nbsp;<-&nbsp;\n",
    "    - variable `cylinder_8`\n",
    "    - `y=y`\n",
    "    - `title=title`\n",
    "    - `labels=labels`"
   ]
  },
  {
   "cell_type": "markdown",
   "id": "bab4698d",
   "metadata": {
    "deletable": false,
    "editable": false
   },
   "source": [
    "<br>\n",
    "<details>\n",
    "    <summary>Blockly Hints</summary>\n",
    "    <ul>\n",
    "        <li>Notation\n",
    "            <ul>\n",
    "                <li><code>A</code> &nbsp;:&nbsp; <code>B</code>&nbsp; means snap blocks A and B together.</li>\n",
    "                <li><code>A</code> &nbsp;&lt;-&nbsp; <code>B</code>&nbsp; means insert block B into the hole in block A.</li>\n",
    "            </ul>\n",
    "        </li>\n",
    "        <li>Blocks\n",
    "            <ul>\n",
    "                <li>freestyle\n",
    "                    <ul>\n",
    "                        <li>Unless specifically instructed, use the first block from the FREESTYLE menu.</li>\n",
    "                    </ul>\n",
    "                </li>\n",
    "                <li><code>with .. do .. using ..</code>\n",
    "                    <ul>\n",
    "                        <li>The <code>with .. do .. using ..</code> block is found under VARIABLES.</li>\n",
    "                        <li>You can use the <code>+ -</code> controls on the block to change the number of notches. Unless specifically instructed, the block should not have any empty notches when you click Blocks to Code. </li>\n",
    "                        <li>If <code>do</code> dropdown says \"!Not populated until you execute code\", click anywhere in the notebook tab, then click try \"Run All Above Selected Cell\" from the \"Run\" menu.</li> \n",
    "                        <li>If <code>with .. do .. using ..</code> block does not want to snap together nicely with the <code>set .. to</code> block, try dragging the <code>set .. to</code> block instead.</li>\n",
    "                    </ul>\n",
    "                </li>\n",
    "                </ul>\n",
    "                </li>\n",
    "                <li>variable<ul>\n",
    "                    <li>After it is created, each variable has its own block at the end of the VARIABLES menu.</li>\n",
    "                </ul>\n",
    "                </li>\n",
    "            </ul>\n",
    "        </li>\n",
    "    </ul>\n",
    "</details>"
   ]
  },
  {
   "cell_type": "code",
   "execution_count": null,
   "id": "67334789",
   "metadata": {
    "datawhys": {
     "response_id": 18,
     "student_response": true
    },
    "deletable": false,
    "editable": true
   },
   "outputs": [],
   "source": []
  },
  {
   "cell_type": "markdown",
   "id": "628cc4af",
   "metadata": {
    "deletable": false,
    "editable": false
   },
   "source": [
    "<div class=\"alert alert-block alert-danger\">\n",
    "Q1. For each cylinder type, what is the median mpg?",
    "\n</div>"
   ]
  },
  {
   "cell_type": "markdown",
   "id": "47fc1437",
   "metadata": {
    "datawhys": {
     "response_id": 19,
     "student_response": true
    },
    "deletable": false,
    "editable": true
   },
   "source": [
    "<div class=\"alert alert-block alert-info\">\n",
    "<!-- YOUR ANSWER BEGIN -->\n",
    "\n",
    "\n",
    "\n",
    "\n",
    "\n",
    "<!-- YOUR ANSWER END -->\n",
    "</div>"
   ]
  },
  {
   "cell_type": "markdown",
   "id": "61910a5d",
   "metadata": {
    "deletable": false,
    "editable": false
   },
   "source": [
    "<div class=\"alert alert-block alert-danger\">\n",
    "Q2. For each cylinder type, what is the median displacement?",
    "\n</div>"
   ]
  },
  {
   "cell_type": "markdown",
   "id": "42a86ee3",
   "metadata": {
    "datawhys": {
     "response_id": 20,
     "student_response": true
    },
    "deletable": false,
    "editable": true
   },
   "source": [
    "<div class=\"alert alert-block alert-info\">\n",
    "<!-- YOUR ANSWER BEGIN -->\n",
    "\n",
    "\n",
    "\n",
    "\n",
    "\n",
    "<!-- YOUR ANSWER END -->\n",
    "</div>"
   ]
  },
  {
   "cell_type": "markdown",
   "id": "9b99dbd5",
   "metadata": {
    "deletable": false,
    "editable": false
   },
   "source": [
    "<div class=\"alert alert-block alert-danger\">\n",
    "Q3. For each species, what is the median horsepower?",
    "\n</div>"
   ]
  },
  {
   "cell_type": "markdown",
   "id": "902a1870",
   "metadata": {
    "datawhys": {
     "response_id": 21,
     "student_response": true
    },
    "deletable": false,
    "editable": true
   },
   "source": [
    "<div class=\"alert alert-block alert-info\">\n",
    "<!-- YOUR ANSWER BEGIN -->\n",
    "\n",
    "\n",
    "\n",
    "\n",
    "\n",
    "<!-- YOUR ANSWER END -->\n",
    "</div>"
   ]
  },
  {
   "cell_type": "markdown",
   "id": "68cccb93",
   "metadata": {
    "deletable": false,
    "editable": false
   },
   "source": [
    "## Question 2. &nbsp;&nbsp; For each cylinder types (4, 6, 8 cylinders) , which variable's values are most distinctly different from the other two cylinder types?"
   ]
  },
  {
   "cell_type": "markdown",
   "id": "814db623",
   "metadata": {
    "deletable": false,
    "editable": false
   },
   "source": [
    "To answer this question, we can use more box plots.  \n",
    "\n",
    "Using the dataset (in df), let's make box plots for each variable. We don't need to use subsets in this case because we can set the x and y columns when we generate the plot.  \n",
    "\n",
    "First, let's generate the box plot for `mpg` with the following options:\n",
    "\n",
    "- Use the `df` variable\n",
    "- `x= \"cylinders\"`\n",
    "- `y= \"mpg\"`"
   ]
  },
  {
   "cell_type": "markdown",
   "id": "3ee30213",
   "metadata": {
    "deletable": false,
    "editable": false
   },
   "source": [
    "- Grab a freestyle block, type `x= \"cylinders\"`\n",
    "- Grab a freestyle block, type `y= \"mpg\"`\n",
    "- `with px do box using` &nbsp;<-&nbsp;\n",
    "  - &nbsp;`df`\n",
    "  - `x= \"cylinders\"`\n",
    "  - `y= \"mpg\"`"
   ]
  },
  {
   "cell_type": "markdown",
   "id": "c5f9e452",
   "metadata": {
    "deletable": false,
    "editable": false
   },
   "source": [
    "<br>\n",
    "<details>\n",
    "    <summary>Blockly Hints</summary>\n",
    "    <ul>\n",
    "        <li>Notation\n",
    "            <ul>\n",
    "                <li><code>A</code> &nbsp;:&nbsp; <code>B</code>&nbsp; means snap blocks A and B together.</li>\n",
    "                <li><code>A</code> &nbsp;&lt;-&nbsp; <code>B</code>&nbsp; means insert block B into the hole in block A.</li>\n",
    "            </ul>\n",
    "        </li>\n",
    "        <li>Blocks\n",
    "            <ul>\n",
    "                <li>freestyle\n",
    "                    <ul>\n",
    "                        <li>Unless specifically instructed, use the first block from the FREESTYLE menu.</li>\n",
    "                    </ul>\n",
    "                </li>\n",
    "                <li><code>with .. do .. using ..</code>\n",
    "                    <ul>\n",
    "                        <li>The <code>with .. do .. using ..</code> block is found under VARIABLES.</li>\n",
    "                        <li>You can use the <code>+ -</code> controls on the block to change the number of notches. Unless specifically instructed, the block should not have any empty notches when you click Blocks to Code. </li>\n",
    "                        <li>If <code>do</code> dropdown says \"!Not populated until you execute code\", click anywhere in the notebook tab, then click try \"Run All Above Selected Cell\" from the \"Run\" menu.</li> \n",
    "                        <li>If <code>with .. do .. using ..</code> block does not want to snap together nicely with the <code>set .. to</code> block, try dragging the <code>set .. to</code> block instead.</li>\n",
    "                    </ul>\n",
    "                </li>\n",
    "                </ul>\n",
    "                </li>\n",
    "                <li>variable<ul>\n",
    "                    <li>After it is created, each variable has its own block at the end of the VARIABLES menu.</li>\n",
    "                </ul>\n",
    "                </li>\n",
    "            </ul>\n",
    "        </li>\n",
    "    </ul>\n",
    "</details>"
   ]
  },
  {
   "cell_type": "code",
   "execution_count": null,
   "id": "92012834",
   "metadata": {
    "datawhys": {
     "response_id": 22,
     "student_response": true
    },
    "deletable": false,
    "editable": true
   },
   "outputs": [],
   "source": []
  },
  {
   "cell_type": "markdown",
   "id": "20e1b933",
   "metadata": {
    "deletable": false,
    "editable": false
   },
   "source": [
    "Now let's add formatting and generate the chart again.\n",
    "\n",
    "- Set title to include the variable name (in a nice way).\n",
    "- Set the x-axis label to `\"Number of Cylinders\"`\n",
    "- Set the y-axis label to `\"MPG (Mileage Per Gallon)\"`"
   ]
  },
  {
   "cell_type": "markdown",
   "id": "82013398",
   "metadata": {
    "deletable": false,
    "editable": false
   },
   "source": [
    "- `set title to` &nbsp;:&nbsp; `\" MPG for All Cylinder Types \"`"
   ]
  },
  {
   "cell_type": "markdown",
   "id": "7592f8e0",
   "metadata": {
    "deletable": false,
    "editable": false
   },
   "source": [
    "<br><details><summary>Blockly Hints</summary><ul><li>Notation<ul><li><code>A</code> &nbsp;:&nbsp; <code>B</code>&nbsp; means snap blocks A and B together.</li></ul></li><li>Blocks<ul><li><code>set .. to</code><ul><li>The <code>set .. to</code> block is found under VARIABLES.</li> <li>A variable must have been created before it will appear in the dropdown.</li></ul></li><li><code>\" .. \"</code><ul><li>The <code>\" .. \"</code> block is found under TEXT.</li></ul></li></ul></li></ul></details>"
   ]
  },
  {
   "cell_type": "code",
   "execution_count": null,
   "id": "3edb2c01",
   "metadata": {
    "datawhys": {
     "response_id": 23,
     "student_response": true
    },
    "deletable": false,
    "editable": true
   },
   "outputs": [],
   "source": []
  },
  {
   "cell_type": "markdown",
   "id": "b40f8cd5",
   "metadata": {
    "deletable": false,
    "editable": false
   },
   "source": [
    "- `set labels to` &nbsp;:&nbsp; `dict` &nbsp;<-&nbsp; `create list with` &nbsp;:\n",
    "  - `create list with` &nbsp;:\n",
    "    - `( .. , .. )` &nbsp;<-\n",
    "      - `\" cylinders \"`\n",
    "      - `\" Number of Cylinders \"`\n",
    "    - `( .. , .. )` &nbsp;<-\n",
    "      - `\" mpg \"`\n",
    "      - `\" MPG (Mileage Per Gallon) \"`"
   ]
  },
  {
   "cell_type": "markdown",
   "id": "2a145697",
   "metadata": {
    "deletable": false,
    "editable": false
   },
   "source": [
    "<br><details><summary>Blockly Hints</summary><ul><li>Notation<ul><li><code>A</code> &nbsp;:&nbsp; <code>B</code>&nbsp; means snap blocks A and B together.</li><li><code>A</code> &nbsp;&lt;-&nbsp; <code>B</code>&nbsp; means insert block B into the hole in block A.</li></ul></li><li>Blocks<ul><li><code>set .. to</code><ul><li>The <code>set .. to</code> block is found under VARIABLES.</li> <li>A variable must have been created before it will appear in the dropdown.</li></ul></li><li><code>dict ..</code><ul><li>The <code>dict ..</code> block is found under LISTS.</li></ul></li><li><code>create list with</code><ul><li>The <code>create list with</code> block is found under LISTS.</li> <li>You can use the <code>cogs (settings icon)</code> controls on the block to change the number of notches. Unless specifically instructed, the block should not have any empty notches when you click Blocks to Code. </li></ul></li><li><code>( .. , .. )</code><ul><li>The <code>( .. , .. )</code> block is found under LISTS.</li></ul></li><li><code>\" .. \"</code><ul><li>The <code>\" .. \"</code> block is found under TEXT.</li></ul></li></ul></li></ul></details>"
   ]
  },
  {
   "cell_type": "code",
   "execution_count": null,
   "id": "a925b7c0",
   "metadata": {
    "datawhys": {
     "response_id": 24,
     "student_response": true
    },
    "deletable": false,
    "editable": true
   },
   "outputs": [],
   "source": []
  },
  {
   "cell_type": "markdown",
   "id": "f44514c1",
   "metadata": {
    "deletable": false,
    "editable": false
   },
   "source": [
    "- Grab a freestyle block, type `x= \"cylinders\"`\n",
    "- Grab a freestyle block, type `y= \"mpg\"`\n",
    "- Grab a freestyle block, type `title=title`\n",
    "- Grab a freestyle block, type `labels=labels`\n",
    "- `with px do box using` &nbsp;<-&nbsp;\n",
    "  - variable &nbsp;`df`\n",
    "  - `x= \"cylinders\"`\n",
    "  - `y= \"mpg\"`\n",
    "  - `title=title`\n",
    "  - `labels=labels`"
   ]
  },
  {
   "cell_type": "markdown",
   "id": "a40fcbf3",
   "metadata": {
    "deletable": false,
    "editable": false
   },
   "source": [
    "<br>\n",
    "<details>\n",
    "    <summary>Blockly Hints</summary>\n",
    "    <ul>\n",
    "        <li>Notation\n",
    "            <ul>\n",
    "                <li><code>A</code> &nbsp;:&nbsp; <code>B</code>&nbsp; means snap blocks A and B together.</li>\n",
    "                <li><code>A</code> &nbsp;&lt;-&nbsp; <code>B</code>&nbsp; means insert block B into the hole in block A.</li>\n",
    "            </ul>\n",
    "        </li>\n",
    "        <li>Blocks\n",
    "            <ul>\n",
    "                <li>freestyle\n",
    "                    <ul>\n",
    "                        <li>Unless specifically instructed, use the first block from the FREESTYLE menu.</li>\n",
    "                    </ul>\n",
    "                </li>\n",
    "                <li><code>with .. do .. using ..</code>\n",
    "                    <ul>\n",
    "                        <li>The <code>with .. do .. using ..</code> block is found under VARIABLES.</li>\n",
    "                        <li>You can use the <code>+ -</code> controls on the block to change the number of notches. Unless specifically instructed, the block should not have any empty notches when you click Blocks to Code. </li>\n",
    "                        <li>If <code>do</code> dropdown says \"!Not populated until you execute code\", click anywhere in the notebook tab, then click try \"Run All Above Selected Cell\" from the \"Run\" menu.</li> \n",
    "                        <li>If <code>with .. do .. using ..</code> block does not want to snap together nicely with the <code>set .. to</code> block, try dragging the <code>set .. to</code> block instead.</li>\n",
    "                    </ul>\n",
    "                </li>\n",
    "                </ul>\n",
    "                </li>\n",
    "                <li>variable<ul>\n",
    "                    <li>After it is created, each variable has its own block at the end of the VARIABLES menu.</li>\n",
    "                </ul>\n",
    "                </li>\n",
    "            </ul>\n",
    "        </li>\n",
    "    </ul>\n",
    "</details>"
   ]
  },
  {
   "cell_type": "code",
   "execution_count": null,
   "id": "b0ff6be3",
   "metadata": {
    "datawhys": {
     "response_id": 25,
     "student_response": true
    },
    "deletable": false,
    "editable": true
   },
   "outputs": [],
   "source": []
  },
  {
   "cell_type": "markdown",
   "id": "a89ecd22",
   "metadata": {
    "deletable": false,
    "editable": false
   },
   "source": [
    "Generate the charts for the other 2 variables (`displacement` and `horsepower`).\n",
    "\n",
    "Make sure to change the `y` column, `title` and `y-axis` labels for each chart."
   ]
  },
  {
   "cell_type": "markdown",
   "id": "c57037ab",
   "metadata": {
    "deletable": false,
    "editable": false
   },
   "source": [
    "- `set title to` &nbsp;:&nbsp; `\" Displacement for All Cylinder Types \"`"
   ]
  },
  {
   "cell_type": "markdown",
   "id": "453fb955",
   "metadata": {
    "deletable": false,
    "editable": false
   },
   "source": [
    "<br><details><summary>Blockly Hints</summary><ul><li>Notation<ul><li><code>A</code> &nbsp;:&nbsp; <code>B</code>&nbsp; means snap blocks A and B together.</li></ul></li><li>Blocks<ul><li><code>set .. to</code><ul><li>The <code>set .. to</code> block is found under VARIABLES.</li> <li>A variable must have been created before it will appear in the dropdown.</li></ul></li><li><code>\" .. \"</code><ul><li>The <code>\" .. \"</code> block is found under TEXT.</li></ul></li></ul></li></ul></details>"
   ]
  },
  {
   "cell_type": "code",
   "execution_count": null,
   "id": "c6493e89",
   "metadata": {
    "datawhys": {
     "response_id": 26,
     "student_response": true
    },
    "deletable": false,
    "editable": true
   },
   "outputs": [],
   "source": []
  },
  {
   "cell_type": "markdown",
   "id": "63c34de5",
   "metadata": {
    "deletable": false,
    "editable": false
   },
   "source": [
    "- `set labels to` &nbsp;:&nbsp; `dict` &nbsp;<-&nbsp; `create list with` &nbsp;:\n",
    "  - `create list with` &nbsp;:\n",
    "    - `( .. , .. )` &nbsp;<-\n",
    "      - `\" cylinders \"`\n",
    "      - `\" Number of Cylinders \"`\n",
    "    - `( .. , .. )` &nbsp;<-\n",
    "      - `\" displacement \"`\n",
    "      - `\" Displacement \"`"
   ]
  },
  {
   "cell_type": "markdown",
   "id": "55011a16",
   "metadata": {
    "deletable": false,
    "editable": false
   },
   "source": [
    "<br><details><summary>Blockly Hints</summary><ul><li>Notation<ul><li><code>A</code> &nbsp;:&nbsp; <code>B</code>&nbsp; means snap blocks A and B together.</li><li><code>A</code> &nbsp;&lt;-&nbsp; <code>B</code>&nbsp; means insert block B into the hole in block A.</li></ul></li><li>Blocks<ul><li><code>set .. to</code><ul><li>The <code>set .. to</code> block is found under VARIABLES.</li> <li>A variable must have been created before it will appear in the dropdown.</li></ul></li><li><code>dict ..</code><ul><li>The <code>dict ..</code> block is found under LISTS.</li></ul></li><li><code>create list with</code><ul><li>The <code>create list with</code> block is found under LISTS.</li> <li>You can use the <code>cogs (settings icon)</code> controls on the block to change the number of notches. Unless specifically instructed, the block should not have any empty notches when you click Blocks to Code. </li></ul></li><li><code>( .. , .. )</code><ul><li>The <code>( .. , .. )</code> block is found under LISTS.</li></ul></li><li><code>\" .. \"</code><ul><li>The <code>\" .. \"</code> block is found under TEXT.</li></ul></li></ul></li></ul></details>"
   ]
  },
  {
   "cell_type": "code",
   "execution_count": null,
   "id": "73a5a35a",
   "metadata": {
    "datawhys": {
     "response_id": 27,
     "student_response": true
    },
    "deletable": false,
    "editable": true
   },
   "outputs": [],
   "source": []
  },
  {
   "cell_type": "markdown",
   "id": "41a495a2",
   "metadata": {
    "deletable": false,
    "editable": false
   },
   "source": [
    "- Grab a freestyle block, type `x= \"cylinders\"`\n",
    "- Grab a freestyle block, type `y= \"displacement\"`\n",
    "- Grab a freestyle block, type `title=title`\n",
    "- Grab a freestyle block, type `labels=labels`\n",
    "- `with px do box using` &nbsp;<-&nbsp;\n",
    "  - variable &nbsp;`df`\n",
    "  - `x= \"cylinders\"`\n",
    "  - `y= \"displacement\"`\n",
    "  - `title=title`\n",
    "  - `labels=labels`"
   ]
  },
  {
   "cell_type": "markdown",
   "id": "3e898af3",
   "metadata": {
    "deletable": false,
    "editable": false
   },
   "source": [
    "<br>\n",
    "<details>\n",
    "    <summary>Blockly Hints</summary>\n",
    "    <ul>\n",
    "        <li>Notation\n",
    "            <ul>\n",
    "                <li><code>A</code> &nbsp;:&nbsp; <code>B</code>&nbsp; means snap blocks A and B together.</li>\n",
    "                <li><code>A</code> &nbsp;&lt;-&nbsp; <code>B</code>&nbsp; means insert block B into the hole in block A.</li>\n",
    "            </ul>\n",
    "        </li>\n",
    "        <li>Blocks\n",
    "            <ul>\n",
    "                <li>freestyle\n",
    "                    <ul>\n",
    "                        <li>Unless specifically instructed, use the first block from the FREESTYLE menu.</li>\n",
    "                    </ul>\n",
    "                </li>\n",
    "                <li><code>with .. do .. using ..</code>\n",
    "                    <ul>\n",
    "                        <li>The <code>with .. do .. using ..</code> block is found under VARIABLES.</li>\n",
    "                        <li>You can use the <code>+ -</code> controls on the block to change the number of notches. Unless specifically instructed, the block should not have any empty notches when you click Blocks to Code. </li>\n",
    "                        <li>If <code>do</code> dropdown says \"!Not populated until you execute code\", click anywhere in the notebook tab, then click try \"Run All Above Selected Cell\" from the \"Run\" menu.</li> \n",
    "                        <li>If <code>with .. do .. using ..</code> block does not want to snap together nicely with the <code>set .. to</code> block, try dragging the <code>set .. to</code> block instead.</li>\n",
    "                    </ul>\n",
    "                </li>\n",
    "                </ul>\n",
    "                </li>\n",
    "                <li>variable<ul>\n",
    "                    <li>After it is created, each variable has its own block at the end of the VARIABLES menu.</li>\n",
    "                </ul>\n",
    "                </li>\n",
    "            </ul>\n",
    "        </li>\n",
    "    </ul>\n",
    "</details>"
   ]
  },
  {
   "cell_type": "code",
   "execution_count": null,
   "id": "1deb3596",
   "metadata": {
    "datawhys": {
     "response_id": 28,
     "student_response": true
    },
    "deletable": false,
    "editable": true
   },
   "outputs": [],
   "source": []
  },
  {
   "cell_type": "markdown",
   "id": "761fd0b6",
   "metadata": {
    "deletable": false,
    "editable": false
   },
   "source": [
    "- `set title to` &nbsp;:&nbsp; `\" Horsepower for All Cylinder Types \"`"
   ]
  },
  {
   "cell_type": "markdown",
   "id": "40eaf781",
   "metadata": {
    "deletable": false,
    "editable": false
   },
   "source": [
    "<br><details><summary>Blockly Hints</summary><ul><li>Notation<ul><li><code>A</code> &nbsp;:&nbsp; <code>B</code>&nbsp; means snap blocks A and B together.</li></ul></li><li>Blocks<ul><li><code>set .. to</code><ul><li>The <code>set .. to</code> block is found under VARIABLES.</li> <li>A variable must have been created before it will appear in the dropdown.</li></ul></li><li><code>\" .. \"</code><ul><li>The <code>\" .. \"</code> block is found under TEXT.</li></ul></li></ul></li></ul></details>"
   ]
  },
  {
   "cell_type": "code",
   "execution_count": null,
   "id": "7fe59ddd",
   "metadata": {
    "datawhys": {
     "response_id": 29,
     "student_response": true
    },
    "deletable": false,
    "editable": true
   },
   "outputs": [],
   "source": []
  },
  {
   "cell_type": "markdown",
   "id": "8835889a",
   "metadata": {
    "deletable": false,
    "editable": false
   },
   "source": [
    "- `set labels to` &nbsp;:&nbsp; `dict` &nbsp;<-&nbsp; `create list with` &nbsp;:\n",
    "  - `create list with` &nbsp;:\n",
    "    - `( .. , .. )` &nbsp;<-\n",
    "      - `\" cylinders \"`\n",
    "      - `\" Number of Cylinders \"`\n",
    "    - `( .. , .. )` &nbsp;<-\n",
    "      - `\" horsepower \"`\n",
    "      - `\" Horsepower \"`"
   ]
  },
  {
   "cell_type": "markdown",
   "id": "1c7796c8",
   "metadata": {
    "deletable": false,
    "editable": false
   },
   "source": [
    "<br><details><summary>Blockly Hints</summary><ul><li>Notation<ul><li><code>A</code> &nbsp;:&nbsp; <code>B</code>&nbsp; means snap blocks A and B together.</li><li><code>A</code> &nbsp;&lt;-&nbsp; <code>B</code>&nbsp; means insert block B into the hole in block A.</li></ul></li><li>Blocks<ul><li><code>set .. to</code><ul><li>The <code>set .. to</code> block is found under VARIABLES.</li> <li>A variable must have been created before it will appear in the dropdown.</li></ul></li><li><code>dict ..</code><ul><li>The <code>dict ..</code> block is found under LISTS.</li></ul></li><li><code>create list with</code><ul><li>The <code>create list with</code> block is found under LISTS.</li> <li>You can use the <code>cogs (settings icon)</code> controls on the block to change the number of notches. Unless specifically instructed, the block should not have any empty notches when you click Blocks to Code. </li></ul></li><li><code>( .. , .. )</code><ul><li>The <code>( .. , .. )</code> block is found under LISTS.</li></ul></li><li><code>\" .. \"</code><ul><li>The <code>\" .. \"</code> block is found under TEXT.</li></ul></li></ul></li></ul></details>"
   ]
  },
  {
   "cell_type": "code",
   "execution_count": null,
   "id": "0b7a4c6d",
   "metadata": {
    "datawhys": {
     "response_id": 30,
     "student_response": true
    },
    "deletable": false,
    "editable": true
   },
   "outputs": [],
   "source": []
  },
  {
   "cell_type": "markdown",
   "id": "5cabb97f",
   "metadata": {
    "deletable": false,
    "editable": false
   },
   "source": [
    "- Grab a freestyle block, type `x= \"cylinders\"`\n",
    "- Grab a freestyle block, type `y= \"horsepower\"`\n",
    "- Grab a freestyle block, type `title=title`\n",
    "- Grab a freestyle block, type `labels=labels`\n",
    "- `with px do box using` &nbsp;<-&nbsp;\n",
    "  - variable &nbsp;`df`\n",
    "  - `x= \"cylinders\"`\n",
    "  - `y= \"horsepower\"`\n",
    "  - `title=title`\n",
    "  - `labels=labels`"
   ]
  },
  {
   "cell_type": "markdown",
   "id": "b101520f",
   "metadata": {
    "deletable": false,
    "editable": false
   },
   "source": [
    "<br>\n",
    "<details>\n",
    "    <summary>Blockly Hints</summary>\n",
    "    <ul>\n",
    "        <li>Notation\n",
    "            <ul>\n",
    "                <li><code>A</code> &nbsp;:&nbsp; <code>B</code>&nbsp; means snap blocks A and B together.</li>\n",
    "                <li><code>A</code> &nbsp;&lt;-&nbsp; <code>B</code>&nbsp; means insert block B into the hole in block A.</li>\n",
    "            </ul>\n",
    "        </li>\n",
    "        <li>Blocks\n",
    "            <ul>\n",
    "                <li>freestyle\n",
    "                    <ul>\n",
    "                        <li>Unless specifically instructed, use the first block from the FREESTYLE menu.</li>\n",
    "                    </ul>\n",
    "                </li>\n",
    "                <li><code>with .. do .. using ..</code>\n",
    "                    <ul>\n",
    "                        <li>The <code>with .. do .. using ..</code> block is found under VARIABLES.</li>\n",
    "                        <li>You can use the <code>+ -</code> controls on the block to change the number of notches. Unless specifically instructed, the block should not have any empty notches when you click Blocks to Code. </li>\n",
    "                        <li>If <code>do</code> dropdown says \"!Not populated until you execute code\", click anywhere in the notebook tab, then click try \"Run All Above Selected Cell\" from the \"Run\" menu.</li> \n",
    "                        <li>If <code>with .. do .. using ..</code> block does not want to snap together nicely with the <code>set .. to</code> block, try dragging the <code>set .. to</code> block instead.</li>\n",
    "                    </ul>\n",
    "                </li>\n",
    "                </ul>\n",
    "                </li>\n",
    "                <li>variable<ul>\n",
    "                    <li>After it is created, each variable has its own block at the end of the VARIABLES menu.</li>\n",
    "                </ul>\n",
    "                </li>\n",
    "            </ul>\n",
    "        </li>\n",
    "    </ul>\n",
    "</details>"
   ]
  },
  {
   "cell_type": "code",
   "execution_count": null,
   "id": "c1bcf8b1",
   "metadata": {
    "datawhys": {
     "response_id": 31,
     "student_response": true
    },
    "deletable": false,
    "editable": true
   },
   "outputs": [],
   "source": []
  },
  {
   "cell_type": "markdown",
   "id": "2a0af465",
   "metadata": {
    "deletable": false,
    "editable": false
   },
   "source": [
    "<div class=\"alert alert-block alert-danger\">\n",
    "Q1. For each cylinder type cars, which variable should we look at to distinguish that cylinder type from the other two? (Hint: We are looking for the least overlapping interquartile range.)",
    "\n</div>"
   ]
  },
  {
   "cell_type": "markdown",
   "id": "aa6c5715",
   "metadata": {
    "datawhys": {
     "response_id": 32,
     "student_response": true
    },
    "deletable": false,
    "editable": true
   },
   "source": [
    "<div class=\"alert alert-block alert-info\">\n",
    "<!-- YOUR ANSWER BEGIN -->\n",
    "\n",
    "\n",
    "\n",
    "\n",
    "\n",
    "<!-- YOUR ANSWER END -->\n",
    "</div>"
   ]
  }
 ],
 "metadata": {
  "kernelspec": {
   "display_name": "xpython",
   "language": "python",
   "name": "xpython"
  },
  "language_info": {
   "codemirror_mode": {
    "name": "ipython",
    "version": 3
   },
   "file_extension": ".py",
   "mimetype": "text/x-python",
   "name": "python",
   "nbconvert_exporter": "python",
   "pygments_lexer": "ipython3",
   "version": "3.10.10"
  }
 },
 "nbformat": 4,
 "nbformat_minor": 5
}
