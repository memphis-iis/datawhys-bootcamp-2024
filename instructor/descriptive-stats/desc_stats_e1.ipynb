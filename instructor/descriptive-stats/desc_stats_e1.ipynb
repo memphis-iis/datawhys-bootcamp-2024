{
 "cells": [
  {
   "cell_type": "markdown",
   "id": "6ebb1053",
   "metadata": {},
   "source": [
    "# Descriptive Statistics Activity 1"
   ]
  },
  {
   "cell_type": "markdown",
   "id": "c07101d4",
   "metadata": {},
   "source": [
    "## Question. &nbsp;What is the mean, median and mode of the size of the petals of a flower?\n"
   ]
  },
  {
   "cell_type": "markdown",
   "id": "857ac4be",
   "metadata": {},
   "source": [
    "Dataset: Data on the color, shape and size of petals of a flower.\n",
    "\n",
    "Columns:\n",
    "- PetalColor\n",
    "- PetalShape\n",
    "- Size"
   ]
  },
  {
   "cell_type": "markdown",
   "id": "0adb6959",
   "metadata": {},
   "source": [
    "### Step 1. &nbsp;&nbsp;&nbsp; Read CSV Data into Pandas Dataframe"
   ]
  },
  {
   "cell_type": "markdown",
   "id": "b36776f1",
   "metadata": {},
   "source": [
    "#!blhint\n",
    "\n",
    "- Create variable &nbsp;`pd`\n",
    "- `import pandas as pd`"
   ]
  },
  {
   "cell_type": "markdown",
   "id": "327b802f",
   "metadata": {},
   "source": [
    "#### Import libraries\n",
    "\n",
    "We can calculate measures of central tendency and spread using `pandas dataframes`.\n",
    "\n",
    "First thing you need to do is import `pandas` below."
   ]
  },
  {
   "cell_type": "markdown",
   "id": "12f48402",
   "metadata": {},
   "source": [
    "<br><details><summary>Blockly Hints</summary><ul><li>Blocks<ul><li><code>import .. as ..</code><ul><li>The <code>import .. as ..</code> block is found under IMPORT.</li> <li>A variable must have been created before it will appear in the dropdown.</li></ul></li></ul></li></ul></details>"
   ]
  },
  {
   "cell_type": "code",
   "execution_count": 1,
   "id": "a07287ed",
   "metadata": {},
   "outputs": [],
   "source": [
    "#!response\n",
    "\n",
    "import pandas as pd\n",
    "\n",
    "#<xml xmlns=\"https://developers.google.com/blockly/xml\"><variables><variable id=\"zq]t,,UR`GWj6?Hub9%a\">pd</variable></variables><block type=\"importAs_Python\" id=\"o[3wY[w:R*b$p^Ow/ZZw\" x=\"125\" y=\"352\"><field name=\"libraryName\">pandas</field><field name=\"libraryAlias\" id=\"zq]t,,UR`GWj6?Hub9%a\">pd</field></block></xml>"
   ]
  },
  {
   "cell_type": "markdown",
   "id": "34d29213",
   "metadata": {},
   "source": [
    "#### Substep. &nbsp;&nbsp; Read CSV data and Save in Variable"
   ]
  },
  {
   "cell_type": "markdown",
   "id": "13290012",
   "metadata": {},
   "source": [
    "#### Load data\n",
    "\n",
    "We're going to work with data from before, on flowers.\n",
    "\n",
    "Load the CSV file `\"datasets/flower-data-2020.csv\"` into a dataframe."
   ]
  },
  {
   "cell_type": "markdown",
   "id": "c42af44e",
   "metadata": {},
   "source": [
    "#!blhint\n",
    "\n",
    "- Create variable &nbsp;`dataframe`\n",
    "- `set dataframe to` &nbsp;:&nbsp; `with pd do read_csv using` &nbsp;<-&nbsp; `\" datasets/flower-data-2020.csv \"`"
   ]
  },
  {
   "cell_type": "markdown",
   "id": "51a1f3b8",
   "metadata": {},
   "source": [
    "<details>\n",
    "  <summary>Blockly Hints</summary>\n",
    "  <ol>\n",
    "    <li>Variable <code>dataframe</code> must be created under VARIABLES before it can be used</li>\n",
    "    <li><code>set .. to</code> block found under VARIABLES</li>\n",
    "    <li><code>with .. do .. using</code> block found under VARIABLES</li>\n",
    "    <li>If <code>do</code> dropdown in <code>with .. do .. using</code> block will not populate, try \"Run All Above Selected Cell\" from the \"Run\" menu in top-left.</li>\n",
    "    <li>You need a <code>\"..\"</code> block found under TEXT to fill in the <code>using</code> part of the <code>with .. do .. using</code> block</li>\n",
    "    <li>If <code>with .. do .. using</code> block does not want to snap together nicely with the <code>set .. to</code> block, try dragging the <code>set .. to</code> block instead.</li>\n",
    "  </ol>\n",
    "</details>"
   ]
  },
  {
   "cell_type": "code",
   "execution_count": 3,
   "id": "c70d45b3",
   "metadata": {},
   "outputs": [],
   "source": [
    "#!response\n",
    "\n",
    "dataframe = pd.read_csv('datasets/flower-data-2020.csv')\n",
    "\n",
    "#<xml xmlns=\"https://developers.google.com/blockly/xml\"><variables><variable id=\"[V~uW+0L/4GW;45ulv+l\">dataframe</variable><variable id=\"zq]t,,UR`GWj6?Hub9%a\">pd</variable></variables><block type=\"variables_set\" id=\"Q;Wf|^J[l``[2AUnBA[j\" x=\"-54\" y=\"-88\"><field name=\"VAR\" id=\"[V~uW+0L/4GW;45ulv+l\">dataframe</field><value name=\"VALUE\"><block type=\"varDoMethod_Python\" id=\";6X,{%h.e:jHHE~h}eX`\"><mutation items=\"1\"></mutation><field name=\"VAR\" id=\"zq]t,,UR`GWj6?Hub9%a\">pd</field><field name=\"MEMBER\">read_csv</field><data>pd:read_csv</data><value name=\"ADD0\"><block type=\"text\" id=\"}TiS{=`m#5SXZ11xtT6W\"><field name=\"TEXT\">datasets/flower-data-2020.csv</field></block></value></block></value></block></xml>"
   ]
  },
  {
   "cell_type": "markdown",
   "id": "1ff71017",
   "metadata": {},
   "source": [
    "### View the Dataframe"
   ]
  },
  {
   "cell_type": "markdown",
   "id": "58c03b6d",
   "metadata": {},
   "source": [
    "#!blhint\n",
    "\n",
    "- variable &nbsp;`dataframe`"
   ]
  },
  {
   "cell_type": "markdown",
   "id": "7e806715",
   "metadata": {},
   "source": [
    "<br>\n",
    "<details>\n",
    "    <summary>Blockly Hints (Click on triangle to expand)</summary>\n",
    "    <ul>\n",
    "        <li>Blocks\n",
    "            <ul>\n",
    "                <li>variable\n",
    "                    <ul>\n",
    "                        <li>After it is created, each variable has its own block at the end of the VARIABLES menu.</li>\n",
    "                    </ul>\n",
    "                </li>\n",
    "            </ul>\n",
    "        </li>\n",
    "    </ul>\n",
    "</details>\n"
   ]
  },
  {
   "cell_type": "code",
   "execution_count": 4,
   "id": "c2589115",
   "metadata": {},
   "outputs": [
    {
     "data": {
      "text/html": [
       "<div>\n",
       "<style scoped>\n",
       "    .dataframe tbody tr th:only-of-type {\n",
       "        vertical-align: middle;\n",
       "    }\n",
       "\n",
       "    .dataframe tbody tr th {\n",
       "        vertical-align: top;\n",
       "    }\n",
       "\n",
       "    .dataframe thead th {\n",
       "        text-align: right;\n",
       "    }\n",
       "</style>\n",
       "<table border=\"1\" class=\"dataframe\">\n",
       "  <thead>\n",
       "    <tr style=\"text-align: right;\">\n",
       "      <th></th>\n",
       "      <th>PetalColor</th>\n",
       "      <th>PetalShape</th>\n",
       "      <th>Size</th>\n",
       "    </tr>\n",
       "  </thead>\n",
       "  <tbody>\n",
       "    <tr>\n",
       "      <th>0</th>\n",
       "      <td>multicolor</td>\n",
       "      <td>rounded</td>\n",
       "      <td>2</td>\n",
       "    </tr>\n",
       "    <tr>\n",
       "      <th>1</th>\n",
       "      <td>unicolor</td>\n",
       "      <td>rounded</td>\n",
       "      <td>2</td>\n",
       "    </tr>\n",
       "    <tr>\n",
       "      <th>2</th>\n",
       "      <td>unicolor</td>\n",
       "      <td>unrounded</td>\n",
       "      <td>3</td>\n",
       "    </tr>\n",
       "    <tr>\n",
       "      <th>3</th>\n",
       "      <td>multicolor</td>\n",
       "      <td>rounded</td>\n",
       "      <td>2</td>\n",
       "    </tr>\n",
       "    <tr>\n",
       "      <th>4</th>\n",
       "      <td>multicolor</td>\n",
       "      <td>rounded</td>\n",
       "      <td>1</td>\n",
       "    </tr>\n",
       "    <tr>\n",
       "      <th>...</th>\n",
       "      <td>...</td>\n",
       "      <td>...</td>\n",
       "      <td>...</td>\n",
       "    </tr>\n",
       "    <tr>\n",
       "      <th>205</th>\n",
       "      <td>multicolor</td>\n",
       "      <td>rounded</td>\n",
       "      <td>3</td>\n",
       "    </tr>\n",
       "    <tr>\n",
       "      <th>206</th>\n",
       "      <td>unicolor</td>\n",
       "      <td>rounded</td>\n",
       "      <td>3</td>\n",
       "    </tr>\n",
       "    <tr>\n",
       "      <th>207</th>\n",
       "      <td>unicolor</td>\n",
       "      <td>unrounded</td>\n",
       "      <td>3</td>\n",
       "    </tr>\n",
       "    <tr>\n",
       "      <th>208</th>\n",
       "      <td>multicolor</td>\n",
       "      <td>rounded</td>\n",
       "      <td>2</td>\n",
       "    </tr>\n",
       "    <tr>\n",
       "      <th>209</th>\n",
       "      <td>unicolor</td>\n",
       "      <td>rounded</td>\n",
       "      <td>1</td>\n",
       "    </tr>\n",
       "  </tbody>\n",
       "</table>\n",
       "<p>210 rows × 3 columns</p>\n",
       "</div>"
      ],
      "text/plain": [
       "     PetalColor PetalShape  Size\n",
       "0    multicolor    rounded     2\n",
       "1      unicolor    rounded     2\n",
       "2      unicolor  unrounded     3\n",
       "3    multicolor    rounded     2\n",
       "4    multicolor    rounded     1\n",
       "..          ...        ...   ...\n",
       "205  multicolor    rounded     3\n",
       "206    unicolor    rounded     3\n",
       "207    unicolor  unrounded     3\n",
       "208  multicolor    rounded     2\n",
       "209    unicolor    rounded     1\n",
       "\n",
       "[210 rows x 3 columns]"
      ]
     },
     "execution_count": 4,
     "metadata": {},
     "output_type": "execute_result"
    }
   ],
   "source": [
    "#!response\n",
    "\n",
    "dataframe\n",
    "\n",
    "#<xml xmlns=\"https://developers.google.com/blockly/xml\"><variables><variable id=\"[V~uW+0L/4GW;45ulv+l\">dataframe</variable></variables><block type=\"variables_get\" id=\"j,sLx23s.;8%Za?gBNRZ\" x=\"-75\" y=\"-34\"><field name=\"VAR\" id=\"[V~uW+0L/4GW;45ulv+l\">dataframe</field></block></xml>"
   ]
  },
  {
   "cell_type": "markdown",
   "id": "3a33510a",
   "metadata": {},
   "source": [
    "#### Substep. Compute the mean, median and mode for the size of the petals \n",
    "\n",
    "In the next three cells, use the dataframe to calculate the mean, median, and mode of the `Size` column."
   ]
  },
  {
   "cell_type": "markdown",
   "id": "663d1764",
   "metadata": {},
   "source": [
    "Blockly Hints:\n",
    " \n",
    "- create variable `size` \n",
    "- `set size to` : `dataframe [ .. ]` <- `create list with` &nbsp;:\n",
    "    - `\" Size \"`"
   ]
  },
  {
   "cell_type": "markdown",
   "id": "05c97146",
   "metadata": {},
   "source": [
    "<details>\n",
    "  <summary>Blockly Hints</summary>\n",
    "  <ol>\n",
    "      <li>Using the LISTS menu in the Blockly palette, click on <code>create empty list</code>. Then click on the <code>+</code> sign.</li>\n",
    "      <li>To add an element to the list, drag a text block and connect it with the list block. Inside the text block , write <b>Size</b>. </li>\n",
    "      <li>Using the LISTS menu in the Blockly palette, click on the {dictVariable}[ ] block, change {dictVariable} to dataframe, and drop a create list with [\"Size\"] inside it.</li>\n",
    "      <li>From VARIABLES, <code>set size to</code> the <code>{dataframe}['Size']</code>  block</li>\n",
    "     \n",
    "\n",
    "  </ol>\n",
    "</details>"
   ]
  },
  {
   "cell_type": "code",
   "execution_count": 5,
   "id": "6b7f2537",
   "metadata": {},
   "outputs": [],
   "source": [
    "#!response\n",
    "\n",
    "size = dataframe[['Size']]\n",
    "\n",
    "#<xml xmlns=\"https://developers.google.com/blockly/xml\"><variables><variable id=\"q,l~CsolziEN`^3*$p}i\">size</variable><variable id=\"[V~uW+0L/4GW;45ulv+l\">dataframe</variable></variables><block type=\"variables_set\" id=\"B)}qP8Yzo+dF5LW?%R!v\" x=\"-63\" y=\"-163\"><field name=\"VAR\" id=\"q,l~CsolziEN`^3*$p}i\">size</field><value name=\"VALUE\"><block type=\"indexer_Python\" id=\"oT^ceKJ3uQH89/3eDS@O\"><field name=\"VAR\" id=\"[V~uW+0L/4GW;45ulv+l\">dataframe</field><value name=\"INDEX\"><block type=\"lists_create_with\" id=\"dP,dn!,awD@oqy!7:com\"><mutation items=\"1\"></mutation><value name=\"ADD0\"><block type=\"text\" id=\"~Y~dn[0p~~C1%NPK5_4C\"><field name=\"TEXT\">Size</field></block></value></block></value></block></value></block></xml>"
   ]
  },
  {
   "cell_type": "markdown",
   "id": "24dc06a4",
   "metadata": {},
   "source": [
    "#### Substep. Compute the mean  \n",
    "\n",
    "- `with size do mean using`"
   ]
  },
  {
   "cell_type": "code",
   "execution_count": 6,
   "id": "ad83cb29",
   "metadata": {},
   "outputs": [
    {
     "data": {
      "text/plain": [
       "Size    2.109524\n",
       "dtype: float64"
      ]
     },
     "execution_count": 6,
     "metadata": {},
     "output_type": "execute_result"
    }
   ],
   "source": [
    "#!response\n",
    "\n",
    "size.mean()\n",
    "\n",
    "#<xml xmlns=\"https://developers.google.com/blockly/xml\"><variables><variable id=\"[V~uW+0L/4GW;45ulv+l\">dataframe</variable></variables><block type=\"varDoMethod_Python\" id=\"]I:]}wMu=(Gnu*RD$$~9\" x=\"8\" y=\"188\"><field name=\"VAR\" id=\"[V~uW+0L/4GW;45ulv+l\">dataframe</field><field name=\"MEMBER\">mean</field><data>dataframe:mean</data></block></xml>"
   ]
  },
  {
   "cell_type": "markdown",
   "id": "56060d4b",
   "metadata": {},
   "source": [
    "#### Substep. Compute the median  \n",
    "\n",
    "Using the same approach, compute the median. \n",
    "\n",
    "\n",
    "Here's How:\n",
    "- `with size do median using`"
   ]
  },
  {
   "cell_type": "code",
   "execution_count": 7,
   "id": "df55e06d",
   "metadata": {},
   "outputs": [
    {
     "data": {
      "text/plain": [
       "Size    2.0\n",
       "dtype: float64"
      ]
     },
     "execution_count": 7,
     "metadata": {},
     "output_type": "execute_result"
    }
   ],
   "source": [
    "#!response\n",
    "\n",
    "size.median()\n",
    "\n",
    "#<xml xmlns=\"https://developers.google.com/blockly/xml\"><variables><variable id=\"q,l~CsolziEN`^3*$p}i\">size</variable></variables><block type=\"varDoMethod_Python\" id=\"]I:]}wMu=(Gnu*RD$$~9\" x=\"-3\" y=\"-79\"><mutation items=\"1\"></mutation><field name=\"VAR\" id=\"q,l~CsolziEN`^3*$p}i\">size</field><field name=\"MEMBER\">median</field><data>size:median</data></block></xml>"
   ]
  },
  {
   "cell_type": "markdown",
   "id": "533d4918",
   "metadata": {},
   "source": [
    "#### Substep. Compute the mode  \n",
    "\n",
    "Using the same approach, compute the median. \n",
    "\n",
    "\n",
    "Here's How:\n",
    "- `with size do mode using`"
   ]
  },
  {
   "cell_type": "code",
   "execution_count": 8,
   "id": "5c37dfe9",
   "metadata": {},
   "outputs": [
    {
     "data": {
      "text/html": [
       "<div>\n",
       "<style scoped>\n",
       "    .dataframe tbody tr th:only-of-type {\n",
       "        vertical-align: middle;\n",
       "    }\n",
       "\n",
       "    .dataframe tbody tr th {\n",
       "        vertical-align: top;\n",
       "    }\n",
       "\n",
       "    .dataframe thead th {\n",
       "        text-align: right;\n",
       "    }\n",
       "</style>\n",
       "<table border=\"1\" class=\"dataframe\">\n",
       "  <thead>\n",
       "    <tr style=\"text-align: right;\">\n",
       "      <th></th>\n",
       "      <th>Size</th>\n",
       "    </tr>\n",
       "  </thead>\n",
       "  <tbody>\n",
       "    <tr>\n",
       "      <th>0</th>\n",
       "      <td>2</td>\n",
       "    </tr>\n",
       "  </tbody>\n",
       "</table>\n",
       "</div>"
      ],
      "text/plain": [
       "   Size\n",
       "0     2"
      ]
     },
     "execution_count": 8,
     "metadata": {},
     "output_type": "execute_result"
    }
   ],
   "source": [
    "#!response\n",
    "\n",
    "size.mode()\n",
    "\n",
    "#<xml xmlns=\"https://developers.google.com/blockly/xml\"><variables><variable id=\"[V~uW+0L/4GW;45ulv+l\">dataframe</variable></variables><block type=\"varDoMethod_Python\" id=\"]I:]}wMu=(Gnu*RD$$~9\" x=\"8\" y=\"188\"><field name=\"VAR\" id=\"[V~uW+0L/4GW;45ulv+l\">dataframe</field><field name=\"MEMBER\">mode</field><data>dataframe:mode</data></block></xml>"
   ]
  },
  {
   "cell_type": "markdown",
   "id": "7f65bfb8",
   "metadata": {},
   "source": [
    "### QUESTION: How do the mean, median, and mode values differ here?  \n",
    "\n",
    "Write your answer in the cell below."
   ]
  },
  {
   "cell_type": "markdown",
   "id": "8e1af4d7",
   "metadata": {},
   "source": [
    "#!response\n",
    "\n",
    "*In this case, the mean, median, and mode are almost the same*"
   ]
  },
  {
   "cell_type": "markdown",
   "id": "d7e24422",
   "metadata": {},
   "source": [
    "\n",
    "\n",
    "### Let's look at some different data: a students quiz grades across a course.\n",
    "\n",
    "Suppose a student received the following grades:\n",
    "\n",
    "- 0\n",
    "- 85\n",
    "- 82\n",
    "- 91\n",
    "- 82\n",
    "\n",
    "In the next cell, we have made a new dataframe using this list of numbers and output it.\n",
    "\n",
    "Run the code cell below.\n"
   ]
  },
  {
   "cell_type": "code",
   "execution_count": 9,
   "id": "3c93f6c8",
   "metadata": {},
   "outputs": [
    {
     "data": {
      "text/html": [
       "<div>\n",
       "<style scoped>\n",
       "    .dataframe tbody tr th:only-of-type {\n",
       "        vertical-align: middle;\n",
       "    }\n",
       "\n",
       "    .dataframe tbody tr th {\n",
       "        vertical-align: top;\n",
       "    }\n",
       "\n",
       "    .dataframe thead th {\n",
       "        text-align: right;\n",
       "    }\n",
       "</style>\n",
       "<table border=\"1\" class=\"dataframe\">\n",
       "  <thead>\n",
       "    <tr style=\"text-align: right;\">\n",
       "      <th></th>\n",
       "      <th>0</th>\n",
       "    </tr>\n",
       "  </thead>\n",
       "  <tbody>\n",
       "    <tr>\n",
       "      <th>0</th>\n",
       "      <td>0</td>\n",
       "    </tr>\n",
       "    <tr>\n",
       "      <th>1</th>\n",
       "      <td>85</td>\n",
       "    </tr>\n",
       "    <tr>\n",
       "      <th>2</th>\n",
       "      <td>82</td>\n",
       "    </tr>\n",
       "    <tr>\n",
       "      <th>3</th>\n",
       "      <td>91</td>\n",
       "    </tr>\n",
       "    <tr>\n",
       "      <th>4</th>\n",
       "      <td>82</td>\n",
       "    </tr>\n",
       "  </tbody>\n",
       "</table>\n",
       "</div>"
      ],
      "text/plain": [
       "    0\n",
       "0   0\n",
       "1  85\n",
       "2  82\n",
       "3  91\n",
       "4  82"
      ]
     },
     "execution_count": 9,
     "metadata": {},
     "output_type": "execute_result"
    }
   ],
   "source": [
    "\n",
    "grades = pd.DataFrame([0, 85, 82, 91, 82])\n",
    "\n",
    "grades\n",
    "\n"
   ]
  },
  {
   "cell_type": "markdown",
   "id": "ac054c12",
   "metadata": {},
   "source": [
    "Now, calculate and show the mean, median, and mode of the `grades` dataframe."
   ]
  },
  {
   "cell_type": "code",
   "execution_count": 10,
   "id": "48ced5a9",
   "metadata": {},
   "outputs": [
    {
     "data": {
      "text/plain": [
       "0    68.0\n",
       "dtype: float64"
      ]
     },
     "execution_count": 10,
     "metadata": {},
     "output_type": "execute_result"
    }
   ],
   "source": [
    "#!response\n",
    "\n",
    "grades.mean()\n",
    "\n",
    "#<xml xmlns=\"https://developers.google.com/blockly/xml\"><variables><variable id=\"0Z~AP{;(K9p1).M_No)5\">grades</variable></variables><block type=\"varDoMethod_Python\" id=\"Pl:^oR,*DCGup|yt@jhP\" x=\"34\" y=\"53\"><field name=\"VAR\" id=\"0Z~AP{;(K9p1).M_No)5\">grades</field><field name=\"MEMBER\">mean</field><data>grades:mean</data></block></xml>"
   ]
  },
  {
   "cell_type": "code",
   "execution_count": 11,
   "id": "62f61eff",
   "metadata": {},
   "outputs": [
    {
     "data": {
      "text/plain": [
       "0    82.0\n",
       "dtype: float64"
      ]
     },
     "execution_count": 11,
     "metadata": {},
     "output_type": "execute_result"
    }
   ],
   "source": [
    "#!response\n",
    "\n",
    "grades.median()\n",
    "\n",
    "#<xml xmlns=\"https://developers.google.com/blockly/xml\"><variables><variable id=\"0Z~AP{;(K9p1).M_No)5\">grades</variable></variables><block type=\"varDoMethod_Python\" id=\"M7N}]0R)SN=29(Q,$qP}\" x=\"8\" y=\"180\"><field name=\"VAR\" id=\"0Z~AP{;(K9p1).M_No)5\">grades</field><field name=\"MEMBER\">median</field><data>grades:median</data></block></xml>"
   ]
  },
  {
   "cell_type": "code",
   "execution_count": 12,
   "id": "f397012b",
   "metadata": {},
   "outputs": [
    {
     "data": {
      "text/html": [
       "<div>\n",
       "<style scoped>\n",
       "    .dataframe tbody tr th:only-of-type {\n",
       "        vertical-align: middle;\n",
       "    }\n",
       "\n",
       "    .dataframe tbody tr th {\n",
       "        vertical-align: top;\n",
       "    }\n",
       "\n",
       "    .dataframe thead th {\n",
       "        text-align: right;\n",
       "    }\n",
       "</style>\n",
       "<table border=\"1\" class=\"dataframe\">\n",
       "  <thead>\n",
       "    <tr style=\"text-align: right;\">\n",
       "      <th></th>\n",
       "      <th>0</th>\n",
       "    </tr>\n",
       "  </thead>\n",
       "  <tbody>\n",
       "    <tr>\n",
       "      <th>0</th>\n",
       "      <td>82</td>\n",
       "    </tr>\n",
       "  </tbody>\n",
       "</table>\n",
       "</div>"
      ],
      "text/plain": [
       "    0\n",
       "0  82"
      ]
     },
     "execution_count": 12,
     "metadata": {},
     "output_type": "execute_result"
    }
   ],
   "source": [
    "#!response\n",
    "\n",
    "grades.mode()\n",
    "\n",
    "#<xml xmlns=\"https://developers.google.com/blockly/xml\"><variables><variable id=\"0Z~AP{;(K9p1).M_No)5\">grades</variable></variables><block type=\"varDoMethod_Python\" id=\"TXy5K+c}B,F+plOfcU*!\" x=\"8\" y=\"180\"><field name=\"VAR\" id=\"0Z~AP{;(K9p1).M_No)5\">grades</field><field name=\"MEMBER\">mode</field><data>grades:mode</data></block></xml>"
   ]
  },
  {
   "cell_type": "markdown",
   "id": "33c7a197",
   "metadata": {},
   "source": [
    "Now drop the 0 grade from the list and display the updated dataframe.\n"
   ]
  },
  {
   "cell_type": "markdown",
   "id": "55fe61d7",
   "metadata": {},
   "source": [
    "\n",
    "- Run the code cell below."
   ]
  },
  {
   "cell_type": "code",
   "execution_count": 13,
   "id": "a129d997",
   "metadata": {},
   "outputs": [
    {
     "data": {
      "text/html": [
       "<div>\n",
       "<style scoped>\n",
       "    .dataframe tbody tr th:only-of-type {\n",
       "        vertical-align: middle;\n",
       "    }\n",
       "\n",
       "    .dataframe tbody tr th {\n",
       "        vertical-align: top;\n",
       "    }\n",
       "\n",
       "    .dataframe thead th {\n",
       "        text-align: right;\n",
       "    }\n",
       "</style>\n",
       "<table border=\"1\" class=\"dataframe\">\n",
       "  <thead>\n",
       "    <tr style=\"text-align: right;\">\n",
       "      <th></th>\n",
       "      <th>0</th>\n",
       "    </tr>\n",
       "  </thead>\n",
       "  <tbody>\n",
       "    <tr>\n",
       "      <th>1</th>\n",
       "      <td>85</td>\n",
       "    </tr>\n",
       "    <tr>\n",
       "      <th>2</th>\n",
       "      <td>82</td>\n",
       "    </tr>\n",
       "    <tr>\n",
       "      <th>3</th>\n",
       "      <td>91</td>\n",
       "    </tr>\n",
       "    <tr>\n",
       "      <th>4</th>\n",
       "      <td>82</td>\n",
       "    </tr>\n",
       "  </tbody>\n",
       "</table>\n",
       "</div>"
      ],
      "text/plain": [
       "    0\n",
       "1  85\n",
       "2  82\n",
       "3  91\n",
       "4  82"
      ]
     },
     "execution_count": 13,
     "metadata": {},
     "output_type": "execute_result"
    }
   ],
   "source": [
    "\n",
    "grades = grades.drop(0, axis=0)\n",
    "\n",
    "grades"
   ]
  },
  {
   "cell_type": "markdown",
   "id": "208cdc67",
   "metadata": {},
   "source": [
    "Recalculate and show the mean, median, and mode."
   ]
  },
  {
   "cell_type": "code",
   "execution_count": 14,
   "id": "95988791",
   "metadata": {},
   "outputs": [
    {
     "data": {
      "text/plain": [
       "0    85.0\n",
       "dtype: float64"
      ]
     },
     "execution_count": 14,
     "metadata": {},
     "output_type": "execute_result"
    }
   ],
   "source": [
    "#!response\n",
    "\n",
    "grades.mean()\n",
    "\n",
    "#<xml xmlns=\"https://developers.google.com/blockly/xml\"><variables><variable id=\"0Z~AP{;(K9p1).M_No)5\">grades</variable></variables><block type=\"varDoMethod_Python\" id=\"Pl:^oR,*DCGup|yt@jhP\" x=\"34\" y=\"53\"><field name=\"VAR\" id=\"0Z~AP{;(K9p1).M_No)5\">grades</field><field name=\"MEMBER\">mean</field><data>grades:mean</data></block></xml>"
   ]
  },
  {
   "cell_type": "code",
   "execution_count": 15,
   "id": "32c4c2cd",
   "metadata": {},
   "outputs": [
    {
     "data": {
      "text/plain": [
       "0    83.5\n",
       "dtype: float64"
      ]
     },
     "execution_count": 15,
     "metadata": {},
     "output_type": "execute_result"
    }
   ],
   "source": [
    "#!response\n",
    "\n",
    "grades.median()\n",
    "\n",
    "#<xml xmlns=\"https://developers.google.com/blockly/xml\"><variables><variable id=\"0Z~AP{;(K9p1).M_No)5\">grades</variable></variables><block type=\"varDoMethod_Python\" id=\"T++I;EF!QI6?BGgU_qIX\" x=\"8\" y=\"180\"><field name=\"VAR\" id=\"0Z~AP{;(K9p1).M_No)5\">grades</field><field name=\"MEMBER\">median</field><data>grades:median</data></block></xml>"
   ]
  },
  {
   "cell_type": "code",
   "execution_count": 16,
   "id": "2bd0fd1e",
   "metadata": {},
   "outputs": [
    {
     "data": {
      "text/html": [
       "<div>\n",
       "<style scoped>\n",
       "    .dataframe tbody tr th:only-of-type {\n",
       "        vertical-align: middle;\n",
       "    }\n",
       "\n",
       "    .dataframe tbody tr th {\n",
       "        vertical-align: top;\n",
       "    }\n",
       "\n",
       "    .dataframe thead th {\n",
       "        text-align: right;\n",
       "    }\n",
       "</style>\n",
       "<table border=\"1\" class=\"dataframe\">\n",
       "  <thead>\n",
       "    <tr style=\"text-align: right;\">\n",
       "      <th></th>\n",
       "      <th>0</th>\n",
       "    </tr>\n",
       "  </thead>\n",
       "  <tbody>\n",
       "    <tr>\n",
       "      <th>0</th>\n",
       "      <td>82</td>\n",
       "    </tr>\n",
       "  </tbody>\n",
       "</table>\n",
       "</div>"
      ],
      "text/plain": [
       "    0\n",
       "0  82"
      ]
     },
     "execution_count": 16,
     "metadata": {},
     "output_type": "execute_result"
    }
   ],
   "source": [
    "#!response\n",
    "\n",
    "grades.mode()\n",
    "\n",
    "#<xml xmlns=\"https://developers.google.com/blockly/xml\"><variables><variable id=\"0Z~AP{;(K9p1).M_No)5\">grades</variable></variables><block type=\"varDoMethod_Python\" id=\"Kk2f+qM!L@VqLQ^zYwjW\" x=\"8\" y=\"180\"><field name=\"VAR\" id=\"0Z~AP{;(K9p1).M_No)5\">grades</field><field name=\"MEMBER\">mode</field><data>grades:mode</data></block></xml>"
   ]
  },
  {
   "cell_type": "markdown",
   "id": "3471dcd4",
   "metadata": {},
   "source": [
    "### QUESTION: How did the mean, median, and mode change after you dropped the zero?  \n",
    "\n",
    "Write your answer in the cell below."
   ]
  },
  {
   "cell_type": "markdown",
   "id": "04f2f5ac",
   "metadata": {},
   "source": [
    "#!response\n",
    "\n",
    "*Median changed very slightly and mode did not change at all.\n",
    "Mean changed dramatically from 68 to 85.*"
   ]
  },
  {
   "cell_type": "markdown",
   "id": "77d81d75",
   "metadata": {},
   "source": [
    "### QUESTION: What does dropping the zero mean to the student who took this class?\n",
    "\n",
    "Write your answer in the cell below."
   ]
  },
  {
   "cell_type": "markdown",
   "id": "7f6a7e2f",
   "metadata": {},
   "source": [
    "#!response\n",
    "\n",
    "*This means the student would go from a D to a B in the class.*"
   ]
  },
  {
   "cell_type": "code",
   "execution_count": null,
   "id": "237416f3",
   "metadata": {},
   "outputs": [],
   "source": []
  }
 ],
 "metadata": {
  "kernelspec": {
   "display_name": "Python 3 (ipykernel)",
   "language": "python",
   "name": "python3"
  },
  "language_info": {
   "codemirror_mode": {
    "name": "ipython",
    "version": 3
   },
   "file_extension": ".py",
   "mimetype": "text/x-python",
   "name": "python",
   "nbconvert_exporter": "python",
   "pygments_lexer": "ipython3",
   "version": "3.10.10"
  },
  "vscode": {
   "interpreter": {
    "hash": "be14b4e913c6f2457a185c22af60a9db8729a2914b48dcc2c5e42fe4e4a2ce08"
   }
  }
 },
 "nbformat": 4,
 "nbformat_minor": 5
}
