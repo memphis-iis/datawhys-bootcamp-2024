{
 "cells": [
  {
   "cell_type": "markdown",
   "metadata": {},
   "source": [
    "# Session Agenda\n",
    "\n",
    "## Session Info\n",
    "\n",
    "See schedule for details: https://github.com/kbridson/datawhys-bootcamp-2022#wed-68-100-220\n",
    "\n",
    "## Schedule\n",
    "\n",
    "| Time Slot   | Activity |\n",
    "| ----------- | ----------- |\n",
    "| 13:00-13:05 | Session Introduction & Setup |\n",
    "| 13:05-13:25 | Present intro-plotting slides <br>Do activities from slides <br>Present scatterplots slides |\n",
    "| 13:25-13:30 | Break |\n",
    "| 13:30-13:50 | <b>Activity scatterplots_e1 notebook</b> <br>Pre-programming Discussion via slides (5 min) <br>Interns Program (Try it) (10 min) <br>Post-programming Discussion via slides (5 min) |\n",
    "| 13:50-14:20 | <b>Activity scatterplots_e2 notebook</b> <br>Interns Program (20 min) <br>Group share/compare interns' solutions to discussion questions and coding issues faced (10 min) |"
   ]
  }
 ],
 "metadata": {
  "interpreter": {
   "hash": "be14b4e913c6f2457a185c22af60a9db8729a2914b48dcc2c5e42fe4e4a2ce08"
  },
  "kernelspec": {
   "display_name": "Python 3.9.7 ('base')",
   "language": "python",
   "name": "python3"
  },
  "language_info": {
   "name": "python",
   "version": "3.9.7"
  },
  "orig_nbformat": 4
 },
 "nbformat": 4,
 "nbformat_minor": 2
}
