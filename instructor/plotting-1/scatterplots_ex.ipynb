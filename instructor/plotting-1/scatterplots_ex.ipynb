{
 "cells": [
  {
   "attachments": {},
   "cell_type": "markdown",
   "metadata": {},
   "source": [
    "# Plotting 1: Creating Scatterplots with Plotly (Example)"
   ]
  },
  {
   "attachments": {},
   "cell_type": "markdown",
   "metadata": {},
   "source": [
    "## Question. &nbsp;&nbsp; How does height change with age?"
   ]
  },
  {
   "attachments": {},
   "cell_type": "markdown",
   "metadata": {},
   "source": [
    "Dataset: Demographic data from Kalahari !Kung San people collected by Nancy Howell in Botswana between August 1967 and May 1969.\n",
    "\n",
    "Columns:\n",
    "- Height (cm)\n",
    "- Age (years)\n",
    "- Gender (male, female)"
   ]
  },
  {
   "attachments": {},
   "cell_type": "markdown",
   "metadata": {},
   "source": [
    "## Pre-programming Discussion"
   ]
  },
  {
   "attachments": {},
   "cell_type": "markdown",
   "metadata": {},
   "source": [
    "#!action\n",
    "\n",
    "Q1. Which columns from the dataset will be used in the plot?"
   ]
  },
  {
   "attachments": {},
   "cell_type": "markdown",
   "metadata": {},
   "source": [
    "#!response\n",
    "\n",
    "Age and height. \n",
    "\n",
    "The column names match the terms in the question."
   ]
  },
  {
   "attachments": {},
   "cell_type": "markdown",
   "metadata": {},
   "source": [
    "#!action\n",
    "\n",
    "Q2. Which column will go on the x-axis?"
   ]
  },
  {
   "attachments": {},
   "cell_type": "markdown",
   "metadata": {},
   "source": [
    "#!response\n",
    "\n",
    "Age. \n",
    "\n",
    "y changes as a function of x. Wording of question implies height changes as a function of age. Therefore, height is y and age is x."
   ]
  },
  {
   "attachments": {},
   "cell_type": "markdown",
   "metadata": {},
   "source": [
    "#!action\n",
    "\n",
    "Q3. Which column will go on the y-axis?"
   ]
  },
  {
   "attachments": {},
   "cell_type": "markdown",
   "metadata": {},
   "source": [
    "#!response\n",
    "\n",
    "Height. \n",
    "\n",
    "See previous question explanation."
   ]
  },
  {
   "attachments": {},
   "cell_type": "markdown",
   "metadata": {},
   "source": [
    "## Programming Activity: Creating a Scatterplot of Height vs Age"
   ]
  },
  {
   "attachments": {},
   "cell_type": "markdown",
   "metadata": {},
   "source": [
    "### Step 1. &nbsp;&nbsp;&nbsp; Read CSV Data into Pandas Dataframe"
   ]
  },
  {
   "attachments": {},
   "cell_type": "markdown",
   "metadata": {},
   "source": [
    "#### Substep. &nbsp;&nbsp; Import Pandas Library (if Needed)"
   ]
  },
  {
   "attachments": {},
   "cell_type": "markdown",
   "metadata": {},
   "source": [
    "#!blhint\n",
    "\n",
    "- Create variable &nbsp;`pd`\n",
    "- `import pandas as pd`"
   ]
  },
  {
   "attachments": {},
   "cell_type": "markdown",
   "metadata": {},
   "source": [
    "<details><summary>Blockly Hints</summary><ul><li>Blocks<ul><li><code>import .. as ..</code><ul><li>The <code>import .. as ..</code> block is found under IMPORT.</li> <li>A variable must have been created before it will appear in the dropdown.</li></ul></li></ul></li></ul></details>"
   ]
  },
  {
   "attachments": {},
   "cell_type": "markdown",
   "metadata": {},
   "source": [
    "Here's how:\n",
    "\n",
    "1. From IMPORT, grab `import .. as ..`\n",
    "2. Replace text `some library` with `pandas`\n",
    "3. From VARIABLES, click `Create Variable...`, enter `pd`, click OK\n",
    "4. Change dropdown after as to `pd` (if needed)\n",
    "5. Click Blocks to Code and run cell"
   ]
  },
  {
   "cell_type": "code",
   "execution_count": 1,
   "metadata": {},
   "outputs": [],
   "source": [
    "import pandas as pd\n",
    "\n",
    "#<xml xmlns=\"https://developers.google.com/blockly/xml\"><variables><variable id=\"qnEXLsG})b1|)!tK#gr5\">pd</variable></variables><block type=\"importAs_Python\" id=\"rQe(xB~+SjR}s-NPP+TT\" x=\"26\" y=\"83\"><field name=\"libraryName\">pandas</field><field name=\"libraryAlias\" id=\"qnEXLsG})b1|)!tK#gr5\">pd</field></block></xml>"
   ]
  },
  {
   "attachments": {},
   "cell_type": "markdown",
   "metadata": {},
   "source": [
    "#### Substep. &nbsp;&nbsp; Read CSV data and Save in Variable"
   ]
  },
  {
   "attachments": {},
   "cell_type": "markdown",
   "metadata": {},
   "source": [
    "#!blhint\n",
    "\n",
    "- Create variable &nbsp;`df`\n",
    "- `set df to` &nbsp;:&nbsp; `with pd do read_csv using` &nbsp;:&nbsp; `\" datasets/age_height.csv \"`"
   ]
  },
  {
   "attachments": {},
   "cell_type": "markdown",
   "metadata": {},
   "source": [
    "<details><summary>Blockly Hints</summary><ul><li>Notation<ul><li><code>A</code> &nbsp;:&nbsp; <code>B</code>&nbsp; means snap blocks A and B together.</li></ul></li><li>Blocks<ul><li><code>set .. to</code><ul><li>The <code>set .. to</code> block is found under VARIABLES.</li> <li>A variable must have been created before it will appear in the dropdown.</li></ul></li><li><code>with .. do .. using ..</code><ul><li>The <code>with .. do .. using ..</code> block is found under VARIABLES.</li> <li>If <code>do</code> dropdown says \"!Not populated until you execute code\", click anywhere in the notebook tab, then click try \"Run All Above Selected Cell\" from the \"Run\" menu.</li> <li>If <code>with .. do .. using ..</code> block does not want to snap together nicely with the <code>set .. to</code> block, try dragging the <code>set .. to</code> block instead.</li> <li>You can use the <code>+ -</code> controls on the block to change the number of notches. Unless specifically instructed, the block should not have any empty notches when you click Blocks to Code. </li></ul></li><li><code>\" .. \"</code><ul><li>The <code>\" .. \"</code> block is found under TEXT.</li></ul></li></ul></li></ul></details>"
   ]
  },
  {
   "attachments": {},
   "cell_type": "markdown",
   "metadata": {},
   "source": [
    "Here's how:\n",
    "\n",
    "1. From VARIABLES, grab `with .. do .. using ..`\n",
    "2. Change dropdown after with to `pd` (if needed)\n",
    "3. Change dropdown after do to `read_csv`\n",
    "4. From TEXT, grab `\" .. \"`\n",
    "5. Type `datasets/age_height.csv` into `\" .. \"`\n",
    "6. Connect `\" .. \"` in first slot of `with .. do .. using ..`\n",
    "7. From VARIABLES, click `Create Variable...`, type `df`, click OK\n",
    "8. From VARIABLES, grab `set .. to`\n",
    "9. Change dropdown after set to `df` (if needed)\n",
    "10. Connect `set .. to` and `with .. do .. using ..`\n",
    "11. Click Blocks to Code and run cell"
   ]
  },
  {
   "cell_type": "code",
   "execution_count": 2,
   "metadata": {},
   "outputs": [],
   "source": [
    "df = pd.read_csv('datasets/age_height.csv')\n",
    "\n",
    "#<xml xmlns=\"https://developers.google.com/blockly/xml\"><variables><variable id=\"3hA6)(qv#r~M08OkYT6G\">df</variable><variable id=\"qnEXLsG})b1|)!tK#gr5\">pd</variable></variables><block type=\"variables_set\" id=\"bvrE[12e`B#]#98c1wkg\" x=\"11\" y=\"-55\"><field name=\"VAR\" id=\"3hA6)(qv#r~M08OkYT6G\">df</field><value name=\"VALUE\"><block type=\"varDoMethod_Python\" id=\"%$Y^*saBr`,6TjjI+Es5\"><mutation items=\"1\"></mutation><field name=\"VAR\" id=\"qnEXLsG})b1|)!tK#gr5\">pd</field><field name=\"MEMBER\">read_csv</field><data>pd:read_csv</data><value name=\"ADD0\"><block type=\"text\" id=\"%Tu~B1^V5k1gTn+mw(^n\"><field name=\"TEXT\">datasets/age_height.csv</field></block></value></block></value></block></xml>"
   ]
  },
  {
   "attachments": {},
   "cell_type": "markdown",
   "metadata": {},
   "source": [
    "#### Substep. &nbsp;&nbsp; Display Dataframe Contents"
   ]
  },
  {
   "attachments": {},
   "cell_type": "markdown",
   "metadata": {},
   "source": [
    "#!blhint\n",
    "\n",
    "- variable &nbsp;`df`"
   ]
  },
  {
   "attachments": {},
   "cell_type": "markdown",
   "metadata": {},
   "source": [
    "<details><summary>Blockly Hints</summary><ul><li>Blocks<ul><li>variable<ul><li>After it is created, each variable has its own block at the end of the VARIABLES menu.</li></ul></li></ul></li></ul></details>"
   ]
  },
  {
   "attachments": {},
   "cell_type": "markdown",
   "metadata": {},
   "source": [
    "Here's how:\n",
    "\n",
    "1. From VARIABLES, grab `df`\n",
    "2. Click Blocks to Code and run cell"
   ]
  },
  {
   "cell_type": "code",
   "execution_count": 3,
   "metadata": {},
   "outputs": [
    {
     "data": {
      "text/html": [
       "<div>\n",
       "<style scoped>\n",
       "    .dataframe tbody tr th:only-of-type {\n",
       "        vertical-align: middle;\n",
       "    }\n",
       "\n",
       "    .dataframe tbody tr th {\n",
       "        vertical-align: top;\n",
       "    }\n",
       "\n",
       "    .dataframe thead th {\n",
       "        text-align: right;\n",
       "    }\n",
       "</style>\n",
       "<table border=\"1\" class=\"dataframe\">\n",
       "  <thead>\n",
       "    <tr style=\"text-align: right;\">\n",
       "      <th></th>\n",
       "      <th>Height</th>\n",
       "      <th>Age</th>\n",
       "      <th>Gender</th>\n",
       "    </tr>\n",
       "  </thead>\n",
       "  <tbody>\n",
       "    <tr>\n",
       "      <th>0</th>\n",
       "      <td>151.765</td>\n",
       "      <td>63.0</td>\n",
       "      <td>male</td>\n",
       "    </tr>\n",
       "    <tr>\n",
       "      <th>1</th>\n",
       "      <td>139.700</td>\n",
       "      <td>63.0</td>\n",
       "      <td>female</td>\n",
       "    </tr>\n",
       "    <tr>\n",
       "      <th>2</th>\n",
       "      <td>136.525</td>\n",
       "      <td>65.0</td>\n",
       "      <td>female</td>\n",
       "    </tr>\n",
       "    <tr>\n",
       "      <th>3</th>\n",
       "      <td>156.845</td>\n",
       "      <td>41.0</td>\n",
       "      <td>male</td>\n",
       "    </tr>\n",
       "    <tr>\n",
       "      <th>4</th>\n",
       "      <td>145.415</td>\n",
       "      <td>51.0</td>\n",
       "      <td>female</td>\n",
       "    </tr>\n",
       "    <tr>\n",
       "      <th>...</th>\n",
       "      <td>...</td>\n",
       "      <td>...</td>\n",
       "      <td>...</td>\n",
       "    </tr>\n",
       "    <tr>\n",
       "      <th>539</th>\n",
       "      <td>145.415</td>\n",
       "      <td>17.0</td>\n",
       "      <td>male</td>\n",
       "    </tr>\n",
       "    <tr>\n",
       "      <th>540</th>\n",
       "      <td>162.560</td>\n",
       "      <td>31.0</td>\n",
       "      <td>male</td>\n",
       "    </tr>\n",
       "    <tr>\n",
       "      <th>541</th>\n",
       "      <td>156.210</td>\n",
       "      <td>21.0</td>\n",
       "      <td>female</td>\n",
       "    </tr>\n",
       "    <tr>\n",
       "      <th>542</th>\n",
       "      <td>71.120</td>\n",
       "      <td>0.0</td>\n",
       "      <td>male</td>\n",
       "    </tr>\n",
       "    <tr>\n",
       "      <th>543</th>\n",
       "      <td>158.750</td>\n",
       "      <td>68.0</td>\n",
       "      <td>male</td>\n",
       "    </tr>\n",
       "  </tbody>\n",
       "</table>\n",
       "<p>544 rows × 3 columns</p>\n",
       "</div>"
      ],
      "text/plain": [
       "      Height   Age  Gender\n",
       "0    151.765  63.0    male\n",
       "1    139.700  63.0  female\n",
       "2    136.525  65.0  female\n",
       "3    156.845  41.0    male\n",
       "4    145.415  51.0  female\n",
       "..       ...   ...     ...\n",
       "539  145.415  17.0    male\n",
       "540  162.560  31.0    male\n",
       "541  156.210  21.0  female\n",
       "542   71.120   0.0    male\n",
       "543  158.750  68.0    male\n",
       "\n",
       "[544 rows x 3 columns]"
      ]
     },
     "execution_count": 3,
     "metadata": {},
     "output_type": "execute_result"
    }
   ],
   "source": [
    "df\n",
    "\n",
    "#<xml xmlns=\"https://developers.google.com/blockly/xml\"><variables><variable id=\"3hA6)(qv#r~M08OkYT6G\">df</variable></variables><block type=\"variables_get\" id=\"s:)*_9LgQFXW9.ix8WPX\" x=\"8\" y=\"272\"><field name=\"VAR\" id=\"3hA6)(qv#r~M08OkYT6G\">df</field></block></xml>"
   ]
  },
  {
   "attachments": {},
   "cell_type": "markdown",
   "metadata": {},
   "source": [
    "### Step 2. &nbsp;&nbsp;&nbsp; Generate Plotly Scatterplot"
   ]
  },
  {
   "attachments": {},
   "cell_type": "markdown",
   "metadata": {},
   "source": [
    "#### Substep. &nbsp;&nbsp; Import Plotly Express Library\n"
   ]
  },
  {
   "attachments": {},
   "cell_type": "markdown",
   "metadata": {},
   "source": [
    "#!blhint\n",
    "\n",
    "- Create variable &nbsp;`px`\n",
    "- `import plotly.express as px`"
   ]
  },
  {
   "attachments": {},
   "cell_type": "markdown",
   "metadata": {},
   "source": [
    "<details><summary>Blockly Hints</summary><ul><li>Blocks<ul><li><code>import .. as ..</code><ul><li>The <code>import .. as ..</code> block is found under IMPORT.</li> <li>A variable must have been created before it will appear in the dropdown.</li></ul></li></ul></li></ul></details>"
   ]
  },
  {
   "attachments": {},
   "cell_type": "markdown",
   "metadata": {},
   "source": [
    "Here's how:\n",
    "\n",
    "1. From IMPORT, grab `import .. as ..`\n",
    "2. Replace text `some variable` with `plotly.express`\n",
    "3. From VARIABLES, click `Create Variable...`, enter `px`, click OK\n",
    "4. Change dropdown after as to `px` (if needed)\n",
    "5. Click Blocks to Code and run cell"
   ]
  },
  {
   "cell_type": "code",
   "execution_count": 4,
   "metadata": {},
   "outputs": [],
   "source": [
    "import plotly.express as px\n",
    "\n",
    "#<xml xmlns=\"https://developers.google.com/blockly/xml\"><variables><variable id=\"Sxuq484q?PmjXo4*$4o9\">px</variable></variables><block type=\"importAs_Python\" id=\"l.6v#kh|u(j!aj2D/,q]\" x=\"16\" y=\"10\"><field name=\"libraryName\">plotly.express</field><field name=\"libraryAlias\" id=\"Sxuq484q?PmjXo4*$4o9\">px</field></block></xml>"
   ]
  },
  {
   "attachments": {},
   "cell_type": "markdown",
   "metadata": {},
   "source": [
    "#### Substep. &nbsp;&nbsp; Set Columns as x and y\n"
   ]
  },
  {
   "attachments": {},
   "cell_type": "markdown",
   "metadata": {},
   "source": [
    "#!blhint\n",
    "\n",
    "- Create variable &nbsp;`x`\n",
    "- `set x to` &nbsp;:&nbsp; `\" Age \"`\n",
    "- Create variable &nbsp;`y`\n",
    "- `set y to` &nbsp;:&nbsp; `\" Height \"`"
   ]
  },
  {
   "attachments": {},
   "cell_type": "markdown",
   "metadata": {},
   "source": [
    "<details><summary>Blockly Hints</summary><ul><li>Notation<ul><li><code>A</code> &nbsp;:&nbsp; <code>B</code>&nbsp; means snap blocks A and B together.</li></ul></li><li>Blocks<ul><li><code>set .. to</code><ul><li>The <code>set .. to</code> block is found under VARIABLES.</li> <li>A variable must have been created before it will appear in the dropdown.</li></ul></li><li><code>\" .. \"</code><ul><li>The <code>\" .. \"</code> block is found under TEXT.</li></ul></li></ul></li></ul></details>"
   ]
  },
  {
   "attachments": {},
   "cell_type": "markdown",
   "metadata": {},
   "source": [
    "Here's how:\n",
    "\n",
    "1. From VARIABLES, click `Create Variable...`, enter `x`, click OK\n",
    "2. From VARIABLES, grab `set .. to`\n",
    "3. Change dropdown after set to `x`\n",
    "4. From TEXT, grab `\" .. \"`\n",
    "5. Type `Age` into `\" .. \"`\n",
    "6. Connect `set x to` and `\" Age \"`\n",
    "7. From VARIABLES, click `Create Variable...`, enter `y`, click OK\n",
    "8. From VARIABLES, grab `set .. to`\n",
    "9. Change dropdown after set to `x`\n",
    "10. From TEXT, grab `\" .. \"`\n",
    "11. Type `Height` into `\" .. \"`\n",
    "12. Connect `set y to` and `\" Height \"`\n",
    "13. Click Blocks to Code and run cell"
   ]
  },
  {
   "cell_type": "code",
   "execution_count": 5,
   "metadata": {},
   "outputs": [],
   "source": [
    "x = 'Age'\n",
    "y = 'Height'\n",
    "\n",
    "#<xml xmlns=\"https://developers.google.com/blockly/xml\"><variables><variable id=\"jCa_f6F|YuZ4-AZH]_+V\">x</variable><variable id=\"vm;jj;#dB/j{h6;:by])\">y</variable></variables><block type=\"variables_set\" id=\"cffZW9linf6QkjfLI.*G\" x=\"16\" y=\"54\"><field name=\"VAR\" id=\"jCa_f6F|YuZ4-AZH]_+V\">x</field><value name=\"VALUE\"><block type=\"text\" id=\"Qh,eSVlKu5MDu_:zfxmA\"><field name=\"TEXT\">Age</field></block></value><next><block type=\"variables_set\" id=\"gcnMQNvN{O=)HUk]mwyS\"><field name=\"VAR\" id=\"vm;jj;#dB/j{h6;:by])\">y</field><value name=\"VALUE\"><block type=\"text\" id=\"s^Y5X/A+m;j[wTb8W:^y\"><field name=\"TEXT\">Height</field></block></value></block></next></block></xml>"
   ]
  },
  {
   "attachments": {},
   "cell_type": "markdown",
   "metadata": {},
   "source": [
    "#### Substep. &nbsp;&nbsp; Generate Scatterplot"
   ]
  },
  {
   "attachments": {},
   "cell_type": "markdown",
   "metadata": {},
   "source": [
    "#!blhint\n",
    "\n",
    "- Grab a freestyle block, type &nbsp;`x=x`\n",
    "- Grab a freestyle block, type &nbsp;`y=y`\n",
    "- `with px do scatter using` &nbsp;:\n",
    "  - variable &nbsp;`df`\n",
    "  - `x=x`\n",
    "  - `y=y`"
   ]
  },
  {
   "attachments": {},
   "cell_type": "markdown",
   "metadata": {},
   "source": [
    "<details><summary>Blockly Hints</summary><ul><li>Notation<ul><li><code>A</code> &nbsp;:&nbsp; <code>B</code>&nbsp; means snap blocks A and B together.</li></ul></li><li>Blocks<ul><li>freestyle<ul><li>Unless specifically instructed, use the first block from the FREESTYLE menu.</li></ul></li><li><code>with .. do .. using ..</code><ul><li>The <code>with .. do .. using ..</code> block is found under VARIABLES.</li> <li>If <code>do</code> dropdown says \"!Not populated until you execute code\", click anywhere in the notebook tab, then click try \"Run All Above Selected Cell\" from the \"Run\" menu.</li> <li>If <code>with .. do .. using ..</code> block does not want to snap together nicely with the <code>set .. to</code> block, try dragging the <code>set .. to</code> block instead.</li> <li>You can use the <code>+ -</code> controls on the block to change the number of notches. Unless specifically instructed, the block should not have any empty notches when you click Blocks to Code. </li></ul></li><li>variable<ul><li>After it is created, each variable has its own block at the end of the VARIABLES menu.</li></ul></li></ul></li></ul></details>"
   ]
  },
  {
   "attachments": {},
   "cell_type": "markdown",
   "metadata": {},
   "source": [
    "Here's how: \n",
    "\n",
    "1. From VARIABLES, grab `with .. do .. using ..`\n",
    "2. Change dropdown after with to `px`\n",
    "3. Change dropdown after do to `scatter`\n",
    "4. From VARIABLES, grab `df`\n",
    "5. Connect `df` in first slot of `create list with`\n",
    "6. From FREESTYLE, grab first block\n",
    "7. Enter `x=x` in freestyle block\n",
    "8. Click + in `with .. do .. using ..` to create another slot\n",
    "9. Connect freestyle `x=x` in second slot of `create list with`\n",
    "10. From FREESTYLE, grab first block\n",
    "11. Enter `y=y` in freestyle block\n",
    "12. Click + in `with .. do .. using ..` to create another slot\n",
    "13. Connect freestyle `y=y` in third slot of `create list with`\n",
    "14. Click Blocks to code and run cell"
   ]
  },
  {
   "cell_type": "code",
   "execution_count": 6,
   "metadata": {},
   "outputs": [
    {
     "data": {
      "application/vnd.plotly.v1+json": {
       "config": {
        "plotlyServerURL": "https://plot.ly"
       },
       "data": [
        {
         "hovertemplate": "Age=%{x}<br>Height=%{y}<extra></extra>",
         "legendgroup": "",
         "marker": {
          "color": "#636efa",
          "symbol": "circle"
         },
         "mode": "markers",
         "name": "",
         "orientation": "v",
         "showlegend": false,
         "type": "scatter",
         "x": [
          63,
          63,
          65,
          41,
          51,
          35,
          32,
          27,
          19,
          54,
          47,
          66,
          73,
          20,
          65.3,
          36,
          44,
          31,
          12,
          8,
          6.5,
          39,
          29,
          13,
          7,
          56,
          45,
          19,
          17,
          16,
          11,
          29,
          30,
          24,
          35,
          33,
          27,
          32,
          36,
          24,
          30,
          24,
          52,
          42,
          19,
          17,
          8,
          12,
          5,
          55,
          43,
          20,
          18,
          13,
          9,
          5,
          42,
          44,
          60,
          20,
          37,
          50,
          50,
          31,
          25,
          23,
          52,
          79.3,
          35,
          27,
          13,
          14,
          38,
          39,
          12,
          30,
          24,
          0.599999999999909,
          51,
          46,
          17,
          12,
          22,
          29,
          38,
          30,
          6,
          45,
          47,
          79,
          45,
          54,
          31,
          23,
          9,
          41,
          23,
          36,
          5,
          30,
          12,
          34,
          44,
          43,
          73.3,
          38,
          43,
          33,
          16,
          11,
          6,
          35,
          29,
          12,
          9,
          7.59999999999991,
          58,
          53,
          51,
          48,
          29,
          41,
          81.75,
          1,
          35,
          46,
          5,
          29,
          42,
          27,
          8,
          6,
          22,
          43,
          53,
          43,
          41,
          50,
          15,
          33,
          3,
          62,
          49,
          17,
          12,
          22,
          29,
          8,
          5,
          33,
          34,
          12,
          7,
          42,
          40,
          27,
          3,
          25,
          29,
          45,
          26,
          45,
          45,
          11,
          85.5999999999999,
          26,
          24,
          57,
          22,
          24,
          6,
          4,
          21,
          79,
          50,
          40,
          64,
          32,
          38.7,
          26,
          63,
          62,
          22,
          41,
          19,
          17,
          14,
          9,
          7,
          74,
          41,
          33,
          53,
          18,
          37,
          6,
          61,
          44,
          35,
          7,
          4,
          23,
          4,
          55,
          53,
          59,
          57,
          35,
          29,
          62,
          18,
          51,
          14,
          19,
          42,
          25,
          6,
          41,
          37,
          16,
          5,
          9,
          82,
          28,
          50,
          43,
          8,
          31,
          67,
          39,
          18,
          11,
          48,
          30,
          64,
          72,
          68,
          44,
          43,
          16,
          13,
          34,
          10,
          62,
          44,
          11,
          31,
          29,
          8,
          62,
          67,
          57,
          32,
          24,
          77,
          62,
          17,
          67,
          70,
          37,
          58,
          35,
          30,
          5,
          26,
          5,
          21,
          41,
          46,
          49,
          15,
          28,
          12,
          83,
          54,
          54,
          68,
          68,
          56,
          15,
          57,
          22,
          40,
          19,
          41,
          75.9000000000001,
          73.9000000000001,
          49,
          26,
          17,
          13,
          8,
          88,
          68,
          33,
          26,
          56,
          16,
          13,
          34,
          5,
          17,
          74,
          69,
          50,
          44,
          15,
          5,
          18,
          41,
          27,
          8.90000000000009,
          38,
          57,
          64.5,
          42,
          24,
          16,
          71,
          49.5,
          33,
          28,
          47,
          3,
          1,
          1,
          3,
          6,
          5,
          27,
          5,
          1,
          2,
          2,
          1,
          55,
          83.4000000000001,
          12,
          2,
          63,
          52,
          49,
          31,
          9,
          6,
          35,
          35,
          7,
          5,
          24,
          41,
          32,
          43,
          6,
          1,
          15,
          63,
          21,
          1,
          2,
          1,
          3,
          1,
          1,
          1,
          55,
          38,
          3,
          3,
          1,
          1,
          28,
          16,
          36,
          38,
          12,
          1,
          1,
          3,
          48,
          1,
          15,
          45,
          3,
          3,
          38,
          21,
          50,
          41,
          13,
          8,
          3,
          30,
          12,
          7,
          4,
          21,
          38,
          15,
          19,
          1,
          1,
          31,
          8,
          16,
          21,
          0,
          13,
          0,
          50,
          39,
          44,
          36,
          36,
          18,
          0,
          58,
          58,
          33,
          21.5,
          11,
          26,
          22,
          28,
          42,
          2,
          21,
          19,
          13,
          48,
          46,
          11,
          8,
          25,
          16,
          51,
          25,
          28,
          26,
          5,
          1,
          54,
          66,
          20,
          25,
          38,
          51,
          48,
          13,
          6,
          27,
          22,
          1,
          60,
          15,
          0,
          0,
          43,
          12,
          27,
          30,
          29,
          0,
          23,
          30,
          17,
          0,
          0,
          41,
          42,
          7,
          3,
          43,
          35,
          10,
          3,
          75.5,
          64,
          38,
          24.2,
          4,
          26,
          19,
          2,
          43,
          38,
          10,
          3,
          23,
          16,
          49,
          41,
          6,
          23,
          14,
          43,
          15,
          21,
          24,
          20,
          20,
          34,
          29,
          11,
          3,
          65,
          46,
          8,
          15,
          43,
          39,
          12,
          3,
          4,
          43,
          70,
          26,
          0,
          48,
          0,
          5,
          8,
          3,
          44,
          33,
          15,
          12,
          5,
          41,
          37.4,
          13,
          6,
          53,
          49,
          27,
          7,
          1,
          31,
          1,
          17,
          31,
          21,
          0,
          68
         ],
         "xaxis": "x",
         "y": [
          151.765,
          139.7,
          136.525,
          156.845,
          145.415,
          163.83,
          149.225,
          168.91,
          147.955,
          165.1,
          154.305,
          151.13,
          144.78,
          149.9,
          150.495,
          163.195,
          157.48,
          143.9418,
          121.92,
          105.41,
          86.36,
          161.29,
          156.21,
          129.54,
          109.22,
          146.4,
          148.59,
          147.32,
          137.16,
          125.73,
          114.3,
          147.955,
          161.925,
          146.05,
          146.05,
          152.7048,
          142.875,
          142.875,
          147.955,
          160.655,
          151.765,
          162.8648,
          171.45,
          147.32,
          147.955,
          144.78,
          121.92,
          128.905,
          97.79,
          154.305,
          143.51,
          146.7,
          157.48,
          127,
          110.49,
          97.79,
          165.735,
          152.4,
          141.605,
          158.8,
          155.575,
          164.465,
          151.765,
          161.29,
          154.305,
          145.415,
          145.415,
          152.4,
          163.83,
          144.145,
          129.54,
          129.54,
          153.67,
          142.875,
          146.05,
          167.005,
          158.4198,
          91.44,
          165.735,
          149.86,
          147.955,
          137.795,
          154.94,
          160.9598,
          161.925,
          147.955,
          113.665,
          159.385,
          148.59,
          136.525,
          158.115,
          144.78,
          156.845,
          179.07,
          118.745,
          170.18,
          146.05,
          147.32,
          113.03,
          162.56,
          133.985,
          152.4,
          160.02,
          149.86,
          142.875,
          167.005,
          159.385,
          154.94,
          148.59,
          111.125,
          111.76,
          162.56,
          152.4,
          124.46,
          111.76,
          86.36,
          170.18,
          146.05,
          159.385,
          151.13,
          160.655,
          169.545,
          158.75,
          74.295,
          149.86,
          153.035,
          96.52,
          161.925,
          162.56,
          149.225,
          116.84,
          100.076,
          163.195,
          161.925,
          145.415,
          163.195,
          151.13,
          150.495,
          141.605,
          170.815,
          91.44,
          157.48,
          152.4,
          149.225,
          129.54,
          147.32,
          145.415,
          121.92,
          113.665,
          157.48,
          154.305,
          120.65,
          115.6,
          167.005,
          142.875,
          152.4,
          96.52,
          160,
          159.385,
          149.86,
          160.655,
          160.655,
          149.225,
          125.095,
          140.97,
          154.94,
          141.605,
          160.02,
          150.1648,
          155.575,
          103.505,
          94.615,
          156.21,
          153.035,
          167.005,
          149.86,
          147.955,
          159.385,
          161.925,
          155.575,
          159.385,
          146.685,
          172.72,
          166.37,
          141.605,
          142.875,
          133.35,
          127.635,
          119.38,
          151.765,
          156.845,
          148.59,
          157.48,
          149.86,
          147.955,
          102.235,
          153.035,
          160.655,
          149.225,
          114.3,
          100.965,
          138.43,
          91.44,
          162.56,
          149.225,
          158.75,
          149.86,
          158.115,
          156.21,
          148.59,
          143.51,
          154.305,
          131.445,
          157.48,
          157.48,
          154.305,
          107.95,
          168.275,
          145.415,
          147.955,
          100.965,
          113.03,
          149.225,
          154.94,
          162.56,
          156.845,
          123.19,
          161.0106,
          144.78,
          143.51,
          149.225,
          110.49,
          149.86,
          165.735,
          144.145,
          157.48,
          154.305,
          163.83,
          156.21,
          153.67,
          134.62,
          144.145,
          114.3,
          162.56,
          146.05,
          120.65,
          154.94,
          144.78,
          106.68,
          146.685,
          152.4,
          163.83,
          165.735,
          156.21,
          152.4,
          140.335,
          158.115,
          163.195,
          151.13,
          171.1198,
          149.86,
          163.83,
          141.605,
          93.98,
          149.225,
          105.41,
          146.05,
          161.29,
          162.56,
          145.415,
          145.415,
          170.815,
          127,
          159.385,
          159.4,
          153.67,
          160.02,
          150.495,
          149.225,
          127,
          142.875,
          142.113,
          147.32,
          162.56,
          164.465,
          160.02,
          153.67,
          167.005,
          151.13,
          147.955,
          125.3998,
          111.125,
          153.035,
          139.065,
          152.4,
          154.94,
          147.955,
          143.51,
          117.983,
          144.145,
          92.71,
          147.955,
          155.575,
          150.495,
          155.575,
          154.305,
          130.6068,
          101.6,
          157.48,
          168.91,
          150.495,
          111.76,
          160.02,
          167.64,
          144.145,
          145.415,
          160.02,
          147.32,
          164.465,
          153.035,
          149.225,
          160.02,
          149.225,
          85.09,
          84.455,
          59.6138,
          92.71,
          111.125,
          90.805,
          153.67,
          99.695,
          62.484,
          81.915,
          96.52,
          80.01,
          150.495,
          151.765,
          140.6398,
          88.265,
          158.115,
          149.225,
          151.765,
          154.94,
          123.825,
          104.14,
          161.29,
          148.59,
          97.155,
          93.345,
          160.655,
          157.48,
          167.005,
          157.48,
          91.44,
          60.452,
          137.16,
          152.4,
          152.4,
          81.28,
          109.22,
          71.12,
          89.2048,
          67.31,
          85.09,
          69.85,
          161.925,
          152.4,
          88.9,
          90.17,
          71.755,
          83.82,
          159.385,
          142.24,
          142.24,
          168.91,
          123.19,
          74.93,
          74.295,
          90.805,
          160.02,
          67.945,
          135.89,
          158.115,
          85.09,
          93.345,
          152.4,
          155.575,
          154.305,
          156.845,
          120.015,
          114.3,
          83.82,
          156.21,
          137.16,
          114.3,
          93.98,
          168.275,
          147.955,
          139.7,
          157.48,
          76.2,
          66.04,
          160.7,
          114.3,
          146.05,
          161.29,
          69.85,
          133.985,
          67.945,
          150.495,
          163.195,
          148.59,
          148.59,
          161.925,
          153.67,
          68.58,
          151.13,
          163.83,
          153.035,
          151.765,
          132.08,
          156.21,
          140.335,
          158.75,
          142.875,
          84.455,
          151.9428,
          161.29,
          127.9906,
          160.9852,
          144.78,
          132.08,
          117.983,
          160.02,
          154.94,
          160.9852,
          165.989,
          157.988,
          154.94,
          97.9932,
          64.135,
          160.655,
          147.32,
          146.7,
          147.32,
          172.9994,
          158.115,
          147.32,
          124.9934,
          106.045,
          165.989,
          149.86,
          76.2,
          161.925,
          140.0048,
          66.675,
          62.865,
          163.83,
          147.955,
          160.02,
          154.94,
          152.4,
          62.23,
          146.05,
          151.9936,
          157.48,
          55.88,
          60.96,
          151.765,
          144.78,
          118.11,
          78.105,
          160.655,
          151.13,
          121.92,
          92.71,
          153.67,
          147.32,
          139.7,
          157.48,
          91.44,
          154.94,
          143.51,
          83.185,
          158.115,
          147.32,
          123.825,
          88.9,
          160.02,
          137.16,
          165.1,
          154.94,
          111.125,
          153.67,
          145.415,
          141.605,
          144.78,
          163.83,
          161.29,
          154.9,
          161.3,
          170.18,
          149.86,
          123.825,
          85.09,
          160.655,
          154.94,
          106.045,
          126.365,
          166.37,
          148.2852,
          124.46,
          89.535,
          101.6,
          151.765,
          148.59,
          153.67,
          53.975,
          146.685,
          56.515,
          100.965,
          121.92,
          81.5848,
          154.94,
          156.21,
          132.715,
          125.095,
          101.6,
          160.655,
          146.05,
          132.715,
          87.63,
          156.21,
          152.4,
          162.56,
          114.935,
          67.945,
          142.875,
          76.835,
          145.415,
          162.56,
          156.21,
          71.12,
          158.75
         ],
         "yaxis": "y"
        }
       ],
       "layout": {
        "autosize": true,
        "legend": {
         "tracegroupgap": 0
        },
        "margin": {
         "t": 60
        },
        "template": {
         "data": {
          "bar": [
           {
            "error_x": {
             "color": "#2a3f5f"
            },
            "error_y": {
             "color": "#2a3f5f"
            },
            "marker": {
             "line": {
              "color": "#E5ECF6",
              "width": 0.5
             },
             "pattern": {
              "fillmode": "overlay",
              "size": 10,
              "solidity": 0.2
             }
            },
            "type": "bar"
           }
          ],
          "barpolar": [
           {
            "marker": {
             "line": {
              "color": "#E5ECF6",
              "width": 0.5
             },
             "pattern": {
              "fillmode": "overlay",
              "size": 10,
              "solidity": 0.2
             }
            },
            "type": "barpolar"
           }
          ],
          "carpet": [
           {
            "aaxis": {
             "endlinecolor": "#2a3f5f",
             "gridcolor": "white",
             "linecolor": "white",
             "minorgridcolor": "white",
             "startlinecolor": "#2a3f5f"
            },
            "baxis": {
             "endlinecolor": "#2a3f5f",
             "gridcolor": "white",
             "linecolor": "white",
             "minorgridcolor": "white",
             "startlinecolor": "#2a3f5f"
            },
            "type": "carpet"
           }
          ],
          "choropleth": [
           {
            "colorbar": {
             "outlinewidth": 0,
             "ticks": ""
            },
            "type": "choropleth"
           }
          ],
          "contour": [
           {
            "colorbar": {
             "outlinewidth": 0,
             "ticks": ""
            },
            "colorscale": [
             [
              0,
              "#0d0887"
             ],
             [
              0.1111111111111111,
              "#46039f"
             ],
             [
              0.2222222222222222,
              "#7201a8"
             ],
             [
              0.3333333333333333,
              "#9c179e"
             ],
             [
              0.4444444444444444,
              "#bd3786"
             ],
             [
              0.5555555555555556,
              "#d8576b"
             ],
             [
              0.6666666666666666,
              "#ed7953"
             ],
             [
              0.7777777777777778,
              "#fb9f3a"
             ],
             [
              0.8888888888888888,
              "#fdca26"
             ],
             [
              1,
              "#f0f921"
             ]
            ],
            "type": "contour"
           }
          ],
          "contourcarpet": [
           {
            "colorbar": {
             "outlinewidth": 0,
             "ticks": ""
            },
            "type": "contourcarpet"
           }
          ],
          "heatmap": [
           {
            "colorbar": {
             "outlinewidth": 0,
             "ticks": ""
            },
            "colorscale": [
             [
              0,
              "#0d0887"
             ],
             [
              0.1111111111111111,
              "#46039f"
             ],
             [
              0.2222222222222222,
              "#7201a8"
             ],
             [
              0.3333333333333333,
              "#9c179e"
             ],
             [
              0.4444444444444444,
              "#bd3786"
             ],
             [
              0.5555555555555556,
              "#d8576b"
             ],
             [
              0.6666666666666666,
              "#ed7953"
             ],
             [
              0.7777777777777778,
              "#fb9f3a"
             ],
             [
              0.8888888888888888,
              "#fdca26"
             ],
             [
              1,
              "#f0f921"
             ]
            ],
            "type": "heatmap"
           }
          ],
          "heatmapgl": [
           {
            "colorbar": {
             "outlinewidth": 0,
             "ticks": ""
            },
            "colorscale": [
             [
              0,
              "#0d0887"
             ],
             [
              0.1111111111111111,
              "#46039f"
             ],
             [
              0.2222222222222222,
              "#7201a8"
             ],
             [
              0.3333333333333333,
              "#9c179e"
             ],
             [
              0.4444444444444444,
              "#bd3786"
             ],
             [
              0.5555555555555556,
              "#d8576b"
             ],
             [
              0.6666666666666666,
              "#ed7953"
             ],
             [
              0.7777777777777778,
              "#fb9f3a"
             ],
             [
              0.8888888888888888,
              "#fdca26"
             ],
             [
              1,
              "#f0f921"
             ]
            ],
            "type": "heatmapgl"
           }
          ],
          "histogram": [
           {
            "marker": {
             "pattern": {
              "fillmode": "overlay",
              "size": 10,
              "solidity": 0.2
             }
            },
            "type": "histogram"
           }
          ],
          "histogram2d": [
           {
            "colorbar": {
             "outlinewidth": 0,
             "ticks": ""
            },
            "colorscale": [
             [
              0,
              "#0d0887"
             ],
             [
              0.1111111111111111,
              "#46039f"
             ],
             [
              0.2222222222222222,
              "#7201a8"
             ],
             [
              0.3333333333333333,
              "#9c179e"
             ],
             [
              0.4444444444444444,
              "#bd3786"
             ],
             [
              0.5555555555555556,
              "#d8576b"
             ],
             [
              0.6666666666666666,
              "#ed7953"
             ],
             [
              0.7777777777777778,
              "#fb9f3a"
             ],
             [
              0.8888888888888888,
              "#fdca26"
             ],
             [
              1,
              "#f0f921"
             ]
            ],
            "type": "histogram2d"
           }
          ],
          "histogram2dcontour": [
           {
            "colorbar": {
             "outlinewidth": 0,
             "ticks": ""
            },
            "colorscale": [
             [
              0,
              "#0d0887"
             ],
             [
              0.1111111111111111,
              "#46039f"
             ],
             [
              0.2222222222222222,
              "#7201a8"
             ],
             [
              0.3333333333333333,
              "#9c179e"
             ],
             [
              0.4444444444444444,
              "#bd3786"
             ],
             [
              0.5555555555555556,
              "#d8576b"
             ],
             [
              0.6666666666666666,
              "#ed7953"
             ],
             [
              0.7777777777777778,
              "#fb9f3a"
             ],
             [
              0.8888888888888888,
              "#fdca26"
             ],
             [
              1,
              "#f0f921"
             ]
            ],
            "type": "histogram2dcontour"
           }
          ],
          "mesh3d": [
           {
            "colorbar": {
             "outlinewidth": 0,
             "ticks": ""
            },
            "type": "mesh3d"
           }
          ],
          "parcoords": [
           {
            "line": {
             "colorbar": {
              "outlinewidth": 0,
              "ticks": ""
             }
            },
            "type": "parcoords"
           }
          ],
          "pie": [
           {
            "automargin": true,
            "type": "pie"
           }
          ],
          "scatter": [
           {
            "fillpattern": {
             "fillmode": "overlay",
             "size": 10,
             "solidity": 0.2
            },
            "type": "scatter"
           }
          ],
          "scatter3d": [
           {
            "line": {
             "colorbar": {
              "outlinewidth": 0,
              "ticks": ""
             }
            },
            "marker": {
             "colorbar": {
              "outlinewidth": 0,
              "ticks": ""
             }
            },
            "type": "scatter3d"
           }
          ],
          "scattercarpet": [
           {
            "marker": {
             "colorbar": {
              "outlinewidth": 0,
              "ticks": ""
             }
            },
            "type": "scattercarpet"
           }
          ],
          "scattergeo": [
           {
            "marker": {
             "colorbar": {
              "outlinewidth": 0,
              "ticks": ""
             }
            },
            "type": "scattergeo"
           }
          ],
          "scattergl": [
           {
            "marker": {
             "colorbar": {
              "outlinewidth": 0,
              "ticks": ""
             }
            },
            "type": "scattergl"
           }
          ],
          "scattermapbox": [
           {
            "marker": {
             "colorbar": {
              "outlinewidth": 0,
              "ticks": ""
             }
            },
            "type": "scattermapbox"
           }
          ],
          "scatterpolar": [
           {
            "marker": {
             "colorbar": {
              "outlinewidth": 0,
              "ticks": ""
             }
            },
            "type": "scatterpolar"
           }
          ],
          "scatterpolargl": [
           {
            "marker": {
             "colorbar": {
              "outlinewidth": 0,
              "ticks": ""
             }
            },
            "type": "scatterpolargl"
           }
          ],
          "scatterternary": [
           {
            "marker": {
             "colorbar": {
              "outlinewidth": 0,
              "ticks": ""
             }
            },
            "type": "scatterternary"
           }
          ],
          "surface": [
           {
            "colorbar": {
             "outlinewidth": 0,
             "ticks": ""
            },
            "colorscale": [
             [
              0,
              "#0d0887"
             ],
             [
              0.1111111111111111,
              "#46039f"
             ],
             [
              0.2222222222222222,
              "#7201a8"
             ],
             [
              0.3333333333333333,
              "#9c179e"
             ],
             [
              0.4444444444444444,
              "#bd3786"
             ],
             [
              0.5555555555555556,
              "#d8576b"
             ],
             [
              0.6666666666666666,
              "#ed7953"
             ],
             [
              0.7777777777777778,
              "#fb9f3a"
             ],
             [
              0.8888888888888888,
              "#fdca26"
             ],
             [
              1,
              "#f0f921"
             ]
            ],
            "type": "surface"
           }
          ],
          "table": [
           {
            "cells": {
             "fill": {
              "color": "#EBF0F8"
             },
             "line": {
              "color": "white"
             }
            },
            "header": {
             "fill": {
              "color": "#C8D4E3"
             },
             "line": {
              "color": "white"
             }
            },
            "type": "table"
           }
          ]
         },
         "layout": {
          "annotationdefaults": {
           "arrowcolor": "#2a3f5f",
           "arrowhead": 0,
           "arrowwidth": 1
          },
          "autotypenumbers": "strict",
          "coloraxis": {
           "colorbar": {
            "outlinewidth": 0,
            "ticks": ""
           }
          },
          "colorscale": {
           "diverging": [
            [
             0,
             "#8e0152"
            ],
            [
             0.1,
             "#c51b7d"
            ],
            [
             0.2,
             "#de77ae"
            ],
            [
             0.3,
             "#f1b6da"
            ],
            [
             0.4,
             "#fde0ef"
            ],
            [
             0.5,
             "#f7f7f7"
            ],
            [
             0.6,
             "#e6f5d0"
            ],
            [
             0.7,
             "#b8e186"
            ],
            [
             0.8,
             "#7fbc41"
            ],
            [
             0.9,
             "#4d9221"
            ],
            [
             1,
             "#276419"
            ]
           ],
           "sequential": [
            [
             0,
             "#0d0887"
            ],
            [
             0.1111111111111111,
             "#46039f"
            ],
            [
             0.2222222222222222,
             "#7201a8"
            ],
            [
             0.3333333333333333,
             "#9c179e"
            ],
            [
             0.4444444444444444,
             "#bd3786"
            ],
            [
             0.5555555555555556,
             "#d8576b"
            ],
            [
             0.6666666666666666,
             "#ed7953"
            ],
            [
             0.7777777777777778,
             "#fb9f3a"
            ],
            [
             0.8888888888888888,
             "#fdca26"
            ],
            [
             1,
             "#f0f921"
            ]
           ],
           "sequentialminus": [
            [
             0,
             "#0d0887"
            ],
            [
             0.1111111111111111,
             "#46039f"
            ],
            [
             0.2222222222222222,
             "#7201a8"
            ],
            [
             0.3333333333333333,
             "#9c179e"
            ],
            [
             0.4444444444444444,
             "#bd3786"
            ],
            [
             0.5555555555555556,
             "#d8576b"
            ],
            [
             0.6666666666666666,
             "#ed7953"
            ],
            [
             0.7777777777777778,
             "#fb9f3a"
            ],
            [
             0.8888888888888888,
             "#fdca26"
            ],
            [
             1,
             "#f0f921"
            ]
           ]
          },
          "colorway": [
           "#636efa",
           "#EF553B",
           "#00cc96",
           "#ab63fa",
           "#FFA15A",
           "#19d3f3",
           "#FF6692",
           "#B6E880",
           "#FF97FF",
           "#FECB52"
          ],
          "font": {
           "color": "#2a3f5f"
          },
          "geo": {
           "bgcolor": "white",
           "lakecolor": "white",
           "landcolor": "#E5ECF6",
           "showlakes": true,
           "showland": true,
           "subunitcolor": "white"
          },
          "hoverlabel": {
           "align": "left"
          },
          "hovermode": "closest",
          "mapbox": {
           "style": "light"
          },
          "paper_bgcolor": "white",
          "plot_bgcolor": "#E5ECF6",
          "polar": {
           "angularaxis": {
            "gridcolor": "white",
            "linecolor": "white",
            "ticks": ""
           },
           "bgcolor": "#E5ECF6",
           "radialaxis": {
            "gridcolor": "white",
            "linecolor": "white",
            "ticks": ""
           }
          },
          "scene": {
           "xaxis": {
            "backgroundcolor": "#E5ECF6",
            "gridcolor": "white",
            "gridwidth": 2,
            "linecolor": "white",
            "showbackground": true,
            "ticks": "",
            "zerolinecolor": "white"
           },
           "yaxis": {
            "backgroundcolor": "#E5ECF6",
            "gridcolor": "white",
            "gridwidth": 2,
            "linecolor": "white",
            "showbackground": true,
            "ticks": "",
            "zerolinecolor": "white"
           },
           "zaxis": {
            "backgroundcolor": "#E5ECF6",
            "gridcolor": "white",
            "gridwidth": 2,
            "linecolor": "white",
            "showbackground": true,
            "ticks": "",
            "zerolinecolor": "white"
           }
          },
          "shapedefaults": {
           "line": {
            "color": "#2a3f5f"
           }
          },
          "ternary": {
           "aaxis": {
            "gridcolor": "white",
            "linecolor": "white",
            "ticks": ""
           },
           "baxis": {
            "gridcolor": "white",
            "linecolor": "white",
            "ticks": ""
           },
           "bgcolor": "#E5ECF6",
           "caxis": {
            "gridcolor": "white",
            "linecolor": "white",
            "ticks": ""
           }
          },
          "title": {
           "x": 0.05
          },
          "xaxis": {
           "automargin": true,
           "gridcolor": "white",
           "linecolor": "white",
           "ticks": "",
           "title": {
            "standoff": 15
           },
           "zerolinecolor": "white",
           "zerolinewidth": 2
          },
          "yaxis": {
           "automargin": true,
           "gridcolor": "white",
           "linecolor": "white",
           "ticks": "",
           "title": {
            "standoff": 15
           },
           "zerolinecolor": "white",
           "zerolinewidth": 2
          }
         }
        },
        "xaxis": {
         "anchor": "y",
         "autorange": true,
         "domain": [
          0,
          1
         ],
         "range": [
          -6.1633646159193605,
          94.16336461591936
         ],
         "title": {
          "text": "Age"
         },
         "type": "linear"
        },
        "yaxis": {
         "anchor": "x",
         "autorange": true,
         "domain": [
          0,
          1
         ],
         "range": [
          44.28916666666667,
          188.75583333333333
         ],
         "title": {
          "text": "Height"
         },
         "type": "linear"
        }
       }
      },
      "image/png": "[encoded data removed]"
     },
     "metadata": {},
     "output_type": "display_data"
    }
   ],
   "source": [
    "px.scatter(df,x=x,y=y)\n",
    "\n",
    "#<xml xmlns=\"https://developers.google.com/blockly/xml\"><variables><variable id=\"Sxuq484q?PmjXo4*$4o9\">px</variable><variable id=\"3hA6)(qv#r~M08OkYT6G\">df</variable></variables><block type=\"varDoMethod_Python\" id=\"?EKlWTf8Q`wI748kpOKQ\" x=\"80\" y=\"2\"><mutation items=\"3\"></mutation><field name=\"VAR\" id=\"Sxuq484q?PmjXo4*$4o9\">px</field><field name=\"MEMBER\">scatter</field><data>px:scatter</data><value name=\"ADD0\"><block type=\"variables_get\" id=\"{#sp[}Zk-`P:ktK5%q9y\"><field name=\"VAR\" id=\"3hA6)(qv#r~M08OkYT6G\">df</field></block></value><value name=\"ADD1\"><block type=\"dummyOutputCodeBlock_Python\" id=\"3Ns/{#E+1%vshFeBpmW]\"><field name=\"CODE\">x=x</field></block></value><value name=\"ADD2\"><block type=\"dummyOutputCodeBlock_Python\" id=\"T=08i%KtjdMu|{uR8F~n\"><field name=\"CODE\">y=y</field></block></value></block></xml>"
   ]
  }
 ],
 "metadata": {
  "interpreter": {
   "hash": "be14b4e913c6f2457a185c22af60a9db8729a2914b48dcc2c5e42fe4e4a2ce08"
  },
  "kernelspec": {
   "display_name": "Python 3 (ipykernel)",
   "language": "python",
   "name": "python3"
  },
  "language_info": {
   "codemirror_mode": {
    "name": "ipython",
    "version": 3
   },
   "file_extension": ".py",
   "mimetype": "text/x-python",
   "name": "python",
   "nbconvert_exporter": "python",
   "pygments_lexer": "ipython3",
   "version": "3.10.10"
  }
 },
 "nbformat": 4,
 "nbformat_minor": 4
}
