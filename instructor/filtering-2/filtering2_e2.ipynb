{
 "cells": [
  {
   "cell_type": "markdown",
   "id": "c3b7955e",
   "metadata": {},
   "source": [
    "# User Activity2 (Filtering2)"
   ]
  },
  {
   "cell_type": "markdown",
   "id": "7f841d4b",
   "metadata": {},
   "source": [
    "We have a dataset named `diabetes.csv`. This dataset contains some features that are medical predictors of diabetes. It also has a features named `outcome` which predicts if a person has diabetes or not (0 or 1)."
   ]
  },
  {
   "cell_type": "markdown",
   "id": "a3c296a3",
   "metadata": {},
   "source": [
    "### Question: Analyze the data of people who have diabetes and people who don't and compare the glucose level of diabetic and non-diabetic people. "
   ]
  },
  {
   "cell_type": "markdown",
   "id": "8a5c3745",
   "metadata": {},
   "source": [
    "Using this dataset, we want to analyze the data of people who have diabetes and people who don't and try to find out the glucose level of diabetic and non-diabetic people.\n",
    "\n",
    "**Dataset Location: datasets/diabetes.csv**"
   ]
  },
  {
   "cell_type": "markdown",
   "id": "7c1f638b",
   "metadata": {},
   "source": [
    "### Step 1: Read CSV Data into Pandas Dataframe"
   ]
  },
  {
   "cell_type": "markdown",
   "id": "b0bd0aca",
   "metadata": {},
   "source": [
    "#### Import Pandas Library"
   ]
  },
  {
   "cell_type": "markdown",
   "id": "452bc369",
   "metadata": {},
   "source": [
    "#!blhint\n",
    "\n",
    "- Create variable &nbsp;`pd`\n",
    "- `import pandas as pd`"
   ]
  },
  {
   "cell_type": "markdown",
   "id": "6aaff437",
   "metadata": {},
   "source": [
    "<br>\n",
    "<details>\n",
    "    <summary>Blockly Hints (Click to expand)</summary>\n",
    "    <ul>\n",
    "        <li>Blocks\n",
    "            <ul>\n",
    "                <li><code>import .. as ..</code>\n",
    "                    <ul>\n",
    "                        <li>The <code>import .. as ..</code> block is found under IMPORT.</li> \n",
    "                        <li>A variable must have been created before it will appear in the dropdown.</li>\n",
    "                    </ul>\n",
    "                </li>\n",
    "            </ul>\n",
    "        </li>\n",
    "    </ul>\n",
    "</details>"
   ]
  },
  {
   "cell_type": "code",
   "execution_count": 13,
   "id": "b07f3380",
   "metadata": {},
   "outputs": [],
   "source": [
    "#!response\n",
    "\n",
    "import pandas as pd\n",
    "\n",
    "#<xml xmlns=\"https://developers.google.com/blockly/xml\"><variables><variable id=\"]f;%,;HlDPfuaL^@gFMn\">pd</variable></variables><block type=\"importAs_Python\" id=\"(xeOnjmy#R30m+IW-T``\" x=\"36\" y=\"142\"><field name=\"libraryName\">pandas</field><field name=\"libraryAlias\" id=\"]f;%,;HlDPfuaL^@gFMn\">pd</field></block></xml>"
   ]
  },
  {
   "cell_type": "markdown",
   "id": "d44d23fa",
   "metadata": {},
   "source": [
    "#### Read CSV data and Save in Variable"
   ]
  },
  {
   "cell_type": "markdown",
   "id": "2c404818",
   "metadata": {},
   "source": [
    "#!blhint\n",
    "\n",
    "- Create variable &nbsp;`diabetes_data`\n",
    "- `Set diabetes_data to` &nbsp;:&nbsp; `with pd do read_csv using` &nbsp;<-&nbsp; `\" datasets/diabetes.csv \"`"
   ]
  },
  {
   "cell_type": "markdown",
   "id": "ccdfda12",
   "metadata": {},
   "source": [
    "<br><details><summary>Blockly Hints (Click triangle to expand)</summary><ul><li>Notation<ul><li><code>A</code> &nbsp;:&nbsp; <code>B</code>&nbsp; means snap blocks A and B together.</li><li><code>A</code> &nbsp;&lt;-&nbsp; <code>B</code>&nbsp; means insert block B into the hole in block A.</li></ul></li><li>Blocks<ul><li><code>set .. to</code><ul><li>The <code>set .. to</code> block is found under VARIABLES.</li> <li>A variable must have been created before it will appear in the dropdown.</li></ul></li><li><code>with .. do .. using ..</code><ul><li>The <code>with .. do .. using ..</code> block is found under VARIABLES.</li> <li>If <code>do</code> dropdown says \"!Not populated until you execute code\", click anywhere in the notebook tab, then click try \"Run All Above Selected Cell\" from the \"Run\" menu.</li> <li>If <code>with .. do .. using ..</code> block does not want to snap together nicely with the <code>set .. to</code> block, try dragging the <code>set .. to</code> block instead.</li></ul></li><li><code>\" .. \"</code><ul><li>The <code>\" .. \"</code> block is found under TEXT.</li></ul></li></ul></li></ul></details>"
   ]
  },
  {
   "cell_type": "code",
   "execution_count": 14,
   "id": "0a317ef5",
   "metadata": {},
   "outputs": [],
   "source": [
    "#!response\n",
    "\n",
    "diabetes_data = pd.read_csv('datasets/diabetes.csv')\n",
    "\n",
    "#<xml xmlns=\"https://developers.google.com/blockly/xml\"><variables><variable id=\"P:%1gs.=j|*pHEM`Nzrq\">diabetes_data</variable><variable id=\"]f;%,;HlDPfuaL^@gFMn\">pd</variable></variables><block type=\"variables_set\" id=\"v/vBK^zQ(QKmF8~N1N_S\" x=\"-8\" y=\"162\"><field name=\"VAR\" id=\"P:%1gs.=j|*pHEM`Nzrq\">diabetes_data</field><value name=\"VALUE\"><block type=\"varDoMethod_Python\" id=\"|JAcvB!;;=EGT%S5w?-m\"><mutation items=\"1\"></mutation><field name=\"VAR\" id=\"]f;%,;HlDPfuaL^@gFMn\">pd</field><field name=\"MEMBER\">read_csv</field><data>pd:read_csv</data><value name=\"ADD0\"><block type=\"text\" id=\"%?_uzsFRUhJRj^7!l,5(\"><field name=\"TEXT\">datasets/diabetes.csv</field></block></value></block></value></block></xml>"
   ]
  },
  {
   "cell_type": "markdown",
   "id": "2ee04d5d",
   "metadata": {},
   "source": [
    "#### Display Dataframe Contents"
   ]
  },
  {
   "cell_type": "markdown",
   "id": "bcf81519",
   "metadata": {},
   "source": [
    "#!blhint\n",
    "\n",
    "- variable &nbsp;`diabetes_data`"
   ]
  },
  {
   "cell_type": "markdown",
   "id": "8dad2aa1",
   "metadata": {},
   "source": [
    "<br>\n",
    "<details>\n",
    "    <summary>Blockly Hints (Click on triangle to expand)</summary>\n",
    "    <ul>\n",
    "        <li>Blocks\n",
    "            <ul>\n",
    "                <li>variable\n",
    "                    <ul>\n",
    "                        <li>After it is created, each variable has its own block at the end of the VARIABLES menu.</li>\n",
    "                    </ul>\n",
    "                </li>\n",
    "            </ul>\n",
    "        </li>\n",
    "    </ul>\n",
    "</details>"
   ]
  },
  {
   "cell_type": "code",
   "execution_count": 15,
   "id": "5b1c3609",
   "metadata": {},
   "outputs": [
    {
     "data": {
      "text/html": [
       "<div>\n",
       "<style scoped>\n",
       "    .dataframe tbody tr th:only-of-type {\n",
       "        vertical-align: middle;\n",
       "    }\n",
       "\n",
       "    .dataframe tbody tr th {\n",
       "        vertical-align: top;\n",
       "    }\n",
       "\n",
       "    .dataframe thead th {\n",
       "        text-align: right;\n",
       "    }\n",
       "</style>\n",
       "<table border=\"1\" class=\"dataframe\">\n",
       "  <thead>\n",
       "    <tr style=\"text-align: right;\">\n",
       "      <th></th>\n",
       "      <th>Pregnancies</th>\n",
       "      <th>Glucose</th>\n",
       "      <th>BloodPressure</th>\n",
       "      <th>SkinThickness</th>\n",
       "      <th>Insulin</th>\n",
       "      <th>BMI</th>\n",
       "      <th>DiabetesPedigreeFunction</th>\n",
       "      <th>Age</th>\n",
       "      <th>Outcome</th>\n",
       "    </tr>\n",
       "  </thead>\n",
       "  <tbody>\n",
       "    <tr>\n",
       "      <th>0</th>\n",
       "      <td>6</td>\n",
       "      <td>148</td>\n",
       "      <td>72</td>\n",
       "      <td>35</td>\n",
       "      <td>0</td>\n",
       "      <td>33.6</td>\n",
       "      <td>0.627</td>\n",
       "      <td>50</td>\n",
       "      <td>1</td>\n",
       "    </tr>\n",
       "    <tr>\n",
       "      <th>1</th>\n",
       "      <td>1</td>\n",
       "      <td>85</td>\n",
       "      <td>66</td>\n",
       "      <td>29</td>\n",
       "      <td>0</td>\n",
       "      <td>26.6</td>\n",
       "      <td>0.351</td>\n",
       "      <td>31</td>\n",
       "      <td>0</td>\n",
       "    </tr>\n",
       "    <tr>\n",
       "      <th>2</th>\n",
       "      <td>8</td>\n",
       "      <td>183</td>\n",
       "      <td>64</td>\n",
       "      <td>0</td>\n",
       "      <td>0</td>\n",
       "      <td>23.3</td>\n",
       "      <td>0.672</td>\n",
       "      <td>32</td>\n",
       "      <td>1</td>\n",
       "    </tr>\n",
       "    <tr>\n",
       "      <th>3</th>\n",
       "      <td>1</td>\n",
       "      <td>89</td>\n",
       "      <td>66</td>\n",
       "      <td>23</td>\n",
       "      <td>94</td>\n",
       "      <td>28.1</td>\n",
       "      <td>0.167</td>\n",
       "      <td>21</td>\n",
       "      <td>0</td>\n",
       "    </tr>\n",
       "    <tr>\n",
       "      <th>4</th>\n",
       "      <td>0</td>\n",
       "      <td>137</td>\n",
       "      <td>40</td>\n",
       "      <td>35</td>\n",
       "      <td>168</td>\n",
       "      <td>43.1</td>\n",
       "      <td>2.288</td>\n",
       "      <td>33</td>\n",
       "      <td>1</td>\n",
       "    </tr>\n",
       "    <tr>\n",
       "      <th>...</th>\n",
       "      <td>...</td>\n",
       "      <td>...</td>\n",
       "      <td>...</td>\n",
       "      <td>...</td>\n",
       "      <td>...</td>\n",
       "      <td>...</td>\n",
       "      <td>...</td>\n",
       "      <td>...</td>\n",
       "      <td>...</td>\n",
       "    </tr>\n",
       "    <tr>\n",
       "      <th>763</th>\n",
       "      <td>10</td>\n",
       "      <td>101</td>\n",
       "      <td>76</td>\n",
       "      <td>48</td>\n",
       "      <td>180</td>\n",
       "      <td>32.9</td>\n",
       "      <td>0.171</td>\n",
       "      <td>63</td>\n",
       "      <td>0</td>\n",
       "    </tr>\n",
       "    <tr>\n",
       "      <th>764</th>\n",
       "      <td>2</td>\n",
       "      <td>122</td>\n",
       "      <td>70</td>\n",
       "      <td>27</td>\n",
       "      <td>0</td>\n",
       "      <td>36.8</td>\n",
       "      <td>0.340</td>\n",
       "      <td>27</td>\n",
       "      <td>0</td>\n",
       "    </tr>\n",
       "    <tr>\n",
       "      <th>765</th>\n",
       "      <td>5</td>\n",
       "      <td>121</td>\n",
       "      <td>72</td>\n",
       "      <td>23</td>\n",
       "      <td>112</td>\n",
       "      <td>26.2</td>\n",
       "      <td>0.245</td>\n",
       "      <td>30</td>\n",
       "      <td>0</td>\n",
       "    </tr>\n",
       "    <tr>\n",
       "      <th>766</th>\n",
       "      <td>1</td>\n",
       "      <td>126</td>\n",
       "      <td>60</td>\n",
       "      <td>0</td>\n",
       "      <td>0</td>\n",
       "      <td>30.1</td>\n",
       "      <td>0.349</td>\n",
       "      <td>47</td>\n",
       "      <td>1</td>\n",
       "    </tr>\n",
       "    <tr>\n",
       "      <th>767</th>\n",
       "      <td>1</td>\n",
       "      <td>93</td>\n",
       "      <td>70</td>\n",
       "      <td>31</td>\n",
       "      <td>0</td>\n",
       "      <td>30.4</td>\n",
       "      <td>0.315</td>\n",
       "      <td>23</td>\n",
       "      <td>0</td>\n",
       "    </tr>\n",
       "  </tbody>\n",
       "</table>\n",
       "<p>768 rows × 9 columns</p>\n",
       "</div>"
      ],
      "text/plain": [
       "     Pregnancies  Glucose  BloodPressure  SkinThickness  Insulin   BMI  \\\n",
       "0              6      148             72             35        0  33.6   \n",
       "1              1       85             66             29        0  26.6   \n",
       "2              8      183             64              0        0  23.3   \n",
       "3              1       89             66             23       94  28.1   \n",
       "4              0      137             40             35      168  43.1   \n",
       "..           ...      ...            ...            ...      ...   ...   \n",
       "763           10      101             76             48      180  32.9   \n",
       "764            2      122             70             27        0  36.8   \n",
       "765            5      121             72             23      112  26.2   \n",
       "766            1      126             60              0        0  30.1   \n",
       "767            1       93             70             31        0  30.4   \n",
       "\n",
       "     DiabetesPedigreeFunction  Age  Outcome  \n",
       "0                       0.627   50        1  \n",
       "1                       0.351   31        0  \n",
       "2                       0.672   32        1  \n",
       "3                       0.167   21        0  \n",
       "4                       2.288   33        1  \n",
       "..                        ...  ...      ...  \n",
       "763                     0.171   63        0  \n",
       "764                     0.340   27        0  \n",
       "765                     0.245   30        0  \n",
       "766                     0.349   47        1  \n",
       "767                     0.315   23        0  \n",
       "\n",
       "[768 rows x 9 columns]"
      ]
     },
     "execution_count": 15,
     "metadata": {},
     "output_type": "execute_result"
    }
   ],
   "source": [
    "#!response\n",
    "diabetes_data\n",
    "\n",
    "#<xml xmlns=\"https://developers.google.com/blockly/xml\"><variables><variable id=\"P:%1gs.=j|*pHEM`Nzrq\">diabetes_data</variable></variables><block type=\"variables_get\" id=\"xd~-_2kO]f@z@R3r@[a/\" x=\"8\" y=\"272\"><field name=\"VAR\" id=\"P:%1gs.=j|*pHEM`Nzrq\">diabetes_data</field></block></xml>"
   ]
  },
  {
   "cell_type": "markdown",
   "id": "109591a7",
   "metadata": {},
   "source": [
    "#### What are the columns"
   ]
  },
  {
   "cell_type": "markdown",
   "id": "b3e9881d",
   "metadata": {},
   "source": [
    "#!blhint\n",
    "\n",
    "- variable &nbsp;`from diabetes_data get columns`"
   ]
  },
  {
   "cell_type": "markdown",
   "id": "8e11208a",
   "metadata": {},
   "source": [
    "<details>\n",
    "<summary> Blockly Instructions(click triangle to expand) </summary>\n",
    "<br>\n",
    "    \n",
    "- From `variables` tab, click `from diabetes_data get...` block into the workspace.\n",
    "- In the block, click on the dropdown after `get` and select the option `columns`.\n",
    "    - If `get` dropdown says \"!Not populated until you execute code\", click anywhere in the notebook tab, then click try \"Run All Above Selected Cell\" from the \"Run\" menu.\n",
    "- Click on \"Blocks to Code\" at the bottom of the blockly palette.\n",
    "- Run the python code cell.\n",
    "</details>"
   ]
  },
  {
   "cell_type": "code",
   "execution_count": 16,
   "id": "a0dd7c5f",
   "metadata": {},
   "outputs": [
    {
     "data": {
      "text/plain": [
       "Index(['Pregnancies', 'Glucose', 'BloodPressure', 'SkinThickness', 'Insulin',\n",
       "       'BMI', 'DiabetesPedigreeFunction', 'Age', 'Outcome'],\n",
       "      dtype='object')"
      ]
     },
     "execution_count": 16,
     "metadata": {},
     "output_type": "execute_result"
    }
   ],
   "source": [
    "#!response\n",
    "diabetes_data.columns\n",
    "\n",
    "#<xml xmlns=\"https://developers.google.com/blockly/xml\"><variables><variable id=\"P:%1gs.=j|*pHEM`Nzrq\">diabetes_data</variable></variables><block type=\"varGetProperty_Python\" id=\"=?vr`dutW}|=n$mElxRt\" x=\"34\" y=\"252\"><field name=\"VAR\" id=\"P:%1gs.=j|*pHEM`Nzrq\">diabetes_data</field><field name=\"MEMBER\">columns</field><data>diabetes_data:columns</data></block></xml>"
   ]
  },
  {
   "cell_type": "markdown",
   "id": "671a690e",
   "metadata": {},
   "source": [
    "### Get the required Columns (Glucose, BMI, BloodPressure, Outcome)\n",
    "\n",
    "For our analysis, we will only consider the `Glucose`, `BMI` and `BloodPressure` columns. So we will keep only these columns.\n",
    "\n",
    "In `Outcome` column, `1` represents the person is diabetic and `0` represents the person is non-diabetic. "
   ]
  },
  {
   "cell_type": "markdown",
   "id": "7e522f2b",
   "metadata": {},
   "source": [
    "#!blhint\n",
    "\n",
    "`set filtered_diabetes_data` : `diabetes_data` &nbsp;<-&nbsp; `create list with` &nbsp;:\n",
    "  - `\"Glucose\"`\n",
    "  - `\"BMI\"`\n",
    "  - `\"BloodPressure\"`\n",
    "  - `\"Outcome\"`"
   ]
  },
  {
   "cell_type": "markdown",
   "id": "53236006",
   "metadata": {},
   "source": [
    "<details>\n",
    "<summary>Blockly instructions: (click triangle to expand)</summary>\n",
    "<br> \n",
    "\n",
    "- Notation\n",
    "    - `A : B` means snap blocks A and B together.\n",
    "    - `A <- B` means insert block B into the hole in block A.\n",
    "        \n",
    "- Blocks:\n",
    "    - From `LISTS`, get the `{dictVariable} [..]` block.\n",
    "    - Replace {dictVariable} with `diabetes_data`.\n",
    "    - From `LISTS`, get `create list with` block. Click on the `+` sign 1 more time so that the block has 4 connection points.\n",
    "    - Take 4 `\" \"` block from `TEXT`.\n",
    "    - Write `Glucose`, `BMI`, `BloodPressure`, `Outcome` in the `\" \"` blocks. Connect them to the end of the `create list with` block.\n",
    "    - Drag the `create list with` block inside `diabetes_data [..]`\n",
    "    - Create a variable `filtered_diabetes_data` in `VARIABLES`.\n",
    "    - From `VARIABLES` click on `set filtered_diabetes_data to` and connect to the `diabetes_data` block.\n",
    "    - From `VARIABLES` block, click the `filtered_diabetes_data` block.     \n",
    "    - Click on \"Blocks to Code\" at the bottom of the blockly palette.   \n",
    "    - Run the python cell by pressing Shift+Enter.    \n",
    "</details>\n"
   ]
  },
  {
   "cell_type": "code",
   "execution_count": 17,
   "id": "d192ed96",
   "metadata": {},
   "outputs": [
    {
     "data": {
      "text/html": [
       "<div>\n",
       "<style scoped>\n",
       "    .dataframe tbody tr th:only-of-type {\n",
       "        vertical-align: middle;\n",
       "    }\n",
       "\n",
       "    .dataframe tbody tr th {\n",
       "        vertical-align: top;\n",
       "    }\n",
       "\n",
       "    .dataframe thead th {\n",
       "        text-align: right;\n",
       "    }\n",
       "</style>\n",
       "<table border=\"1\" class=\"dataframe\">\n",
       "  <thead>\n",
       "    <tr style=\"text-align: right;\">\n",
       "      <th></th>\n",
       "      <th>Glucose</th>\n",
       "      <th>BMI</th>\n",
       "      <th>BloodPressure</th>\n",
       "      <th>Outcome</th>\n",
       "    </tr>\n",
       "  </thead>\n",
       "  <tbody>\n",
       "    <tr>\n",
       "      <th>0</th>\n",
       "      <td>148</td>\n",
       "      <td>33.6</td>\n",
       "      <td>72</td>\n",
       "      <td>1</td>\n",
       "    </tr>\n",
       "    <tr>\n",
       "      <th>1</th>\n",
       "      <td>85</td>\n",
       "      <td>26.6</td>\n",
       "      <td>66</td>\n",
       "      <td>0</td>\n",
       "    </tr>\n",
       "    <tr>\n",
       "      <th>2</th>\n",
       "      <td>183</td>\n",
       "      <td>23.3</td>\n",
       "      <td>64</td>\n",
       "      <td>1</td>\n",
       "    </tr>\n",
       "    <tr>\n",
       "      <th>3</th>\n",
       "      <td>89</td>\n",
       "      <td>28.1</td>\n",
       "      <td>66</td>\n",
       "      <td>0</td>\n",
       "    </tr>\n",
       "    <tr>\n",
       "      <th>4</th>\n",
       "      <td>137</td>\n",
       "      <td>43.1</td>\n",
       "      <td>40</td>\n",
       "      <td>1</td>\n",
       "    </tr>\n",
       "    <tr>\n",
       "      <th>...</th>\n",
       "      <td>...</td>\n",
       "      <td>...</td>\n",
       "      <td>...</td>\n",
       "      <td>...</td>\n",
       "    </tr>\n",
       "    <tr>\n",
       "      <th>763</th>\n",
       "      <td>101</td>\n",
       "      <td>32.9</td>\n",
       "      <td>76</td>\n",
       "      <td>0</td>\n",
       "    </tr>\n",
       "    <tr>\n",
       "      <th>764</th>\n",
       "      <td>122</td>\n",
       "      <td>36.8</td>\n",
       "      <td>70</td>\n",
       "      <td>0</td>\n",
       "    </tr>\n",
       "    <tr>\n",
       "      <th>765</th>\n",
       "      <td>121</td>\n",
       "      <td>26.2</td>\n",
       "      <td>72</td>\n",
       "      <td>0</td>\n",
       "    </tr>\n",
       "    <tr>\n",
       "      <th>766</th>\n",
       "      <td>126</td>\n",
       "      <td>30.1</td>\n",
       "      <td>60</td>\n",
       "      <td>1</td>\n",
       "    </tr>\n",
       "    <tr>\n",
       "      <th>767</th>\n",
       "      <td>93</td>\n",
       "      <td>30.4</td>\n",
       "      <td>70</td>\n",
       "      <td>0</td>\n",
       "    </tr>\n",
       "  </tbody>\n",
       "</table>\n",
       "<p>768 rows × 4 columns</p>\n",
       "</div>"
      ],
      "text/plain": [
       "     Glucose   BMI  BloodPressure  Outcome\n",
       "0        148  33.6             72        1\n",
       "1         85  26.6             66        0\n",
       "2        183  23.3             64        1\n",
       "3         89  28.1             66        0\n",
       "4        137  43.1             40        1\n",
       "..       ...   ...            ...      ...\n",
       "763      101  32.9             76        0\n",
       "764      122  36.8             70        0\n",
       "765      121  26.2             72        0\n",
       "766      126  30.1             60        1\n",
       "767       93  30.4             70        0\n",
       "\n",
       "[768 rows x 4 columns]"
      ]
     },
     "execution_count": 17,
     "metadata": {},
     "output_type": "execute_result"
    }
   ],
   "source": [
    "#!response\n",
    "filtered_diabetes_data = diabetes_data[['Glucose', 'BMI', 'BloodPressure', 'Outcome']]\n",
    "\n",
    "filtered_diabetes_data\n",
    "\n",
    "#<xml xmlns=\"https://developers.google.com/blockly/xml\"><variables><variable id=\"wX:5mYpBrl4^ZDxEo5-%\">filtered_diabetes_data</variable><variable id=\"P:%1gs.=j|*pHEM`Nzrq\">diabetes_data</variable></variables><block type=\"variables_set\" id=\"IfoJdLb*GI0H_c,_r%bA\" x=\"16\" y=\"56\"><field name=\"VAR\" id=\"wX:5mYpBrl4^ZDxEo5-%\">filtered_diabetes_data</field><value name=\"VALUE\"><block type=\"indexer_Python\" id=\"UqDlyYl;hn1N~xuK5d%_\"><field name=\"VAR\" id=\"P:%1gs.=j|*pHEM`Nzrq\">diabetes_data</field><value name=\"INDEX\"><block type=\"lists_create_with\" id=\"N+,9!9Z]I%p]lpYZhvY?\"><mutation items=\"4\"></mutation><value name=\"ADD0\"><block type=\"text\" id=\"QmHHN~Bs#ETg~Y`NcW^r\"><field name=\"TEXT\">Glucose</field></block></value><value name=\"ADD1\"><block type=\"text\" id=\"j;W~,P-[~90h@E;.xz4j\"><field name=\"TEXT\">BMI</field></block></value><value name=\"ADD2\"><block type=\"text\" id=\"{];,GMAH]91+Oejdu=27\"><field name=\"TEXT\">BloodPressure</field></block></value><value name=\"ADD3\"><block type=\"text\" id=\"b!cs6$:[+thU[xGWPDcU\"><field name=\"TEXT\">Outcome</field></block></value></block></value></block></value></block><block type=\"variables_get\" id=\"oIM3LN|*qQfsi5;PNp?4\" x=\"16\" y=\"210\"><field name=\"VAR\" id=\"wX:5mYpBrl4^ZDxEo5-%\">filtered_diabetes_data</field></block></xml>"
   ]
  },
  {
   "cell_type": "markdown",
   "id": "dbae79de",
   "metadata": {},
   "source": [
    "### Diabetic Group Data\n",
    "### Calculate mean `Glucose` level of Diabetic People"
   ]
  },
  {
   "cell_type": "markdown",
   "id": "36fd6ef3",
   "metadata": {},
   "source": [
    "#### Substep 1: Find the diabetic people"
   ]
  },
  {
   "cell_type": "markdown",
   "id": "3f33f3e6",
   "metadata": {},
   "source": [
    "To calculate mean `Glucose` level of diabetic group we have to filter the diabetic people. \n",
    "\n",
    "To do so, from `filtered_diabetes_data` we have to filter the people whose `Outcome` is `1` "
   ]
  },
  {
   "cell_type": "markdown",
   "id": "9473e70f",
   "metadata": {},
   "source": [
    "#!blhint\n",
    "- create variable `diabetic_group`\n",
    "- `set diabetic_group to` &nbsp;:&nbsp; `filtered_diabetes_data [ .. ]` &nbsp;<-&nbsp; ` .. = .. ` &nbsp;<-\n",
    "  - `filtered_diabetes_data [ .. ]` &nbsp;<-&nbsp; `\"Outcome\"` \n",
    "  - `1`\n",
    "- Will look like  `set diabetic_group to filtered_diabetes_data [ filtered_diabetes_data [\"Outcome\"] = 1]`\n",
    "- Variable `diabetic_group`"
   ]
  },
  {
   "cell_type": "markdown",
   "id": "d6e15199",
   "metadata": {},
   "source": [
    "<details>\n",
    "<summary> Blockly Instructions(click triangle to expand) </summary>\n",
    "<br>\n",
    "    \n",
    "- Notation:\n",
    "    - `A : B` means snap blocks A and B together.\n",
    "    - `A <- B` means insert block B into the hole in block A.\n",
    "- Blocks:\n",
    "    - From `LISTS`, click on `{dictvariable}[]`. Place `filtered_diabetes_data` inplace of `dictvariable`.\n",
    "    - Get a text block `\" \"`. write `Outcome` in the `\" \"` block. drag it inside `filtered_diabetes_data_data`.\n",
    "    - From `LOGIC` block, click on `.. = .. ` block. on the left side of it, put the already created `filtered_diabetes_data[\"Outcome\"]` block.\n",
    "    - On the right side of `=` put a `123` block from `MATH`. Write `1` in it.\n",
    "    - From lists, click on `{dictvariable}[]`. place `filtered_diabetes_data` inplace of `dictvariable`.Put the already created `filtered_diabetes_data[\"Outcome\"]= 1` block inside the new `filtered_diabetes_data[ ]` block.\n",
    "    - Create a variable `diabetic_group`.\n",
    "    - From `VARIABLES`click on `set diabetic_group to` block and connect to the left of `filtered_diabetes_data` block.\n",
    "    - From `VARIABLES` block, click the `diabetic_group` block.    \n",
    "    - Click on \"Blocks to Code\" at the bottom of the blockly palette.\n",
    "    - Run the python code cell.\n",
    "</details>"
   ]
  },
  {
   "cell_type": "code",
   "execution_count": 18,
   "id": "14660987",
   "metadata": {},
   "outputs": [
    {
     "data": {
      "text/html": [
       "<div>\n",
       "<style scoped>\n",
       "    .dataframe tbody tr th:only-of-type {\n",
       "        vertical-align: middle;\n",
       "    }\n",
       "\n",
       "    .dataframe tbody tr th {\n",
       "        vertical-align: top;\n",
       "    }\n",
       "\n",
       "    .dataframe thead th {\n",
       "        text-align: right;\n",
       "    }\n",
       "</style>\n",
       "<table border=\"1\" class=\"dataframe\">\n",
       "  <thead>\n",
       "    <tr style=\"text-align: right;\">\n",
       "      <th></th>\n",
       "      <th>Glucose</th>\n",
       "      <th>BMI</th>\n",
       "      <th>BloodPressure</th>\n",
       "      <th>Outcome</th>\n",
       "    </tr>\n",
       "  </thead>\n",
       "  <tbody>\n",
       "    <tr>\n",
       "      <th>0</th>\n",
       "      <td>148</td>\n",
       "      <td>33.6</td>\n",
       "      <td>72</td>\n",
       "      <td>1</td>\n",
       "    </tr>\n",
       "    <tr>\n",
       "      <th>2</th>\n",
       "      <td>183</td>\n",
       "      <td>23.3</td>\n",
       "      <td>64</td>\n",
       "      <td>1</td>\n",
       "    </tr>\n",
       "    <tr>\n",
       "      <th>4</th>\n",
       "      <td>137</td>\n",
       "      <td>43.1</td>\n",
       "      <td>40</td>\n",
       "      <td>1</td>\n",
       "    </tr>\n",
       "    <tr>\n",
       "      <th>6</th>\n",
       "      <td>78</td>\n",
       "      <td>31.0</td>\n",
       "      <td>50</td>\n",
       "      <td>1</td>\n",
       "    </tr>\n",
       "    <tr>\n",
       "      <th>8</th>\n",
       "      <td>197</td>\n",
       "      <td>30.5</td>\n",
       "      <td>70</td>\n",
       "      <td>1</td>\n",
       "    </tr>\n",
       "    <tr>\n",
       "      <th>...</th>\n",
       "      <td>...</td>\n",
       "      <td>...</td>\n",
       "      <td>...</td>\n",
       "      <td>...</td>\n",
       "    </tr>\n",
       "    <tr>\n",
       "      <th>755</th>\n",
       "      <td>128</td>\n",
       "      <td>36.5</td>\n",
       "      <td>88</td>\n",
       "      <td>1</td>\n",
       "    </tr>\n",
       "    <tr>\n",
       "      <th>757</th>\n",
       "      <td>123</td>\n",
       "      <td>36.3</td>\n",
       "      <td>72</td>\n",
       "      <td>1</td>\n",
       "    </tr>\n",
       "    <tr>\n",
       "      <th>759</th>\n",
       "      <td>190</td>\n",
       "      <td>35.5</td>\n",
       "      <td>92</td>\n",
       "      <td>1</td>\n",
       "    </tr>\n",
       "    <tr>\n",
       "      <th>761</th>\n",
       "      <td>170</td>\n",
       "      <td>44.0</td>\n",
       "      <td>74</td>\n",
       "      <td>1</td>\n",
       "    </tr>\n",
       "    <tr>\n",
       "      <th>766</th>\n",
       "      <td>126</td>\n",
       "      <td>30.1</td>\n",
       "      <td>60</td>\n",
       "      <td>1</td>\n",
       "    </tr>\n",
       "  </tbody>\n",
       "</table>\n",
       "<p>268 rows × 4 columns</p>\n",
       "</div>"
      ],
      "text/plain": [
       "     Glucose   BMI  BloodPressure  Outcome\n",
       "0        148  33.6             72        1\n",
       "2        183  23.3             64        1\n",
       "4        137  43.1             40        1\n",
       "6         78  31.0             50        1\n",
       "8        197  30.5             70        1\n",
       "..       ...   ...            ...      ...\n",
       "755      128  36.5             88        1\n",
       "757      123  36.3             72        1\n",
       "759      190  35.5             92        1\n",
       "761      170  44.0             74        1\n",
       "766      126  30.1             60        1\n",
       "\n",
       "[268 rows x 4 columns]"
      ]
     },
     "execution_count": 18,
     "metadata": {},
     "output_type": "execute_result"
    }
   ],
   "source": [
    "#!response\n",
    "diabetic_group = filtered_diabetes_data[(filtered_diabetes_data['Outcome'] == 1)]\n",
    "\n",
    "diabetic_group\n",
    "\n",
    "#<xml xmlns=\"https://developers.google.com/blockly/xml\"><variables><variable id=\"-j!%+%h?k@Nr;b+}Gwaf\">diabetic_group</variable><variable id=\"wX:5mYpBrl4^ZDxEo5-%\">filtered_diabetes_data</variable></variables><block type=\"variables_set\" id=\"OHa1r=[W.?)yPSqKNwV2\" x=\"-39\" y=\"209\"><field name=\"VAR\" id=\"-j!%+%h?k@Nr;b+}Gwaf\">diabetic_group</field><value name=\"VALUE\"><block type=\"indexer_Python\" id=\"DrFmlEM7?vmzq%e=@u?B\"><field name=\"VAR\" id=\"wX:5mYpBrl4^ZDxEo5-%\">filtered_diabetes_data</field><value name=\"INDEX\"><block type=\"logic_compare\" id=\"CKI6TGs|AdFrsqIP}_!R\"><field name=\"OP\">EQ</field><value name=\"A\"><block type=\"indexer_Python\" id=\"J$2POgT5K!9Mbs,rK3Zp\"><field name=\"VAR\" id=\"wX:5mYpBrl4^ZDxEo5-%\">filtered_diabetes_data</field><value name=\"INDEX\"><block type=\"text\" id=\"H_q5|t[Z6*m#F]]Pp.c/\"><field name=\"TEXT\">Outcome</field></block></value></block></value><value name=\"B\"><block type=\"math_number\" id=\"Z^*8-,i}bp/y%sjNRLk6\"><field name=\"NUM\">1</field></block></value></block></value></block></value></block><block type=\"variables_get\" id=\"QJqEQgZGLGZ]lP0w5=Oq\" x=\"-35\" y=\"308\"><field name=\"VAR\" id=\"-j!%+%h?k@Nr;b+}Gwaf\">diabetic_group</field></block></xml>"
   ]
  },
  {
   "cell_type": "markdown",
   "id": "5aa6aa6d",
   "metadata": {},
   "source": [
    "#### Substep 2: Calculate Mean `Glucose` Level of Diabetic People.\n",
    "\n",
    "Now we want to calculate mean `Glucose` level of diabetic people.\n",
    "\n",
    "But for that first we have to select the `Glucose` column of the `diabetic_group` dataframe. "
   ]
  },
  {
   "cell_type": "markdown",
   "id": "3aac317c",
   "metadata": {},
   "source": [
    "#!blhint\n",
    "\n",
    "- Create variable `diabetic_glucose`\n",
    "- `set diabetic_glucose to` : `diabetic_group [ .. ]` &nbsp;<-&nbsp; `\"Glucose\"` \n",
    "- Variable `diabetic_glucose`"
   ]
  },
  {
   "cell_type": "markdown",
   "id": "e44f9d10",
   "metadata": {},
   "source": [
    "<details>\n",
    "<summary> Blockly Instructions(click triangle to expand) </summary>\n",
    "<br>\n",
    "\n",
    "- Notation:\n",
    "    - `A : B` means snap blocks A and B together.\n",
    "    - `A <- B` means insert block B into the hole in block A.\n",
    "- Blocks:\n",
    "    - From `LISTS`, click on `{dictvariable}[]`. place `diabetic_group` inplace of `dictvariable`.\n",
    "    - Get a text block `\" \"`. Write `Glucose` in the `\" \"` block. drag it inside `diabetic_group[ ]`.\n",
    "    - Create a variable `diabetic_glucose` in `VARIABLES`.\n",
    "    - From `VARIABLES` click on `set diabetic_glucose to` and connect to the left of the already created `diabetic_group[\"Glucose\"]` block.\n",
    "    - From `VARIABLES` block, click the `diabetic_glucose` block.     - Click on \"Blocks to Code\" at the bottom of the blockly palette.\n",
    "    - Run the python code cell.\n",
    "</details>"
   ]
  },
  {
   "cell_type": "code",
   "execution_count": 19,
   "id": "6ed95f73",
   "metadata": {},
   "outputs": [
    {
     "data": {
      "text/plain": [
       "0      148\n",
       "2      183\n",
       "4      137\n",
       "6       78\n",
       "8      197\n",
       "      ... \n",
       "755    128\n",
       "757    123\n",
       "759    190\n",
       "761    170\n",
       "766    126\n",
       "Name: Glucose, Length: 268, dtype: int64"
      ]
     },
     "execution_count": 19,
     "metadata": {},
     "output_type": "execute_result"
    }
   ],
   "source": [
    "#!response\n",
    "diabetic_glucose = diabetic_group['Glucose']\n",
    "\n",
    "diabetic_glucose\n",
    "\n",
    "#<xml xmlns=\"https://developers.google.com/blockly/xml\"><variables><variable id=\"T!e/=h)qmn7oriZ~}3jJ\">diabetic_glucose</variable><variable id=\"-j!%+%h?k@Nr;b+}Gwaf\">diabetic_group</variable></variables><block type=\"variables_set\" id=\"8C6(ybcG#bWW{sPUAD$F\" x=\"-32\" y=\"163\"><field name=\"VAR\" id=\"T!e/=h)qmn7oriZ~}3jJ\">diabetic_glucose</field><value name=\"VALUE\"><block type=\"indexer_Python\" id=\"(w$UGS:^aFRub!PI9R5s\"><field name=\"VAR\" id=\"-j!%+%h?k@Nr;b+}Gwaf\">diabetic_group</field><value name=\"INDEX\"><block type=\"text\" id=\"j!OSc$*9)Wf|0`sB/1aA\"><field name=\"TEXT\">Glucose</field></block></value></block></value></block><block type=\"variables_get\" id=\"P`PgGC)-y]^koQxlg,Kh\" x=\"-35\" y=\"220\"><field name=\"VAR\" id=\"T!e/=h)qmn7oriZ~}3jJ\">diabetic_glucose</field></block></xml>"
   ]
  },
  {
   "cell_type": "markdown",
   "id": "bd1615d4",
   "metadata": {},
   "source": [
    "##### Calculate Mean of the Glucose level of diabetic people\n",
    "\n",
    "We already have the `Glucose` level of the diabetic people in our `diabetic_glucose` dataframe. Now we will use this to calculate the mean. "
   ]
  },
  {
   "cell_type": "markdown",
   "id": "69c350bc",
   "metadata": {},
   "source": [
    "#!blhint\n",
    "\n",
    "- `with diabetic_glucose do mean using ..` "
   ]
  },
  {
   "cell_type": "markdown",
   "id": "98f9dd58",
   "metadata": {},
   "source": [
    "<details>\n",
    "<summary> Blockly Instructions(click triangle to expand) </summary>\n",
    "<br>\n",
    "\n",
    "- Blocks:    \n",
    "    - From `VARIABLES` block, click the `with diabetic_glucose do ...using...` block. \n",
    "    - From do , select `mean` option.    \n",
    "    - Click on \"Blocks to Code\" at the bottom of the blockly palette.\n",
    "    - Run the python code cell.\n",
    "</details>"
   ]
  },
  {
   "cell_type": "code",
   "execution_count": 20,
   "id": "6937d0f1",
   "metadata": {},
   "outputs": [
    {
     "data": {
      "text/plain": [
       "141.25746268656715"
      ]
     },
     "execution_count": 20,
     "metadata": {},
     "output_type": "execute_result"
    }
   ],
   "source": [
    "#!response\n",
    "diabetic_glucose.mean()\n",
    "\n",
    "#<xml xmlns=\"https://developers.google.com/blockly/xml\"><variables><variable id=\"T!e/=h)qmn7oriZ~}3jJ\">diabetic_glucose</variable></variables><block type=\"varDoMethod_Python\" id=\"sAAwH/R0@#c`XW77G3|;\" x=\"-35\" y=\"184\"><field name=\"VAR\" id=\"T!e/=h)qmn7oriZ~}3jJ\">diabetic_glucose</field><field name=\"MEMBER\">mean</field><data>diabetic_glucose:mean</data></block></xml>"
   ]
  },
  {
   "cell_type": "markdown",
   "id": "62853d53",
   "metadata": {},
   "source": [
    "### Non Diabetic Group Data\n",
    "### Calculate Mean `Glucose` level of Non-Diabetic People."
   ]
  },
  {
   "cell_type": "markdown",
   "id": "ed67bfcb",
   "metadata": {},
   "source": [
    "#### Substep 1: Find the non-diabetic people"
   ]
  },
  {
   "cell_type": "markdown",
   "id": "47d3ac71",
   "metadata": {},
   "source": [
    "To calculate mean `Glucose` level of non-diabetic group we have to filter the non-diabetic people. \n",
    "\n",
    "To do so, from `filtered_diabetes_data` we have to filter the people whose `Outcome` is `0` "
   ]
  },
  {
   "cell_type": "markdown",
   "id": "e462d957",
   "metadata": {},
   "source": [
    "#!blhint\n",
    "- create variable `non_diabetic_group`\n",
    "- `set non_diabetic_group to` &nbsp;:&nbsp; `filtered_diabetes_data [ .. ]` &nbsp;<-&nbsp; ` .. = .. ` &nbsp;<-\n",
    "  - `filtered_diabetes_data [ .. ]` &nbsp;<-&nbsp; `\"Outcome\"` \n",
    "  - `0`\n",
    "- Will look like  `set non_diabetic_group to filtered_diabetes_data [ filtered_diabetes_data [\"Outcome\"] = 0]`\n",
    "- Variable `non_diabetic_group`"
   ]
  },
  {
   "cell_type": "markdown",
   "id": "8a6d7a4c",
   "metadata": {},
   "source": [
    "<details>\n",
    "<summary> Blockly Instructions(click triangle to expand) </summary>\n",
    "<br>\n",
    "    \n",
    "- Notation:\n",
    "    - `A : B` means snap blocks A and B together.\n",
    "    - `A <- B` means insert block B into the hole in block A.\n",
    "- Blocks:\n",
    "    - From `LISTS`, click on `{dictvariable}[]`. Place `filtered_diabetes_data` inplace of `dictvariable`.\n",
    "    - Get a text block `\" \"`. write `Outcome` in the `\" \"` block. drag it inside `filtered_diabetes_data_data`.\n",
    "    - From `LOGIC` block, click on `.. = .. ` block. on the left side of it, put the already created `filtered_diabetes_data[\"Outcome\"]` block.\n",
    "    - On the right side of `=` put a `123` block from `MATH`. Write `0` in it.\n",
    "    - From lists, click on `{dictvariable}[]`. place `filtered_diabetes_data` inplace of `dictvariable`.Put the already created `filtered_diabetes_data[\"Outcome\"]= 0` block inside the new `filtered_diabetes_data[ ]` block.\n",
    "    - Create a variable `non_diabetic_group`.\n",
    "    - From `VARIABLES`click on `set non_diabetic_group to` block and connect to the left of `filtered_diabetes_data` block.\n",
    "    - From `VARIABLES` block, click the `non_diabetic_group` block.    \n",
    "    - Click on \"Blocks to Code\" at the bottom of the blockly palette.\n",
    "    - Run the python code cell.\n",
    "</details>"
   ]
  },
  {
   "cell_type": "code",
   "execution_count": 21,
   "id": "aeae76f7",
   "metadata": {},
   "outputs": [
    {
     "data": {
      "text/html": [
       "<div>\n",
       "<style scoped>\n",
       "    .dataframe tbody tr th:only-of-type {\n",
       "        vertical-align: middle;\n",
       "    }\n",
       "\n",
       "    .dataframe tbody tr th {\n",
       "        vertical-align: top;\n",
       "    }\n",
       "\n",
       "    .dataframe thead th {\n",
       "        text-align: right;\n",
       "    }\n",
       "</style>\n",
       "<table border=\"1\" class=\"dataframe\">\n",
       "  <thead>\n",
       "    <tr style=\"text-align: right;\">\n",
       "      <th></th>\n",
       "      <th>Glucose</th>\n",
       "      <th>BMI</th>\n",
       "      <th>BloodPressure</th>\n",
       "      <th>Outcome</th>\n",
       "    </tr>\n",
       "  </thead>\n",
       "  <tbody>\n",
       "    <tr>\n",
       "      <th>1</th>\n",
       "      <td>85</td>\n",
       "      <td>26.6</td>\n",
       "      <td>66</td>\n",
       "      <td>0</td>\n",
       "    </tr>\n",
       "    <tr>\n",
       "      <th>3</th>\n",
       "      <td>89</td>\n",
       "      <td>28.1</td>\n",
       "      <td>66</td>\n",
       "      <td>0</td>\n",
       "    </tr>\n",
       "    <tr>\n",
       "      <th>5</th>\n",
       "      <td>116</td>\n",
       "      <td>25.6</td>\n",
       "      <td>74</td>\n",
       "      <td>0</td>\n",
       "    </tr>\n",
       "    <tr>\n",
       "      <th>7</th>\n",
       "      <td>115</td>\n",
       "      <td>35.3</td>\n",
       "      <td>0</td>\n",
       "      <td>0</td>\n",
       "    </tr>\n",
       "    <tr>\n",
       "      <th>10</th>\n",
       "      <td>110</td>\n",
       "      <td>37.6</td>\n",
       "      <td>92</td>\n",
       "      <td>0</td>\n",
       "    </tr>\n",
       "    <tr>\n",
       "      <th>...</th>\n",
       "      <td>...</td>\n",
       "      <td>...</td>\n",
       "      <td>...</td>\n",
       "      <td>...</td>\n",
       "    </tr>\n",
       "    <tr>\n",
       "      <th>762</th>\n",
       "      <td>89</td>\n",
       "      <td>22.5</td>\n",
       "      <td>62</td>\n",
       "      <td>0</td>\n",
       "    </tr>\n",
       "    <tr>\n",
       "      <th>763</th>\n",
       "      <td>101</td>\n",
       "      <td>32.9</td>\n",
       "      <td>76</td>\n",
       "      <td>0</td>\n",
       "    </tr>\n",
       "    <tr>\n",
       "      <th>764</th>\n",
       "      <td>122</td>\n",
       "      <td>36.8</td>\n",
       "      <td>70</td>\n",
       "      <td>0</td>\n",
       "    </tr>\n",
       "    <tr>\n",
       "      <th>765</th>\n",
       "      <td>121</td>\n",
       "      <td>26.2</td>\n",
       "      <td>72</td>\n",
       "      <td>0</td>\n",
       "    </tr>\n",
       "    <tr>\n",
       "      <th>767</th>\n",
       "      <td>93</td>\n",
       "      <td>30.4</td>\n",
       "      <td>70</td>\n",
       "      <td>0</td>\n",
       "    </tr>\n",
       "  </tbody>\n",
       "</table>\n",
       "<p>500 rows × 4 columns</p>\n",
       "</div>"
      ],
      "text/plain": [
       "     Glucose   BMI  BloodPressure  Outcome\n",
       "1         85  26.6             66        0\n",
       "3         89  28.1             66        0\n",
       "5        116  25.6             74        0\n",
       "7        115  35.3              0        0\n",
       "10       110  37.6             92        0\n",
       "..       ...   ...            ...      ...\n",
       "762       89  22.5             62        0\n",
       "763      101  32.9             76        0\n",
       "764      122  36.8             70        0\n",
       "765      121  26.2             72        0\n",
       "767       93  30.4             70        0\n",
       "\n",
       "[500 rows x 4 columns]"
      ]
     },
     "execution_count": 21,
     "metadata": {},
     "output_type": "execute_result"
    }
   ],
   "source": [
    "#!response\n",
    "non_diabetic_group = filtered_diabetes_data[(filtered_diabetes_data['Outcome'] == 0)]\n",
    "\n",
    "non_diabetic_group\n",
    "\n",
    "#<xml xmlns=\"https://developers.google.com/blockly/xml\"><variables><variable id=\"M9H!hB9+1a@!M=OTH=sA\">non_diabetic_group</variable><variable id=\"wX:5mYpBrl4^ZDxEo5-%\">filtered_diabetes_data</variable></variables><block type=\"variables_set\" id=\"g{h3_en-1!AYbP]A:~K1\" x=\"-96\" y=\"56\"><field name=\"VAR\" id=\"M9H!hB9+1a@!M=OTH=sA\">non_diabetic_group</field><value name=\"VALUE\"><block type=\"indexer_Python\" id=\"!rT[@z5?1N~^{$|Oh~LK\"><field name=\"VAR\" id=\"wX:5mYpBrl4^ZDxEo5-%\">filtered_diabetes_data</field><value name=\"INDEX\"><block type=\"logic_compare\" id=\"dN!SD:7ey/YUo#kzcX5o\"><field name=\"OP\">EQ</field><value name=\"A\"><block type=\"indexer_Python\" id=\":GL(=$p{o__v+#k/;l7#\"><field name=\"VAR\" id=\"wX:5mYpBrl4^ZDxEo5-%\">filtered_diabetes_data</field><value name=\"INDEX\"><block type=\"text\" id=\"16}fZ_A=?iWX(n{9-s5K\"><field name=\"TEXT\">Outcome</field></block></value></block></value><value name=\"B\"><block type=\"math_number\" id=\"6I:-j*aYMN`F)27F~Ld_\"><field name=\"NUM\">0</field></block></value></block></value></block></value></block><block type=\"variables_get\" id=\"m[S`w~)^b+tH4j?ZUW`$\" x=\"-85\" y=\"166\"><field name=\"VAR\" id=\"M9H!hB9+1a@!M=OTH=sA\">non_diabetic_group</field></block></xml>"
   ]
  },
  {
   "cell_type": "markdown",
   "id": "1c61aaaa",
   "metadata": {},
   "source": [
    "#### Substep 2: Calculate Mean `Glucose` Level of Non-Diabetic People.\n",
    "\n",
    "Now we want to calculate mean `Glucose` level of non-diabetic people.\n",
    "\n",
    "But for that first we have to select the `Glucose` column of the `non_diabetic_group` dataframe."
   ]
  },
  {
   "cell_type": "markdown",
   "id": "2ea6ff3b",
   "metadata": {},
   "source": [
    "#!blhint\n",
    "\n",
    "- Create variable `non_diabetic_glucose`\n",
    "- `set non_diabetic_glucose to` : `non_diabetic_group [ .. ]` &nbsp;<-&nbsp; `\"Glucose\"` \n",
    "- Variable `non_diabetic_glucose`"
   ]
  },
  {
   "cell_type": "markdown",
   "id": "7e64b957",
   "metadata": {},
   "source": [
    "<details>\n",
    "<summary> Blockly Instructions(click triangle to expand) </summary>\n",
    "<br>\n",
    "\n",
    "- Notation:\n",
    "    - `A : B` means snap blocks A and B together.\n",
    "    - `A <- B` means insert block B into the hole in block A.\n",
    "- Blocks:\n",
    "    - From `LISTS`, click on `{dictvariable}[]`. place `non_diabetic_group` inplace of `dictvariable`.\n",
    "    - Get a text block `\" \"`. Write `Glucose` in the `\" \"` block. drag it inside `non_diabetic_group[ ]`.\n",
    "    - Create a variable `non_diabetic_glucose` in `VARIABLES`.\n",
    "    - From `VARIABLES` click on `set non_diabetic_glucose to` and connect to the left of the already created `non_diabetic_group[\"Glucose\"]` block.\n",
    "    - From `VARIABLES` block, click the `non_diabetic_glucose` block.\n",
    "    - Click on \"Blocks to Code\" at the bottom of the blockly palette.\n",
    "    - Run the python code cell.\n",
    "</details>"
   ]
  },
  {
   "cell_type": "code",
   "execution_count": 22,
   "id": "dada4a5d",
   "metadata": {},
   "outputs": [
    {
     "data": {
      "text/plain": [
       "1       85\n",
       "3       89\n",
       "5      116\n",
       "7      115\n",
       "10     110\n",
       "      ... \n",
       "762     89\n",
       "763    101\n",
       "764    122\n",
       "765    121\n",
       "767     93\n",
       "Name: Glucose, Length: 500, dtype: int64"
      ]
     },
     "execution_count": 22,
     "metadata": {},
     "output_type": "execute_result"
    }
   ],
   "source": [
    "#!response\n",
    "non_diabetic_glucose = non_diabetic_group['Glucose']\n",
    "\n",
    "non_diabetic_glucose\n",
    "\n",
    "#<xml xmlns=\"https://developers.google.com/blockly/xml\"><variables><variable id=\"(s7PL|9hv]S%=gt6.Lgn\">non_diabetic_glucose</variable><variable id=\"M9H!hB9+1a@!M=OTH=sA\">non_diabetic_group</variable></variables><block type=\"variables_set\" id=\"7rjVuhFr6y.PX6/F!FtR\" x=\"-96\" y=\"123\"><field name=\"VAR\" id=\"(s7PL|9hv]S%=gt6.Lgn\">non_diabetic_glucose</field><value name=\"VALUE\"><block type=\"indexer_Python\" id=\"BEZbK**=g.v5Kv.T!OmT\"><field name=\"VAR\" id=\"M9H!hB9+1a@!M=OTH=sA\">non_diabetic_group</field><value name=\"INDEX\"><block type=\"text\" id=\"8^bv_HfEjp=7@-IoptF+\"><field name=\"TEXT\">Glucose</field></block></value></block></value></block><block type=\"variables_get\" id=\"wmFMDj$~}t#q/=SZ]{Rj\" x=\"-96\" y=\"199\"><field name=\"VAR\" id=\"(s7PL|9hv]S%=gt6.Lgn\">non_diabetic_glucose</field></block></xml>"
   ]
  },
  {
   "cell_type": "markdown",
   "id": "5cdadb02",
   "metadata": {},
   "source": [
    "##### Calculate Mean of the Glucose level of non-diabetic people\n",
    "\n",
    "We already have the `Glucose` level of the non-diabetic people in our `non_diabetic_glucose` dataframe. Now we will use this to calculate the mean. "
   ]
  },
  {
   "cell_type": "markdown",
   "id": "b54bf8fb",
   "metadata": {},
   "source": [
    "#!blhint\n",
    "\n",
    "- `with non_diabetic_glucose do mean using ..`"
   ]
  },
  {
   "cell_type": "markdown",
   "id": "6f431d7b",
   "metadata": {},
   "source": [
    "<details>\n",
    "<summary> Blockly Instructions(click triangle to expand) </summary>\n",
    "<br>\n",
    "\n",
    "- Blocks:    \n",
    "    - From `VARIABLES` block, click the `with non_diabetic_glucose do ...using...` block. \n",
    "    - From do , select `mean` option.    \n",
    "    - Click on \"Blocks to Code\" at the bottom of the blockly palette.\n",
    "    - Run the python code cell.\n",
    "</details>"
   ]
  },
  {
   "cell_type": "code",
   "execution_count": 23,
   "id": "125073d6",
   "metadata": {},
   "outputs": [
    {
     "data": {
      "text/plain": [
       "109.98"
      ]
     },
     "execution_count": 23,
     "metadata": {},
     "output_type": "execute_result"
    }
   ],
   "source": [
    "#!response\n",
    "non_diabetic_glucose.mean()\n",
    "\n",
    "#<xml xmlns=\"https://developers.google.com/blockly/xml\"><variables><variable id=\"(s7PL|9hv]S%=gt6.Lgn\">non_diabetic_glucose</variable></variables><block type=\"varDoMethod_Python\" id=\"r(BqAiZ!Ka,Y:mY:#z{J\" x=\"-104\" y=\"184\"><field name=\"VAR\" id=\"(s7PL|9hv]S%=gt6.Lgn\">non_diabetic_glucose</field><field name=\"MEMBER\">mean</field><data>non_diabetic_glucose:mean</data></block></xml>"
   ]
  },
  {
   "cell_type": "markdown",
   "id": "06a1842f",
   "metadata": {},
   "source": [
    "### What are the mean glucose level for both the diabetic and non-diabetic groups?"
   ]
  },
  {
   "cell_type": "markdown",
   "id": "5420e33a",
   "metadata": {},
   "source": [
    "#!response\n",
    "\n",
    "Ans:"
   ]
  }
 ],
 "metadata": {
  "kernelspec": {
   "display_name": "Python 3 (ipykernel)",
   "language": "python",
   "name": "python3"
  },
  "language_info": {
   "codemirror_mode": {
    "name": "ipython",
    "version": 3
   },
   "file_extension": ".py",
   "mimetype": "text/x-python",
   "name": "python",
   "nbconvert_exporter": "python",
   "pygments_lexer": "ipython3",
   "version": "3.10.10"
  }
 },
 "nbformat": 4,
 "nbformat_minor": 5
}
