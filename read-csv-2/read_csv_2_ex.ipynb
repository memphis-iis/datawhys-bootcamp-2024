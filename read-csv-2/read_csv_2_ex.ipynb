{
 "cells": [
  {
   "cell_type": "markdown",
   "id": "a37f749d",
   "metadata": {},
   "source": [
    "# Exploring Dataset\n",
    "\n"
   ]
  },
  {
   "cell_type": "markdown",
   "id": "82eaa621",
   "metadata": {},
   "source": [
    "Lets go into further analysis for our dataset. First as a review, lets read the `gre_data.csv` from previous day and view the stored data. "
   ]
  },
  {
   "cell_type": "markdown",
   "id": "81513414",
   "metadata": {},
   "source": [
    "## Read CSV Data into Pandas Dataframe"
   ]
  },
  {
   "cell_type": "markdown",
   "id": "7ab2944f",
   "metadata": {},
   "source": [
    "### Import Pandas Library"
   ]
  },
  {
   "cell_type": "markdown",
   "id": "690c9046",
   "metadata": {},
   "source": [
    "#!blhint\n",
    "\n",
    "- Create variable &nbsp;`pd`\n",
    "- `import pandas as pd`"
   ]
  },
  {
   "cell_type": "markdown",
   "id": "a2ac9b16",
   "metadata": {},
   "source": [
    "Here's how:\n",
    "\n",
    "1. From IMPORT, grab `import .. as ..`\n",
    "2. Replace text `some library` with `pandas`\n",
    "3. From VARIABLES, click `Create Variable...`, enter `pd`, click OK\n",
    "4. Select `pd` from `variable name` dropdown in `import .. as ..`\n",
    "5. Click Blocks to Code and run cell"
   ]
  },
  {
   "cell_type": "markdown",
   "id": "ea6d88d3",
   "metadata": {},
   "source": [
    "<br><details><summary>Blockly Hints(Click on triangle to expand)</summary><ul><li>Blocks<ul><li><code>import .. as ..</code><ul><li>The <code>import .. as ..</code> block is found under IMPORT.</li> <li>A variable must have been created before it will appear in the dropdown.</li></ul></li></ul></li></ul></details>"
   ]
  },
  {
   "cell_type": "code",
   "execution_count": 1,
   "id": "d303bfd0",
   "metadata": {},
   "outputs": [],
   "source": [
    "import pandas as pd\n",
    "\n"
   ]
  },
  {
   "cell_type": "markdown",
   "id": "242c5d79",
   "metadata": {},
   "source": [
    "### Substep: Read CSV data and Save in Variable"
   ]
  },
  {
   "cell_type": "markdown",
   "id": "60a2599f",
   "metadata": {},
   "source": [
    "#!blhint\n",
    "\n",
    "- Create variable &nbsp;`gredata`\n",
    "- `set gredata to` &nbsp;:&nbsp; `with pd do read_csv using` &nbsp;<-&nbsp; `\" datasets/gre_data.csv \"`"
   ]
  },
  {
   "cell_type": "markdown",
   "id": "0a2f80e5",
   "metadata": {},
   "source": [
    "Here's how:\n",
    "\n",
    "1. From VARIABLES, grab `with .. do .. using ..`\n",
    "2. Make sure `gredata` is selected in dropdown after with\n",
    "3. Select `read_csv` from dropdown after do\n",
    "4. From TEXT, grab `\" .. \"`\n",
    "5. Type `datasets/gre_data.csv` into `\" .. \"`\n",
    "6. Drag the `\" .. \"` into the space after using in `with .. do .. using ..`\n",
    "7. From VARIABLES, click `Create Variable...`, enter `gredata`, click OK\n",
    "8. From VARIABLES, grab `set .. to`\n",
    "9. Change dropdown after set to `gredata`\n",
    "10. Connect `set .. to` and `with .. do .. using ..`\n",
    "11. Click Blocks to Code and run cell"
   ]
  },
  {
   "cell_type": "markdown",
   "id": "e032bbf1",
   "metadata": {},
   "source": [
    "<br><details><summary>Blockly Hints( click on triangle to expand)</summary><ul><li>Notation<ul><li><code>A</code> &nbsp;:&nbsp; <code>B</code>&nbsp; means snap blocks A and B together.</li><li><code>A</code> &nbsp;&lt;-&nbsp; <code>B</code>&nbsp; means insert block B into the hole in block A.</li></ul></li><li>Blocks<ul><li><code>set .. to</code><ul><li>The <code>set .. to</code> block is found under VARIABLES.</li> <li>A variable must have been created before it will appear in the dropdown.</li></ul></li><li><code>with .. do .. using ..</code><ul><li>The <code>with .. do .. using ..</code> block is found under VARIABLES.</li> <li>If <code>do</code> dropdown says \"!Not populated until you execute code\", click anywhere in the notebook tab, then click try \"Run All Above Selected Cell\" from the \"Run\" menu.</li> <li>If <code>with .. do .. using ..</code> block does not want to snap together nicely with the <code>set .. to</code> block, try dragging the <code>set .. to</code> block instead.</li></ul></li><li><code>\" .. \"</code><ul><li>The <code>\" .. \"</code> block is found under TEXT.</li></ul></li></ul></li></ul></details>"
   ]
  },
  {
   "cell_type": "code",
   "execution_count": 2,
   "id": "0a02b063",
   "metadata": {},
   "outputs": [],
   "source": [
    "gredata = pd.read_csv('datasets/gre_data.csv')\n",
    "\n"
   ]
  },
  {
   "cell_type": "markdown",
   "id": "51084208",
   "metadata": {},
   "source": [
    "### Display Dataframe Contents"
   ]
  },
  {
   "cell_type": "markdown",
   "id": "0f017ff4",
   "metadata": {},
   "source": [
    "#!blhint\n",
    "\n",
    "- variable &nbsp;`gredata`"
   ]
  },
  {
   "cell_type": "markdown",
   "id": "48fc3861",
   "metadata": {},
   "source": [
    "Here's how:\n",
    "\n",
    "1. From VARIABLES, grab `gredata`\n",
    "2. Click Blocks to Code and run cell"
   ]
  },
  {
   "cell_type": "markdown",
   "id": "0800fca5",
   "metadata": {},
   "source": [
    "<br>\n",
    "<details>\n",
    "    <summary>Blockly Hints (Click on triangle to expand) </summary>\n",
    "    <ul>\n",
    "        <li>Blocks\n",
    "            <ul>\n",
    "                <li>variable\n",
    "                    <ul>\n",
    "                        <li>After it is created, each variable has its own block at the end of the VARIABLES menu.</li>\n",
    "                    </ul>\n",
    "                </li>\n",
    "            </ul>\n",
    "        </li>\n",
    "    </ul>\n",
    "</details>"
   ]
  },
  {
   "cell_type": "code",
   "execution_count": 3,
   "id": "776ed475",
   "metadata": {},
   "outputs": [
    {
     "data": {
      "text/html": [
       "<div>\n",
       "<style scoped>\n",
       "    .dataframe tbody tr th:only-of-type {\n",
       "        vertical-align: middle;\n",
       "    }\n",
       "\n",
       "    .dataframe tbody tr th {\n",
       "        vertical-align: top;\n",
       "    }\n",
       "\n",
       "    .dataframe thead th {\n",
       "        text-align: right;\n",
       "    }\n",
       "</style>\n",
       "<table border=\"1\" class=\"dataframe\">\n",
       "  <thead>\n",
       "    <tr style=\"text-align: right;\">\n",
       "      <th></th>\n",
       "      <th>GRE</th>\n",
       "      <th>GPA</th>\n",
       "      <th>Gender</th>\n",
       "    </tr>\n",
       "  </thead>\n",
       "  <tbody>\n",
       "    <tr>\n",
       "      <th>0</th>\n",
       "      <td>316</td>\n",
       "      <td>3.40</td>\n",
       "      <td>M</td>\n",
       "    </tr>\n",
       "    <tr>\n",
       "      <th>1</th>\n",
       "      <td>308</td>\n",
       "      <td>3.10</td>\n",
       "      <td>M</td>\n",
       "    </tr>\n",
       "    <tr>\n",
       "      <th>2</th>\n",
       "      <td>327</td>\n",
       "      <td>3.70</td>\n",
       "      <td>F</td>\n",
       "    </tr>\n",
       "    <tr>\n",
       "      <th>3</th>\n",
       "      <td>310</td>\n",
       "      <td>3.33</td>\n",
       "      <td>F</td>\n",
       "    </tr>\n",
       "    <tr>\n",
       "      <th>4</th>\n",
       "      <td>305</td>\n",
       "      <td>3.45</td>\n",
       "      <td>M</td>\n",
       "    </tr>\n",
       "    <tr>\n",
       "      <th>5</th>\n",
       "      <td>322</td>\n",
       "      <td>3.18</td>\n",
       "      <td>F</td>\n",
       "    </tr>\n",
       "    <tr>\n",
       "      <th>6</th>\n",
       "      <td>316</td>\n",
       "      <td>3.25</td>\n",
       "      <td>M</td>\n",
       "    </tr>\n",
       "    <tr>\n",
       "      <th>7</th>\n",
       "      <td>300</td>\n",
       "      <td>3.40</td>\n",
       "      <td>F</td>\n",
       "    </tr>\n",
       "    <tr>\n",
       "      <th>8</th>\n",
       "      <td>310</td>\n",
       "      <td>3.60</td>\n",
       "      <td>F</td>\n",
       "    </tr>\n",
       "  </tbody>\n",
       "</table>\n",
       "</div>"
      ],
      "text/plain": [
       "   GRE   GPA Gender\n",
       "0  316  3.40      M\n",
       "1  308  3.10      M\n",
       "2  327  3.70      F\n",
       "3  310  3.33      F\n",
       "4  305  3.45      M\n",
       "5  322  3.18      F\n",
       "6  316  3.25      M\n",
       "7  300  3.40      F\n",
       "8  310  3.60      F"
      ]
     },
     "execution_count": 3,
     "metadata": {},
     "output_type": "execute_result"
    }
   ],
   "source": [
    "gredata\n",
    "\n"
   ]
  },
  {
   "cell_type": "markdown",
   "id": "c3aadc2c",
   "metadata": {},
   "source": [
    "## Know the dataset\n",
    "### Find the Columns(features) in the dataset\n"
   ]
  },
  {
   "cell_type": "markdown",
   "id": "74647b71",
   "metadata": {},
   "source": [
    "Usually, before starting working in a dataset, we need to know the features (columns) in it. To know the columns, we do the following: "
   ]
  },
  {
   "cell_type": "markdown",
   "id": "7c759ba0",
   "metadata": {},
   "source": [
    "#!blhint\n",
    "\n",
    "- variable &nbsp;`from gredata get columns`"
   ]
  },
  {
   "cell_type": "markdown",
   "id": "dd5adcff",
   "metadata": {},
   "source": [
    "Here's how:\n",
    "\n",
    "1. From VARIABLES, grab `from .. get .. `\n",
    "2. Make sure `gredata` is selected in dropdown after `from`\n",
    "3. Select `columns` from dropdown after `get`\n",
    "4. Click on \"Blocks to Code\" at the bottom of the blockly palette.\n",
    "5. Run the python code cell."
   ]
  },
  {
   "cell_type": "markdown",
   "id": "6955b4f0",
   "metadata": {},
   "source": [
    "<details>\n",
    "<summary> Blockly Instructions(click triangle to expand) </summary>\n",
    "<br>\n",
    "                       \n",
    "- `from.. get..` block can be found in VARIABLES menu of Blockly palette.\n",
    "- A variable must have been created before it will appear in the dropdown.\n",
    "- If dropdown says \"!Not populated until you execute code\", click anywhere in the notebook tab, then click try \"Run All Above Selected Cell\" from the \"Run\" menu.\n",
    "\n",
    "</details>\n",
    "\n"
   ]
  },
  {
   "cell_type": "code",
   "execution_count": 4,
   "id": "a0be31e3",
   "metadata": {},
   "outputs": [
    {
     "data": {
      "text/plain": [
       "Index(['GRE', 'GPA', 'Gender'], dtype='object')"
      ]
     },
     "execution_count": 4,
     "metadata": {},
     "output_type": "execute_result"
    }
   ],
   "source": [
    "gredata.columns\n",
    "\n"
   ]
  },
  {
   "cell_type": "markdown",
   "id": "30dc6e95",
   "metadata": {},
   "source": [
    "### Find the size of the dataset\n"
   ]
  },
  {
   "cell_type": "markdown",
   "id": "b3c72ba4",
   "metadata": {},
   "source": [
    "Sometimes, we need to know the size (number of rows and columns) of the dataset for analysis convenience. We can know the size of the dataset (rows and columns) by using the `shape` method."
   ]
  },
  {
   "cell_type": "markdown",
   "id": "210653f5",
   "metadata": {},
   "source": [
    "#!blhint\n",
    "\n",
    "- variable &nbsp;`from gredata get shape`"
   ]
  },
  {
   "cell_type": "markdown",
   "id": "37f9cc89",
   "metadata": {},
   "source": [
    "Here's how:\n",
    "\n",
    "1. From VARIABLES, grab `from .. get .. `\n",
    "2. Make sure `gredata` is selected in dropdown after `from`\n",
    "3. Select `shape` from dropdown after `get`\n",
    "4. Click on \"Blocks to Code\" at the bottom of the blockly palette.\n",
    "5. Run the python code cell."
   ]
  },
  {
   "cell_type": "markdown",
   "id": "cc1fe23f",
   "metadata": {},
   "source": [
    "<details>\n",
    "<summary> Blockly hints(click triangle to expand) </summary>\n",
    "<br>\n",
    "\n",
    "- A variable must have been created before it will appear in the dropdown.\n",
    "- If dropdown says \"!Not populated until you execute code\", click anywhere in the notebook tab, then click try \"Run All Above Selected Cell\" from the \"Run\" menu.\n",
    "\n",
    "</details>"
   ]
  },
  {
   "cell_type": "code",
   "execution_count": 5,
   "id": "2a364f65",
   "metadata": {},
   "outputs": [
    {
     "data": {
      "text/plain": [
       "(9, 3)"
      ]
     },
     "execution_count": 5,
     "metadata": {},
     "output_type": "execute_result"
    }
   ],
   "source": [
    "gredata.shape\n",
    "\n"
   ]
  },
  {
   "cell_type": "markdown",
   "id": "2a6e77e6",
   "metadata": {},
   "source": [
    "### Selecting specific data in a dataset\n",
    "\n",
    "We can use the dataframe data mainly in 2 ways\n",
    " - Row wise\n",
    " - Column wise   \n",
    " "
   ]
  },
  {
   "cell_type": "markdown",
   "id": "024a50b1",
   "metadata": {},
   "source": [
    "#### Row access\n",
    "In some cases, we might need to access some range of row data but not all the rows. In order to access the row wise data using the blockly palette, we use the following steps:"
   ]
  },
  {
   "cell_type": "markdown",
   "id": "fd214335",
   "metadata": {},
   "source": [
    "#!blhint\n",
    "\n",
    "- variable &nbsp;`in list gredata get sub-list from first to` <- `3`"
   ]
  },
  {
   "cell_type": "markdown",
   "id": "93f2e668",
   "metadata": {},
   "source": [
    "Here's how:\n",
    "\n",
    "1. From LISTS, grab `in list {listVariable} get sub-list from #[..] to #[..]`\n",
    "2. Next Click on the `{listVariable}` drpdown and change it to `gredata`\n",
    "3. Click on the first `#` drpdown which is located after `get sub-list from` and change it to `first`\n",
    "4. From MATH menu, grab a number block `123` and put in the the empty block `[..]` which is located after the second`#`\n",
    "5. Change the value of the number block `123` to `3`\n",
    "6. Click on \"Blocks to Code\" at the bottom of the blockly palette.\n",
    "7. Run the python code cell.\n"
   ]
  },
  {
   "cell_type": "markdown",
   "id": "6b700044",
   "metadata": {},
   "source": [
    "<details>\n",
    "    <summary>Blockly Hints (Click the triangle to expand)\n",
    "    </summary>\n",
    "    <ul>\n",
    "        <li>Notation\n",
    "            <ul>\n",
    "                <li>\n",
    "                <code>A</code> &nbsp;:&nbsp; <code>B</code>&nbsp; means snap blocks A and B together.\n",
    "                </li>\n",
    "                <li>\n",
    "                <code>A</code> &nbsp;&lt;-&nbsp; <code>B</code>&nbsp; means insert block B into the hole in block A.\n",
    "                </li>\n",
    "            </ul>\n",
    "        </li>\n",
    "        <li>Blocks\n",
    "            <ul>\n",
    "                <li>\n",
    "                    <code> in list {listVariable} get sub-list from #[..] to # [..]</code>\n",
    "                    <ul>\n",
    "                        <li>\n",
    "                            The <code>in list {listVariable} get sub-list from # [..]to # [..]</code> block is found under LISTS.\n",
    "                        </li>\n",
    "                    </ul>\n",
    "                </li>\n",
    "                <li>\n",
    "                    <code>123</code>\n",
    "                    <ul>\n",
    "                        <li>\n",
    "                            The <code>123</code> block is found under MATH.\n",
    "                        </li> \n",
    "                    </ul>\n",
    "                </li>\n",
    "                <li>\n",
    "                    If <code>{listVariable}</code>  dropdown says \"!Not populated until you execute code\", click anywhere in the notebook tab, then click try \"Run All Above Selected Cell\" from the \"Run\" menu.</li>\n",
    "            </ul>\n",
    "        </li>\n",
    "    </ul>\n",
    "</details> "
   ]
  },
  {
   "cell_type": "code",
   "execution_count": 6,
   "id": "b9cdc262",
   "metadata": {},
   "outputs": [
    {
     "data": {
      "text/html": [
       "<div>\n",
       "<style scoped>\n",
       "    .dataframe tbody tr th:only-of-type {\n",
       "        vertical-align: middle;\n",
       "    }\n",
       "\n",
       "    .dataframe tbody tr th {\n",
       "        vertical-align: top;\n",
       "    }\n",
       "\n",
       "    .dataframe thead th {\n",
       "        text-align: right;\n",
       "    }\n",
       "</style>\n",
       "<table border=\"1\" class=\"dataframe\">\n",
       "  <thead>\n",
       "    <tr style=\"text-align: right;\">\n",
       "      <th></th>\n",
       "      <th>GRE</th>\n",
       "      <th>GPA</th>\n",
       "      <th>Gender</th>\n",
       "    </tr>\n",
       "  </thead>\n",
       "  <tbody>\n",
       "    <tr>\n",
       "      <th>0</th>\n",
       "      <td>316</td>\n",
       "      <td>3.4</td>\n",
       "      <td>M</td>\n",
       "    </tr>\n",
       "    <tr>\n",
       "      <th>1</th>\n",
       "      <td>308</td>\n",
       "      <td>3.1</td>\n",
       "      <td>M</td>\n",
       "    </tr>\n",
       "    <tr>\n",
       "      <th>2</th>\n",
       "      <td>327</td>\n",
       "      <td>3.7</td>\n",
       "      <td>F</td>\n",
       "    </tr>\n",
       "  </tbody>\n",
       "</table>\n",
       "</div>"
      ],
      "text/plain": [
       "   GRE  GPA Gender\n",
       "0  316  3.4      M\n",
       "1  308  3.1      M\n",
       "2  327  3.7      F"
      ]
     },
     "execution_count": 6,
     "metadata": {},
     "output_type": "execute_result"
    }
   ],
   "source": [
    "gredata[ : 3]\n",
    "\n"
   ]
  },
  {
   "cell_type": "markdown",
   "id": "1eabb93c",
   "metadata": {},
   "source": [
    "As you can see, the output is only the first 3 row of the dataframe (index 0,1,2)."
   ]
  },
  {
   "cell_type": "markdown",
   "id": "b5d85d8e",
   "metadata": {},
   "source": [
    "#### Selecting a single column from dataframe"
   ]
  },
  {
   "cell_type": "markdown",
   "id": "063c3f85",
   "metadata": {},
   "source": [
    "Unlike rows, dataset columns have their own names(see the column names above). The values under a column are presented as a list. So we can think of a column as a list of values.\n",
    "\n",
    "First , lets create a list by using blockly."
   ]
  },
  {
   "cell_type": "markdown",
   "id": "4cdc2d75",
   "metadata": {},
   "source": [
    "#!blhint\n",
    "\n",
    "`gredata [ .. ]` &nbsp;<-&nbsp; `create list with` &nbsp;:\n",
    "  - `\"GPA\"`"
   ]
  },
  {
   "cell_type": "markdown",
   "id": "018012e2",
   "metadata": {},
   "source": [
    "Here's how:\n",
    "1. Using the LISTS menu in the Blockly palette, click on `create empty list`.\n",
    "2. Then click on the + sign of `create empty list` which will change it into `+ - create list with` \n",
    "3. To add an element to the list, drag a text block `\"..\"` from the TEXT menu and connect it after `+ - create list with`block.\n",
    "4. Inside the text block , write `GPA`.\n",
    "5. Using the LISTS menu in the Blockly palette, grab `{dictVariable}[..]` block and connect it by putting it before the `+ - create list with \"GPA\"` block\n",
    "6. Click on the dropdown `{dictVariable}` and change `{dictVariable}` to `gredata`\n",
    "7. Click on \"Blocks to Code\" at the bottom of the blockly palette.    \n",
    "8. Run the python code cell.    "
   ]
  },
  {
   "cell_type": "markdown",
   "id": "40c58d0d",
   "metadata": {},
   "source": [
    "<details><summary>Blockly Hints (Click the triangle to expand)</summary><ul><li>Notation<ul><li><code>A</code> &nbsp;:&nbsp; <code>B</code>&nbsp; means snap blocks A and B together.</li><li><code>A</code> &nbsp;&lt;-&nbsp; <code>B</code>&nbsp; means insert block B into the hole in block A.</li></ul></li><li>Blocks<ul><li><code>\\{dictVariable\\} [ .. ]</code><ul><li>The <code>\\{dictVariable\\} [ .. ]</code> block is found under LISTS.</li></ul></li><li><code>create list with</code><ul><li>The <code>create list with</code> block is found under LISTS.</li> <li>You can use the <code>+ -</code> controls on the block to change the number of notches. Unless specifically instructed, the block should not have any empty notches when you click Blocks to Code. </li></ul></li><li><code>\" .. \"</code><ul><li>The <code>\" .. \"</code> block is found under TEXT.</li></ul></li></ul></li></ul></details> "
   ]
  },
  {
   "cell_type": "code",
   "execution_count": 7,
   "id": "9cdb55d5",
   "metadata": {},
   "outputs": [
    {
     "data": {
      "text/html": [
       "<div>\n",
       "<style scoped>\n",
       "    .dataframe tbody tr th:only-of-type {\n",
       "        vertical-align: middle;\n",
       "    }\n",
       "\n",
       "    .dataframe tbody tr th {\n",
       "        vertical-align: top;\n",
       "    }\n",
       "\n",
       "    .dataframe thead th {\n",
       "        text-align: right;\n",
       "    }\n",
       "</style>\n",
       "<table border=\"1\" class=\"dataframe\">\n",
       "  <thead>\n",
       "    <tr style=\"text-align: right;\">\n",
       "      <th></th>\n",
       "      <th>GPA</th>\n",
       "    </tr>\n",
       "  </thead>\n",
       "  <tbody>\n",
       "    <tr>\n",
       "      <th>0</th>\n",
       "      <td>3.40</td>\n",
       "    </tr>\n",
       "    <tr>\n",
       "      <th>1</th>\n",
       "      <td>3.10</td>\n",
       "    </tr>\n",
       "    <tr>\n",
       "      <th>2</th>\n",
       "      <td>3.70</td>\n",
       "    </tr>\n",
       "    <tr>\n",
       "      <th>3</th>\n",
       "      <td>3.33</td>\n",
       "    </tr>\n",
       "    <tr>\n",
       "      <th>4</th>\n",
       "      <td>3.45</td>\n",
       "    </tr>\n",
       "    <tr>\n",
       "      <th>5</th>\n",
       "      <td>3.18</td>\n",
       "    </tr>\n",
       "    <tr>\n",
       "      <th>6</th>\n",
       "      <td>3.25</td>\n",
       "    </tr>\n",
       "    <tr>\n",
       "      <th>7</th>\n",
       "      <td>3.40</td>\n",
       "    </tr>\n",
       "    <tr>\n",
       "      <th>8</th>\n",
       "      <td>3.60</td>\n",
       "    </tr>\n",
       "  </tbody>\n",
       "</table>\n",
       "</div>"
      ],
      "text/plain": [
       "    GPA\n",
       "0  3.40\n",
       "1  3.10\n",
       "2  3.70\n",
       "3  3.33\n",
       "4  3.45\n",
       "5  3.18\n",
       "6  3.25\n",
       "7  3.40\n",
       "8  3.60"
      ]
     },
     "execution_count": 7,
     "metadata": {},
     "output_type": "execute_result"
    }
   ],
   "source": [
    "gredata[['GPA']]\n",
    "\n"
   ]
  },
  {
   "cell_type": "markdown",
   "id": "a0510faa",
   "metadata": {},
   "source": [
    "#### Selecting multiple columns from dataframe "
   ]
  },
  {
   "cell_type": "markdown",
   "id": "a218b263",
   "metadata": {},
   "source": [
    "Just like selecting multiple rows, we can also select multiple columns from a datframe.\n",
    "\n",
    "For selecting multiple columns, we follow the same process as selecting a single column."
   ]
  },
  {
   "cell_type": "markdown",
   "id": "77944201",
   "metadata": {},
   "source": [
    "#!blhint\n",
    "\n",
    "`gredata [ .. ]` &nbsp;<-&nbsp; `create list with` &nbsp;:\n",
    "  - `\"GPA\"`\n",
    "  - `\"GRE\"`"
   ]
  },
  {
   "cell_type": "markdown",
   "id": "1a81c4d4",
   "metadata": {},
   "source": [
    "Here's how:\n",
    "1. Using the LISTS menu in the Blockly palette, click on `create empty list`.\n",
    "2. Then click twice on the + sign of `create empty list` which will change it into `+ - create list with` \n",
    "3. To add two element to the list, drag two text blocks `\"..\"` from the TEXT menu and connect each of them after `+ - create list with`block.\n",
    "4. Inside one text block \"..\" , write `GPA` and write `GRE` for the other\n",
    "5. Using the LISTS menu in the Blockly palette, grab `{dictVariable}[..]` block and connect it by putting it before the `+ - create list with \"GPA\" \"GRE\"` block\n",
    "6. Click on the dropdown `{dictVariable}` and change `{dictVariable}` to `gredata`\n",
    "7. Click on \"Blocks to Code\" at the bottom of the blockly palette.    \n",
    "8. Run the python code cell."
   ]
  },
  {
   "cell_type": "markdown",
   "id": "ce59e5d8",
   "metadata": {},
   "source": [
    "<details><summary>Blockly Hints (Click the triangle to expand)</summary><ul><li>Notation<ul><li><code>A</code> &nbsp;:&nbsp; <code>B</code>&nbsp; means snap blocks A and B together.</li><li><code>A</code> &nbsp;&lt;-&nbsp; <code>B</code>&nbsp; means insert block B into the hole in block A.</li></ul></li><li>Blocks<ul><li><code>\\{dictVariable\\} [ .. ]</code><ul><li>The <code>\\{dictVariable\\} [ .. ]</code> block is found under LISTS.</li></ul></li><li><code>create list with</code><ul><li>The <code>create list with</code> block is found under LISTS.</li> <li>You can use the <code>+ -</code> controls on the block to change the number of notches. Unless specifically instructed, the block should not have any empty notches when you click Blocks to Code. </li></ul></li><li><code>\" .. \"</code><ul><li>The <code>\" .. \"</code> block is found under TEXT.</li></ul></li></ul></li></ul></details> \n"
   ]
  },
  {
   "cell_type": "code",
   "execution_count": 8,
   "id": "1128a52f",
   "metadata": {},
   "outputs": [
    {
     "data": {
      "text/html": [
       "<div>\n",
       "<style scoped>\n",
       "    .dataframe tbody tr th:only-of-type {\n",
       "        vertical-align: middle;\n",
       "    }\n",
       "\n",
       "    .dataframe tbody tr th {\n",
       "        vertical-align: top;\n",
       "    }\n",
       "\n",
       "    .dataframe thead th {\n",
       "        text-align: right;\n",
       "    }\n",
       "</style>\n",
       "<table border=\"1\" class=\"dataframe\">\n",
       "  <thead>\n",
       "    <tr style=\"text-align: right;\">\n",
       "      <th></th>\n",
       "      <th>GPA</th>\n",
       "      <th>GRE</th>\n",
       "    </tr>\n",
       "  </thead>\n",
       "  <tbody>\n",
       "    <tr>\n",
       "      <th>0</th>\n",
       "      <td>3.40</td>\n",
       "      <td>316</td>\n",
       "    </tr>\n",
       "    <tr>\n",
       "      <th>1</th>\n",
       "      <td>3.10</td>\n",
       "      <td>308</td>\n",
       "    </tr>\n",
       "    <tr>\n",
       "      <th>2</th>\n",
       "      <td>3.70</td>\n",
       "      <td>327</td>\n",
       "    </tr>\n",
       "    <tr>\n",
       "      <th>3</th>\n",
       "      <td>3.33</td>\n",
       "      <td>310</td>\n",
       "    </tr>\n",
       "    <tr>\n",
       "      <th>4</th>\n",
       "      <td>3.45</td>\n",
       "      <td>305</td>\n",
       "    </tr>\n",
       "    <tr>\n",
       "      <th>5</th>\n",
       "      <td>3.18</td>\n",
       "      <td>322</td>\n",
       "    </tr>\n",
       "    <tr>\n",
       "      <th>6</th>\n",
       "      <td>3.25</td>\n",
       "      <td>316</td>\n",
       "    </tr>\n",
       "    <tr>\n",
       "      <th>7</th>\n",
       "      <td>3.40</td>\n",
       "      <td>300</td>\n",
       "    </tr>\n",
       "    <tr>\n",
       "      <th>8</th>\n",
       "      <td>3.60</td>\n",
       "      <td>310</td>\n",
       "    </tr>\n",
       "  </tbody>\n",
       "</table>\n",
       "</div>"
      ],
      "text/plain": [
       "    GPA  GRE\n",
       "0  3.40  316\n",
       "1  3.10  308\n",
       "2  3.70  327\n",
       "3  3.33  310\n",
       "4  3.45  305\n",
       "5  3.18  322\n",
       "6  3.25  316\n",
       "7  3.40  300\n",
       "8  3.60  310"
      ]
     },
     "execution_count": 8,
     "metadata": {},
     "output_type": "execute_result"
    }
   ],
   "source": [
    "gredata[['GPA', 'GRE']]\n",
    "\n"
   ]
  },
  {
   "cell_type": "code",
   "execution_count": null,
   "id": "ea1f6390",
   "metadata": {},
   "outputs": [],
   "source": []
  }
 ],
 "metadata": {
  "kernelspec": {
   "display_name": "Python 3 (ipykernel)",
   "language": "python",
   "name": "python3"
  },
  "language_info": {
   "codemirror_mode": {
    "name": "ipython",
    "version": 3
   },
   "file_extension": ".py",
   "mimetype": "text/x-python",
   "name": "python",
   "nbconvert_exporter": "python",
   "pygments_lexer": "ipython3",
   "version": "3.10.10"
  }
 },
 "nbformat": 4,
 "nbformat_minor": 5
}
