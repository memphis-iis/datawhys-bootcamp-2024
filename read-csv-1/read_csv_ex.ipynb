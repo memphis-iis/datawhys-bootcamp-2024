{
 "cells": [
  {
   "cell_type": "markdown",
   "id": "548c5ab9",
   "metadata": {},
   "source": [
    "# Reading CSV data file"
   ]
  },
  {
   "cell_type": "markdown",
   "id": "280e358d",
   "metadata": {},
   "source": [
    "From our previous lesson, we have learnt about tabular data and CSV files that store data for our analysis. Today, we will learn an to work with the CSV data in python using pandas, a python library that creates **dataframes** to view tabular data such as CSVs"
   ]
  },
  {
   "cell_type": "markdown",
   "id": "d36252ef",
   "metadata": {},
   "source": [
    "### Import Pandas Library"
   ]
  },
  {
   "cell_type": "markdown",
   "id": "1955915d",
   "metadata": {},
   "source": [
    "\n",
    "#!blhint\n",
    "\n",
    "- Create variable &nbsp;`pd`\n",
    "- `import pandas as pd`"
   ]
  },
  {
   "cell_type": "markdown",
   "id": "5906161c",
   "metadata": {},
   "source": [
    "Here's how:\n",
    "\n",
    "1. From IMPORT, grab `import .. as ..`\n",
    "2. Replace text `some library` with `pandas`\n",
    "3. From VARIABLES, click `Create Variable...`, enter `pd`, click OK\n",
    "4. Select `pd` from `variable name` dropdown in `import .. as ..`\n",
    "5. Click Blocks to Code and run cell\n",
    "\n",
    "<br>\n",
    "<details>\n",
    "    <summary>Blockly Hints</summary>\n",
    "    <ul>\n",
    "        <li>Blocks\n",
    "            <ul>\n",
    "                <li>\n",
    "                    <code>import .. as ..</code>\n",
    "                    <ul>\n",
    "                        <li>The <code>import .. as ..</code> block is found under IMPORT.</li> \n",
    "                        <li>A variable must have been created before it will appear in the dropdown.</li>\n",
    "                    </ul>\n",
    "                </li>\n",
    "            </ul>\n",
    "        </li>\n",
    "    </ul>\n",
    "</details>\n"
   ]
  },
  {
   "cell_type": "code",
   "execution_count": 1,
   "id": "7c0406a4",
   "metadata": {},
   "outputs": [],
   "source": [
    "import pandas as pd\n",
    "\n"
   ]
  },
  {
   "cell_type": "markdown",
   "id": "dfc094fe",
   "metadata": {},
   "source": [
    "### Read the CSV data into a dataframe"
   ]
  },
  {
   "cell_type": "markdown",
   "id": "fa47ffcf",
   "metadata": {},
   "source": [
    "Now that we have imported the library, we can read our data file."
   ]
  },
  {
   "cell_type": "markdown",
   "id": "3d1fb0b8",
   "metadata": {},
   "source": [
    "#!blhint\n",
    "\n",
    "- Create variable &nbsp;`greatest`\n",
    "- `with pd do read_csv using` &nbsp;<-&nbsp; `\" datasets/gre_data.csv \"`\n"
   ]
  },
  {
   "cell_type": "markdown",
   "id": "e0fb6bfb",
   "metadata": {},
   "source": [
    "Here's how:\n",
    "\n",
    "1. From VARIABLES, grab `with .. do .. using ..`\n",
    "2. Make sure `pd` is selected in dropdown after with\n",
    "3. Select `read_csv` from dropdown after do\n",
    "4. From TEXT, grab `\" .. \"`\n",
    "5. Type `datasets/gre_data.csv` into `\" .. \"`\n",
    "6. Drag the `\" .. \"` into the space after using in `with .. do .. using ..`\n",
    "7. From VARIABLES, click `Create Variable...`, enter `greatest`, click OK\n",
    "8. From VARIABLES, grab `set .. to`\n",
    "9. Change dropdown after set to `greatest`\n",
    "10. Connect `set .. to` and `with .. do .. using ..`\n",
    "11. Click Blocks to Code and run cell"
   ]
  },
  {
   "cell_type": "markdown",
   "id": "73cd7647",
   "metadata": {},
   "source": [
    "<br><details><summary>Blockly Hints (Click triangle to expand)</summary><ul><li>Notation<ul><li><code>A</code> &nbsp;:&nbsp; <code>B</code>&nbsp; means snap blocks A and B together.</li><li><code>A</code> &nbsp;&lt;-&nbsp; <code>B</code>&nbsp; means insert block B into the hole in block A.</li></ul></li><li>Blocks<ul><li><code>set .. to</code><ul><li>The <code>set .. to</code> block is found under VARIABLES.</li> <li>A variable must have been created before it will appear in the dropdown.</li></ul></li><li><code>with .. do .. using ..</code><ul><li>The <code>with .. do .. using ..</code> block is found under VARIABLES.</li> <li>If <code>do</code> dropdown says \"!Not populated until you execute code\", click anywhere in the notebook tab, then click try \"Run All Above Selected Cell\" from the \"Run\" menu.</li> <li>If <code>with .. do .. using ..</code> block does not want to snap together nicely with the <code>set .. to</code> block, try dragging the <code>set .. to</code> block instead.</li></ul></li><li><code>\" .. \"</code><ul><li>The <code>\" .. \"</code> block is found under TEXT.</li></ul></li></ul></li></ul></details>"
   ]
  },
  {
   "cell_type": "code",
   "execution_count": 2,
   "id": "538d5327",
   "metadata": {},
   "outputs": [],
   "source": [
    "greatest = pd.read_csv('datasets/gre_data.csv')\n",
    "\n"
   ]
  },
  {
   "cell_type": "markdown",
   "id": "2808ab15",
   "metadata": {},
   "source": [
    "### View the dataframe "
   ]
  },
  {
   "cell_type": "markdown",
   "id": "5acfc70b",
   "metadata": {},
   "source": [
    "Finally we view our saved data in the dataframe."
   ]
  },
  {
   "cell_type": "markdown",
   "id": "15c6f9de",
   "metadata": {},
   "source": [
    "#!blhint\n",
    "\n",
    "- variable `greatest`"
   ]
  },
  {
   "cell_type": "markdown",
   "id": "7a8cd92f",
   "metadata": {},
   "source": [
    "Here's how:\n",
    "\n",
    "1. From VARIABLES, grab `greatest`\n",
    "2. Click Blocks to Code and run cell"
   ]
  },
  {
   "cell_type": "markdown",
   "id": "987e1eda",
   "metadata": {},
   "source": [
    "<br>\n",
    "<details>\n",
    "    <summary>Blockly Hints (Click on triangle to expand)</summary>\n",
    "    <ul>\n",
    "        <li>Blocks\n",
    "            <ul>\n",
    "                <li>variable\n",
    "                    <ul>\n",
    "                        <li>After it is created, each variable has its own block at the end of the VARIABLES menu.</li>\n",
    "                    </ul>\n",
    "                </li>\n",
    "            </ul>\n",
    "        </li>\n",
    "    </ul>\n",
    "</details>\n"
   ]
  },
  {
   "cell_type": "code",
   "execution_count": 3,
   "id": "53e3543c",
   "metadata": {},
   "outputs": [
    {
     "data": {
      "text/html": [
       "<div>\n",
       "<style scoped>\n",
       "    .dataframe tbody tr th:only-of-type {\n",
       "        vertical-align: middle;\n",
       "    }\n",
       "\n",
       "    .dataframe tbody tr th {\n",
       "        vertical-align: top;\n",
       "    }\n",
       "\n",
       "    .dataframe thead th {\n",
       "        text-align: right;\n",
       "    }\n",
       "</style>\n",
       "<table border=\"1\" class=\"dataframe\">\n",
       "  <thead>\n",
       "    <tr style=\"text-align: right;\">\n",
       "      <th></th>\n",
       "      <th>GRE</th>\n",
       "      <th>GPA</th>\n",
       "      <th>Gender</th>\n",
       "    </tr>\n",
       "  </thead>\n",
       "  <tbody>\n",
       "    <tr>\n",
       "      <th>0</th>\n",
       "      <td>316</td>\n",
       "      <td>3.40</td>\n",
       "      <td>M</td>\n",
       "    </tr>\n",
       "    <tr>\n",
       "      <th>1</th>\n",
       "      <td>308</td>\n",
       "      <td>3.10</td>\n",
       "      <td>M</td>\n",
       "    </tr>\n",
       "    <tr>\n",
       "      <th>2</th>\n",
       "      <td>327</td>\n",
       "      <td>3.70</td>\n",
       "      <td>F</td>\n",
       "    </tr>\n",
       "    <tr>\n",
       "      <th>3</th>\n",
       "      <td>310</td>\n",
       "      <td>3.33</td>\n",
       "      <td>F</td>\n",
       "    </tr>\n",
       "    <tr>\n",
       "      <th>4</th>\n",
       "      <td>305</td>\n",
       "      <td>3.45</td>\n",
       "      <td>M</td>\n",
       "    </tr>\n",
       "    <tr>\n",
       "      <th>5</th>\n",
       "      <td>322</td>\n",
       "      <td>3.18</td>\n",
       "      <td>F</td>\n",
       "    </tr>\n",
       "    <tr>\n",
       "      <th>6</th>\n",
       "      <td>316</td>\n",
       "      <td>3.25</td>\n",
       "      <td>M</td>\n",
       "    </tr>\n",
       "    <tr>\n",
       "      <th>7</th>\n",
       "      <td>300</td>\n",
       "      <td>3.40</td>\n",
       "      <td>F</td>\n",
       "    </tr>\n",
       "    <tr>\n",
       "      <th>8</th>\n",
       "      <td>310</td>\n",
       "      <td>3.60</td>\n",
       "      <td>F</td>\n",
       "    </tr>\n",
       "  </tbody>\n",
       "</table>\n",
       "</div>"
      ],
      "text/plain": [
       "   GRE   GPA Gender\n",
       "0  316  3.40      M\n",
       "1  308  3.10      M\n",
       "2  327  3.70      F\n",
       "3  310  3.33      F\n",
       "4  305  3.45      M\n",
       "5  322  3.18      F\n",
       "6  316  3.25      M\n",
       "7  300  3.40      F\n",
       "8  310  3.60      F"
      ]
     },
     "execution_count": 3,
     "metadata": {},
     "output_type": "execute_result"
    }
   ],
   "source": [
    "greatest\n",
    "\n"
   ]
  },
  {
   "cell_type": "code",
   "execution_count": null,
   "id": "cbcf92cc",
   "metadata": {},
   "outputs": [],
   "source": []
  }
 ],
 "metadata": {
  "kernelspec": {
   "display_name": "Python 3 (ipykernel)",
   "language": "python",
   "name": "python3"
  },
  "language_info": {
   "codemirror_mode": {
    "name": "ipython",
    "version": 3
   },
   "file_extension": ".py",
   "mimetype": "text/x-python",
   "name": "python",
   "nbconvert_exporter": "python",
   "pygments_lexer": "ipython3",
   "version": "3.10.10"
  }
 },
 "nbformat": 4,
 "nbformat_minor": 5
}
