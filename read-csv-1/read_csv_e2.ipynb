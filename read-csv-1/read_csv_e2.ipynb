{
 "cells": [
  {
   "cell_type": "markdown",
   "id": "3debbd60",
   "metadata": {},
   "source": [
    "## Activity to read csv file (2)"
   ]
  },
  {
   "cell_type": "markdown",
   "id": "2e638870",
   "metadata": {},
   "source": [
    "Lets suppose we have this dataset named us_population.csv . The dataset contains the information on the population and the percent change in population in the US for each decade starting from the year 1910-202. We want to analyze the data in this dataset for further evaluation.\n",
    "\n",
    "Now, complete the following tasks.\n",
    "- Import the `pandas` library.\n",
    "- Read the `us_population.csv` dataset into a dataframe named `population`. \n",
    "- View the dataframe `population`.\n",
    "\n",
    "You can refer to the previous worked example notebook."
   ]
  },
  {
   "cell_type": "markdown",
   "id": "5fb9fa06",
   "metadata": {},
   "source": [
    "### Import Pandas Library"
   ]
  },
  {
   "cell_type": "markdown",
   "id": "99abf7d8",
   "metadata": {},
   "source": [
    "#!blhint\n",
    "\n",
    "- Create variable &nbsp;`pd`\n",
    "- `import pandas as pd`"
   ]
  },
  {
   "cell_type": "markdown",
   "id": "8de8e104",
   "metadata": {},
   "source": [
    "<br>\n",
    "<details>\n",
    "    <summary>Blockly Hints (Click to expand)</summary>\n",
    "    <ul>\n",
    "        <li>Blocks\n",
    "            <ul>\n",
    "                <li><code>import .. as ..</code>\n",
    "                    <ul>\n",
    "                        <li>The <code>import .. as ..</code> block is found under IMPORT.</li> \n",
    "                        <li>A variable must have been created before it will appear in the dropdown.</li>\n",
    "                    </ul>\n",
    "                </li>\n",
    "            </ul>\n",
    "        </li>\n",
    "    </ul>\n",
    "</details>"
   ]
  },
  {
   "cell_type": "code",
   "execution_count": 1,
   "id": "1df91425",
   "metadata": {},
   "outputs": [],
   "source": [
    "#!response\n",
    "\n",
    "import pandas as pd\n",
    "\n",
    "#<xml xmlns=\"https://developers.google.com/blockly/xml\"><variables><variable id=\"GsbbcFS*+4xV)nR9:8HC\">pd</variable></variables><block type=\"importAs_Python\" id=\"gS}{.rs1Kv)M5v*U{#+%\" x=\"-36\" y=\"8\"><field name=\"libraryName\">pandas</field><field name=\"libraryAlias\" id=\"GsbbcFS*+4xV)nR9:8HC\">pd</field></block></xml>"
   ]
  },
  {
   "cell_type": "markdown",
   "id": "d041bbac",
   "metadata": {},
   "source": [
    "### Read the CSV data into a dataframe"
   ]
  },
  {
   "cell_type": "markdown",
   "id": "46e1b484",
   "metadata": {},
   "source": [
    "#!blhint\n",
    "\n",
    "- Create variable `population`\n",
    "- `set population to` : `with pd do read_csv using `<-` \" datasets/us_population.csv \"`"
   ]
  },
  {
   "cell_type": "markdown",
   "id": "77970b1d",
   "metadata": {},
   "source": [
    "<br><details><summary>Blockly Hints (Click triangle to expand)</summary><ul><li>Notation<ul><li><code>A</code> &nbsp;:&nbsp; <code>B</code>&nbsp; means snap blocks A and B together.</li><li><code>A</code> &nbsp;&lt;-&nbsp; <code>B</code>&nbsp; means insert block B into the hole in block A.</li></ul></li><li>Blocks<ul><li><code>set .. to</code><ul><li>The <code>set .. to</code> block is found under VARIABLES.</li> <li>A variable must have been created before it will appear in the dropdown.</li></ul></li><li><code>with .. do .. using ..</code><ul><li>The <code>with .. do .. using ..</code> block is found under VARIABLES.</li> <li>If <code>do</code> dropdown says \"!Not populated until you execute code\", click anywhere in the notebook tab, then click try \"Run All Above Selected Cell\" from the \"Run\" menu.</li> <li>If <code>with .. do .. using ..</code> block does not want to snap together nicely with the <code>set .. to</code> block, try dragging the <code>set .. to</code> block instead.</li></ul></li><li><code>\" .. \"</code><ul><li>The <code>\" .. \"</code> block is found under TEXT.</li></ul></li></ul></li></ul></details>"
   ]
  },
  {
   "cell_type": "code",
   "execution_count": 2,
   "id": "7f539ab2",
   "metadata": {},
   "outputs": [],
   "source": [
    "#!response\n",
    "\n",
    "population = pd.read_csv('datasets/us_population.csv')\n",
    "\n",
    "#<xml xmlns=\"https://developers.google.com/blockly/xml\"><variables><variable id=\"tL.U]N;3ug`_n(9:1e3a\">population</variable><variable id=\"GsbbcFS*+4xV)nR9:8HC\">pd</variable></variables><block type=\"variables_set\" id=\"szu}1BzN)D@1q8J;oeab\" x=\"-58\" y=\"170\"><field name=\"VAR\" id=\"tL.U]N;3ug`_n(9:1e3a\">population</field><value name=\"VALUE\"><block type=\"varDoMethod_Python\" id=\"3V%Bhg8wL$}2}-l+JlwF\"><mutation items=\"1\"></mutation><field name=\"VAR\" id=\"GsbbcFS*+4xV)nR9:8HC\">pd</field><field name=\"MEMBER\">read_csv</field><data>pd:read_csv</data><value name=\"ADD0\"><block type=\"text\" id=\"xGr:33oz+5:F@ZoFy[)_\"><field name=\"TEXT\">datasets/us_population.csv</field></block></value></block></value></block></xml>"
   ]
  },
  {
   "cell_type": "markdown",
   "id": "539b251a",
   "metadata": {},
   "source": [
    "### View the dataframe "
   ]
  },
  {
   "cell_type": "markdown",
   "id": "4473477b",
   "metadata": {},
   "source": [
    "#!blhint\n",
    "\n",
    "- variable &nbsp;`population`"
   ]
  },
  {
   "cell_type": "markdown",
   "id": "ad8194c8",
   "metadata": {},
   "source": [
    "<br>\n",
    "<details>\n",
    "    <summary>Blockly Hints (Click on triangle to expand)</summary>\n",
    "    <ul>\n",
    "        <li>Blocks\n",
    "            <ul>\n",
    "                <li>variable\n",
    "                    <ul>\n",
    "                        <li>After it is created, each variable has its own block at the end of the VARIABLES menu.</li>\n",
    "                    </ul>\n",
    "                </li>\n",
    "            </ul>\n",
    "        </li>\n",
    "    </ul>\n",
    "</details>\n"
   ]
  },
  {
   "cell_type": "code",
   "execution_count": 3,
   "id": "4cb74f63",
   "metadata": {},
   "outputs": [
    {
     "data": {
      "text/html": [
       "<div>\n",
       "<style scoped>\n",
       "    .dataframe tbody tr th:only-of-type {\n",
       "        vertical-align: middle;\n",
       "    }\n",
       "\n",
       "    .dataframe tbody tr th {\n",
       "        vertical-align: top;\n",
       "    }\n",
       "\n",
       "    .dataframe thead th {\n",
       "        text-align: right;\n",
       "    }\n",
       "</style>\n",
       "<table border=\"1\" class=\"dataframe\">\n",
       "  <thead>\n",
       "    <tr style=\"text-align: right;\">\n",
       "      <th></th>\n",
       "      <th>Name</th>\n",
       "      <th>Year</th>\n",
       "      <th>Resident Population</th>\n",
       "      <th>Percent Change in Resident Population</th>\n",
       "    </tr>\n",
       "  </thead>\n",
       "  <tbody>\n",
       "    <tr>\n",
       "      <th>0</th>\n",
       "      <td>United States</td>\n",
       "      <td>1910</td>\n",
       "      <td>92228531</td>\n",
       "      <td>21.0</td>\n",
       "    </tr>\n",
       "    <tr>\n",
       "      <th>1</th>\n",
       "      <td>United States</td>\n",
       "      <td>1920</td>\n",
       "      <td>106021568</td>\n",
       "      <td>15.0</td>\n",
       "    </tr>\n",
       "    <tr>\n",
       "      <th>2</th>\n",
       "      <td>United States</td>\n",
       "      <td>1930</td>\n",
       "      <td>123202660</td>\n",
       "      <td>16.2</td>\n",
       "    </tr>\n",
       "    <tr>\n",
       "      <th>3</th>\n",
       "      <td>United States</td>\n",
       "      <td>1940</td>\n",
       "      <td>132165129</td>\n",
       "      <td>7.3</td>\n",
       "    </tr>\n",
       "    <tr>\n",
       "      <th>4</th>\n",
       "      <td>United States</td>\n",
       "      <td>1950</td>\n",
       "      <td>151325798</td>\n",
       "      <td>14.5</td>\n",
       "    </tr>\n",
       "    <tr>\n",
       "      <th>5</th>\n",
       "      <td>United States</td>\n",
       "      <td>1960</td>\n",
       "      <td>179323175</td>\n",
       "      <td>18.5</td>\n",
       "    </tr>\n",
       "    <tr>\n",
       "      <th>6</th>\n",
       "      <td>United States</td>\n",
       "      <td>1970</td>\n",
       "      <td>203211926</td>\n",
       "      <td>13.3</td>\n",
       "    </tr>\n",
       "    <tr>\n",
       "      <th>7</th>\n",
       "      <td>United States</td>\n",
       "      <td>1980</td>\n",
       "      <td>226545805</td>\n",
       "      <td>11.5</td>\n",
       "    </tr>\n",
       "    <tr>\n",
       "      <th>8</th>\n",
       "      <td>United States</td>\n",
       "      <td>1990</td>\n",
       "      <td>248709873</td>\n",
       "      <td>9.8</td>\n",
       "    </tr>\n",
       "    <tr>\n",
       "      <th>9</th>\n",
       "      <td>United States</td>\n",
       "      <td>2000</td>\n",
       "      <td>281421906</td>\n",
       "      <td>13.2</td>\n",
       "    </tr>\n",
       "    <tr>\n",
       "      <th>10</th>\n",
       "      <td>United States</td>\n",
       "      <td>2010</td>\n",
       "      <td>308745538</td>\n",
       "      <td>9.7</td>\n",
       "    </tr>\n",
       "    <tr>\n",
       "      <th>11</th>\n",
       "      <td>United States</td>\n",
       "      <td>2020</td>\n",
       "      <td>331449281</td>\n",
       "      <td>7.4</td>\n",
       "    </tr>\n",
       "  </tbody>\n",
       "</table>\n",
       "</div>"
      ],
      "text/plain": [
       "             Name  Year  Resident Population  \\\n",
       "0   United States  1910             92228531   \n",
       "1   United States  1920            106021568   \n",
       "2   United States  1930            123202660   \n",
       "3   United States  1940            132165129   \n",
       "4   United States  1950            151325798   \n",
       "5   United States  1960            179323175   \n",
       "6   United States  1970            203211926   \n",
       "7   United States  1980            226545805   \n",
       "8   United States  1990            248709873   \n",
       "9   United States  2000            281421906   \n",
       "10  United States  2010            308745538   \n",
       "11  United States  2020            331449281   \n",
       "\n",
       "    Percent Change in Resident Population  \n",
       "0                                    21.0  \n",
       "1                                    15.0  \n",
       "2                                    16.2  \n",
       "3                                     7.3  \n",
       "4                                    14.5  \n",
       "5                                    18.5  \n",
       "6                                    13.3  \n",
       "7                                    11.5  \n",
       "8                                     9.8  \n",
       "9                                    13.2  \n",
       "10                                    9.7  \n",
       "11                                    7.4  "
      ]
     },
     "execution_count": 3,
     "metadata": {},
     "output_type": "execute_result"
    }
   ],
   "source": [
    "#!response\n",
    "\n",
    "population\n",
    "\n",
    "#<xml xmlns=\"https://developers.google.com/blockly/xml\"><variables><variable id=\"tL.U]N;3ug`_n(9:1e3a\">population</variable></variables><block type=\"variables_get\" id=\"NX!s2IO7liK@I(d7$2L6\" x=\"-50\" y=\"418\"><field name=\"VAR\" id=\"tL.U]N;3ug`_n(9:1e3a\">population</field></block></xml>"
   ]
  },
  {
   "cell_type": "markdown",
   "id": "c4781185",
   "metadata": {},
   "source": [
    "## What are the column names of the dataframe `population`?\n"
   ]
  },
  {
   "cell_type": "code",
   "execution_count": null,
   "id": "97604757-fb36-4f19-b6d4-6264f37b7569",
   "metadata": {},
   "outputs": [],
   "source": [
    "#!response\n",
    "\n"
   ]
  },
  {
   "cell_type": "markdown",
   "id": "69c2e791",
   "metadata": {},
   "source": [
    "## How many rows of data are present in dataframe `population`?\n"
   ]
  },
  {
   "cell_type": "code",
   "execution_count": null,
   "id": "757aa15b-24ae-44ae-b8d4-b2195695e248",
   "metadata": {},
   "outputs": [],
   "source": [
    "#!response\n",
    "\n"
   ]
  }
 ],
 "metadata": {
  "kernelspec": {
   "display_name": "Python 3 (ipykernel)",
   "language": "python",
   "name": "python3"
  },
  "language_info": {
   "codemirror_mode": {
    "name": "ipython",
    "version": 3
   },
   "file_extension": ".py",
   "mimetype": "text/x-python",
   "name": "python",
   "nbconvert_exporter": "python",
   "pygments_lexer": "ipython3",
   "version": "3.10.10"
  }
 },
 "nbformat": 4,
 "nbformat_minor": 5
}
